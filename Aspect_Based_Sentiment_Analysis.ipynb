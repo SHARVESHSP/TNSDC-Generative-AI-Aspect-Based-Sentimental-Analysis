{
  "metadata": {
    "kernelspec": {
      "language": "python",
      "display_name": "Python 3",
      "name": "python3"
    },
    "language_info": {
      "pygments_lexer": "ipython3",
      "nbconvert_exporter": "python",
      "version": "3.6.4",
      "file_extension": ".py",
      "codemirror_mode": {
        "name": "ipython",
        "version": 3
      },
      "name": "python",
      "mimetype": "text/x-python"
    },
    "colab": {
      "name": "Aspect Based Sentiment Analysis",
      "provenance": []
    }
  },
  "nbformat_minor": 0,
  "nbformat": 4,
  "cells": [
    {
      "source": [
        "\n",
        "# IMPORTANT: RUN THIS CELL IN ORDER TO IMPORT YOUR KAGGLE DATA SOURCES\n",
        "# TO THE CORRECT LOCATION (/kaggle/input) IN YOUR NOTEBOOK,\n",
        "# THEN FEEL FREE TO DELETE THIS CELL.\n",
        "# NOTE: THIS NOTEBOOK ENVIRONMENT DIFFERS FROM KAGGLE'S PYTHON\n",
        "# ENVIRONMENT SO THERE MAY BE MISSING LIBRARIES USED BY YOUR\n",
        "# NOTEBOOK.\n",
        "\n",
        "import os\n",
        "import sys\n",
        "from tempfile import NamedTemporaryFile\n",
        "from urllib.request import urlopen\n",
        "from urllib.parse import unquote, urlparse\n",
        "from urllib.error import HTTPError\n",
        "from zipfile import ZipFile\n",
        "import tarfile\n",
        "import shutil\n",
        "\n",
        "CHUNK_SIZE = 40960\n",
        "DATA_SOURCE_MAPPING = 'flipkart-cell-phone-reviews:https%3A%2F%2Fstorage.googleapis.com%2Fkaggle-data-sets%2F2319008%2F3904140%2Fbundle%2Farchive.zip%3FX-Goog-Algorithm%3DGOOG4-RSA-SHA256%26X-Goog-Credential%3Dgcp-kaggle-com%2540kaggle-161607.iam.gserviceaccount.com%252F20240429%252Fauto%252Fstorage%252Fgoog4_request%26X-Goog-Date%3D20240429T045833Z%26X-Goog-Expires%3D259200%26X-Goog-SignedHeaders%3Dhost%26X-Goog-Signature%3D80622efc3bfb0b81a5ffa2736a174b7cbb3cc56f322b8460a0c02d877c39235440500a4f419116b69e02db7ce673415e64c8e0321cb704e44491d0c15a083e386b0dc01b54c7c3c31f00623e2082d0835096507e9511ac2696a65aefb20f079e5d141d8ff0ab7a6c32271070bf11b2f905e45892d4fd59a852dfb9a27ba345d29ef066202d7ade51109c10ff8004ba684fc86fc4710d8a99aaacea9993d9b6df7e8092b998d72c6b0a4b15246fa1c2bc019286855eba25b89b340dc6915c6bf38ac76e5beaae3d5177404520d5e0540a675338bdd0618b57db65e619953bdeceabb2ca07e1114fe7efbb0118ebd261923b957bbb94266b72111e359584bce5b3'\n",
        "\n",
        "KAGGLE_INPUT_PATH='/kaggle/input'\n",
        "KAGGLE_WORKING_PATH='/kaggle/working'\n",
        "KAGGLE_SYMLINK='kaggle'\n",
        "\n",
        "!umount /kaggle/input/ 2> /dev/null\n",
        "shutil.rmtree('/kaggle/input', ignore_errors=True)\n",
        "os.makedirs(KAGGLE_INPUT_PATH, 0o777, exist_ok=True)\n",
        "os.makedirs(KAGGLE_WORKING_PATH, 0o777, exist_ok=True)\n",
        "\n",
        "try:\n",
        "  os.symlink(KAGGLE_INPUT_PATH, os.path.join(\"..\", 'input'), target_is_directory=True)\n",
        "except FileExistsError:\n",
        "  pass\n",
        "try:\n",
        "  os.symlink(KAGGLE_WORKING_PATH, os.path.join(\"..\", 'working'), target_is_directory=True)\n",
        "except FileExistsError:\n",
        "  pass\n",
        "\n",
        "for data_source_mapping in DATA_SOURCE_MAPPING.split(','):\n",
        "    directory, download_url_encoded = data_source_mapping.split(':')\n",
        "    download_url = unquote(download_url_encoded)\n",
        "    filename = urlparse(download_url).path\n",
        "    destination_path = os.path.join(KAGGLE_INPUT_PATH, directory)\n",
        "    try:\n",
        "        with urlopen(download_url) as fileres, NamedTemporaryFile() as tfile:\n",
        "            total_length = fileres.headers['content-length']\n",
        "            print(f'Downloading {directory}, {total_length} bytes compressed')\n",
        "            dl = 0\n",
        "            data = fileres.read(CHUNK_SIZE)\n",
        "            while len(data) > 0:\n",
        "                dl += len(data)\n",
        "                tfile.write(data)\n",
        "                done = int(50 * dl / int(total_length))\n",
        "                sys.stdout.write(f\"\\r[{'=' * done}{' ' * (50-done)}] {dl} bytes downloaded\")\n",
        "                sys.stdout.flush()\n",
        "                data = fileres.read(CHUNK_SIZE)\n",
        "            if filename.endswith('.zip'):\n",
        "              with ZipFile(tfile) as zfile:\n",
        "                zfile.extractall(destination_path)\n",
        "            else:\n",
        "              with tarfile.open(tfile.name) as tarfile:\n",
        "                tarfile.extractall(destination_path)\n",
        "            print(f'\\nDownloaded and uncompressed: {directory}')\n",
        "    except HTTPError as e:\n",
        "        print(f'Failed to load (likely expired) {download_url} to path {destination_path}')\n",
        "        continue\n",
        "    except OSError as e:\n",
        "        print(f'Failed to load {download_url} to path {destination_path}')\n",
        "        continue\n",
        "\n",
        "print('Data source import complete.')\n"
      ],
      "metadata": {
        "id": "y77NebKCCxn5",
        "outputId": "4ca33449-b0d9-4f9f-f22f-3e38d4a3063c",
        "colab": {
          "base_uri": "https://localhost:8080/"
        }
      },
      "cell_type": "code",
      "outputs": [
        {
          "output_type": "stream",
          "name": "stdout",
          "text": [
            "Downloading flipkart-cell-phone-reviews, 2914398 bytes compressed\n",
            "[==================================================] 2914398 bytes downloaded\n",
            "Downloaded and uncompressed: flipkart-cell-phone-reviews\n",
            "Data source import complete.\n"
          ]
        }
      ],
      "execution_count": 1
    },
    {
      "cell_type": "markdown",
      "source": [
        "<h1 style=\"text-align: center;\" class=\"list-group-item list-group-item-action active\">Table of Contents</h1>\n",
        "\n",
        "<ul style=\"list-style-type:none;\">\n",
        "    <li><a class=\"list-group-item list-group-item-action\" data-toggle=\"list\" href=\"#1\" role=\"tab\"\n",
        "            aria-controls=\"settings\">1. Introduction<span class=\"badge badge-primary badge-pill\">1</span></a>\n",
        "    </li>\n",
        "    <li><a class=\"list-group-item list-group-item-action\" data-toggle=\"list\" href=\"#2\" role=\"tab\"\n",
        "            aria-controls=\"settings\">2. Data Acquisition<span class=\"badge badge-primary badge-pill\">2</span></a>\n",
        "        <ul style=\"list-style-type:none;\">\n",
        "            <li><a class=\"list-group-item list-group-item-action\" data-toggle=\"list\" href=\"#2.1\" role=\"tab\"\n",
        "                    aria-controls=\"settings\">2.1 Web Scraping <span class=\"badge badge-primary badge-pill\">3</span></a>\n",
        "            </li>\n",
        "            <li><a class=\"list-group-item list-group-item-action\" data-toggle=\"list\" href=\"#2.2\" role=\"tab\"\n",
        "                    aria-controls=\"settings\">2.2 About the Data <span\n",
        "                        class=\"badge badge-primary badge-pill\">4</span></a>\n",
        "            <li><a class=\"list-group-item list-group-item-action\" data-toggle=\"list\" href=\"#2.3\" role=\"tab\"\n",
        "                    aria-controls=\"settings\">2.3 Handling Missing Values <span\n",
        "                        class=\"badge badge-primary badge-pill\">5</span></a>\n",
        "            </li>\n",
        "        </ul>\n",
        "    </li>\n",
        "    <li><a class=\"list-group-item list-group-item-action\" data-toggle=\"list\" href=\"#3\" role=\"tab\"\n",
        "            aria-controls=\"settings\">3. Text Cleaning<span class=\"badge badge-primary badge-pill\">6</span></a>\n",
        "        <ul style=\"list-style-type:none;\">\n",
        "            <li><a class=\"list-group-item list-group-item-action\" data-toggle=\"list\" href=\"#3.1\" role=\"tab\"\n",
        "                    aria-controls=\"settings\">3.1 HTML Parsing and Cleanup <span\n",
        "                        class=\"badge badge-primary badge-pill\">7</span></a>\n",
        "            </li>\n",
        "            <li><a class=\"list-group-item list-group-item-action\" data-toggle=\"list\" href=\"#3.2\" role=\"tab\"\n",
        "                    aria-controls=\"settings\">3.2 Unicode Normalization<span\n",
        "                        class=\"badge badge-primary badge-pill\">8</span></a>\n",
        "            <ul style=\"list-style-type:none;\">\n",
        "                <li><a class=\"list-group-item list-group-item-action\" data-toggle=\"list\" href=\"#3.2.1\" role=\"tab\"\n",
        "                            aria-controls=\"settings\">3.2.1 The Issue of Equivalence<span\n",
        "                                class=\"badge badge-primary badge-pill\">9</span></a></li>\n",
        "                <li><a class=\"list-group-item list-group-item-action\" data-toggle=\"list\" href=\"#3.2.2\" role=\"tab\"\n",
        "                            aria-controls=\"settings\">3.2.2 Handling Emoji ‘😍😍’ & Emoticon ‘ :) ’ <span\n",
        "                                class=\"badge badge-primary badge-pill\">10</span></a></li>\n",
        "            </ul>\n",
        "            </li>\n",
        "            <li><a class=\"list-group-item list-group-item-action\" data-toggle=\"list\" href=\"#3.3\" role=\"tab\"\n",
        "                    aria-controls=\"settings\">3.3 Spelling Correction<span\n",
        "                        class=\"badge badge-primary badge-pill\">11</span></a>\n",
        "            </li>\n",
        "        </ul>\n",
        "    </li>\n",
        "    <li><a class=\"list-group-item list-group-item-action\" data-toggle=\"list\" href=\"#4\" role=\"tab\"\n",
        "            aria-controls=\"settings\">4. Text Pre-Processing <span class=\"badge badge-primary badge-pill\">12</span></a>\n",
        "        <ul style=\"list-style-type:none;\">\n",
        "            <li><a class=\"list-group-item list-group-item-action\" data-toggle=\"list\" href=\"#4.1\" role=\"tab\"\n",
        "                    aria-controls=\"settings\">4.1 Preliminaries <span\n",
        "                        class=\"badge badge-primary badge-pill\">13</span></a>\n",
        "            </li>\n",
        "            <li><a class=\"list-group-item list-group-item-action\" data-toggle=\"list\" href=\"#4.2\" role=\"tab\"\n",
        "                    aria-controls=\"settings\">4.2 Frequent Steps <span\n",
        "                        class=\"badge badge-primary badge-pill\">14</span></a>\n",
        "                <ul style=\"list-style-type:none;\">\n",
        "                    <li><a class=\"list-group-item list-group-item-action\" data-toggle=\"list\" href=\"#4.2.1\" role=\"tab\"\n",
        "                            aria-controls=\"settings\">4.2.1 Removing Stop Words<span\n",
        "                                class=\"badge badge-primary badge-pill\">15</span></a></li>\n",
        "                    <li><a class=\"list-group-item list-group-item-action\" data-toggle=\"list\" href=\"#4.2.2\" role=\"tab\"\n",
        "                            aria-controls=\"settings\">4.2.2 Stemming<span\n",
        "                                class=\"badge badge-primary badge-pill\">16</span></a></li>\n",
        "                    <li><a class=\"list-group-item list-group-item-action\" data-toggle=\"list\" href=\"#4.2.3\" role=\"tab\"\n",
        "                            aria-controls=\"settings\">4.2.3 Lemmatization<span\n",
        "                                class=\"badge badge-primary badge-pill\">17</span></a></li>\n",
        "                </ul>\n",
        "            </li>\n",
        "            <li><a class=\"list-group-item list-group-item-action\" data-toggle=\"list\" href=\"#4.3\" role=\"tab\"\n",
        "                    aria-controls=\"settings\">4.3 Other Pre-Processing Steps <span\n",
        "                        class=\"badge badge-primary badge-pill\">18</span></a>\n",
        "                <ul style=\"list-style-type:none;\">\n",
        "                    <li><a class=\"list-group-item list-group-item-action\" data-toggle=\"list\" href=\"#4.3.1\" role=\"tab\"\n",
        "                            aria-controls=\"settings\">4.3.1 Language Detection<span\n",
        "                                class=\"badge badge-primary badge-pill\">19</span></a></li>\n",
        "                    <li><a class=\"list-group-item list-group-item-action\" data-toggle=\"list\" href=\"#4.3.2\" role=\"tab\"\n",
        "                            aria-controls=\"settings\">4.3.2 Code mixing and transliteration<span\n",
        "                                class=\"badge badge-primary badge-pill\">20</span></a></li>\n",
        "                </ul>\n",
        "            </li>\n",
        "            <li><a class=\"list-group-item list-group-item-action\" data-toggle=\"list\" href=\"#4.4\" role=\"tab\"\n",
        "                    aria-controls=\"settings\">4.4 Data Augmentation <span\n",
        "                        class=\"badge badge-primary badge-pill\">21</span></a>\n",
        "            </li>\n",
        "        </ul>\n",
        "    </li>\n",
        "    <li><a class=\"list-group-item list-group-item-action\" data-toggle=\"list\" href=\"#5\" role=\"tab\"\n",
        "            aria-controls=\"settings\">5. Latent Dirichlet Allocation (LDA) <span\n",
        "                class=\"badge badge-primary badge-pill\">22</span></a> </li>\n",
        "    <li><a class=\"list-group-item list-group-item-action\" data-toggle=\"list\" href=\"#6\" role=\"tab\"\n",
        "            aria-controls=\"settings\">6. Model <span class=\"badge badge-primary badge-pill\">23</span></a>\n",
        "        <ul style=\"list-style-type:none;\">\n",
        "            <li><a class=\"list-group-item list-group-item-action\" data-toggle=\"list\" href=\"#6.1\" role=\"tab\"\n",
        "                    aria-controls=\"settings\">6.1 Configurations <span\n",
        "                        class=\"badge badge-primary badge-pill\">24</span></a>\n",
        "            </li>\n",
        "            <li><a class=\"list-group-item list-group-item-action\" data-toggle=\"list\" href=\"#6.2\" role=\"tab\"\n",
        "                    aria-controls=\"settings\">6.2 Dataset Generator<span\n",
        "                        class=\"badge badge-primary badge-pill\">25</span></a>\n",
        "                <ul style=\"list-style-type:none;\">\n",
        "                    <li><a class=\"list-group-item list-group-item-action\" data-toggle=\"list\" href=\"#6.2.1\" role=\"tab\"\n",
        "                            aria-controls=\"settings\">6.2.1 Creation of the Vocabulary<span\n",
        "                                class=\"badge badge-primary badge-pill\">26</span></a></li>\n",
        "                </ul>\n",
        "            <li><a class=\"list-group-item list-group-item-action\" data-toggle=\"list\" href=\"#6.3\" role=\"tab\"\n",
        "                    aria-controls=\"settings\">6.3 Word Embeddings<span\n",
        "                        class=\"badge badge-primary badge-pill\">27</span></a>\n",
        "            </li>\n",
        "            <li><a class=\"list-group-item list-group-item-action\" data-toggle=\"list\" href=\"#6.4\" role=\"tab\"\n",
        "                    aria-controls=\"settings\">6.4 Initializing the Model<span\n",
        "                        class=\"badge badge-primary badge-pill\">28</span></a>\n",
        "            </li>\n",
        "            <li><a class=\"list-group-item list-group-item-action\" data-toggle=\"list\" href=\"#6.5\" role=\"tab\"\n",
        "                    aria-controls=\"settings\">6.5 Training and K-fold Cross Validation<span\n",
        "                        class=\"badge badge-primary badge-pill\">29</span></a>\n",
        "            </li>\n",
        "        </ul>\n",
        "    </li>\n",
        "    <li><a class=\"list-group-item list-group-item-action\" data-toggle=\"list\" href=\"#7\" role=\"tab\"\n",
        "            aria-controls=\"settings\">7. Inference <span class=\"badge badge-primary badge-pill\">30</span></a> </li>\n",
        "    <li><a class=\"list-group-item list-group-item-action\" data-toggle=\"list\" href=\"#8\" role=\"tab\"\n",
        "            aria-controls=\"settings\">8. References <span class=\"badge badge-primary badge-pill\">31</span></a> </li>\n",
        "</ul>"
      ],
      "metadata": {
        "papermill": {
          "duration": 0.105756,
          "end_time": "2022-06-13T19:46:27.135836",
          "exception": false,
          "start_time": "2022-06-13T19:46:27.03008",
          "status": "completed"
        },
        "tags": [],
        "id": "oWbra-4eCxn9"
      }
    },
    {
      "cell_type": "code",
      "source": [],
      "metadata": {
        "papermill": {
          "duration": 0.105846,
          "end_time": "2022-06-13T19:46:27.610721",
          "exception": false,
          "start_time": "2022-06-13T19:46:27.504875",
          "status": "completed"
        },
        "tags": [],
        "id": "Z7qHZzPACxoC"
      },
      "execution_count": 1,
      "outputs": []
    },
    {
      "cell_type": "markdown",
      "source": [
        "<h1  style=\"text-align: center\" class=\"list-group-item list-group-item-action active\">1. Introduction</h1><a id = \"1\" ></a>\n",
        "\n",
        "Before we get into the several strategies for aspect-level sentiment analysis, we must first define an **aspect**. Aspects are a set of semantically rich, concept-centric terms that signify specific features or characteristics of the review or comment. For example, If we consider Example shown below Location, and food are all aspects to consider.\n",
        "\n",
        "![image.png](attachment:image.png)\n",
        "\n",
        "\n",
        "**Aspect-based sentiment analysis (ABSA)** is a text analysis technique that categorizes data by aspect and identifies the sentiment attributed to each one. We will use it to analyze customer feedback for flipkart products by associating specific sentiments with different aspects of a product or service.\n",
        "\n",
        "\n",
        "Aspect Based Sentiment Analysis can be categorized into two types :-\n",
        "\n",
        "- **Supervised ABSA** :- In Supervised approach we provide the seed words which than help supervised model to extract aspects of the sentence. If it identifies the particular aspects for that seed then it tags those sentences with those aspects.\n",
        "\n",
        "- **Unsupervised ABSA** :- As it is obvious providing the seed for each sentence is a difficult task plus let say if our dataset is large (20-100k) than that will become a nightmare. Topic Modeling is the technique which helps extract latent topics from a document, in our case we will extract aspect from a sentence using topic modeling techniques such as latent Dirichlet algorithm (LDA).\n",
        "\n",
        "Aspect Based Sentiment Analysis is a Natural Language Processing (NLP) Based Approach so we will deal it like that and follow the below mentioned pipeline for a NLP task.\n",
        "\n",
        "![](https://miro.medium.com/max/966/1*rJQVqDjbhI3k22lHqa4dFw.png)\n"
      ],
      "metadata": {
        "papermill": {
          "duration": 0.102325,
          "end_time": "2022-06-13T19:46:27.828276",
          "exception": false,
          "start_time": "2022-06-13T19:46:27.725951",
          "status": "completed"
        },
        "tags": [],
        "id": "SpLuaZ6SCxoD"
      }
    },
    {
      "cell_type": "markdown",
      "source": [
        "<h1  style=\"text-align: center\" class=\"list-group-item list-group-item-action active\">2. Data Acquisition </h1><a id = \"2\" ></a>\n",
        "\n",
        "Data Acquisition Phase of the NLP pipeline deals with how can we get information rich and clean data form some source. In our case we fetch the data from flipkart's web page using web scraping technique.\n",
        "\n",
        "<h2  style=\"text-align: center\" class=\"list-group-item list-group-item-success\"> 2.1 Web Scraping </h2><a id = \"2.1\" ></a>\n",
        "\n",
        "Let say we want to analyze the flipkart customers reviews on some Mobile Phone well, we can copy and paste the information from flipkart reviews section to our own file. But in our case we need large amount of data for aspect based sentiment analysis task from the website as quickly as possible. In such a situation, copying and pasting will not work! And that’s when we’ll need to use **Web Scraping**.\n",
        "\n",
        "Web scraping is a method of extracting large amounts of data from websites in an automated manner. The majority of this information is unstructured HTML data that is converted to structured data in a spreadsheet or database before being used in various applications.\n",
        "\n",
        "I Basically used python library BeautifulSoup to fetch the data from web.\n",
        "\n",
        "In this notebook I will not discuss how web scraping works as it's a bit techniq thing but if you are interested to learn the implementation for web scraping you can go through the following blog post.\n",
        "\n",
        "[A Practical Introduction to Web Scraping in Python](https://realpython.com/python-web-scraping-practical-introduction/)\n"
      ],
      "metadata": {
        "papermill": {
          "duration": 0.10424,
          "end_time": "2022-06-13T19:46:28.036258",
          "exception": false,
          "start_time": "2022-06-13T19:46:27.932018",
          "status": "completed"
        },
        "tags": [],
        "id": "24u8Uqw-CxoD"
      }
    },
    {
      "cell_type": "code",
      "source": [
        "import pandas as pd\n",
        "import torch\n",
        "import numpy as np\n",
        "import sqlite3\n",
        "import matplotlib.pyplot as plt\n",
        "import seaborn as sns\n",
        "import re\n",
        "import nltk\n",
        "from nltk.corpus import stopwords\n",
        "from nltk.stem import WordNetLemmatizer\n",
        "from nltk.stem.porter import PorterStemmer\n",
        "from sklearn.feature_extraction.text import CountVectorizer\n",
        "\n",
        "pd.set_option('display.max_columns', None)\n",
        "pd.set_option('display.max_rows', None)\n",
        "import warnings\n"
      ],
      "metadata": {
        "execution": {
          "iopub.execute_input": "2022-07-05T06:55:58.534737Z",
          "iopub.status.busy": "2022-07-05T06:55:58.534064Z",
          "iopub.status.idle": "2022-07-05T06:55:58.542197Z",
          "shell.execute_reply": "2022-07-05T06:55:58.541002Z",
          "shell.execute_reply.started": "2022-07-05T06:55:58.534702Z"
        },
        "papermill": {
          "duration": 3.349149,
          "end_time": "2022-06-13T19:46:31.487573",
          "exception": false,
          "start_time": "2022-06-13T19:46:28.138424",
          "status": "completed"
        },
        "tags": [],
        "id": "GXskjV-WCxoE"
      },
      "execution_count": 2,
      "outputs": []
    },
    {
      "cell_type": "markdown",
      "source": [
        "<h2  style=\"text-align: center\" class=\"list-group-item list-group-item-success\"> 2.2 About the Data </h2><a id = \"2.2\" ></a>\n",
        "\n",
        "\n",
        "Before Loading the dataset I want to specify few details about data. The data is fetched from flipkart India web page contains 83 tables in which 1 table contains information about rest 82 tables. Those rest 82 tables contains reviews of 82 mobile phones.\n",
        "\n",
        "A table which contains information about mobile phones has following attributes.\n",
        "\n",
        " - product_id    \n",
        " - product_name  \n",
        " - price         \n",
        " - category      \n",
        " - sub_category  \n",
        " - specifications\n",
        " - ratings       \n",
        " - discount      \n",
        " - moreinfo      \n",
        "\n",
        "Tables containing reviews of 82 mobile phones has following attributes.\n",
        "\n",
        " - product_id  \n",
        " - review_id   \n",
        " - title       \n",
        " - review      \n",
        " - likes       \n",
        " - dislikes    \n",
        " - ratings     \n",
        " - reviewer    \n",
        "\n"
      ],
      "metadata": {
        "papermill": {
          "duration": 0.101878,
          "end_time": "2022-06-13T19:46:31.691103",
          "exception": false,
          "start_time": "2022-06-13T19:46:31.589225",
          "status": "completed"
        },
        "tags": [],
        "id": "RPNy5oIhCxoE"
      }
    },
    {
      "cell_type": "code",
      "source": [
        "import sqlite3\n",
        "\n",
        "# Read sqlite query results into a pandas DataFrame\n",
        "con = sqlite3.connect(\"../input/flipkart-cell-phone-reviews/flipkart_products.db\")\n",
        "items = pd.read_sql_query(\"SELECT * from items\", con)\n",
        "con.close()\n"
      ],
      "metadata": {
        "execution": {
          "iopub.execute_input": "2022-07-05T06:55:58.58416Z",
          "iopub.status.busy": "2022-07-05T06:55:58.583495Z",
          "iopub.status.idle": "2022-07-05T06:55:58.632633Z",
          "shell.execute_reply": "2022-07-05T06:55:58.631744Z",
          "shell.execute_reply.started": "2022-07-05T06:55:58.584096Z"
        },
        "papermill": {
          "duration": 0.173297,
          "end_time": "2022-06-13T19:46:31.968568",
          "exception": false,
          "start_time": "2022-06-13T19:46:31.795271",
          "status": "completed"
        },
        "tags": [],
        "id": "pHUorJXoCxoF"
      },
      "execution_count": 3,
      "outputs": []
    },
    {
      "cell_type": "code",
      "source": [
        "items.head()\n"
      ],
      "metadata": {
        "execution": {
          "iopub.execute_input": "2022-07-05T06:55:58.636212Z",
          "iopub.status.busy": "2022-07-05T06:55:58.635952Z",
          "iopub.status.idle": "2022-07-05T06:55:58.653353Z",
          "shell.execute_reply": "2022-07-05T06:55:58.652351Z",
          "shell.execute_reply.started": "2022-07-05T06:55:58.636187Z"
        },
        "papermill": {
          "duration": 0.124524,
          "end_time": "2022-06-13T19:46:32.195877",
          "exception": false,
          "start_time": "2022-06-13T19:46:32.071353",
          "status": "completed"
        },
        "tags": [],
        "id": "Y0oWpMlICxoF",
        "outputId": "c2fda53a-72d4-4ee3-eba2-0170512d70cd",
        "colab": {
          "base_uri": "https://localhost:8080/",
          "height": 293
        }
      },
      "execution_count": 4,
      "outputs": [
        {
          "output_type": "execute_result",
          "data": {
            "text/plain": [
              "   product_id                      product_name    price     category  \\\n",
              "0  ECMB000001         Redmi 9A (SeaBlue, 32 GB)   ₹7,413  Electronics   \n",
              "1  ECMB000002  Redmi 9A (Midnight Black, 32 GB)   ₹7,421  Electronics   \n",
              "2  ECMB000003    Redmi 9A (Nature Green, 32 GB)   ₹7,384  Electronics   \n",
              "3  ECMB000004     Redmi 9 (Carbon Black, 64 GB)  ₹10,745  Electronics   \n",
              "4  ECMB000005         Redmi 9 (Sky Blue, 64 GB)  ₹10,489  Electronics   \n",
              "\n",
              "  sub_category                                     specifications ratings  \\\n",
              "0       Mobile  2 GB RAM | 32 GB ROM16.59 cm (6.53 inch) Full ...     4.3   \n",
              "1       Mobile  2 GB RAM | 32 GB ROM16.59 cm (6.53 inch) Full ...     4.3   \n",
              "2       Mobile  2 GB RAM | 32 GB ROM16.59 cm (6.53 inch) Full ...     4.3   \n",
              "3       Mobile  4 GB RAM | 64 GB ROM16.59 cm (6.53 inch) HD+ D...     4.2   \n",
              "4       Mobile  4 GB RAM | 64 GB ROM16.59 cm (6.53 inch) HD+ D...     4.2   \n",
              "\n",
              "  discount                                           moreinfo  \n",
              "0      3.0  /redmi-9a-seablue-32-gb/p/itmeabd39a0cd669?pid...  \n",
              "1      3.0  /redmi-9a-midnight-black-32-gb/p/itmeabd39a0cd...  \n",
              "2      4.0  /redmi-9a-nature-green-32-gb/p/itmeabd39a0cd66...  \n",
              "3     None  /redmi-9-carbon-black-64-gb/p/itm4fb151383983b...  \n",
              "4     None  /redmi-9-sky-blue-64-gb/p/itm4fb151383983b?pid...  "
            ],
            "text/html": [
              "\n",
              "  <div id=\"df-2f69511e-bef4-4582-980c-8751cd0bfd1e\" class=\"colab-df-container\">\n",
              "    <div>\n",
              "<style scoped>\n",
              "    .dataframe tbody tr th:only-of-type {\n",
              "        vertical-align: middle;\n",
              "    }\n",
              "\n",
              "    .dataframe tbody tr th {\n",
              "        vertical-align: top;\n",
              "    }\n",
              "\n",
              "    .dataframe thead th {\n",
              "        text-align: right;\n",
              "    }\n",
              "</style>\n",
              "<table border=\"1\" class=\"dataframe\">\n",
              "  <thead>\n",
              "    <tr style=\"text-align: right;\">\n",
              "      <th></th>\n",
              "      <th>product_id</th>\n",
              "      <th>product_name</th>\n",
              "      <th>price</th>\n",
              "      <th>category</th>\n",
              "      <th>sub_category</th>\n",
              "      <th>specifications</th>\n",
              "      <th>ratings</th>\n",
              "      <th>discount</th>\n",
              "      <th>moreinfo</th>\n",
              "    </tr>\n",
              "  </thead>\n",
              "  <tbody>\n",
              "    <tr>\n",
              "      <th>0</th>\n",
              "      <td>ECMB000001</td>\n",
              "      <td>Redmi 9A (SeaBlue, 32 GB)</td>\n",
              "      <td>₹7,413</td>\n",
              "      <td>Electronics</td>\n",
              "      <td>Mobile</td>\n",
              "      <td>2 GB RAM | 32 GB ROM16.59 cm (6.53 inch) Full ...</td>\n",
              "      <td>4.3</td>\n",
              "      <td>3.0</td>\n",
              "      <td>/redmi-9a-seablue-32-gb/p/itmeabd39a0cd669?pid...</td>\n",
              "    </tr>\n",
              "    <tr>\n",
              "      <th>1</th>\n",
              "      <td>ECMB000002</td>\n",
              "      <td>Redmi 9A (Midnight Black, 32 GB)</td>\n",
              "      <td>₹7,421</td>\n",
              "      <td>Electronics</td>\n",
              "      <td>Mobile</td>\n",
              "      <td>2 GB RAM | 32 GB ROM16.59 cm (6.53 inch) Full ...</td>\n",
              "      <td>4.3</td>\n",
              "      <td>3.0</td>\n",
              "      <td>/redmi-9a-midnight-black-32-gb/p/itmeabd39a0cd...</td>\n",
              "    </tr>\n",
              "    <tr>\n",
              "      <th>2</th>\n",
              "      <td>ECMB000003</td>\n",
              "      <td>Redmi 9A (Nature Green, 32 GB)</td>\n",
              "      <td>₹7,384</td>\n",
              "      <td>Electronics</td>\n",
              "      <td>Mobile</td>\n",
              "      <td>2 GB RAM | 32 GB ROM16.59 cm (6.53 inch) Full ...</td>\n",
              "      <td>4.3</td>\n",
              "      <td>4.0</td>\n",
              "      <td>/redmi-9a-nature-green-32-gb/p/itmeabd39a0cd66...</td>\n",
              "    </tr>\n",
              "    <tr>\n",
              "      <th>3</th>\n",
              "      <td>ECMB000004</td>\n",
              "      <td>Redmi 9 (Carbon Black, 64 GB)</td>\n",
              "      <td>₹10,745</td>\n",
              "      <td>Electronics</td>\n",
              "      <td>Mobile</td>\n",
              "      <td>4 GB RAM | 64 GB ROM16.59 cm (6.53 inch) HD+ D...</td>\n",
              "      <td>4.2</td>\n",
              "      <td>None</td>\n",
              "      <td>/redmi-9-carbon-black-64-gb/p/itm4fb151383983b...</td>\n",
              "    </tr>\n",
              "    <tr>\n",
              "      <th>4</th>\n",
              "      <td>ECMB000005</td>\n",
              "      <td>Redmi 9 (Sky Blue, 64 GB)</td>\n",
              "      <td>₹10,489</td>\n",
              "      <td>Electronics</td>\n",
              "      <td>Mobile</td>\n",
              "      <td>4 GB RAM | 64 GB ROM16.59 cm (6.53 inch) HD+ D...</td>\n",
              "      <td>4.2</td>\n",
              "      <td>None</td>\n",
              "      <td>/redmi-9-sky-blue-64-gb/p/itm4fb151383983b?pid...</td>\n",
              "    </tr>\n",
              "  </tbody>\n",
              "</table>\n",
              "</div>\n",
              "    <div class=\"colab-df-buttons\">\n",
              "\n",
              "  <div class=\"colab-df-container\">\n",
              "    <button class=\"colab-df-convert\" onclick=\"convertToInteractive('df-2f69511e-bef4-4582-980c-8751cd0bfd1e')\"\n",
              "            title=\"Convert this dataframe to an interactive table.\"\n",
              "            style=\"display:none;\">\n",
              "\n",
              "  <svg xmlns=\"http://www.w3.org/2000/svg\" height=\"24px\" viewBox=\"0 -960 960 960\">\n",
              "    <path d=\"M120-120v-720h720v720H120Zm60-500h600v-160H180v160Zm220 220h160v-160H400v160Zm0 220h160v-160H400v160ZM180-400h160v-160H180v160Zm440 0h160v-160H620v160ZM180-180h160v-160H180v160Zm440 0h160v-160H620v160Z\"/>\n",
              "  </svg>\n",
              "    </button>\n",
              "\n",
              "  <style>\n",
              "    .colab-df-container {\n",
              "      display:flex;\n",
              "      gap: 12px;\n",
              "    }\n",
              "\n",
              "    .colab-df-convert {\n",
              "      background-color: #E8F0FE;\n",
              "      border: none;\n",
              "      border-radius: 50%;\n",
              "      cursor: pointer;\n",
              "      display: none;\n",
              "      fill: #1967D2;\n",
              "      height: 32px;\n",
              "      padding: 0 0 0 0;\n",
              "      width: 32px;\n",
              "    }\n",
              "\n",
              "    .colab-df-convert:hover {\n",
              "      background-color: #E2EBFA;\n",
              "      box-shadow: 0px 1px 2px rgba(60, 64, 67, 0.3), 0px 1px 3px 1px rgba(60, 64, 67, 0.15);\n",
              "      fill: #174EA6;\n",
              "    }\n",
              "\n",
              "    .colab-df-buttons div {\n",
              "      margin-bottom: 4px;\n",
              "    }\n",
              "\n",
              "    [theme=dark] .colab-df-convert {\n",
              "      background-color: #3B4455;\n",
              "      fill: #D2E3FC;\n",
              "    }\n",
              "\n",
              "    [theme=dark] .colab-df-convert:hover {\n",
              "      background-color: #434B5C;\n",
              "      box-shadow: 0px 1px 3px 1px rgba(0, 0, 0, 0.15);\n",
              "      filter: drop-shadow(0px 1px 2px rgba(0, 0, 0, 0.3));\n",
              "      fill: #FFFFFF;\n",
              "    }\n",
              "  </style>\n",
              "\n",
              "    <script>\n",
              "      const buttonEl =\n",
              "        document.querySelector('#df-2f69511e-bef4-4582-980c-8751cd0bfd1e button.colab-df-convert');\n",
              "      buttonEl.style.display =\n",
              "        google.colab.kernel.accessAllowed ? 'block' : 'none';\n",
              "\n",
              "      async function convertToInteractive(key) {\n",
              "        const element = document.querySelector('#df-2f69511e-bef4-4582-980c-8751cd0bfd1e');\n",
              "        const dataTable =\n",
              "          await google.colab.kernel.invokeFunction('convertToInteractive',\n",
              "                                                    [key], {});\n",
              "        if (!dataTable) return;\n",
              "\n",
              "        const docLinkHtml = 'Like what you see? Visit the ' +\n",
              "          '<a target=\"_blank\" href=https://colab.research.google.com/notebooks/data_table.ipynb>data table notebook</a>'\n",
              "          + ' to learn more about interactive tables.';\n",
              "        element.innerHTML = '';\n",
              "        dataTable['output_type'] = 'display_data';\n",
              "        await google.colab.output.renderOutput(dataTable, element);\n",
              "        const docLink = document.createElement('div');\n",
              "        docLink.innerHTML = docLinkHtml;\n",
              "        element.appendChild(docLink);\n",
              "      }\n",
              "    </script>\n",
              "  </div>\n",
              "\n",
              "\n",
              "<div id=\"df-ed94b642-4af0-4246-9db7-d0efe4a4c086\">\n",
              "  <button class=\"colab-df-quickchart\" onclick=\"quickchart('df-ed94b642-4af0-4246-9db7-d0efe4a4c086')\"\n",
              "            title=\"Suggest charts\"\n",
              "            style=\"display:none;\">\n",
              "\n",
              "<svg xmlns=\"http://www.w3.org/2000/svg\" height=\"24px\"viewBox=\"0 0 24 24\"\n",
              "     width=\"24px\">\n",
              "    <g>\n",
              "        <path d=\"M19 3H5c-1.1 0-2 .9-2 2v14c0 1.1.9 2 2 2h14c1.1 0 2-.9 2-2V5c0-1.1-.9-2-2-2zM9 17H7v-7h2v7zm4 0h-2V7h2v10zm4 0h-2v-4h2v4z\"/>\n",
              "    </g>\n",
              "</svg>\n",
              "  </button>\n",
              "\n",
              "<style>\n",
              "  .colab-df-quickchart {\n",
              "      --bg-color: #E8F0FE;\n",
              "      --fill-color: #1967D2;\n",
              "      --hover-bg-color: #E2EBFA;\n",
              "      --hover-fill-color: #174EA6;\n",
              "      --disabled-fill-color: #AAA;\n",
              "      --disabled-bg-color: #DDD;\n",
              "  }\n",
              "\n",
              "  [theme=dark] .colab-df-quickchart {\n",
              "      --bg-color: #3B4455;\n",
              "      --fill-color: #D2E3FC;\n",
              "      --hover-bg-color: #434B5C;\n",
              "      --hover-fill-color: #FFFFFF;\n",
              "      --disabled-bg-color: #3B4455;\n",
              "      --disabled-fill-color: #666;\n",
              "  }\n",
              "\n",
              "  .colab-df-quickchart {\n",
              "    background-color: var(--bg-color);\n",
              "    border: none;\n",
              "    border-radius: 50%;\n",
              "    cursor: pointer;\n",
              "    display: none;\n",
              "    fill: var(--fill-color);\n",
              "    height: 32px;\n",
              "    padding: 0;\n",
              "    width: 32px;\n",
              "  }\n",
              "\n",
              "  .colab-df-quickchart:hover {\n",
              "    background-color: var(--hover-bg-color);\n",
              "    box-shadow: 0 1px 2px rgba(60, 64, 67, 0.3), 0 1px 3px 1px rgba(60, 64, 67, 0.15);\n",
              "    fill: var(--button-hover-fill-color);\n",
              "  }\n",
              "\n",
              "  .colab-df-quickchart-complete:disabled,\n",
              "  .colab-df-quickchart-complete:disabled:hover {\n",
              "    background-color: var(--disabled-bg-color);\n",
              "    fill: var(--disabled-fill-color);\n",
              "    box-shadow: none;\n",
              "  }\n",
              "\n",
              "  .colab-df-spinner {\n",
              "    border: 2px solid var(--fill-color);\n",
              "    border-color: transparent;\n",
              "    border-bottom-color: var(--fill-color);\n",
              "    animation:\n",
              "      spin 1s steps(1) infinite;\n",
              "  }\n",
              "\n",
              "  @keyframes spin {\n",
              "    0% {\n",
              "      border-color: transparent;\n",
              "      border-bottom-color: var(--fill-color);\n",
              "      border-left-color: var(--fill-color);\n",
              "    }\n",
              "    20% {\n",
              "      border-color: transparent;\n",
              "      border-left-color: var(--fill-color);\n",
              "      border-top-color: var(--fill-color);\n",
              "    }\n",
              "    30% {\n",
              "      border-color: transparent;\n",
              "      border-left-color: var(--fill-color);\n",
              "      border-top-color: var(--fill-color);\n",
              "      border-right-color: var(--fill-color);\n",
              "    }\n",
              "    40% {\n",
              "      border-color: transparent;\n",
              "      border-right-color: var(--fill-color);\n",
              "      border-top-color: var(--fill-color);\n",
              "    }\n",
              "    60% {\n",
              "      border-color: transparent;\n",
              "      border-right-color: var(--fill-color);\n",
              "    }\n",
              "    80% {\n",
              "      border-color: transparent;\n",
              "      border-right-color: var(--fill-color);\n",
              "      border-bottom-color: var(--fill-color);\n",
              "    }\n",
              "    90% {\n",
              "      border-color: transparent;\n",
              "      border-bottom-color: var(--fill-color);\n",
              "    }\n",
              "  }\n",
              "</style>\n",
              "\n",
              "  <script>\n",
              "    async function quickchart(key) {\n",
              "      const quickchartButtonEl =\n",
              "        document.querySelector('#' + key + ' button');\n",
              "      quickchartButtonEl.disabled = true;  // To prevent multiple clicks.\n",
              "      quickchartButtonEl.classList.add('colab-df-spinner');\n",
              "      try {\n",
              "        const charts = await google.colab.kernel.invokeFunction(\n",
              "            'suggestCharts', [key], {});\n",
              "      } catch (error) {\n",
              "        console.error('Error during call to suggestCharts:', error);\n",
              "      }\n",
              "      quickchartButtonEl.classList.remove('colab-df-spinner');\n",
              "      quickchartButtonEl.classList.add('colab-df-quickchart-complete');\n",
              "    }\n",
              "    (() => {\n",
              "      let quickchartButtonEl =\n",
              "        document.querySelector('#df-ed94b642-4af0-4246-9db7-d0efe4a4c086 button');\n",
              "      quickchartButtonEl.style.display =\n",
              "        google.colab.kernel.accessAllowed ? 'block' : 'none';\n",
              "    })();\n",
              "  </script>\n",
              "</div>\n",
              "\n",
              "    </div>\n",
              "  </div>\n"
            ],
            "application/vnd.google.colaboratory.intrinsic+json": {
              "type": "dataframe",
              "variable_name": "items",
              "summary": "{\n  \"name\": \"items\",\n  \"rows\": 82,\n  \"fields\": [\n    {\n      \"column\": \"product_id\",\n      \"properties\": {\n        \"dtype\": \"string\",\n        \"num_unique_values\": 82,\n        \"samples\": [\n          \"ECMB000031\",\n          \"ECMB000001\",\n          \"ECMB000023\"\n        ],\n        \"semantic_type\": \"\",\n        \"description\": \"\"\n      }\n    },\n    {\n      \"column\": \"product_name\",\n      \"properties\": {\n        \"dtype\": \"string\",\n        \"num_unique_values\": 62,\n        \"samples\": [\n          \"Redmi Note 7S (Sapphire Blue, 64 GB)\",\n          \"Mi 4i (Blue, 16 GB)\",\n          \"Redmi 9A (SeaBlue, 32 GB)\"\n        ],\n        \"semantic_type\": \"\",\n        \"description\": \"\"\n      }\n    },\n    {\n      \"column\": \"price\",\n      \"properties\": {\n        \"dtype\": \"string\",\n        \"num_unique_values\": 59,\n        \"samples\": [\n          \"\\u20b97,413\",\n          \"\\u20b98,289\",\n          \"\\u20b925,974\"\n        ],\n        \"semantic_type\": \"\",\n        \"description\": \"\"\n      }\n    },\n    {\n      \"column\": \"category\",\n      \"properties\": {\n        \"dtype\": \"category\",\n        \"num_unique_values\": 1,\n        \"samples\": [\n          \"Electronics\"\n        ],\n        \"semantic_type\": \"\",\n        \"description\": \"\"\n      }\n    },\n    {\n      \"column\": \"sub_category\",\n      \"properties\": {\n        \"dtype\": \"category\",\n        \"num_unique_values\": 1,\n        \"samples\": [\n          \"Mobile\"\n        ],\n        \"semantic_type\": \"\",\n        \"description\": \"\"\n      }\n    },\n    {\n      \"column\": \"specifications\",\n      \"properties\": {\n        \"dtype\": \"string\",\n        \"num_unique_values\": 49,\n        \"samples\": [\n          \"4 GB RAM | 128 GB ROM | Expandable Upto 512 GB16.94 cm (6.67 inch) Full HD+ Display48MP + 8MP + 5MP + 2MP | 16MP Front Camera5020 mAh BatteryQualcomm\\u00ae Snapdragon\\u2122 720G Processor1 year manufacturer warranty for device and 6 months manufacturer warranty for in-box accessories\"\n        ],\n        \"semantic_type\": \"\",\n        \"description\": \"\"\n      }\n    },\n    {\n      \"column\": \"ratings\",\n      \"properties\": {\n        \"dtype\": \"category\",\n        \"num_unique_values\": 5,\n        \"samples\": [\n          \"4.2\"\n        ],\n        \"semantic_type\": \"\",\n        \"description\": \"\"\n      }\n    },\n    {\n      \"column\": \"discount\",\n      \"properties\": {\n        \"dtype\": \"category\",\n        \"num_unique_values\": 25,\n        \"samples\": [\n          8.0\n        ],\n        \"semantic_type\": \"\",\n        \"description\": \"\"\n      }\n    },\n    {\n      \"column\": \"moreinfo\",\n      \"properties\": {\n        \"dtype\": \"string\",\n        \"num_unique_values\": 82,\n        \"samples\": [\n          \"/mi-11x-5g-lunar-white-128-gb/p/itmdc6a5f695c609?pid=MOBG2QSCM6PGST6M&lid=LSTMOBG2QSCM6PGST6MSQ1O25&marketplace=FLIPKART&store=tyy%2F4io&srno=b_2_37&otracker=nmenu_sub_Electronics_0_Mi&fm=organic&iid=6e1ab22f-816b-4eda-bc16-872a6b3a4bb8.MOBG2QSCM6PGST6M.SEARCH&ppt=None&ppn=None&ssid=fo0vlml0gg0000001626874765404\"\n        ],\n        \"semantic_type\": \"\",\n        \"description\": \"\"\n      }\n    }\n  ]\n}"
            }
          },
          "metadata": {},
          "execution_count": 4
        }
      ]
    },
    {
      "cell_type": "code",
      "source": [
        "items.info()\n"
      ],
      "metadata": {
        "execution": {
          "iopub.execute_input": "2022-07-05T06:55:58.655322Z",
          "iopub.status.busy": "2022-07-05T06:55:58.654964Z",
          "iopub.status.idle": "2022-07-05T06:55:58.668365Z",
          "shell.execute_reply": "2022-07-05T06:55:58.666319Z",
          "shell.execute_reply.started": "2022-07-05T06:55:58.655267Z"
        },
        "papermill": {
          "duration": 0.12442,
          "end_time": "2022-06-13T19:46:32.422375",
          "exception": false,
          "start_time": "2022-06-13T19:46:32.297955",
          "status": "completed"
        },
        "tags": [],
        "id": "evIKSCuWCxoG",
        "outputId": "4a0e203b-eaea-4f99-dfe9-d1fabdd73a07",
        "colab": {
          "base_uri": "https://localhost:8080/"
        }
      },
      "execution_count": 5,
      "outputs": [
        {
          "output_type": "stream",
          "name": "stdout",
          "text": [
            "<class 'pandas.core.frame.DataFrame'>\n",
            "RangeIndex: 82 entries, 0 to 81\n",
            "Data columns (total 9 columns):\n",
            " #   Column          Non-Null Count  Dtype \n",
            "---  ------          --------------  ----- \n",
            " 0   product_id      82 non-null     object\n",
            " 1   product_name    82 non-null     object\n",
            " 2   price           82 non-null     object\n",
            " 3   category        82 non-null     object\n",
            " 4   sub_category    82 non-null     object\n",
            " 5   specifications  82 non-null     object\n",
            " 6   ratings         82 non-null     object\n",
            " 7   discount        34 non-null     object\n",
            " 8   moreinfo        82 non-null     object\n",
            "dtypes: object(9)\n",
            "memory usage: 5.9+ KB\n"
          ]
        }
      ]
    },
    {
      "cell_type": "markdown",
      "source": [
        "Items dataset is just like an index for some book."
      ],
      "metadata": {
        "papermill": {
          "duration": 0.102265,
          "end_time": "2022-06-13T19:46:32.6309",
          "exception": false,
          "start_time": "2022-06-13T19:46:32.528635",
          "status": "completed"
        },
        "tags": [],
        "id": "oJM1wS8SCxoG"
      }
    },
    {
      "cell_type": "code",
      "source": [
        "\n",
        "con = sqlite3.connect(\"../input/flipkart-cell-phone-reviews/flipkart_products.db\")\n",
        "\n",
        "df = pd.read_sql_query(\"SELECT * from ECMB000001\", con)\n",
        "\n",
        "for i in range(2, len(items) + 1):\n",
        "\n",
        "    df_temp = pd.read_sql_query(\"SELECT * from ECMB{:06d}\".format(i), con)\n",
        "    df = pd.concat([df, df_temp])\n",
        "con.close()\n"
      ],
      "metadata": {
        "execution": {
          "iopub.execute_input": "2022-07-05T06:55:58.671265Z",
          "iopub.status.busy": "2022-07-05T06:55:58.670413Z",
          "iopub.status.idle": "2022-07-05T06:55:59.899293Z",
          "shell.execute_reply": "2022-07-05T06:55:59.898347Z",
          "shell.execute_reply.started": "2022-07-05T06:55:58.671224Z"
        },
        "papermill": {
          "duration": 1.494515,
          "end_time": "2022-06-13T19:46:34.227839",
          "exception": false,
          "start_time": "2022-06-13T19:46:32.733324",
          "status": "completed"
        },
        "tags": [],
        "id": "vE-AGnY4CxoH"
      },
      "execution_count": 6,
      "outputs": []
    },
    {
      "cell_type": "code",
      "source": [
        "df.info()\n"
      ],
      "metadata": {
        "execution": {
          "iopub.execute_input": "2022-07-05T06:55:59.9025Z",
          "iopub.status.busy": "2022-07-05T06:55:59.902199Z",
          "iopub.status.idle": "2022-07-05T06:55:59.955553Z",
          "shell.execute_reply": "2022-07-05T06:55:59.954383Z",
          "shell.execute_reply.started": "2022-07-05T06:55:59.902474Z"
        },
        "papermill": {
          "duration": 0.159363,
          "end_time": "2022-06-13T19:46:34.490666",
          "exception": false,
          "start_time": "2022-06-13T19:46:34.331303",
          "status": "completed"
        },
        "tags": [],
        "id": "Uc8sGseFCxoH",
        "outputId": "c3790fd0-8721-40b8-88ae-fd68d4b73c01",
        "colab": {
          "base_uri": "https://localhost:8080/"
        }
      },
      "execution_count": 7,
      "outputs": [
        {
          "output_type": "stream",
          "name": "stdout",
          "text": [
            "<class 'pandas.core.frame.DataFrame'>\n",
            "Index: 53493 entries, 0 to 289\n",
            "Data columns (total 8 columns):\n",
            " #   Column      Non-Null Count  Dtype \n",
            "---  ------      --------------  ----- \n",
            " 0   product_id  53493 non-null  object\n",
            " 1   review_id   53493 non-null  object\n",
            " 2   title       53493 non-null  object\n",
            " 3   review      53493 non-null  object\n",
            " 4   likes       53493 non-null  object\n",
            " 5   dislikes    53493 non-null  object\n",
            " 6   ratings     48488 non-null  object\n",
            " 7   reviewer    53493 non-null  object\n",
            "dtypes: object(8)\n",
            "memory usage: 3.7+ MB\n"
          ]
        }
      ]
    },
    {
      "cell_type": "code",
      "source": [
        "df.head()"
      ],
      "metadata": {
        "execution": {
          "iopub.execute_input": "2022-07-05T06:55:59.95828Z",
          "iopub.status.busy": "2022-07-05T06:55:59.957158Z",
          "iopub.status.idle": "2022-07-05T06:55:59.973952Z",
          "shell.execute_reply": "2022-07-05T06:55:59.97294Z",
          "shell.execute_reply.started": "2022-07-05T06:55:59.958241Z"
        },
        "papermill": {
          "duration": 0.119134,
          "end_time": "2022-06-13T19:46:34.714863",
          "exception": false,
          "start_time": "2022-06-13T19:46:34.595729",
          "status": "completed"
        },
        "tags": [],
        "id": "PmsAhNXUCxoH",
        "outputId": "ecfaab96-883f-4531-d691-3763738e7ec9",
        "colab": {
          "base_uri": "https://localhost:8080/",
          "height": 206
        }
      },
      "execution_count": 8,
      "outputs": [
        {
          "output_type": "execute_result",
          "data": {
            "text/plain": [
              "   product_id          review_id               title  \\\n",
              "0  ECMB000001  ECMB0000010000001           Excellent   \n",
              "1  ECMB000001  ECMB0000010000002     Worth the money   \n",
              "2  ECMB000001  ECMB0000010000003           Just wow!   \n",
              "3  ECMB000001  ECMB0000010000004      Simply awesome   \n",
              "4  ECMB000001  ECMB0000010000005  Highly recommended   \n",
              "\n",
              "                                              review likes dislikes ratings  \\\n",
              "0  Wow superb I love it❤️👍 battery backup so nice 👍👍   740      160       5   \n",
              "1  Mobile So Good In Range Redmi 9a Has Miui 12 L...   355      104       4   \n",
              "2  Wonderful device and smart phone best camera b...   125       47       5   \n",
              "3  Very good mobile. Value for money. Battery bac...     0        0       5   \n",
              "4                Really great.... value for money...    90       15       5   \n",
              "\n",
              "             reviewer  \n",
              "0      Abhishek Saini  \n",
              "1  Dinesh Kumar Sahni  \n",
              "2   Flipkart Customer  \n",
              "3            Amit Sen  \n",
              "4     Sudeshna pakira  "
            ],
            "text/html": [
              "\n",
              "  <div id=\"df-f6b524d3-7a84-4fbd-9ce2-2b658eaf4736\" class=\"colab-df-container\">\n",
              "    <div>\n",
              "<style scoped>\n",
              "    .dataframe tbody tr th:only-of-type {\n",
              "        vertical-align: middle;\n",
              "    }\n",
              "\n",
              "    .dataframe tbody tr th {\n",
              "        vertical-align: top;\n",
              "    }\n",
              "\n",
              "    .dataframe thead th {\n",
              "        text-align: right;\n",
              "    }\n",
              "</style>\n",
              "<table border=\"1\" class=\"dataframe\">\n",
              "  <thead>\n",
              "    <tr style=\"text-align: right;\">\n",
              "      <th></th>\n",
              "      <th>product_id</th>\n",
              "      <th>review_id</th>\n",
              "      <th>title</th>\n",
              "      <th>review</th>\n",
              "      <th>likes</th>\n",
              "      <th>dislikes</th>\n",
              "      <th>ratings</th>\n",
              "      <th>reviewer</th>\n",
              "    </tr>\n",
              "  </thead>\n",
              "  <tbody>\n",
              "    <tr>\n",
              "      <th>0</th>\n",
              "      <td>ECMB000001</td>\n",
              "      <td>ECMB0000010000001</td>\n",
              "      <td>Excellent</td>\n",
              "      <td>Wow superb I love it❤️👍 battery backup so nice 👍👍</td>\n",
              "      <td>740</td>\n",
              "      <td>160</td>\n",
              "      <td>5</td>\n",
              "      <td>Abhishek Saini</td>\n",
              "    </tr>\n",
              "    <tr>\n",
              "      <th>1</th>\n",
              "      <td>ECMB000001</td>\n",
              "      <td>ECMB0000010000002</td>\n",
              "      <td>Worth the money</td>\n",
              "      <td>Mobile So Good In Range Redmi 9a Has Miui 12 L...</td>\n",
              "      <td>355</td>\n",
              "      <td>104</td>\n",
              "      <td>4</td>\n",
              "      <td>Dinesh Kumar Sahni</td>\n",
              "    </tr>\n",
              "    <tr>\n",
              "      <th>2</th>\n",
              "      <td>ECMB000001</td>\n",
              "      <td>ECMB0000010000003</td>\n",
              "      <td>Just wow!</td>\n",
              "      <td>Wonderful device and smart phone best camera b...</td>\n",
              "      <td>125</td>\n",
              "      <td>47</td>\n",
              "      <td>5</td>\n",
              "      <td>Flipkart Customer</td>\n",
              "    </tr>\n",
              "    <tr>\n",
              "      <th>3</th>\n",
              "      <td>ECMB000001</td>\n",
              "      <td>ECMB0000010000004</td>\n",
              "      <td>Simply awesome</td>\n",
              "      <td>Very good mobile. Value for money. Battery bac...</td>\n",
              "      <td>0</td>\n",
              "      <td>0</td>\n",
              "      <td>5</td>\n",
              "      <td>Amit Sen</td>\n",
              "    </tr>\n",
              "    <tr>\n",
              "      <th>4</th>\n",
              "      <td>ECMB000001</td>\n",
              "      <td>ECMB0000010000005</td>\n",
              "      <td>Highly recommended</td>\n",
              "      <td>Really great.... value for money...</td>\n",
              "      <td>90</td>\n",
              "      <td>15</td>\n",
              "      <td>5</td>\n",
              "      <td>Sudeshna pakira</td>\n",
              "    </tr>\n",
              "  </tbody>\n",
              "</table>\n",
              "</div>\n",
              "    <div class=\"colab-df-buttons\">\n",
              "\n",
              "  <div class=\"colab-df-container\">\n",
              "    <button class=\"colab-df-convert\" onclick=\"convertToInteractive('df-f6b524d3-7a84-4fbd-9ce2-2b658eaf4736')\"\n",
              "            title=\"Convert this dataframe to an interactive table.\"\n",
              "            style=\"display:none;\">\n",
              "\n",
              "  <svg xmlns=\"http://www.w3.org/2000/svg\" height=\"24px\" viewBox=\"0 -960 960 960\">\n",
              "    <path d=\"M120-120v-720h720v720H120Zm60-500h600v-160H180v160Zm220 220h160v-160H400v160Zm0 220h160v-160H400v160ZM180-400h160v-160H180v160Zm440 0h160v-160H620v160ZM180-180h160v-160H180v160Zm440 0h160v-160H620v160Z\"/>\n",
              "  </svg>\n",
              "    </button>\n",
              "\n",
              "  <style>\n",
              "    .colab-df-container {\n",
              "      display:flex;\n",
              "      gap: 12px;\n",
              "    }\n",
              "\n",
              "    .colab-df-convert {\n",
              "      background-color: #E8F0FE;\n",
              "      border: none;\n",
              "      border-radius: 50%;\n",
              "      cursor: pointer;\n",
              "      display: none;\n",
              "      fill: #1967D2;\n",
              "      height: 32px;\n",
              "      padding: 0 0 0 0;\n",
              "      width: 32px;\n",
              "    }\n",
              "\n",
              "    .colab-df-convert:hover {\n",
              "      background-color: #E2EBFA;\n",
              "      box-shadow: 0px 1px 2px rgba(60, 64, 67, 0.3), 0px 1px 3px 1px rgba(60, 64, 67, 0.15);\n",
              "      fill: #174EA6;\n",
              "    }\n",
              "\n",
              "    .colab-df-buttons div {\n",
              "      margin-bottom: 4px;\n",
              "    }\n",
              "\n",
              "    [theme=dark] .colab-df-convert {\n",
              "      background-color: #3B4455;\n",
              "      fill: #D2E3FC;\n",
              "    }\n",
              "\n",
              "    [theme=dark] .colab-df-convert:hover {\n",
              "      background-color: #434B5C;\n",
              "      box-shadow: 0px 1px 3px 1px rgba(0, 0, 0, 0.15);\n",
              "      filter: drop-shadow(0px 1px 2px rgba(0, 0, 0, 0.3));\n",
              "      fill: #FFFFFF;\n",
              "    }\n",
              "  </style>\n",
              "\n",
              "    <script>\n",
              "      const buttonEl =\n",
              "        document.querySelector('#df-f6b524d3-7a84-4fbd-9ce2-2b658eaf4736 button.colab-df-convert');\n",
              "      buttonEl.style.display =\n",
              "        google.colab.kernel.accessAllowed ? 'block' : 'none';\n",
              "\n",
              "      async function convertToInteractive(key) {\n",
              "        const element = document.querySelector('#df-f6b524d3-7a84-4fbd-9ce2-2b658eaf4736');\n",
              "        const dataTable =\n",
              "          await google.colab.kernel.invokeFunction('convertToInteractive',\n",
              "                                                    [key], {});\n",
              "        if (!dataTable) return;\n",
              "\n",
              "        const docLinkHtml = 'Like what you see? Visit the ' +\n",
              "          '<a target=\"_blank\" href=https://colab.research.google.com/notebooks/data_table.ipynb>data table notebook</a>'\n",
              "          + ' to learn more about interactive tables.';\n",
              "        element.innerHTML = '';\n",
              "        dataTable['output_type'] = 'display_data';\n",
              "        await google.colab.output.renderOutput(dataTable, element);\n",
              "        const docLink = document.createElement('div');\n",
              "        docLink.innerHTML = docLinkHtml;\n",
              "        element.appendChild(docLink);\n",
              "      }\n",
              "    </script>\n",
              "  </div>\n",
              "\n",
              "\n",
              "<div id=\"df-51f45aa3-262b-4845-a0a1-b58180c720fd\">\n",
              "  <button class=\"colab-df-quickchart\" onclick=\"quickchart('df-51f45aa3-262b-4845-a0a1-b58180c720fd')\"\n",
              "            title=\"Suggest charts\"\n",
              "            style=\"display:none;\">\n",
              "\n",
              "<svg xmlns=\"http://www.w3.org/2000/svg\" height=\"24px\"viewBox=\"0 0 24 24\"\n",
              "     width=\"24px\">\n",
              "    <g>\n",
              "        <path d=\"M19 3H5c-1.1 0-2 .9-2 2v14c0 1.1.9 2 2 2h14c1.1 0 2-.9 2-2V5c0-1.1-.9-2-2-2zM9 17H7v-7h2v7zm4 0h-2V7h2v10zm4 0h-2v-4h2v4z\"/>\n",
              "    </g>\n",
              "</svg>\n",
              "  </button>\n",
              "\n",
              "<style>\n",
              "  .colab-df-quickchart {\n",
              "      --bg-color: #E8F0FE;\n",
              "      --fill-color: #1967D2;\n",
              "      --hover-bg-color: #E2EBFA;\n",
              "      --hover-fill-color: #174EA6;\n",
              "      --disabled-fill-color: #AAA;\n",
              "      --disabled-bg-color: #DDD;\n",
              "  }\n",
              "\n",
              "  [theme=dark] .colab-df-quickchart {\n",
              "      --bg-color: #3B4455;\n",
              "      --fill-color: #D2E3FC;\n",
              "      --hover-bg-color: #434B5C;\n",
              "      --hover-fill-color: #FFFFFF;\n",
              "      --disabled-bg-color: #3B4455;\n",
              "      --disabled-fill-color: #666;\n",
              "  }\n",
              "\n",
              "  .colab-df-quickchart {\n",
              "    background-color: var(--bg-color);\n",
              "    border: none;\n",
              "    border-radius: 50%;\n",
              "    cursor: pointer;\n",
              "    display: none;\n",
              "    fill: var(--fill-color);\n",
              "    height: 32px;\n",
              "    padding: 0;\n",
              "    width: 32px;\n",
              "  }\n",
              "\n",
              "  .colab-df-quickchart:hover {\n",
              "    background-color: var(--hover-bg-color);\n",
              "    box-shadow: 0 1px 2px rgba(60, 64, 67, 0.3), 0 1px 3px 1px rgba(60, 64, 67, 0.15);\n",
              "    fill: var(--button-hover-fill-color);\n",
              "  }\n",
              "\n",
              "  .colab-df-quickchart-complete:disabled,\n",
              "  .colab-df-quickchart-complete:disabled:hover {\n",
              "    background-color: var(--disabled-bg-color);\n",
              "    fill: var(--disabled-fill-color);\n",
              "    box-shadow: none;\n",
              "  }\n",
              "\n",
              "  .colab-df-spinner {\n",
              "    border: 2px solid var(--fill-color);\n",
              "    border-color: transparent;\n",
              "    border-bottom-color: var(--fill-color);\n",
              "    animation:\n",
              "      spin 1s steps(1) infinite;\n",
              "  }\n",
              "\n",
              "  @keyframes spin {\n",
              "    0% {\n",
              "      border-color: transparent;\n",
              "      border-bottom-color: var(--fill-color);\n",
              "      border-left-color: var(--fill-color);\n",
              "    }\n",
              "    20% {\n",
              "      border-color: transparent;\n",
              "      border-left-color: var(--fill-color);\n",
              "      border-top-color: var(--fill-color);\n",
              "    }\n",
              "    30% {\n",
              "      border-color: transparent;\n",
              "      border-left-color: var(--fill-color);\n",
              "      border-top-color: var(--fill-color);\n",
              "      border-right-color: var(--fill-color);\n",
              "    }\n",
              "    40% {\n",
              "      border-color: transparent;\n",
              "      border-right-color: var(--fill-color);\n",
              "      border-top-color: var(--fill-color);\n",
              "    }\n",
              "    60% {\n",
              "      border-color: transparent;\n",
              "      border-right-color: var(--fill-color);\n",
              "    }\n",
              "    80% {\n",
              "      border-color: transparent;\n",
              "      border-right-color: var(--fill-color);\n",
              "      border-bottom-color: var(--fill-color);\n",
              "    }\n",
              "    90% {\n",
              "      border-color: transparent;\n",
              "      border-bottom-color: var(--fill-color);\n",
              "    }\n",
              "  }\n",
              "</style>\n",
              "\n",
              "  <script>\n",
              "    async function quickchart(key) {\n",
              "      const quickchartButtonEl =\n",
              "        document.querySelector('#' + key + ' button');\n",
              "      quickchartButtonEl.disabled = true;  // To prevent multiple clicks.\n",
              "      quickchartButtonEl.classList.add('colab-df-spinner');\n",
              "      try {\n",
              "        const charts = await google.colab.kernel.invokeFunction(\n",
              "            'suggestCharts', [key], {});\n",
              "      } catch (error) {\n",
              "        console.error('Error during call to suggestCharts:', error);\n",
              "      }\n",
              "      quickchartButtonEl.classList.remove('colab-df-spinner');\n",
              "      quickchartButtonEl.classList.add('colab-df-quickchart-complete');\n",
              "    }\n",
              "    (() => {\n",
              "      let quickchartButtonEl =\n",
              "        document.querySelector('#df-51f45aa3-262b-4845-a0a1-b58180c720fd button');\n",
              "      quickchartButtonEl.style.display =\n",
              "        google.colab.kernel.accessAllowed ? 'block' : 'none';\n",
              "    })();\n",
              "  </script>\n",
              "</div>\n",
              "\n",
              "    </div>\n",
              "  </div>\n"
            ],
            "application/vnd.google.colaboratory.intrinsic+json": {
              "type": "dataframe",
              "variable_name": "df",
              "summary": "{\n  \"name\": \"df\",\n  \"rows\": 53493,\n  \"fields\": [\n    {\n      \"column\": \"product_id\",\n      \"properties\": {\n        \"dtype\": \"category\",\n        \"num_unique_values\": 81,\n        \"samples\": [\n          \"ECMB000032\",\n          \"ECMB000001\",\n          \"ECMB000023\"\n        ],\n        \"semantic_type\": \"\",\n        \"description\": \"\"\n      }\n    },\n    {\n      \"column\": \"review_id\",\n      \"properties\": {\n        \"dtype\": \"string\",\n        \"num_unique_values\": 53493,\n        \"samples\": [\n          \"ECMB0000450000048\",\n          \"ECMB0000050000141\",\n          \"ECMB0000250000789\"\n        ],\n        \"semantic_type\": \"\",\n        \"description\": \"\"\n      }\n    },\n    {\n      \"column\": \"title\",\n      \"properties\": {\n        \"dtype\": \"category\",\n        \"num_unique_values\": 783,\n        \"samples\": [\n          \"GREAT LOOKS. At this price its Great.\",\n          \"Stunning looks\",\n          \"Great budget Smart Phone \"\n        ],\n        \"semantic_type\": \"\",\n        \"description\": \"\"\n      }\n    },\n    {\n      \"column\": \"review\",\n      \"properties\": {\n        \"dtype\": \"category\",\n        \"num_unique_values\": 20153,\n        \"samples\": [\n          \"Nice. Worth for this price\",\n          \"awesome phone camera is just osm I really love it..\",\n          \"Good working\"\n        ],\n        \"semantic_type\": \"\",\n        \"description\": \"\"\n      }\n    },\n    {\n      \"column\": \"likes\",\n      \"properties\": {\n        \"dtype\": \"category\",\n        \"num_unique_values\": 513,\n        \"samples\": [\n          \"534\",\n          \"518\",\n          \"202\"\n        ],\n        \"semantic_type\": \"\",\n        \"description\": \"\"\n      }\n    },\n    {\n      \"column\": \"dislikes\",\n      \"properties\": {\n        \"dtype\": \"category\",\n        \"num_unique_values\": 282,\n        \"samples\": [\n          \"33\",\n          \"92\",\n          \"255\"\n        ],\n        \"semantic_type\": \"\",\n        \"description\": \"\"\n      }\n    },\n    {\n      \"column\": \"ratings\",\n      \"properties\": {\n        \"dtype\": \"category\",\n        \"num_unique_values\": 3,\n        \"samples\": [\n          \"5\",\n          \"4\",\n          \"3\"\n        ],\n        \"semantic_type\": \"\",\n        \"description\": \"\"\n      }\n    },\n    {\n      \"column\": \"reviewer\",\n      \"properties\": {\n        \"dtype\": \"category\",\n        \"num_unique_values\": 22134,\n        \"samples\": [\n          \"Prasanta Patra\",\n          \"Virat Chanda\",\n          \"Jeel Patel\"\n        ],\n        \"semantic_type\": \"\",\n        \"description\": \"\"\n      }\n    }\n  ]\n}"
            }
          },
          "metadata": {},
          "execution_count": 8
        }
      ]
    },
    {
      "cell_type": "markdown",
      "source": [
        "We Got good amount of data for our task lets make sure that we need to remove nullity from the dataset"
      ],
      "metadata": {
        "papermill": {
          "duration": 0.104413,
          "end_time": "2022-06-13T19:46:34.923451",
          "exception": false,
          "start_time": "2022-06-13T19:46:34.819038",
          "status": "completed"
        },
        "tags": [],
        "id": "i8ehgBagCxoI"
      }
    },
    {
      "cell_type": "markdown",
      "source": [
        "<h2  style=\"text-align: center\" class=\"list-group-item list-group-item-success\"> 2.3 Handling Missing Values </h2><a id = \"2.3\" ></a>\n",
        "\n",
        "Missing data are not rare in real data sets. In fact, the chance that at least one data point is missing increases as the data set size increases. Missing data can occur any number of ways, some of which include the following.\n",
        "\n",
        "- Merging of source data sets\n",
        "- Random events\n",
        "- Failures of measurement"
      ],
      "metadata": {
        "papermill": {
          "duration": 0.104184,
          "end_time": "2022-06-13T19:46:35.130908",
          "exception": false,
          "start_time": "2022-06-13T19:46:35.026724",
          "status": "completed"
        },
        "tags": [],
        "id": "I8tzIMe5CxoI"
      }
    },
    {
      "cell_type": "code",
      "source": [
        "import missingno as msno\n",
        "plt.figure(figsize=(25, 20))\n",
        "msno.matrix(df, color=[0.2, 0.4, 1])\n",
        "plt.show()"
      ],
      "metadata": {
        "execution": {
          "iopub.execute_input": "2022-07-05T06:55:59.977091Z",
          "iopub.status.busy": "2022-07-05T06:55:59.976837Z",
          "iopub.status.idle": "2022-07-05T06:56:00.567135Z",
          "shell.execute_reply": "2022-07-05T06:56:00.566226Z",
          "shell.execute_reply.started": "2022-07-05T06:55:59.977068Z"
        },
        "papermill": {
          "duration": 0.752707,
          "end_time": "2022-06-13T19:46:35.988035",
          "exception": false,
          "start_time": "2022-06-13T19:46:35.235328",
          "status": "completed"
        },
        "tags": [],
        "id": "xR4xjlvdCxoI",
        "outputId": "19fd916f-8a50-42f2-ae20-233fa9707d7e",
        "colab": {
          "base_uri": "https://localhost:8080/",
          "height": 583
        }
      },
      "execution_count": 9,
      "outputs": [
        {
          "output_type": "display_data",
          "data": {
            "text/plain": [
              "<Figure size 2500x2000 with 0 Axes>"
            ]
          },
          "metadata": {}
        },
        {
          "output_type": "display_data",
          "data": {
            "text/plain": [
              "<Figure size 2500x1000 with 2 Axes>"
            ],
            "image/png": "[encoded data removed]"
          },
          "metadata": {}
        }
      ]
    },
    {
      "cell_type": "markdown",
      "source": [
        "\n",
        "We can handle missing values using lots of techniques like simple statistical methods, using machine learning models and many more but in this case majority of missing values are from ratings column and we will use that column as label column later so I don't want to fake out or ruin the original distribution of the label data specially so thats why I will be dropping the rows having missing values in column ratings. Dropping technique in never recommended but in this senario I am using it.  "
      ],
      "metadata": {
        "papermill": {
          "duration": 0.116567,
          "end_time": "2022-06-13T19:46:36.224664",
          "exception": false,
          "start_time": "2022-06-13T19:46:36.108097",
          "status": "completed"
        },
        "tags": [],
        "id": "jDTd1whKCxoJ"
      }
    },
    {
      "cell_type": "code",
      "source": [
        "# Dropping the rows with missing values\n",
        "\n",
        "df.dropna(inplace=True, axis=0)\n",
        "df.info()\n"
      ],
      "metadata": {
        "execution": {
          "iopub.execute_input": "2022-07-05T06:56:00.569185Z",
          "iopub.status.busy": "2022-07-05T06:56:00.568725Z",
          "iopub.status.idle": "2022-07-05T06:56:00.671926Z",
          "shell.execute_reply": "2022-07-05T06:56:00.670978Z",
          "shell.execute_reply.started": "2022-07-05T06:56:00.569144Z"
        },
        "papermill": {
          "duration": 0.206169,
          "end_time": "2022-06-13T19:46:36.535853",
          "exception": false,
          "start_time": "2022-06-13T19:46:36.329684",
          "status": "completed"
        },
        "tags": [],
        "id": "bkgpttuCCxoJ",
        "outputId": "5f02a698-c3e3-4a95-bb25-99bced0f70a0",
        "colab": {
          "base_uri": "https://localhost:8080/"
        }
      },
      "execution_count": 10,
      "outputs": [
        {
          "output_type": "stream",
          "name": "stdout",
          "text": [
            "<class 'pandas.core.frame.DataFrame'>\n",
            "Index: 48488 entries, 0 to 287\n",
            "Data columns (total 8 columns):\n",
            " #   Column      Non-Null Count  Dtype \n",
            "---  ------      --------------  ----- \n",
            " 0   product_id  48488 non-null  object\n",
            " 1   review_id   48488 non-null  object\n",
            " 2   title       48488 non-null  object\n",
            " 3   review      48488 non-null  object\n",
            " 4   likes       48488 non-null  object\n",
            " 5   dislikes    48488 non-null  object\n",
            " 6   ratings     48488 non-null  object\n",
            " 7   reviewer    48488 non-null  object\n",
            "dtypes: object(8)\n",
            "memory usage: 3.3+ MB\n"
          ]
        }
      ]
    },
    {
      "cell_type": "code",
      "source": [
        "import missingno as msno\n",
        "plt.figure(figsize=(25, 20))\n",
        "msno.matrix(df, color=[0.2, 0.4, 1])\n",
        "plt.show()\n"
      ],
      "metadata": {
        "execution": {
          "iopub.execute_input": "2022-07-05T06:56:00.67404Z",
          "iopub.status.busy": "2022-07-05T06:56:00.673665Z",
          "iopub.status.idle": "2022-07-05T06:56:01.244878Z",
          "shell.execute_reply": "2022-07-05T06:56:01.240586Z",
          "shell.execute_reply.started": "2022-07-05T06:56:00.674003Z"
        },
        "papermill": {
          "duration": 0.647464,
          "end_time": "2022-06-13T19:46:37.305817",
          "exception": false,
          "start_time": "2022-06-13T19:46:36.658353",
          "status": "completed"
        },
        "tags": [],
        "id": "aBiQKkcYCxoK",
        "outputId": "c2158a00-090a-48c9-eda4-a06aed489611",
        "colab": {
          "base_uri": "https://localhost:8080/",
          "height": 584
        }
      },
      "execution_count": 11,
      "outputs": [
        {
          "output_type": "display_data",
          "data": {
            "text/plain": [
              "<Figure size 2500x2000 with 0 Axes>"
            ]
          },
          "metadata": {}
        },
        {
          "output_type": "display_data",
          "data": {
            "text/plain": [
              "<Figure size 2500x1000 with 2 Axes>"
            ],
            "image/png": "[encoded data removed]"
          },
          "metadata": {}
        }
      ]
    },
    {
      "cell_type": "markdown",
      "source": [
        "I Guess We are done with Data Acquisition task lets move to the next phase of the natural language processing **Text-Cleaning**"
      ],
      "metadata": {
        "papermill": {
          "duration": 0.108971,
          "end_time": "2022-06-13T19:46:37.523424",
          "exception": false,
          "start_time": "2022-06-13T19:46:37.414453",
          "status": "completed"
        },
        "tags": [],
        "id": "JILUDHd8CxoK"
      }
    },
    {
      "cell_type": "markdown",
      "source": [
        "<h1  style=\"text-align: center\" class=\"list-group-item list-group-item-action active\">3. Text Cleaning </h1><a id = \"3\" ></a>\n",
        "\n",
        "Text Cleaning is the process of extracting raw text from input data and converting it to the required encoding format by removing all non-textual material like markups and metadata. This is usually determined by the data format of the organisation (e.g., static data from PDF, HTML).\n",
        "\n",
        "Text cleaning is an important step in any NLP effort. And it may consume the majority of your project's time. We will discuss following techniques in upcoming subsections of text cleaning.\n",
        "\n",
        "- HTML Parsing and Cleanup\n",
        "- Unicode Normalization\n",
        "- Spelling Correction"
      ],
      "metadata": {
        "papermill": {
          "duration": 0.10708,
          "end_time": "2022-06-13T19:46:37.738604",
          "exception": false,
          "start_time": "2022-06-13T19:46:37.631524",
          "status": "completed"
        },
        "tags": [],
        "id": "SHCyaPCiCxoK"
      }
    },
    {
      "cell_type": "markdown",
      "source": [
        "<h2  style=\"text-align: center\" class=\"list-group-item list-group-item-success\"> 3.1 Removing URLs </h2><a id = \"3.1\" ></a>\n",
        "\n",
        "URLs in the raw text can cause confusions to a NLP model and also they don't have any contextual meaning so better alternative is to remove these URLs from the raw text."
      ],
      "metadata": {
        "papermill": {
          "duration": 0.109212,
          "end_time": "2022-06-13T19:46:37.955086",
          "exception": false,
          "start_time": "2022-06-13T19:46:37.845874",
          "status": "completed"
        },
        "tags": [],
        "id": "E6UlHSH4CxoL"
      }
    },
    {
      "cell_type": "code",
      "source": [
        "import re\n",
        "\n",
        "\n",
        "def remove_url(text):\n",
        "    text = re.sub(r\"http\\S+\", \"\", text)\n",
        "    return text\n",
        "\n",
        "\n",
        "# Example string with weird font characters plus an URL which we gonna remove.\n",
        "sample = \"ℍ𝕚 𝔼𝕧𝕖𝕣𝕪𝕠𝕟𝕖 𝕀 𝕒𝕞 𝔸𝕟𝕜𝕚𝕥 𝔾𝕦𝕡𝕥𝕒 𝕙𝕒𝕧𝕚𝕟𝕘 𝕥𝕙𝕖 𝕗𝕠𝕝𝕝𝕠𝕨𝕚𝕟𝕘 𝕂𝕒𝕘𝕘𝕝𝕖 𝕡𝕣𝕠𝕗𝕚𝕝𝕖 \\n https://www.kaggle.com/nkitgupta 𝕒𝕟𝕕 𝕀 𝕒𝕞 😊 𝕥𝕠 𝕔𝕣𝕖𝕒𝕥𝕖 𝕥𝕙𝕚𝕤 𝕟𝕠𝕥𝕖𝕓𝕠𝕠𝕜\"\n",
        "print(f\"Text before removing url:- \\n {sample}\")\n",
        "\n",
        "sample = remove_url(sample)\n",
        "print(f\"Text after removing url:- \\n {sample}\")\n"
      ],
      "metadata": {
        "execution": {
          "iopub.execute_input": "2022-07-05T06:56:01.251584Z",
          "iopub.status.busy": "2022-07-05T06:56:01.246234Z",
          "iopub.status.idle": "2022-07-05T06:56:01.273254Z",
          "shell.execute_reply": "2022-07-05T06:56:01.271969Z",
          "shell.execute_reply.started": "2022-07-05T06:56:01.251542Z"
        },
        "papermill": {
          "duration": 0.118975,
          "end_time": "2022-06-13T19:46:38.181847",
          "exception": false,
          "start_time": "2022-06-13T19:46:38.062872",
          "status": "completed"
        },
        "tags": [],
        "id": "FpqIjdfDCxoL",
        "outputId": "25a9afd4-a3ec-46c7-ddbb-180def06ccba",
        "colab": {
          "base_uri": "https://localhost:8080/"
        }
      },
      "execution_count": 12,
      "outputs": [
        {
          "output_type": "stream",
          "name": "stdout",
          "text": [
            "Text before removing url:- \n",
            " ℍ𝕚 𝔼𝕧𝕖𝕣𝕪𝕠𝕟𝕖 𝕀 𝕒𝕞 𝔸𝕟𝕜𝕚𝕥 𝔾𝕦𝕡𝕥𝕒 𝕙𝕒𝕧𝕚𝕟𝕘 𝕥𝕙𝕖 𝕗𝕠𝕝𝕝𝕠𝕨𝕚𝕟𝕘 𝕂𝕒𝕘𝕘𝕝𝕖 𝕡𝕣𝕠𝕗𝕚𝕝𝕖 \n",
            " https://www.kaggle.com/nkitgupta 𝕒𝕟𝕕 𝕀 𝕒𝕞 😊 𝕥𝕠 𝕔𝕣𝕖𝕒𝕥𝕖 𝕥𝕙𝕚𝕤 𝕟𝕠𝕥𝕖𝕓𝕠𝕠𝕜\n",
            "Text after removing url:- \n",
            " ℍ𝕚 𝔼𝕧𝕖𝕣𝕪𝕠𝕟𝕖 𝕀 𝕒𝕞 𝔸𝕟𝕜𝕚𝕥 𝔾𝕦𝕡𝕥𝕒 𝕙𝕒𝕧𝕚𝕟𝕘 𝕥𝕙𝕖 𝕗𝕠𝕝𝕝𝕠𝕨𝕚𝕟𝕘 𝕂𝕒𝕘𝕘𝕝𝕖 𝕡𝕣𝕠𝕗𝕚𝕝𝕖 \n",
            "  𝕒𝕟𝕕 𝕀 𝕒𝕞 😊 𝕥𝕠 𝕔𝕣𝕖𝕒𝕥𝕖 𝕥𝕙𝕚𝕤 𝕟𝕠𝕥𝕖𝕓𝕠𝕠𝕜\n"
          ]
        }
      ]
    },
    {
      "cell_type": "markdown",
      "source": [
        "<h2  style=\"text-align: center\" class=\"list-group-item list-group-item-success\"> 3.2 Unicode Normalization </h2><a id = \"3.2\" ></a>\n",
        "\n",
        "Before we go into what is Unicode Normalization lets first discuss why do we need unicode normalization. Consider the following example with some weird font:-\n",
        "\n",
        "String 1 : ℍ𝕚 𝔼𝕧𝕖𝕣𝕪𝕠𝕟𝕖 𝕀 𝕒𝕞 𝔸𝕟𝕜𝕚𝕥 𝔾𝕦𝕡𝕥𝕒 𝕙𝕒𝕧𝕚𝕟𝕘 𝕥𝕙𝕖 𝕗𝕠𝕝𝕝𝕠𝕨𝕚𝕟𝕘 𝕂𝕒𝕘𝕘𝕝𝕖 𝕡𝕣𝕠𝕗𝕚𝕝𝕖 𝕒𝕟𝕕 𝕀 𝕒𝕞 😊 𝕥𝕠 𝕔𝕣𝕖𝕒𝕥𝕖 𝕥𝕙𝕚𝕤 𝕟𝕠𝕥𝕖𝕓𝕠𝕠𝕜\n",
        "\n",
        "String 2 : Hi everyone I am Ankit Gupta Having the following Kaggle profile and I am 😊 to create this notebook.\n",
        "\n",
        "Above string 1 is written in some weird font and it also have an emoji so these kind of things can easily confuse a NLP model because model will treat both string 1 and string 2 differently although they represent same semantic meaning. To overcome this problem we do **unicode normalization**.\n",
        "\n",
        "We need to handle these kinds of characters because many people on their social media posts use these kind of fonts. And primary source of data used in any NLP task is social media.\n",
        "\n",
        "Now we are good to discuss how we do **unicode normalization**."
      ],
      "metadata": {
        "papermill": {
          "duration": 0.107986,
          "end_time": "2022-06-13T19:46:38.399364",
          "exception": false,
          "start_time": "2022-06-13T19:46:38.291378",
          "status": "completed"
        },
        "tags": [],
        "id": "9CJ7BBGxCxoL"
      }
    },
    {
      "cell_type": "code",
      "source": [],
      "metadata": {
        "papermill": {
          "duration": 0.112078,
          "end_time": "2022-06-13T19:46:38.619055",
          "exception": false,
          "start_time": "2022-06-13T19:46:38.506977",
          "status": "completed"
        },
        "tags": [],
        "id": "KiiROALPCxoM"
      },
      "execution_count": 12,
      "outputs": []
    },
    {
      "cell_type": "markdown",
      "source": [
        "<h3  style=\"text-align: center\" class=\"list-group-item list-group-item-warning\"> 3.2.1 The Issue of Equivalence</h3><a id = \"3.2.1\" ></a>\n",
        "\n",
        "When two or more characters have same semantic meaning but their representations are not same then we call it the **issue of Equivalence**. It is of 2 types compatibility equivalence, and canonical equivalence.\n",
        "\n",
        "**(a) Compatibility Equivalence**\n",
        "\n",
        "We identify compatible equivalence among a wide range of characters, some of which are abstract and others of which we see frequently.\n",
        "\n",
        "\n",
        "| | | Equivalence Reason |\n",
        "| --- | --- | --- |\n",
        "| ℌ | H | Font variant |\n",
        "| \\[NBSP\\] | \\[SPACE\\] | Both are linebreak sequences |\n",
        "| ① | 1 | Circled variant |\n",
        "| x² | x2 | Superscript |\n",
        "| xⱼ | xj | Subscript |\n",
        "| ½ | 1/2 | Fractions |\n",
        "\n",
        "In Above table words are having different characters representations but same semantic meaning. Our Objective is that model treats both \"𝕀 𝕒𝕞 😊 𝕥𝕠 𝕔𝕣𝕖𝕒𝕥𝕖 𝕥𝕙𝕚𝕤 𝕟𝕠𝕥𝕖𝕓𝕠𝕠𝕜\", \"I am happy to create this notebook\" the strings in the same way."
      ],
      "metadata": {
        "papermill": {
          "duration": 0.108438,
          "end_time": "2022-06-13T19:46:38.836226",
          "exception": false,
          "start_time": "2022-06-13T19:46:38.727788",
          "status": "completed"
        },
        "tags": [],
        "id": "aP5KtKCKCxoM"
      }
    },
    {
      "cell_type": "markdown",
      "source": [
        "Consider this Example"
      ],
      "metadata": {
        "papermill": {
          "duration": 0.108547,
          "end_time": "2022-06-13T19:46:39.05363",
          "exception": false,
          "start_time": "2022-06-13T19:46:38.945083",
          "status": "completed"
        },
        "tags": [],
        "id": "D_e9JGH4CxoM"
      }
    },
    {
      "cell_type": "code",
      "source": [
        "print(\"\\u00C7\", \"\\u0043\\u0327\")\n"
      ],
      "metadata": {
        "execution": {
          "iopub.execute_input": "2022-07-05T06:56:01.278348Z",
          "iopub.status.busy": "2022-07-05T06:56:01.277377Z",
          "iopub.status.idle": "2022-07-05T06:56:01.287538Z",
          "shell.execute_reply": "2022-07-05T06:56:01.286476Z",
          "shell.execute_reply.started": "2022-07-05T06:56:01.278291Z"
        },
        "papermill": {
          "duration": 0.116616,
          "end_time": "2022-06-13T19:46:39.278064",
          "exception": false,
          "start_time": "2022-06-13T19:46:39.161448",
          "status": "completed"
        },
        "tags": [],
        "id": "FT7ykkwBCxoM",
        "outputId": "cdcbaccd-b51f-450d-fa71-de8938a20f9b",
        "colab": {
          "base_uri": "https://localhost:8080/"
        }
      },
      "execution_count": 13,
      "outputs": [
        {
          "output_type": "stream",
          "name": "stdout",
          "text": [
            "Ç Ç\n"
          ]
        }
      ]
    },
    {
      "cell_type": "code",
      "source": [
        "\"\\u00C7\" == \"\\u0043\\u0327\"\n"
      ],
      "metadata": {
        "execution": {
          "iopub.execute_input": "2022-07-05T06:56:01.290225Z",
          "iopub.status.busy": "2022-07-05T06:56:01.289077Z",
          "iopub.status.idle": "2022-07-05T06:56:01.299469Z",
          "shell.execute_reply": "2022-07-05T06:56:01.298411Z",
          "shell.execute_reply.started": "2022-07-05T06:56:01.290185Z"
        },
        "papermill": {
          "duration": 0.124081,
          "end_time": "2022-06-13T19:46:39.523784",
          "exception": false,
          "start_time": "2022-06-13T19:46:39.399703",
          "status": "completed"
        },
        "tags": [],
        "id": "jJHA3Pt3CxoN",
        "outputId": "810127b9-25da-4090-cbd7-d86a203de893",
        "colab": {
          "base_uri": "https://localhost:8080/"
        }
      },
      "execution_count": 14,
      "outputs": [
        {
          "output_type": "execute_result",
          "data": {
            "text/plain": [
              "False"
            ]
          },
          "metadata": {},
          "execution_count": 14
        }
      ]
    },
    {
      "cell_type": "code",
      "source": [
        "\"Ç\" == \"Ç\"\n"
      ],
      "metadata": {
        "execution": {
          "iopub.execute_input": "2022-07-05T06:56:01.306029Z",
          "iopub.status.busy": "2022-07-05T06:56:01.304987Z",
          "iopub.status.idle": "2022-07-05T06:56:01.314652Z",
          "shell.execute_reply": "2022-07-05T06:56:01.313407Z",
          "shell.execute_reply.started": "2022-07-05T06:56:01.305991Z"
        },
        "papermill": {
          "duration": 0.200055,
          "end_time": "2022-06-13T19:46:39.910221",
          "exception": false,
          "start_time": "2022-06-13T19:46:39.710166",
          "status": "completed"
        },
        "tags": [],
        "id": "oJPynIj5CxoN",
        "outputId": "d8eb7089-d96e-4155-caf5-1203d6930846",
        "colab": {
          "base_uri": "https://localhost:8080/"
        }
      },
      "execution_count": 15,
      "outputs": [
        {
          "output_type": "execute_result",
          "data": {
            "text/plain": [
              "False"
            ]
          },
          "metadata": {},
          "execution_count": 15
        }
      ]
    },
    {
      "cell_type": "markdown",
      "source": [
        "**(b) Canonical Equivalence**\n",
        "\n",
        "Canonical equivalency is more difficult to discover since it involves characters which appear to be identical when rendered but are actually wholly separate characters.\n",
        "\n",
        "| | | Equivalence Reason |\n",
        "| --- | --- | --- |\n",
        "| Ç | C◌̧ | Combined character sequences |\n",
        "| 가 | ᄀ ᅡ | Conjoined Korean characters |\n",
        "\n"
      ],
      "metadata": {
        "papermill": {
          "duration": 0.132824,
          "end_time": "2022-06-13T19:46:40.223235",
          "exception": false,
          "start_time": "2022-06-13T19:46:40.090411",
          "status": "completed"
        },
        "tags": [],
        "id": "gYmQ2Aj-CxoN"
      }
    },
    {
      "cell_type": "markdown",
      "source": [
        "Our approach to canonical and compatibility equivalence difficulties is Unicode normalisation. There are two sorts of conversions and two directions for normalizing. Canonical and compatibility are the two sorts we've already discussed. Decomposition and composition will be what we gonna do.\n",
        "\n",
        "**Decomposition** :- In Decomposition we Decompose the character into many forms. So in the case of our Ç with cedilla we would break both versions of the character down into the two separate characters (Latin capital C + combining cedilla).\n",
        "\n",
        "**Composition** :- In Composition we merge them into one. In the case of our Ç with cedilla we would merge both versions of the characters up into the one separate characters (Latin capital C + combining cedilla).\n",
        "\n",
        "We get four possible normalisation forms when we combine these two directions with our two conversion types:\n",
        "\n",
        "| Name | Abbreviation | Description | Example |\n",
        "| --- | --- | --- | --- |\n",
        "| Form D | NFD | *Canonical* decomposition | `Ç` → `C ̧` |\n",
        "| Form C | NFC | *Canoncial* decomposition followed by *canonical* composition | `Ç` → `C ̧` → `Ç` |\n",
        "| Form KD | NFKD | *Compatibility* decomposition | `ℌ ̧` → `H ̧` |\n",
        "| Form KC | NFKC | *Compatibility* decomposition followed by *canonical* composition | `ℌ ̧` → `H ̧` → `Ḩ` |\n",
        "\n",
        "In this notebook I Will be using NFKD approach this is the one we use more frequently in NLP.\n",
        "\n",
        "For the more detailed understanding of the above mentioned composition decomposition approach read this beautiful blog post about\n",
        "\n",
        "[What on Earth is Unicode Normalization?](https://towardsdatascience.com/what-on-earth-is-unicode-normalization-56c005c55ad0) By James Briggs on Towards Data Science."
      ],
      "metadata": {
        "papermill": {
          "duration": 0.109659,
          "end_time": "2022-06-13T19:46:40.443162",
          "exception": false,
          "start_time": "2022-06-13T19:46:40.333503",
          "status": "completed"
        },
        "tags": [],
        "id": "rry6CvOjCxoO"
      }
    },
    {
      "cell_type": "code",
      "source": [
        "import unicodedata as uni\n",
        "\n",
        "print(f\"Text before Unicode Normalization:- \\n {sample}\")\n",
        "\n",
        "sample = uni.normalize('NFKD', sample)\n",
        "print(f\"Text after Unicode Normalization:- \\n {sample}\")\n"
      ],
      "metadata": {
        "execution": {
          "iopub.execute_input": "2022-07-05T06:56:01.316842Z",
          "iopub.status.busy": "2022-07-05T06:56:01.316057Z",
          "iopub.status.idle": "2022-07-05T06:56:01.325053Z",
          "shell.execute_reply": "2022-07-05T06:56:01.323576Z",
          "shell.execute_reply.started": "2022-07-05T06:56:01.316768Z"
        },
        "papermill": {
          "duration": 0.120339,
          "end_time": "2022-06-13T19:46:40.672263",
          "exception": false,
          "start_time": "2022-06-13T19:46:40.551924",
          "status": "completed"
        },
        "tags": [],
        "id": "dCLvDSUDCxoO",
        "outputId": "91a42bfe-6426-4b40-902e-2f8fc373fd2d",
        "colab": {
          "base_uri": "https://localhost:8080/"
        }
      },
      "execution_count": 16,
      "outputs": [
        {
          "output_type": "stream",
          "name": "stdout",
          "text": [
            "Text before Unicode Normalization:- \n",
            " ℍ𝕚 𝔼𝕧𝕖𝕣𝕪𝕠𝕟𝕖 𝕀 𝕒𝕞 𝔸𝕟𝕜𝕚𝕥 𝔾𝕦𝕡𝕥𝕒 𝕙𝕒𝕧𝕚𝕟𝕘 𝕥𝕙𝕖 𝕗𝕠𝕝𝕝𝕠𝕨𝕚𝕟𝕘 𝕂𝕒𝕘𝕘𝕝𝕖 𝕡𝕣𝕠𝕗𝕚𝕝𝕖 \n",
            "  𝕒𝕟𝕕 𝕀 𝕒𝕞 😊 𝕥𝕠 𝕔𝕣𝕖𝕒𝕥𝕖 𝕥𝕙𝕚𝕤 𝕟𝕠𝕥𝕖𝕓𝕠𝕠𝕜\n",
            "Text after Unicode Normalization:- \n",
            " Hi Everyone I am Ankit Gupta having the following Kaggle profile \n",
            "  and I am 😊 to create this notebook\n"
          ]
        }
      ]
    },
    {
      "cell_type": "markdown",
      "source": [
        "We successfully removed compatibility equivalence from the above example 🥳🥳. Our Next Task is to handle these emojis."
      ],
      "metadata": {
        "papermill": {
          "duration": 0.112531,
          "end_time": "2022-06-13T19:46:40.894937",
          "exception": false,
          "start_time": "2022-06-13T19:46:40.782406",
          "status": "completed"
        },
        "tags": [],
        "id": "kP7HYLAGCxoO"
      }
    },
    {
      "cell_type": "markdown",
      "source": [
        "<h3  style=\"text-align: center\" class=\"list-group-item list-group-item-warning\"> 3.2.2 Handling Emoji ‘😍😍’ & Emoticon ‘ :) ’</h3><a id = \"3.2.2\" ></a>\n",
        "\n",
        "We need to handle emojis because they store lots of important information about the sentiment of the text we dont't want to lose this information by just removing them from the text. There are lots of ways to handle them in this notebook I am replacing them with their English version using python library \"demoji\".\n",
        "\n",
        "**What is an Emoji 🤔?**\n",
        "\n",
        "Emojis are small digital images or icons that are used to convey a message or emotion. These are small enough to be inserted into a text document. \"e\" stands for image, while \"moji\" stands for character in Japanese.\n",
        "\n",
        "Consider the example of Emoji Handling\n",
        "\n",
        "\n",
        "I ❤ 🍔 so much\n",
        "\n",
        "English version of above comment is\n",
        "\n",
        "I love burger so much\n",
        "\n",
        "**What is an Emoticon ‘ :-) ’?**\n",
        "\n",
        "An emoticon is a combination of the words \"emotion\" and \"icon.\" It is a keyboard depiction of a facial expression, such as a smile or frown, that is used to indicate the writer's feelings or intended tone.\n",
        "\n",
        "Examples-\n",
        ":-)   Smile\n",
        "\n",
        ";-)   Smile with a wink\n"
      ],
      "metadata": {
        "papermill": {
          "duration": 0.109939,
          "end_time": "2022-06-13T19:46:41.114623",
          "exception": false,
          "start_time": "2022-06-13T19:46:41.004684",
          "status": "completed"
        },
        "tags": [],
        "id": "39Cw15elCxoP"
      }
    },
    {
      "cell_type": "code",
      "source": [
        "!pip install demoji"
      ],
      "metadata": {
        "execution": {
          "iopub.execute_input": "2022-07-05T06:56:01.32714Z",
          "iopub.status.busy": "2022-07-05T06:56:01.326734Z",
          "iopub.status.idle": "2022-07-05T06:56:10.754113Z",
          "shell.execute_reply": "2022-07-05T06:56:10.752664Z",
          "shell.execute_reply.started": "2022-07-05T06:56:01.327101Z"
        },
        "papermill": {
          "duration": 11.741027,
          "end_time": "2022-06-13T19:46:52.970249",
          "exception": false,
          "start_time": "2022-06-13T19:46:41.229222",
          "status": "completed"
        },
        "scrolled": true,
        "tags": [],
        "id": "JCpi5OsVCxoU",
        "outputId": "c97b4d67-4cbb-43ce-e05c-a9bddde3c72f",
        "colab": {
          "base_uri": "https://localhost:8080/"
        }
      },
      "execution_count": 17,
      "outputs": [
        {
          "output_type": "stream",
          "name": "stdout",
          "text": [
            "Collecting demoji\n",
            "  Downloading demoji-1.1.0-py3-none-any.whl (42 kB)\n",
            "\u001b[2K     \u001b[90m━━━━━━━━━━━━━━━━━━━━━━━━━━━━━━━━━━━━━━━━\u001b[0m \u001b[32m42.9/42.9 kB\u001b[0m \u001b[31m842.7 kB/s\u001b[0m eta \u001b[36m0:00:00\u001b[0m\n",
            "\u001b[?25hInstalling collected packages: demoji\n",
            "Successfully installed demoji-1.1.0\n"
          ]
        }
      ]
    },
    {
      "cell_type": "code",
      "source": [
        "import demoji\n",
        "\n",
        "\n",
        "def handle_emoji(string):\n",
        "    emojis = demoji.findall(string)\n",
        "\n",
        "    for emoji in emojis:\n",
        "        string = string.replace(emoji, \" \" + emojis[emoji].split(\":\")[0])\n",
        "\n",
        "    return string\n",
        "\n",
        "\n",
        "print(f\"Before Handling emoji:- \\n {sample}\")\n",
        "print(f\"After Handling emoji:- \\n {handle_emoji(sample)}\")\n"
      ],
      "metadata": {
        "execution": {
          "iopub.execute_input": "2022-07-05T06:56:10.758194Z",
          "iopub.status.busy": "2022-07-05T06:56:10.757835Z",
          "iopub.status.idle": "2022-07-05T06:56:10.766433Z",
          "shell.execute_reply": "2022-07-05T06:56:10.765465Z",
          "shell.execute_reply.started": "2022-07-05T06:56:10.758161Z"
        },
        "papermill": {
          "duration": 0.236295,
          "end_time": "2022-06-13T19:46:53.334754",
          "exception": false,
          "start_time": "2022-06-13T19:46:53.098459",
          "status": "completed"
        },
        "tags": [],
        "id": "SQGjr5j4CxoV",
        "outputId": "2c230ed1-167d-4865-c8da-32e13e4c4c42",
        "colab": {
          "base_uri": "https://localhost:8080/"
        }
      },
      "execution_count": 18,
      "outputs": [
        {
          "output_type": "stream",
          "name": "stdout",
          "text": [
            "Before Handling emoji:- \n",
            " Hi Everyone I am Ankit Gupta having the following Kaggle profile \n",
            "  and I am 😊 to create this notebook\n",
            "After Handling emoji:- \n",
            " Hi Everyone I am Ankit Gupta having the following Kaggle profile \n",
            "  and I am  smiling face with smiling eyes to create this notebook\n"
          ]
        }
      ]
    },
    {
      "cell_type": "markdown",
      "source": [
        "For the more detailed understanding of the above mentioned emoji handling approach read this beautiful blog post about\n",
        "\n",
        "[How to handle Emoji ‘😄’ & Emoticon ‘ :-) ’ in text preprocessing?](https://medium.com/geekculture/text-preprocessing-how-to-handle-emoji-emoticon-641bbfa6e9e7) By Paritosh Mahto.\n"
      ],
      "metadata": {
        "papermill": {
          "duration": 0.126698,
          "end_time": "2022-06-13T19:46:53.587869",
          "exception": false,
          "start_time": "2022-06-13T19:46:53.461171",
          "status": "completed"
        },
        "tags": [],
        "id": "ywhCUzb6CxoV"
      }
    },
    {
      "cell_type": "markdown",
      "source": [
        "<h2  style=\"text-align: center\" class=\"list-group-item list-group-item-success\"> 3.3 Spelling Correction </h2><a id = \"3.3\" ></a>\n",
        "\n",
        "Due to fast typing or fat finger typing many people experience spelling mistakes. For a NLP model understanding of the context is very important is spelling got wrong then whole context of the text may get wrong. We will do spelling correction using pyspellchecker a python library."
      ],
      "metadata": {
        "papermill": {
          "duration": 0.126063,
          "end_time": "2022-06-13T19:46:53.839563",
          "exception": false,
          "start_time": "2022-06-13T19:46:53.7135",
          "status": "completed"
        },
        "tags": [],
        "id": "c6BmlTMrCxoW"
      }
    },
    {
      "cell_type": "code",
      "source": [
        "# from spellchecker import SpellChecker\n",
        "\n",
        "# spell = SpellChecker()\n",
        "\n",
        "# # Add misspelled words to the list\n",
        "# misspelled_words = [\"nsme\", \"mobiile\", \"phoone\"]\n",
        "# print(f\" Misspelled words before correction:- \\n {misspelled_words}\")\n",
        "# print(f\" Misspelled words after correction\")\n",
        "# for word in misspelled_words:\n",
        "#     # Get the one `most likely` answer\n",
        "#     print(spell.correction(word))\n"
      ],
      "metadata": {
        "execution": {
          "iopub.execute_input": "2022-07-05T06:56:10.768474Z",
          "iopub.status.busy": "2022-07-05T06:56:10.768094Z",
          "iopub.status.idle": "2022-07-05T06:56:10.775823Z",
          "shell.execute_reply": "2022-07-05T06:56:10.774856Z",
          "shell.execute_reply.started": "2022-07-05T06:56:10.768406Z"
        },
        "papermill": {
          "duration": 0.133091,
          "end_time": "2022-06-13T19:46:54.098919",
          "exception": false,
          "start_time": "2022-06-13T19:46:53.965828",
          "status": "completed"
        },
        "tags": [],
        "id": "0EG2S6qNCxoW"
      },
      "execution_count": 19,
      "outputs": []
    },
    {
      "cell_type": "code",
      "source": [
        "# spell.correction(\"nsme\")"
      ],
      "metadata": {
        "execution": {
          "iopub.execute_input": "2022-07-05T06:56:10.77868Z",
          "iopub.status.busy": "2022-07-05T06:56:10.777874Z",
          "iopub.status.idle": "2022-07-05T06:56:10.789901Z",
          "shell.execute_reply": "2022-07-05T06:56:10.788309Z",
          "shell.execute_reply.started": "2022-07-05T06:56:10.778639Z"
        },
        "papermill": {
          "duration": 0.13262,
          "end_time": "2022-06-13T19:46:54.35788",
          "exception": false,
          "start_time": "2022-06-13T19:46:54.22526",
          "status": "completed"
        },
        "tags": [],
        "id": "6Od3l6S3CxoX"
      },
      "execution_count": 20,
      "outputs": []
    },
    {
      "cell_type": "code",
      "source": [],
      "metadata": {
        "papermill": {
          "duration": 0.126043,
          "end_time": "2022-06-13T19:46:54.608986",
          "exception": false,
          "start_time": "2022-06-13T19:46:54.482943",
          "status": "completed"
        },
        "tags": [],
        "id": "R6I0MxUeCxoX"
      },
      "execution_count": 20,
      "outputs": []
    },
    {
      "cell_type": "markdown",
      "source": [
        "For the more detailed understanding of the above mentioned Spelling Correction approach read this beautiful blog post about\n",
        "\n",
        "[Spelling checker in Python](https://www.geeksforgeeks.org/spelling-checker-in-python/)\n"
      ],
      "metadata": {
        "papermill": {
          "duration": 0.127907,
          "end_time": "2022-06-13T19:46:54.86312",
          "exception": false,
          "start_time": "2022-06-13T19:46:54.735213",
          "status": "completed"
        },
        "tags": [],
        "id": "uF6rGtNyCxoX"
      }
    },
    {
      "cell_type": "markdown",
      "source": [
        "<h1  style=\"text-align: center\" class=\"list-group-item list-group-item-action active\">4. Text Pre-Processing </h1><a id = \"4\" ></a>\n",
        "\n",
        "In the previous section we covered the text extraction and cleaning phase of a NLP project. Question may arise if we did the cleaning and extraction task then why do we need text-preprocessing phase. Answer is pretty simple any NLP project consist of modelling phase in which we train the model so that we can use it for real world data. And model needs numerical data but our data is textual so that's why we have to do various text preprocessing task.\n",
        "\n",
        "Below I mentioned few pre-processing tasks:-\n",
        "\n",
        "- **Preliminaries**\n",
        "    - Sentence segmentation and word tokenization.\n",
        "- **Frequent steps**\n",
        "    - Stop word removal, stemming and lemmatization, removing digits/punctuation, lowercasing, etc.\n",
        "- **Other steps**\n",
        "    - Normalization, language detection, code mixing, transliteration, etc.\n",
        "- **Advanced processing**\n",
        "    - POS tagging, parsing, coreference resolution, etc.\n",
        "\n",
        "above mentioned task vary according to the task or model we wil use."
      ],
      "metadata": {
        "papermill": {
          "duration": 0.124964,
          "end_time": "2022-06-13T19:46:55.11444",
          "exception": false,
          "start_time": "2022-06-13T19:46:54.989476",
          "status": "completed"
        },
        "tags": [],
        "id": "DD_LczA5CxoY"
      }
    },
    {
      "cell_type": "markdown",
      "source": [
        "<h2  style=\"text-align: center\" class=\"list-group-item list-group-item-success\"> 4.1 Preliminaries </h2><a id = \"4.1\" ></a>\n",
        "\n",
        "Any NLP based task can be done by breaking the text into words(tokens) and sentences. So now we have to focus on breaking the text into sentences first (**Sentence Tokenization**) and then into words (**Word Tokenization**).\n",
        "\n",
        "But in our case we are not dealing with task with such a big textual data that need to be first break into sentences, in our case we already have the sentences so we just have to proceed with the word tokenization."
      ],
      "metadata": {
        "papermill": {
          "duration": 0.125603,
          "end_time": "2022-06-13T19:46:55.366129",
          "exception": false,
          "start_time": "2022-06-13T19:46:55.240526",
          "status": "completed"
        },
        "tags": [],
        "id": "r7AXXHQWCxoY"
      }
    },
    {
      "cell_type": "code",
      "source": [
        "def word_tokenizer(text):\n",
        "    text = text.lower()\n",
        "    text = text.split()\n",
        "\n",
        "    return text\n",
        "\n",
        "\n",
        "sample = \"Hi Everyone I am Ankit Gupta.\"\n",
        "print(sample)\n",
        "print(word_tokenizer(sample))\n"
      ],
      "metadata": {
        "execution": {
          "iopub.execute_input": "2022-07-05T06:56:10.791689Z",
          "iopub.status.busy": "2022-07-05T06:56:10.791264Z",
          "iopub.status.idle": "2022-07-05T06:56:10.80112Z",
          "shell.execute_reply": "2022-07-05T06:56:10.800257Z",
          "shell.execute_reply.started": "2022-07-05T06:56:10.791652Z"
        },
        "papermill": {
          "duration": 0.12204,
          "end_time": "2022-06-13T19:46:55.611987",
          "exception": false,
          "start_time": "2022-06-13T19:46:55.489947",
          "status": "completed"
        },
        "tags": [],
        "id": "ysQEW7OMCxoY",
        "outputId": "62b09fd8-2890-4b9e-98fa-11d8495b929c",
        "colab": {
          "base_uri": "https://localhost:8080/"
        }
      },
      "execution_count": 21,
      "outputs": [
        {
          "output_type": "stream",
          "name": "stdout",
          "text": [
            "Hi Everyone I am Ankit Gupta.\n",
            "['hi', 'everyone', 'i', 'am', 'ankit', 'gupta.']\n"
          ]
        }
      ]
    },
    {
      "cell_type": "code",
      "source": [],
      "metadata": {
        "id": "eyEJv6o5DrW-"
      },
      "execution_count": null,
      "outputs": []
    },
    {
      "cell_type": "code",
      "source": [
        "!pip install nltk"
      ],
      "metadata": {
        "id": "nelw4sKHDRYz",
        "outputId": "4f37ba7a-9664-4c25-d888-4833429c209b",
        "colab": {
          "base_uri": "https://localhost:8080/"
        }
      },
      "execution_count": 24,
      "outputs": [
        {
          "output_type": "stream",
          "name": "stdout",
          "text": [
            "Requirement already satisfied: nltk in /usr/local/lib/python3.10/dist-packages (3.8.1)\n",
            "Requirement already satisfied: click in /usr/local/lib/python3.10/dist-packages (from nltk) (8.1.7)\n",
            "Requirement already satisfied: joblib in /usr/local/lib/python3.10/dist-packages (from nltk) (1.4.0)\n",
            "Requirement already satisfied: regex>=2021.8.3 in /usr/local/lib/python3.10/dist-packages (from nltk) (2023.12.25)\n",
            "Requirement already satisfied: tqdm in /usr/local/lib/python3.10/dist-packages (from nltk) (4.66.2)\n"
          ]
        }
      ]
    },
    {
      "cell_type": "code",
      "source": [
        "import nltk\n",
        "nltk.download('stopwords')"
      ],
      "metadata": {
        "id": "He1gfXhCDsTh",
        "outputId": "52845ab7-b13b-4664-9af3-8538ce5b7bde",
        "colab": {
          "base_uri": "https://localhost:8080/"
        }
      },
      "execution_count": 27,
      "outputs": [
        {
          "output_type": "stream",
          "name": "stderr",
          "text": [
            "[nltk_data] Downloading package stopwords to /root/nltk_data...\n",
            "[nltk_data]   Package stopwords is already up-to-date!\n"
          ]
        },
        {
          "output_type": "execute_result",
          "data": {
            "text/plain": [
              "True"
            ]
          },
          "metadata": {},
          "execution_count": 27
        }
      ]
    },
    {
      "cell_type": "markdown",
      "source": [
        "For identifying specific patterns (e.g., dates or money expressions), well-formed regular expressions are the first step. In many practical scenarios, we may end up using a custom tokenizer or sentence segmenter that suits our text structure instead of or on top of an existing one available in a standard NLP library."
      ],
      "metadata": {
        "papermill": {
          "duration": 0.113312,
          "end_time": "2022-06-13T19:46:55.840493",
          "exception": false,
          "start_time": "2022-06-13T19:46:55.727181",
          "status": "completed"
        },
        "tags": [],
        "id": "XJc57SZKCxoZ"
      }
    },
    {
      "cell_type": "markdown",
      "source": [
        "<h2  style=\"text-align: center\" class=\"list-group-item list-group-item-success\"> 4.2 Frequent Steps </h2><a id = \"4.2\" ></a>\n",
        "\n",
        "Let's have a look at some more common NLP pipeline pre-processing activities. Assume we're developing software that classifies news articles into one of four categories: politics, sports, business, or other. Assume we've got a decent sentence segmenter and tokenizer in place. At that point, we'd have to consider what kind of data might be valuable in constructing a categorization tool. Some commonly used English terms, such as a, an, the, of, in, and so on, aren't especially beneficial for this purpose because they don't carry enough substance to distinguish between the four categories on their own. **Stop words** are words that are typically (but not always) eliminated from further processing in problem scenarios like this."
      ],
      "metadata": {
        "papermill": {
          "duration": 0.112656,
          "end_time": "2022-06-13T19:46:56.06553",
          "exception": false,
          "start_time": "2022-06-13T19:46:55.952874",
          "status": "completed"
        },
        "tags": [],
        "id": "h2vbUoV0CxoZ"
      }
    },
    {
      "cell_type": "markdown",
      "source": [
        "<h3  style=\"text-align: center\" class=\"list-group-item list-group-item-warning\"> 4.2.1 Removing Stop Words </h3><a id = \"4.2.1\" ></a>"
      ],
      "metadata": {
        "papermill": {
          "duration": 0.114519,
          "end_time": "2022-06-13T19:46:56.292343",
          "exception": false,
          "start_time": "2022-06-13T19:46:56.177824",
          "status": "completed"
        },
        "tags": [],
        "id": "PyYT7XjKCxoa"
      }
    },
    {
      "cell_type": "code",
      "source": [
        "from nltk.corpus import stopwords\n",
        "\n",
        "en_stopwords = set(stopwords.words('english'))\n",
        "print(f\"Stop Words in English : \\n{ en_stopwords}\")\n"
      ],
      "metadata": {
        "execution": {
          "iopub.execute_input": "2022-07-05T06:56:10.803499Z",
          "iopub.status.busy": "2022-07-05T06:56:10.802719Z",
          "iopub.status.idle": "2022-07-05T06:56:10.81627Z",
          "shell.execute_reply": "2022-07-05T06:56:10.815082Z",
          "shell.execute_reply.started": "2022-07-05T06:56:10.803433Z"
        },
        "papermill": {
          "duration": 0.126931,
          "end_time": "2022-06-13T19:46:56.532919",
          "exception": false,
          "start_time": "2022-06-13T19:46:56.405988",
          "status": "completed"
        },
        "tags": [],
        "id": "rKrSm-yjCxoa",
        "outputId": "0d43b5e2-1552-4a32-800f-d5bcac3ef121",
        "colab": {
          "base_uri": "https://localhost:8080/"
        }
      },
      "execution_count": 28,
      "outputs": [
        {
          "output_type": "stream",
          "name": "stdout",
          "text": [
            "Stop Words in English : \n",
            "{'off', 'again', 'but', 'a', 'to', 'only', 'wouldn', \"hasn't\", 's', 'they', 'doing', 'your', 'an', 'himself', 'we', 'down', 'couldn', \"should've\", 'between', 'if', 'below', \"needn't\", 'after', \"wasn't\", \"won't\", 'her', 'isn', 're', \"hadn't\", 'this', 'whom', 'through', 'itself', 'he', 'own', 'most', 'there', 'myself', 'of', 'their', 'now', 'its', 'them', 'above', \"she's\", \"shan't\", 'yourself', 'him', 'under', 'who', 'in', 'when', 'so', 'ain', 'am', 'mustn', 'few', 'shan', 'herself', \"that'll\", 'as', 'all', 'those', 'any', 'these', 'she', \"wouldn't\", \"weren't\", 'very', 'further', 'hasn', 'out', 'by', \"don't\", 'll', 'being', 'was', 'doesn', 'ours', 'have', 'because', 'haven', 'than', 'before', 'aren', 'has', 'you', 'which', 'that', 'up', 'yours', 'didn', 'at', 'into', \"mightn't\", 'no', 'yourselves', 'don', 'my', 'over', 'me', 'had', 'or', 'while', 'against', 'on', 've', 'can', 'do', 'shouldn', \"shouldn't\", 'm', 'about', 'were', \"it's\", 'the', 'some', 'having', 'should', 'until', 'just', 'and', 'will', 'here', 'how', 'each', \"you've\", 'wasn', 'our', 'why', 'such', 'y', \"you'd\", 'more', 'for', 'it', \"isn't\", 'are', 'theirs', \"didn't\", 'same', 'ma', 'both', \"mustn't\", 'his', 'weren', 'won', 'what', 'during', 'too', 'hadn', \"couldn't\", 'd', 'o', 'needn', 'where', 'other', 'mightn', 'did', 't', \"haven't\", 'is', 'be', 'hers', 'from', 'then', 'not', \"aren't\", 'ourselves', \"doesn't\", 'i', \"you're\", 'themselves', 'once', 'with', 'does', \"you'll\", 'been', 'nor'}\n"
          ]
        }
      ]
    },
    {
      "cell_type": "code",
      "source": [
        "def remove_stopwords(text):\n",
        "    text = [word for word in text if word not in en_stopwords]\n",
        "    return text\n",
        "\n",
        "\n",
        "print(f\"Before removing stopwords : {word_tokenizer(sample)}\")\n",
        "print(f\"After removing stopwords : {remove_stopwords(word_tokenizer(sample))}\")\n"
      ],
      "metadata": {
        "execution": {
          "iopub.execute_input": "2022-07-05T06:56:10.81907Z",
          "iopub.status.busy": "2022-07-05T06:56:10.818414Z",
          "iopub.status.idle": "2022-07-05T06:56:10.828455Z",
          "shell.execute_reply": "2022-07-05T06:56:10.826851Z",
          "shell.execute_reply.started": "2022-07-05T06:56:10.819028Z"
        },
        "papermill": {
          "duration": 0.122373,
          "end_time": "2022-06-13T19:46:56.779617",
          "exception": false,
          "start_time": "2022-06-13T19:46:56.657244",
          "status": "completed"
        },
        "tags": [],
        "id": "UqnfF3NUCxoa",
        "outputId": "27855bae-8d32-4d7c-e6c9-f211e9a4983f",
        "colab": {
          "base_uri": "https://localhost:8080/"
        }
      },
      "execution_count": 29,
      "outputs": [
        {
          "output_type": "stream",
          "name": "stdout",
          "text": [
            "Before removing stopwords : ['hi', 'everyone', 'i', 'am', 'ankit', 'gupta.']\n",
            "After removing stopwords : ['hi', 'everyone', 'ankit', 'gupta.']\n"
          ]
        }
      ]
    },
    {
      "cell_type": "markdown",
      "source": [
        "<h3  style=\"text-align: center\" class=\"list-group-item list-group-item-warning\"> 4.2.2 Stemming</h3><a id = \"4.2.2\" ></a>\n",
        "\n",
        "**Stemming** refers to the process of removing suffixes and reducing a word to some base form such that all different variants of that word can be represented by the same form (e.g., “dog” and “dogs” are both reduced to “dog”). This is accomplished by applying a fixed set of rules (e.g., if the word ends in “-es,” remove “-es”). More such examples are shown in below Figure.\n",
        "\n",
        "![](https://user.oc-static.com/upload/2020/10/22/16033551309054_stemming%20example.png)\n",
        "\n",
        "This is accomplished by applying a fixed set of rules (e.g., if the word ends in “-es,” remove “-es”)."
      ],
      "metadata": {
        "papermill": {
          "duration": 0.114125,
          "end_time": "2022-06-13T19:46:57.008313",
          "exception": false,
          "start_time": "2022-06-13T19:46:56.894188",
          "status": "completed"
        },
        "tags": [],
        "id": "DpPMKqrzCxoa"
      }
    },
    {
      "cell_type": "code",
      "source": [
        "from nltk.stem.porter import PorterStemmer\n",
        "from nltk.stem.lancaster import LancasterStemmer\n",
        "\n",
        "stemmer = PorterStemmer()\n",
        "# stemmer = LancasterStemmer()\n",
        "\n",
        "\n",
        "def stemming(text):\n",
        "\n",
        "    text = [stemmer.stem(word) for word in text]\n",
        "    return text\n",
        "\n",
        "\n",
        "sample = \"I am creating a Notebook\"\n",
        "print(f\"Before Stemming : {(sample)}\")\n",
        "print(f\"After Stemming : {stemming(word_tokenizer(sample))}\")\n"
      ],
      "metadata": {
        "execution": {
          "iopub.execute_input": "2022-07-05T06:56:10.83076Z",
          "iopub.status.busy": "2022-07-05T06:56:10.830029Z",
          "iopub.status.idle": "2022-07-05T06:56:10.839532Z",
          "shell.execute_reply": "2022-07-05T06:56:10.838271Z",
          "shell.execute_reply.started": "2022-07-05T06:56:10.830722Z"
        },
        "papermill": {
          "duration": 0.122531,
          "end_time": "2022-06-13T19:46:57.245652",
          "exception": false,
          "start_time": "2022-06-13T19:46:57.123121",
          "status": "completed"
        },
        "tags": [],
        "id": "ru5NRrRECxob",
        "outputId": "4f47854a-f925-4549-9d0b-c330dc87b0c4",
        "colab": {
          "base_uri": "https://localhost:8080/"
        }
      },
      "execution_count": 30,
      "outputs": [
        {
          "output_type": "stream",
          "name": "stdout",
          "text": [
            "Before Stemming : I am creating a Notebook\n",
            "After Stemming : ['i', 'am', 'creat', 'a', 'notebook']\n"
          ]
        }
      ]
    },
    {
      "cell_type": "markdown",
      "source": [
        "Stemming is just removing the suffix to get the base form of the word but the resultant word is not desired results, I mean to say when we will use word embeddings later then it may affect badly. So we need to look for the alternative for stemming and that is lemmatization it gets the word's base form on the basis of its context.\n",
        "\n",
        "![](https://stringfixer.com/files/107654628.jpg)\n",
        "\n"
      ],
      "metadata": {
        "papermill": {
          "duration": 0.113589,
          "end_time": "2022-06-13T19:46:57.475749",
          "exception": false,
          "start_time": "2022-06-13T19:46:57.36216",
          "status": "completed"
        },
        "tags": [],
        "id": "Jv9wWh8oCxob"
      }
    },
    {
      "cell_type": "markdown",
      "source": [
        "<h3  style=\"text-align: center\" class=\"list-group-item list-group-item-warning\"> 4.2.3 Lemmatization</h3><a id = \"4.2.3\" ></a>\n",
        "\n",
        "Lemmatization is the process of mapping all the different forms of a word to its base word, or lemma. While this seems close to the definition of stemming, they are, in fact, different. For example, the adjective “better,” when stemmed, remains the same. However, upon lemmatization, this should become “good,” as shown in Figure below.\n",
        "\n",
        "![](https://devopedia.org/images/article/227/6785.1570815200.png)\n",
        "\n",
        "\n",
        "Lemmatization requires more linguistic knowledge, and modeling and developing efficient lemmatizers remains an open problem in NLP research even now."
      ],
      "metadata": {
        "papermill": {
          "duration": 0.113294,
          "end_time": "2022-06-13T19:46:57.703919",
          "exception": false,
          "start_time": "2022-06-13T19:46:57.590625",
          "status": "completed"
        },
        "tags": [],
        "id": "6MUvBVkvCxoc"
      }
    },
    {
      "cell_type": "code",
      "source": [
        "# !python -m spacy download en\n"
      ],
      "metadata": {
        "execution": {
          "iopub.execute_input": "2022-07-05T06:56:10.841828Z",
          "iopub.status.busy": "2022-07-05T06:56:10.841065Z",
          "iopub.status.idle": "2022-07-05T06:56:10.848986Z",
          "shell.execute_reply": "2022-07-05T06:56:10.847865Z",
          "shell.execute_reply.started": "2022-07-05T06:56:10.841789Z"
        },
        "papermill": {
          "duration": 0.121302,
          "end_time": "2022-06-13T19:46:57.939983",
          "exception": false,
          "start_time": "2022-06-13T19:46:57.818681",
          "status": "completed"
        },
        "tags": [],
        "id": "Lxnf2DMwCxoc"
      },
      "execution_count": 31,
      "outputs": []
    },
    {
      "cell_type": "code",
      "source": [
        "import spacy\n",
        "\n",
        "sp = spacy.load(\"en_core_web_sm\")"
      ],
      "metadata": {
        "execution": {
          "iopub.execute_input": "2022-07-05T06:56:10.85404Z",
          "iopub.status.busy": "2022-07-05T06:56:10.851708Z",
          "iopub.status.idle": "2022-07-05T06:56:12.193499Z",
          "shell.execute_reply": "2022-07-05T06:56:12.192179Z",
          "shell.execute_reply.started": "2022-07-05T06:56:10.854012Z"
        },
        "papermill": {
          "duration": 9.493191,
          "end_time": "2022-06-13T19:47:07.547582",
          "exception": false,
          "start_time": "2022-06-13T19:46:58.054391",
          "status": "completed"
        },
        "tags": [],
        "id": "Ns3nTHszCxod"
      },
      "execution_count": 32,
      "outputs": []
    },
    {
      "cell_type": "code",
      "source": [
        "def lemmatization(text):\n",
        "\n",
        "    # text = [sp(word).lemma_ for word in text]\n",
        "\n",
        "    text = \" \".join(text)\n",
        "    token = sp(text)\n",
        "\n",
        "    text = [word.lemma_ for word in token]\n",
        "    return text\n",
        "\n",
        "\n",
        "print(f\"Before Lemmatization : {word_tokenizer(sample)}\")\n",
        "print(f\"After Lemmatization : {lemmatization(word_tokenizer(sample))}\")\n"
      ],
      "metadata": {
        "execution": {
          "iopub.execute_input": "2022-07-05T06:56:12.204002Z",
          "iopub.status.busy": "2022-07-05T06:56:12.200927Z",
          "iopub.status.idle": "2022-07-05T06:56:12.238981Z",
          "shell.execute_reply": "2022-07-05T06:56:12.236742Z",
          "shell.execute_reply.started": "2022-07-05T06:56:12.203959Z"
        },
        "papermill": {
          "duration": 0.143707,
          "end_time": "2022-06-13T19:47:07.806372",
          "exception": false,
          "start_time": "2022-06-13T19:47:07.662665",
          "status": "completed"
        },
        "tags": [],
        "id": "Yp3wxNToCxod",
        "outputId": "ea839528-aec9-4c07-9aba-b9a65cf0d7e3",
        "colab": {
          "base_uri": "https://localhost:8080/"
        }
      },
      "execution_count": 33,
      "outputs": [
        {
          "output_type": "stream",
          "name": "stdout",
          "text": [
            "Before Lemmatization : ['i', 'am', 'creating', 'a', 'notebook']\n",
            "After Lemmatization : ['I', 'be', 'create', 'a', 'notebook']\n"
          ]
        }
      ]
    },
    {
      "cell_type": "markdown",
      "source": [
        "Keep in mind that not all of these procedures are always required, and not all of them must be completed in the sequence listed. When removing numerals and punctuation, for example, the order in which they are eliminated may not matter. However, Before stemming, we usually lowercase the text.\n",
        "\n",
        "And before lemmatization We don't take tokens away either. Because we need to know which part of the text to lemmatize, we must lowercase it first. To get the lemma of a word, it must be said, and all tokens in the phrase must be intact.\n",
        "\n",
        "![image.png](attachment:image.png)\n",
        "\n",
        "Preparing a sequential list of pre-processing chores is a recommended practice to follow, must be completed once we have a firm grasp on how to handle our data."
      ],
      "metadata": {
        "papermill": {
          "duration": 0.117211,
          "end_time": "2022-06-13T19:47:08.04046",
          "exception": false,
          "start_time": "2022-06-13T19:47:07.923249",
          "status": "completed"
        },
        "tags": [],
        "id": "bw8-6VyxCxod"
      }
    },
    {
      "cell_type": "markdown",
      "source": [
        "<h2  style=\"text-align: center\" class=\"list-group-item list-group-item-success\"> 4.3 Other Pre-Processing Steps </h2><a id = \"4.3\" ></a>\n",
        "\n",
        "\n",
        "In an NLP pipeline, we've seen a few common pre-processing processes so far. We have presumed that we are dealing with standard English text despite the fact that the nature of the texts has not been expressly mentioned. What makes a difference if this isn't the case? Using a few examples, let's explain a few more pre-processing processes to deal with such instances."
      ],
      "metadata": {
        "papermill": {
          "duration": 0.114398,
          "end_time": "2022-06-13T19:47:08.270962",
          "exception": false,
          "start_time": "2022-06-13T19:47:08.156564",
          "status": "completed"
        },
        "tags": [],
        "id": "7Lf-LhPOCxoe"
      }
    },
    {
      "cell_type": "markdown",
      "source": [
        "<h3  style=\"text-align: center\" class=\"list-group-item list-group-item-warning\"> 4.3.1 Language Detection</h3><a id = \"4.3.1\" ></a>\n",
        "\n",
        "\n",
        "These day lot of information on web are multi language. But we assumed text to be in English only on that assumption we have constructed the pipeline. So what now, we just need to add another component to the pipeline at its start for **language detection**\n",
        "\n",
        "We can use libraries like Pycld2 for language detection. Once this step is done, the next steps could follow a language-specific pipeline."
      ],
      "metadata": {
        "papermill": {
          "duration": 0.115056,
          "end_time": "2022-06-13T19:47:08.503482",
          "exception": false,
          "start_time": "2022-06-13T19:47:08.388426",
          "status": "completed"
        },
        "tags": [],
        "id": "PLVHQ0fiCxoe"
      }
    },
    {
      "cell_type": "code",
      "source": [
        "!pip install langdetect"
      ],
      "metadata": {
        "execution": {
          "iopub.execute_input": "2022-07-05T06:56:12.240557Z",
          "iopub.status.busy": "2022-07-05T06:56:12.240174Z",
          "iopub.status.idle": "2022-07-05T06:56:21.255497Z",
          "shell.execute_reply": "2022-07-05T06:56:21.254363Z",
          "shell.execute_reply.started": "2022-07-05T06:56:12.240529Z"
        },
        "papermill": {
          "duration": 12.358798,
          "end_time": "2022-06-13T19:47:20.978872",
          "exception": false,
          "start_time": "2022-06-13T19:47:08.620074",
          "status": "completed"
        },
        "scrolled": true,
        "tags": [],
        "id": "uetAeQheCxoe",
        "outputId": "df38f102-5ec2-4b39-e863-98a3c869ed0b",
        "colab": {
          "base_uri": "https://localhost:8080/"
        }
      },
      "execution_count": 34,
      "outputs": [
        {
          "output_type": "stream",
          "name": "stdout",
          "text": [
            "Collecting langdetect\n",
            "  Downloading langdetect-1.0.9.tar.gz (981 kB)\n",
            "\u001b[?25l     \u001b[90m━━━━━━━━━━━━━━━━━━━━━━━━━━━━━━━━━━━━━━━━\u001b[0m \u001b[32m0.0/981.5 kB\u001b[0m \u001b[31m?\u001b[0m eta \u001b[36m-:--:--\u001b[0m\r\u001b[2K     \u001b[91m━━━━━━━━\u001b[0m\u001b[90m╺\u001b[0m\u001b[90m━━━━━━━━━━━━━━━━━━━━━━━━━━━━━━━\u001b[0m \u001b[32m204.8/981.5 kB\u001b[0m \u001b[31m5.9 MB/s\u001b[0m eta \u001b[36m0:00:01\u001b[0m\r\u001b[2K     \u001b[91m━━━━━━━━━━━━━━━━━━━━━━━━━━━━━━━━━\u001b[0m\u001b[90m╺\u001b[0m\u001b[90m━━━━━━\u001b[0m \u001b[32m819.2/981.5 kB\u001b[0m \u001b[31m11.9 MB/s\u001b[0m eta \u001b[36m0:00:01\u001b[0m\r\u001b[2K     \u001b[90m━━━━━━━━━━━━━━━━━━━━━━━━━━━━━━━━━━━━━━━━\u001b[0m \u001b[32m981.5/981.5 kB\u001b[0m \u001b[31m10.3 MB/s\u001b[0m eta \u001b[36m0:00:00\u001b[0m\n",
            "\u001b[?25h  Preparing metadata (setup.py) ... \u001b[?25l\u001b[?25hdone\n",
            "Requirement already satisfied: six in /usr/local/lib/python3.10/dist-packages (from langdetect) (1.16.0)\n",
            "Building wheels for collected packages: langdetect\n",
            "  Building wheel for langdetect (setup.py) ... \u001b[?25l\u001b[?25hdone\n",
            "  Created wheel for langdetect: filename=langdetect-1.0.9-py3-none-any.whl size=993227 sha256=7921266d6ac808c1900933a211d2b8617f2d36b77ee36d3dfe6b9f5be7c119b0\n",
            "  Stored in directory: /root/.cache/pip/wheels/95/03/7d/59ea870c70ce4e5a370638b5462a7711ab78fba2f655d05106\n",
            "Successfully built langdetect\n",
            "Installing collected packages: langdetect\n",
            "Successfully installed langdetect-1.0.9\n"
          ]
        }
      ]
    },
    {
      "cell_type": "code",
      "source": [
        "from langdetect import detect\n",
        "\n",
        "\n",
        "en_text = u\"\"\"\"Hi Everyone I am Ankit Gupta.\"\"\"\n",
        "print(f\" {en_text} : {detect(en_text)}\")\n",
        "\n",
        "hindi_text = u\"\"\"मेरा नाम अंकित गुप्ता है और मैं एक छात्र हूँ\"\"\"\n",
        "print(f\"{hindi_text} : {detect(hindi_text)}\")\n"
      ],
      "metadata": {
        "execution": {
          "iopub.execute_input": "2022-07-05T06:56:21.259117Z",
          "iopub.status.busy": "2022-07-05T06:56:21.258533Z",
          "iopub.status.idle": "2022-07-05T06:56:21.28803Z",
          "shell.execute_reply": "2022-07-05T06:56:21.287044Z",
          "shell.execute_reply.started": "2022-07-05T06:56:21.259083Z"
        },
        "papermill": {
          "duration": 0.829449,
          "end_time": "2022-06-13T19:47:21.933937",
          "exception": false,
          "start_time": "2022-06-13T19:47:21.104488",
          "status": "completed"
        },
        "tags": [],
        "id": "LRbxR8JlCxof",
        "outputId": "d24573ec-726c-4f10-8aa8-79108af7e1ae",
        "colab": {
          "base_uri": "https://localhost:8080/"
        }
      },
      "execution_count": 35,
      "outputs": [
        {
          "output_type": "stream",
          "name": "stdout",
          "text": [
            " \"Hi Everyone I am Ankit Gupta. : tl\n",
            "मेरा नाम अंकित गुप्ता है और मैं एक छात्र हूँ : hi\n"
          ]
        }
      ]
    },
    {
      "cell_type": "markdown",
      "source": [
        "<h3  style=\"text-align: center\" class=\"list-group-item list-group-item-warning\"> 4.3.2 Code mixing and transliteration</h3><a id = \"4.3.2\" ></a>\n",
        "\n",
        "In previous Section we discussion was about a scenario in which the content was written in a language other than English. Another instance is when a single piece of content is available in multiple languages. Many people all across the world speak multiple languages. Their daily routines As a result, they frequently use many languages. They use multiple languages in their social media posts, and a single post can contain multiple languages. As an example Consider a Hinglish (Hindi Plus English) phrase as an example of code mixing.\n",
        "\n",
        "![](https://www.researchgate.net/publication/353700736/figure/fig1/AS:1053290997485568@1628135551691/Example-parallel-Hinglish-and-English-sentences-The-code-mixed-Hinglish-sentences.png)\n",
        "\n",
        "\n",
        "**Code mixing refers to this phenomenon of switching between languages. When people use multiple languages in their write-ups, they often type words\n",
        "from these languages in Roman script, with English spelling.**\n",
        "\n",
        "![image.png](attachment:image.png)\n",
        "\n",
        "**So, the words of another language are written along with English text. This is known as transliteration.**"
      ],
      "metadata": {
        "papermill": {
          "duration": 0.124198,
          "end_time": "2022-06-13T19:47:22.182393",
          "exception": false,
          "start_time": "2022-06-13T19:47:22.058195",
          "status": "completed"
        },
        "tags": [],
        "id": "S8kf2nK2Cxof"
      }
    },
    {
      "cell_type": "code",
      "source": [
        "# from googletrans import Translator\n",
        "\n",
        "# translator = Translator()\n",
        "# translator.translate(hindi_text)"
      ],
      "metadata": {
        "execution": {
          "iopub.execute_input": "2022-07-05T06:56:21.29021Z",
          "iopub.status.busy": "2022-07-05T06:56:21.28957Z",
          "iopub.status.idle": "2022-07-05T06:56:21.294781Z",
          "shell.execute_reply": "2022-07-05T06:56:21.293741Z",
          "shell.execute_reply.started": "2022-07-05T06:56:21.290174Z"
        },
        "papermill": {
          "duration": 0.132524,
          "end_time": "2022-06-13T19:47:22.437622",
          "exception": false,
          "start_time": "2022-06-13T19:47:22.305098",
          "status": "completed"
        },
        "tags": [],
        "id": "9FJen7fqCxof"
      },
      "execution_count": 36,
      "outputs": []
    },
    {
      "cell_type": "markdown",
      "source": [
        "<h2  style=\"text-align: center\" class=\"list-group-item list-group-item-success\"> 4.4 Data Augmentation </h2><a id = \"4.4\" ></a>\n",
        "\n",
        "We had the highly biased data. In this case, if we just output that the review is positive then also we will get 95% accuracy. But before the data augmentation approach, we feed this data to a bi-lstm-based model and we got 60-70% of accuracy which was not acceptable. So we did the Data augmentation and generate more negative reviews to balance the data and after that, we got 96-97% accuracy. In this section, I want to discuss what kind of data augmentation we use and what tool."
      ],
      "metadata": {
        "papermill": {
          "duration": 0.124499,
          "end_time": "2022-06-13T19:47:22.687313",
          "exception": false,
          "start_time": "2022-06-13T19:47:22.562814",
          "status": "completed"
        },
        "tags": [],
        "id": "5B4qH7lLCxog"
      }
    },
    {
      "cell_type": "code",
      "source": [
        "df_temp = df.copy()"
      ],
      "metadata": {
        "execution": {
          "iopub.execute_input": "2022-07-05T06:56:21.297098Z",
          "iopub.status.busy": "2022-07-05T06:56:21.296466Z",
          "iopub.status.idle": "2022-07-05T06:56:21.316111Z",
          "shell.execute_reply": "2022-07-05T06:56:21.315227Z",
          "shell.execute_reply.started": "2022-07-05T06:56:21.297062Z"
        },
        "papermill": {
          "duration": 0.143298,
          "end_time": "2022-06-13T19:47:22.95387",
          "exception": false,
          "start_time": "2022-06-13T19:47:22.810572",
          "status": "completed"
        },
        "tags": [],
        "id": "Es7A4rYZCxog"
      },
      "execution_count": 37,
      "outputs": []
    },
    {
      "cell_type": "code",
      "source": [
        "# Assigning labels to each review\n",
        "\n",
        "def label(y):\n",
        "    if y == '5':\n",
        "        return 1\n",
        "    elif y == '4':\n",
        "        return 1\n",
        "    else:\n",
        "        return 0\n",
        "\n",
        "from tqdm import tqdm\n",
        "\n",
        "tqdm.pandas()\n",
        "\n",
        "df_temp['y'] = df_temp.ratings.progress_map(label)"
      ],
      "metadata": {
        "execution": {
          "iopub.execute_input": "2022-07-05T06:56:21.31945Z",
          "iopub.status.busy": "2022-07-05T06:56:21.319197Z",
          "iopub.status.idle": "2022-07-05T06:56:21.422327Z",
          "shell.execute_reply": "2022-07-05T06:56:21.421331Z",
          "shell.execute_reply.started": "2022-07-05T06:56:21.319427Z"
        },
        "papermill": {
          "duration": 0.228872,
          "end_time": "2022-06-13T19:47:23.307875",
          "exception": false,
          "start_time": "2022-06-13T19:47:23.079003",
          "status": "completed"
        },
        "tags": [],
        "id": "AXt_t0Y6Cxoh",
        "outputId": "04aa6b7d-47d3-408f-f780-640ae96a6029",
        "colab": {
          "base_uri": "https://localhost:8080/"
        }
      },
      "execution_count": 38,
      "outputs": [
        {
          "output_type": "stream",
          "name": "stderr",
          "text": [
            "100%|██████████| 48488/48488 [00:00<00:00, 747350.17it/s]\n"
          ]
        }
      ]
    },
    {
      "cell_type": "code",
      "source": [
        "df_temp = df_temp[['review', 'y', 'ratings']]"
      ],
      "metadata": {
        "execution": {
          "iopub.execute_input": "2022-07-05T06:56:21.430742Z",
          "iopub.status.busy": "2022-07-05T06:56:21.43047Z",
          "iopub.status.idle": "2022-07-05T06:56:21.442186Z",
          "shell.execute_reply": "2022-07-05T06:56:21.441332Z",
          "shell.execute_reply.started": "2022-07-05T06:56:21.430717Z"
        },
        "papermill": {
          "duration": 0.151847,
          "end_time": "2022-06-13T19:47:23.585525",
          "exception": false,
          "start_time": "2022-06-13T19:47:23.433678",
          "status": "completed"
        },
        "tags": [],
        "id": "ImGfls8-Cxoi"
      },
      "execution_count": 39,
      "outputs": []
    },
    {
      "cell_type": "code",
      "source": [
        "df_temp.head()"
      ],
      "metadata": {
        "execution": {
          "iopub.execute_input": "2022-07-05T06:56:21.444513Z",
          "iopub.status.busy": "2022-07-05T06:56:21.443683Z",
          "iopub.status.idle": "2022-07-05T06:56:21.457344Z",
          "shell.execute_reply": "2022-07-05T06:56:21.45636Z",
          "shell.execute_reply.started": "2022-07-05T06:56:21.444477Z"
        },
        "papermill": {
          "duration": 0.239075,
          "end_time": "2022-06-13T19:47:24.066548",
          "exception": false,
          "start_time": "2022-06-13T19:47:23.827473",
          "status": "completed"
        },
        "tags": [],
        "id": "FFALayBXCxoi",
        "outputId": "6f573bca-5cc7-4023-df03-ce8ccf8ed2c3",
        "colab": {
          "base_uri": "https://localhost:8080/",
          "height": 206
        }
      },
      "execution_count": 40,
      "outputs": [
        {
          "output_type": "execute_result",
          "data": {
            "text/plain": [
              "                                              review  y ratings\n",
              "0  Wow superb I love it❤️👍 battery backup so nice 👍👍  1       5\n",
              "1  Mobile So Good In Range Redmi 9a Has Miui 12 L...  1       4\n",
              "2  Wonderful device and smart phone best camera b...  1       5\n",
              "3  Very good mobile. Value for money. Battery bac...  1       5\n",
              "4                Really great.... value for money...  1       5"
            ],
            "text/html": [
              "\n",
              "  <div id=\"df-c7fc59ab-edcf-4a44-8efa-9186fc931d6c\" class=\"colab-df-container\">\n",
              "    <div>\n",
              "<style scoped>\n",
              "    .dataframe tbody tr th:only-of-type {\n",
              "        vertical-align: middle;\n",
              "    }\n",
              "\n",
              "    .dataframe tbody tr th {\n",
              "        vertical-align: top;\n",
              "    }\n",
              "\n",
              "    .dataframe thead th {\n",
              "        text-align: right;\n",
              "    }\n",
              "</style>\n",
              "<table border=\"1\" class=\"dataframe\">\n",
              "  <thead>\n",
              "    <tr style=\"text-align: right;\">\n",
              "      <th></th>\n",
              "      <th>review</th>\n",
              "      <th>y</th>\n",
              "      <th>ratings</th>\n",
              "    </tr>\n",
              "  </thead>\n",
              "  <tbody>\n",
              "    <tr>\n",
              "      <th>0</th>\n",
              "      <td>Wow superb I love it❤️👍 battery backup so nice 👍👍</td>\n",
              "      <td>1</td>\n",
              "      <td>5</td>\n",
              "    </tr>\n",
              "    <tr>\n",
              "      <th>1</th>\n",
              "      <td>Mobile So Good In Range Redmi 9a Has Miui 12 L...</td>\n",
              "      <td>1</td>\n",
              "      <td>4</td>\n",
              "    </tr>\n",
              "    <tr>\n",
              "      <th>2</th>\n",
              "      <td>Wonderful device and smart phone best camera b...</td>\n",
              "      <td>1</td>\n",
              "      <td>5</td>\n",
              "    </tr>\n",
              "    <tr>\n",
              "      <th>3</th>\n",
              "      <td>Very good mobile. Value for money. Battery bac...</td>\n",
              "      <td>1</td>\n",
              "      <td>5</td>\n",
              "    </tr>\n",
              "    <tr>\n",
              "      <th>4</th>\n",
              "      <td>Really great.... value for money...</td>\n",
              "      <td>1</td>\n",
              "      <td>5</td>\n",
              "    </tr>\n",
              "  </tbody>\n",
              "</table>\n",
              "</div>\n",
              "    <div class=\"colab-df-buttons\">\n",
              "\n",
              "  <div class=\"colab-df-container\">\n",
              "    <button class=\"colab-df-convert\" onclick=\"convertToInteractive('df-c7fc59ab-edcf-4a44-8efa-9186fc931d6c')\"\n",
              "            title=\"Convert this dataframe to an interactive table.\"\n",
              "            style=\"display:none;\">\n",
              "\n",
              "  <svg xmlns=\"http://www.w3.org/2000/svg\" height=\"24px\" viewBox=\"0 -960 960 960\">\n",
              "    <path d=\"M120-120v-720h720v720H120Zm60-500h600v-160H180v160Zm220 220h160v-160H400v160Zm0 220h160v-160H400v160ZM180-400h160v-160H180v160Zm440 0h160v-160H620v160ZM180-180h160v-160H180v160Zm440 0h160v-160H620v160Z\"/>\n",
              "  </svg>\n",
              "    </button>\n",
              "\n",
              "  <style>\n",
              "    .colab-df-container {\n",
              "      display:flex;\n",
              "      gap: 12px;\n",
              "    }\n",
              "\n",
              "    .colab-df-convert {\n",
              "      background-color: #E8F0FE;\n",
              "      border: none;\n",
              "      border-radius: 50%;\n",
              "      cursor: pointer;\n",
              "      display: none;\n",
              "      fill: #1967D2;\n",
              "      height: 32px;\n",
              "      padding: 0 0 0 0;\n",
              "      width: 32px;\n",
              "    }\n",
              "\n",
              "    .colab-df-convert:hover {\n",
              "      background-color: #E2EBFA;\n",
              "      box-shadow: 0px 1px 2px rgba(60, 64, 67, 0.3), 0px 1px 3px 1px rgba(60, 64, 67, 0.15);\n",
              "      fill: #174EA6;\n",
              "    }\n",
              "\n",
              "    .colab-df-buttons div {\n",
              "      margin-bottom: 4px;\n",
              "    }\n",
              "\n",
              "    [theme=dark] .colab-df-convert {\n",
              "      background-color: #3B4455;\n",
              "      fill: #D2E3FC;\n",
              "    }\n",
              "\n",
              "    [theme=dark] .colab-df-convert:hover {\n",
              "      background-color: #434B5C;\n",
              "      box-shadow: 0px 1px 3px 1px rgba(0, 0, 0, 0.15);\n",
              "      filter: drop-shadow(0px 1px 2px rgba(0, 0, 0, 0.3));\n",
              "      fill: #FFFFFF;\n",
              "    }\n",
              "  </style>\n",
              "\n",
              "    <script>\n",
              "      const buttonEl =\n",
              "        document.querySelector('#df-c7fc59ab-edcf-4a44-8efa-9186fc931d6c button.colab-df-convert');\n",
              "      buttonEl.style.display =\n",
              "        google.colab.kernel.accessAllowed ? 'block' : 'none';\n",
              "\n",
              "      async function convertToInteractive(key) {\n",
              "        const element = document.querySelector('#df-c7fc59ab-edcf-4a44-8efa-9186fc931d6c');\n",
              "        const dataTable =\n",
              "          await google.colab.kernel.invokeFunction('convertToInteractive',\n",
              "                                                    [key], {});\n",
              "        if (!dataTable) return;\n",
              "\n",
              "        const docLinkHtml = 'Like what you see? Visit the ' +\n",
              "          '<a target=\"_blank\" href=https://colab.research.google.com/notebooks/data_table.ipynb>data table notebook</a>'\n",
              "          + ' to learn more about interactive tables.';\n",
              "        element.innerHTML = '';\n",
              "        dataTable['output_type'] = 'display_data';\n",
              "        await google.colab.output.renderOutput(dataTable, element);\n",
              "        const docLink = document.createElement('div');\n",
              "        docLink.innerHTML = docLinkHtml;\n",
              "        element.appendChild(docLink);\n",
              "      }\n",
              "    </script>\n",
              "  </div>\n",
              "\n",
              "\n",
              "<div id=\"df-26db1df8-c943-47c6-a3be-f88a459f4b09\">\n",
              "  <button class=\"colab-df-quickchart\" onclick=\"quickchart('df-26db1df8-c943-47c6-a3be-f88a459f4b09')\"\n",
              "            title=\"Suggest charts\"\n",
              "            style=\"display:none;\">\n",
              "\n",
              "<svg xmlns=\"http://www.w3.org/2000/svg\" height=\"24px\"viewBox=\"0 0 24 24\"\n",
              "     width=\"24px\">\n",
              "    <g>\n",
              "        <path d=\"M19 3H5c-1.1 0-2 .9-2 2v14c0 1.1.9 2 2 2h14c1.1 0 2-.9 2-2V5c0-1.1-.9-2-2-2zM9 17H7v-7h2v7zm4 0h-2V7h2v10zm4 0h-2v-4h2v4z\"/>\n",
              "    </g>\n",
              "</svg>\n",
              "  </button>\n",
              "\n",
              "<style>\n",
              "  .colab-df-quickchart {\n",
              "      --bg-color: #E8F0FE;\n",
              "      --fill-color: #1967D2;\n",
              "      --hover-bg-color: #E2EBFA;\n",
              "      --hover-fill-color: #174EA6;\n",
              "      --disabled-fill-color: #AAA;\n",
              "      --disabled-bg-color: #DDD;\n",
              "  }\n",
              "\n",
              "  [theme=dark] .colab-df-quickchart {\n",
              "      --bg-color: #3B4455;\n",
              "      --fill-color: #D2E3FC;\n",
              "      --hover-bg-color: #434B5C;\n",
              "      --hover-fill-color: #FFFFFF;\n",
              "      --disabled-bg-color: #3B4455;\n",
              "      --disabled-fill-color: #666;\n",
              "  }\n",
              "\n",
              "  .colab-df-quickchart {\n",
              "    background-color: var(--bg-color);\n",
              "    border: none;\n",
              "    border-radius: 50%;\n",
              "    cursor: pointer;\n",
              "    display: none;\n",
              "    fill: var(--fill-color);\n",
              "    height: 32px;\n",
              "    padding: 0;\n",
              "    width: 32px;\n",
              "  }\n",
              "\n",
              "  .colab-df-quickchart:hover {\n",
              "    background-color: var(--hover-bg-color);\n",
              "    box-shadow: 0 1px 2px rgba(60, 64, 67, 0.3), 0 1px 3px 1px rgba(60, 64, 67, 0.15);\n",
              "    fill: var(--button-hover-fill-color);\n",
              "  }\n",
              "\n",
              "  .colab-df-quickchart-complete:disabled,\n",
              "  .colab-df-quickchart-complete:disabled:hover {\n",
              "    background-color: var(--disabled-bg-color);\n",
              "    fill: var(--disabled-fill-color);\n",
              "    box-shadow: none;\n",
              "  }\n",
              "\n",
              "  .colab-df-spinner {\n",
              "    border: 2px solid var(--fill-color);\n",
              "    border-color: transparent;\n",
              "    border-bottom-color: var(--fill-color);\n",
              "    animation:\n",
              "      spin 1s steps(1) infinite;\n",
              "  }\n",
              "\n",
              "  @keyframes spin {\n",
              "    0% {\n",
              "      border-color: transparent;\n",
              "      border-bottom-color: var(--fill-color);\n",
              "      border-left-color: var(--fill-color);\n",
              "    }\n",
              "    20% {\n",
              "      border-color: transparent;\n",
              "      border-left-color: var(--fill-color);\n",
              "      border-top-color: var(--fill-color);\n",
              "    }\n",
              "    30% {\n",
              "      border-color: transparent;\n",
              "      border-left-color: var(--fill-color);\n",
              "      border-top-color: var(--fill-color);\n",
              "      border-right-color: var(--fill-color);\n",
              "    }\n",
              "    40% {\n",
              "      border-color: transparent;\n",
              "      border-right-color: var(--fill-color);\n",
              "      border-top-color: var(--fill-color);\n",
              "    }\n",
              "    60% {\n",
              "      border-color: transparent;\n",
              "      border-right-color: var(--fill-color);\n",
              "    }\n",
              "    80% {\n",
              "      border-color: transparent;\n",
              "      border-right-color: var(--fill-color);\n",
              "      border-bottom-color: var(--fill-color);\n",
              "    }\n",
              "    90% {\n",
              "      border-color: transparent;\n",
              "      border-bottom-color: var(--fill-color);\n",
              "    }\n",
              "  }\n",
              "</style>\n",
              "\n",
              "  <script>\n",
              "    async function quickchart(key) {\n",
              "      const quickchartButtonEl =\n",
              "        document.querySelector('#' + key + ' button');\n",
              "      quickchartButtonEl.disabled = true;  // To prevent multiple clicks.\n",
              "      quickchartButtonEl.classList.add('colab-df-spinner');\n",
              "      try {\n",
              "        const charts = await google.colab.kernel.invokeFunction(\n",
              "            'suggestCharts', [key], {});\n",
              "      } catch (error) {\n",
              "        console.error('Error during call to suggestCharts:', error);\n",
              "      }\n",
              "      quickchartButtonEl.classList.remove('colab-df-spinner');\n",
              "      quickchartButtonEl.classList.add('colab-df-quickchart-complete');\n",
              "    }\n",
              "    (() => {\n",
              "      let quickchartButtonEl =\n",
              "        document.querySelector('#df-26db1df8-c943-47c6-a3be-f88a459f4b09 button');\n",
              "      quickchartButtonEl.style.display =\n",
              "        google.colab.kernel.accessAllowed ? 'block' : 'none';\n",
              "    })();\n",
              "  </script>\n",
              "</div>\n",
              "\n",
              "    </div>\n",
              "  </div>\n"
            ],
            "application/vnd.google.colaboratory.intrinsic+json": {
              "type": "dataframe",
              "variable_name": "df_temp",
              "summary": "{\n  \"name\": \"df_temp\",\n  \"rows\": 48488,\n  \"fields\": [\n    {\n      \"column\": \"review\",\n      \"properties\": {\n        \"dtype\": \"category\",\n        \"num_unique_values\": 17749,\n        \"samples\": [\n          \"Good condition mobile\",\n          \"better choice\",\n          \"camera quality is not on par. If they could have provided OIS and EIS together it's really a huge leap for redmi mobile..can we expect eis update in the near future for taking good images is the question that really matters\"\n        ],\n        \"semantic_type\": \"\",\n        \"description\": \"\"\n      }\n    },\n    {\n      \"column\": \"y\",\n      \"properties\": {\n        \"dtype\": \"number\",\n        \"std\": 0,\n        \"min\": 0,\n        \"max\": 1,\n        \"num_unique_values\": 2,\n        \"samples\": [\n          0,\n          1\n        ],\n        \"semantic_type\": \"\",\n        \"description\": \"\"\n      }\n    },\n    {\n      \"column\": \"ratings\",\n      \"properties\": {\n        \"dtype\": \"category\",\n        \"num_unique_values\": 3,\n        \"samples\": [\n          \"5\",\n          \"4\"\n        ],\n        \"semantic_type\": \"\",\n        \"description\": \"\"\n      }\n    }\n  ]\n}"
            }
          },
          "metadata": {},
          "execution_count": 40
        }
      ]
    },
    {
      "cell_type": "code",
      "source": [
        "df_temp.y.value_counts()"
      ],
      "metadata": {
        "execution": {
          "iopub.execute_input": "2022-07-05T06:56:21.459511Z",
          "iopub.status.busy": "2022-07-05T06:56:21.458899Z",
          "iopub.status.idle": "2022-07-05T06:56:21.470275Z",
          "shell.execute_reply": "2022-07-05T06:56:21.469356Z",
          "shell.execute_reply.started": "2022-07-05T06:56:21.459473Z"
        },
        "papermill": {
          "duration": 0.195624,
          "end_time": "2022-06-13T19:47:24.425702",
          "exception": false,
          "start_time": "2022-06-13T19:47:24.230078",
          "status": "completed"
        },
        "tags": [],
        "id": "b1EKOqpTCxoj",
        "outputId": "e452c66f-cc63-4587-81d2-b64454fd4014",
        "colab": {
          "base_uri": "https://localhost:8080/"
        }
      },
      "execution_count": 41,
      "outputs": [
        {
          "output_type": "execute_result",
          "data": {
            "text/plain": [
              "y\n",
              "1    44751\n",
              "0     3737\n",
              "Name: count, dtype: int64"
            ]
          },
          "metadata": {},
          "execution_count": 41
        }
      ]
    },
    {
      "cell_type": "code",
      "source": [
        "import seaborn as sns\n",
        "\n",
        "sns.countplot(x = \"y\", data = df_temp)\n",
        "plt.show()"
      ],
      "metadata": {
        "execution": {
          "iopub.execute_input": "2022-07-05T06:56:21.472403Z",
          "iopub.status.busy": "2022-07-05T06:56:21.471736Z",
          "iopub.status.idle": "2022-07-05T06:56:21.809085Z",
          "shell.execute_reply": "2022-07-05T06:56:21.808104Z",
          "shell.execute_reply.started": "2022-07-05T06:56:21.472366Z"
        },
        "papermill": {
          "duration": 0.820978,
          "end_time": "2022-06-13T19:47:25.447324",
          "exception": false,
          "start_time": "2022-06-13T19:47:24.626346",
          "status": "completed"
        },
        "tags": [],
        "id": "aW4A67tbCxoj",
        "outputId": "e019a65c-af2b-4280-adfd-4a0753dc6468",
        "colab": {
          "base_uri": "https://localhost:8080/",
          "height": 449
        }
      },
      "execution_count": 42,
      "outputs": [
        {
          "output_type": "display_data",
          "data": {
            "text/plain": [
              "<Figure size 640x480 with 1 Axes>"
            ],
            "image/png": "[encoded data removed]"
          },
          "metadata": {}
        }
      ]
    },
    {
      "cell_type": "markdown",
      "source": [
        "We do not have much of negative comments. We will use data augmentation to create more data our methodology will be we take sentences having 5 star rating and then select the reviews of length in the range of 20 to 30 words.  \n",
        "\n",
        "After havving these positive reviews we will use Antonym Augmentation to generate negative reviews."
      ],
      "metadata": {
        "papermill": {
          "duration": 0.145931,
          "end_time": "2022-06-13T19:47:25.857334",
          "exception": false,
          "start_time": "2022-06-13T19:47:25.711403",
          "status": "completed"
        },
        "tags": [],
        "id": "-gRJFvS7Cxoj"
      }
    },
    {
      "cell_type": "code",
      "source": [
        "df_temp2 = df_temp[(df_temp['ratings'] == '5')]"
      ],
      "metadata": {
        "execution": {
          "iopub.execute_input": "2022-07-05T06:56:21.814319Z",
          "iopub.status.busy": "2022-07-05T06:56:21.813722Z",
          "iopub.status.idle": "2022-07-05T06:56:21.833153Z",
          "shell.execute_reply": "2022-07-05T06:56:21.831955Z",
          "shell.execute_reply.started": "2022-07-05T06:56:21.814262Z"
        },
        "papermill": {
          "duration": 0.163834,
          "end_time": "2022-06-13T19:47:26.166114",
          "exception": false,
          "start_time": "2022-06-13T19:47:26.00228",
          "status": "completed"
        },
        "tags": [],
        "id": "BrlWWLK0Cxok"
      },
      "execution_count": 43,
      "outputs": []
    },
    {
      "cell_type": "code",
      "source": [
        "positive = list(df_temp2[(df_temp2['review'].str.len() > 100) & (df_temp2['review'].str.len() < 350)]['review'])\n",
        "len(positive)"
      ],
      "metadata": {
        "execution": {
          "iopub.execute_input": "2022-07-05T06:56:21.835509Z",
          "iopub.status.busy": "2022-07-05T06:56:21.834881Z",
          "iopub.status.idle": "2022-07-05T06:56:21.889241Z",
          "shell.execute_reply": "2022-07-05T06:56:21.888272Z",
          "shell.execute_reply.started": "2022-07-05T06:56:21.835471Z"
        },
        "papermill": {
          "duration": 0.202964,
          "end_time": "2022-06-13T19:47:26.511759",
          "exception": false,
          "start_time": "2022-06-13T19:47:26.308795",
          "status": "completed"
        },
        "tags": [],
        "id": "WrX9vo1XCxok",
        "outputId": "51d21859-e49a-4984-cf90-3d46b6582038",
        "colab": {
          "base_uri": "https://localhost:8080/"
        }
      },
      "execution_count": 44,
      "outputs": [
        {
          "output_type": "execute_result",
          "data": {
            "text/plain": [
              "4803"
            ]
          },
          "metadata": {},
          "execution_count": 44
        }
      ]
    },
    {
      "cell_type": "code",
      "source": [
        "!pip install nlpaug"
      ],
      "metadata": {
        "execution": {
          "iopub.execute_input": "2022-07-05T06:56:21.890744Z",
          "iopub.status.busy": "2022-07-05T06:56:21.890412Z",
          "iopub.status.idle": "2022-07-05T06:56:31.089783Z",
          "shell.execute_reply": "2022-07-05T06:56:31.088623Z",
          "shell.execute_reply.started": "2022-07-05T06:56:21.89071Z"
        },
        "papermill": {
          "duration": 10.670111,
          "end_time": "2022-06-13T19:47:37.332025",
          "exception": false,
          "start_time": "2022-06-13T19:47:26.661914",
          "status": "completed"
        },
        "scrolled": true,
        "tags": [],
        "id": "d9YuPQuxCxol",
        "outputId": "ce4b918f-bc21-4b8f-bd54-0b1b2f469952",
        "colab": {
          "base_uri": "https://localhost:8080/"
        }
      },
      "execution_count": 45,
      "outputs": [
        {
          "output_type": "stream",
          "name": "stdout",
          "text": [
            "Collecting nlpaug\n",
            "  Downloading nlpaug-1.1.11-py3-none-any.whl (410 kB)\n",
            "\u001b[2K     \u001b[90m━━━━━━━━━━━━━━━━━━━━━━━━━━━━━━━━━━━━━━━━\u001b[0m \u001b[32m410.5/410.5 kB\u001b[0m \u001b[31m1.8 MB/s\u001b[0m eta \u001b[36m0:00:00\u001b[0m\n",
            "\u001b[?25hRequirement already satisfied: numpy>=1.16.2 in /usr/local/lib/python3.10/dist-packages (from nlpaug) (1.25.2)\n",
            "Requirement already satisfied: pandas>=1.2.0 in /usr/local/lib/python3.10/dist-packages (from nlpaug) (2.0.3)\n",
            "Requirement already satisfied: requests>=2.22.0 in /usr/local/lib/python3.10/dist-packages (from nlpaug) (2.31.0)\n",
            "Requirement already satisfied: gdown>=4.0.0 in /usr/local/lib/python3.10/dist-packages (from nlpaug) (5.1.0)\n",
            "Requirement already satisfied: beautifulsoup4 in /usr/local/lib/python3.10/dist-packages (from gdown>=4.0.0->nlpaug) (4.12.3)\n",
            "Requirement already satisfied: filelock in /usr/local/lib/python3.10/dist-packages (from gdown>=4.0.0->nlpaug) (3.13.4)\n",
            "Requirement already satisfied: tqdm in /usr/local/lib/python3.10/dist-packages (from gdown>=4.0.0->nlpaug) (4.66.2)\n",
            "Requirement already satisfied: python-dateutil>=2.8.2 in /usr/local/lib/python3.10/dist-packages (from pandas>=1.2.0->nlpaug) (2.8.2)\n",
            "Requirement already satisfied: pytz>=2020.1 in /usr/local/lib/python3.10/dist-packages (from pandas>=1.2.0->nlpaug) (2023.4)\n",
            "Requirement already satisfied: tzdata>=2022.1 in /usr/local/lib/python3.10/dist-packages (from pandas>=1.2.0->nlpaug) (2024.1)\n",
            "Requirement already satisfied: charset-normalizer<4,>=2 in /usr/local/lib/python3.10/dist-packages (from requests>=2.22.0->nlpaug) (3.3.2)\n",
            "Requirement already satisfied: idna<4,>=2.5 in /usr/local/lib/python3.10/dist-packages (from requests>=2.22.0->nlpaug) (3.7)\n",
            "Requirement already satisfied: urllib3<3,>=1.21.1 in /usr/local/lib/python3.10/dist-packages (from requests>=2.22.0->nlpaug) (2.0.7)\n",
            "Requirement already satisfied: certifi>=2017.4.17 in /usr/local/lib/python3.10/dist-packages (from requests>=2.22.0->nlpaug) (2024.2.2)\n",
            "Requirement already satisfied: six>=1.5 in /usr/local/lib/python3.10/dist-packages (from python-dateutil>=2.8.2->pandas>=1.2.0->nlpaug) (1.16.0)\n",
            "Requirement already satisfied: soupsieve>1.2 in /usr/local/lib/python3.10/dist-packages (from beautifulsoup4->gdown>=4.0.0->nlpaug) (2.5)\n",
            "Requirement already satisfied: PySocks!=1.5.7,>=1.5.6 in /usr/local/lib/python3.10/dist-packages (from requests>=2.22.0->nlpaug) (1.7.1)\n",
            "Installing collected packages: nlpaug\n",
            "Successfully installed nlpaug-1.1.11\n"
          ]
        }
      ]
    },
    {
      "cell_type": "code",
      "source": [
        "import nlpaug.augmenter.word as naw"
      ],
      "metadata": {
        "execution": {
          "iopub.execute_input": "2022-07-05T06:56:31.091971Z",
          "iopub.status.busy": "2022-07-05T06:56:31.091573Z",
          "iopub.status.idle": "2022-07-05T06:56:31.097515Z",
          "shell.execute_reply": "2022-07-05T06:56:31.096272Z",
          "shell.execute_reply.started": "2022-07-05T06:56:31.091932Z"
        },
        "papermill": {
          "duration": 3.811073,
          "end_time": "2022-06-13T19:47:41.275458",
          "exception": false,
          "start_time": "2022-06-13T19:47:37.464385",
          "status": "completed"
        },
        "tags": [],
        "id": "A6Ia-O56Cxol"
      },
      "execution_count": 46,
      "outputs": []
    },
    {
      "cell_type": "markdown",
      "source": [
        "We used Python’s NLPAug to do the data augmentation task. First, we choose positive reviews of 100-350 character lengths which were 4803. Just have a look at few of the reviews in below shown image."
      ],
      "metadata": {
        "id": "CzZKt5YDCxol"
      }
    },
    {
      "cell_type": "code",
      "source": [
        "positive[41:49]"
      ],
      "metadata": {
        "execution": {
          "iopub.execute_input": "2022-07-05T06:56:31.099206Z",
          "iopub.status.busy": "2022-07-05T06:56:31.098862Z",
          "iopub.status.idle": "2022-07-05T06:56:31.110275Z",
          "shell.execute_reply": "2022-07-05T06:56:31.109152Z",
          "shell.execute_reply.started": "2022-07-05T06:56:31.099169Z"
        },
        "papermill": {
          "duration": 0.153916,
          "end_time": "2022-06-13T19:47:41.561064",
          "exception": false,
          "start_time": "2022-06-13T19:47:41.407148",
          "status": "completed"
        },
        "tags": [],
        "id": "5Lhe6bzbCxol",
        "outputId": "34582ae9-bd20-4de4-8d95-b26f174710d5",
        "colab": {
          "base_uri": "https://localhost:8080/"
        }
      },
      "execution_count": 47,
      "outputs": [
        {
          "output_type": "execute_result",
          "data": {
            "text/plain": [
              "[\"An amazing smartphone for the price though i didn't like the colors compared to a realme phone in the same price range. It's a reall good second smartphone if you already have a primary device.\",\n",
              " \"Nice product according to its budget. But it's hard to play high Graphics games like pubg on 3GB RAM. It lags even when you play at Smooth Graphics settings. If this is for gaming (High graphics game) purpose, then don't go for 3GB or 2 GB RAM and the rest it works very well.\",\n",
              " 'I gave this phone to my wife as a gift and she loved it so much that she gets great performance and photos of games',\n",
              " 'Every thing is great about the phone but a micro USB connector with a 5000 mah battery kind of suck a type c connector would have been better',\n",
              " 'Very good handset at this price. Nice and great performance. Battery backup is also trustworthy. There is no issue till date after using for a period of 5days. Overall u can buy this phone without hesitation',\n",
              " 'I am happy with your productus policy of discount  and best service flipcart.we wish day by day growth. And give more and more service from your sight.           ThanksHasmukh patel.Ahmedabad. Gujarat',\n",
              " \"Mobile phone is Good..  good camera clarity.. I have one problem with the phone, when I do video calling there is lot of noise, so I can't hear properly, lot of sound disturbance, but when I do voice call.. the sound is clear..\",\n",
              " \"An amazing smartphone for the price though i didn't like the colors compared to a realme phone in the same price range. It's a reall good second smartphone if you already have a primary device.\"]"
            ]
          },
          "metadata": {},
          "execution_count": 47
        }
      ]
    },
    {
      "cell_type": "code",
      "source": [
        "aug = naw.AntonymAug(name='Antonym_Aug', aug_min=1, aug_max=10, aug_p=0.3, lang='eng', stopwords=en_stopwords, tokenizer=None,\n",
        "                     reverse_tokenizer=None, stopwords_regex=None, verbose=0)\n",
        "\n",
        "aug_negative = aug.augment(positive)"
      ],
      "metadata": {
        "execution": {
          "iopub.execute_input": "2022-07-05T06:56:31.113354Z",
          "iopub.status.busy": "2022-07-05T06:56:31.112481Z",
          "iopub.status.idle": "2022-07-05T06:56:49.365861Z",
          "shell.execute_reply": "2022-07-05T06:56:49.364912Z",
          "shell.execute_reply.started": "2022-07-05T06:56:31.113301Z"
        },
        "papermill": {
          "duration": 21.848953,
          "end_time": "2022-06-13T19:48:03.545079",
          "exception": false,
          "start_time": "2022-06-13T19:47:41.696126",
          "status": "completed"
        },
        "tags": [],
        "id": "QNmiPFyHCxom",
        "outputId": "40c8c4f0-d797-4754-af52-9db029741628",
        "colab": {
          "base_uri": "https://localhost:8080/"
        }
      },
      "execution_count": 48,
      "outputs": [
        {
          "output_type": "stream",
          "name": "stderr",
          "text": [
            "[nltk_data] Downloading package wordnet to /root/nltk_data...\n",
            "[nltk_data] Downloading package omw-1.4 to /root/nltk_data...\n",
            "[nltk_data] Downloading package averaged_perceptron_tagger to\n",
            "[nltk_data]     /root/nltk_data...\n",
            "[nltk_data]   Unzipping taggers/averaged_perceptron_tagger.zip.\n"
          ]
        }
      ]
    },
    {
      "cell_type": "code",
      "source": [
        "len(aug_negative)"
      ],
      "metadata": {
        "execution": {
          "iopub.execute_input": "2022-07-05T06:56:49.367857Z",
          "iopub.status.busy": "2022-07-05T06:56:49.367271Z",
          "iopub.status.idle": "2022-07-05T06:56:49.374263Z",
          "shell.execute_reply": "2022-07-05T06:56:49.373333Z",
          "shell.execute_reply.started": "2022-07-05T06:56:49.367815Z"
        },
        "papermill": {
          "duration": 0.141999,
          "end_time": "2022-06-13T19:48:03.831925",
          "exception": false,
          "start_time": "2022-06-13T19:48:03.689926",
          "status": "completed"
        },
        "tags": [],
        "id": "LGByhZfzCxom",
        "outputId": "448731db-527f-4147-c8b1-ce5588c22dfe",
        "colab": {
          "base_uri": "https://localhost:8080/"
        }
      },
      "execution_count": 49,
      "outputs": [
        {
          "output_type": "execute_result",
          "data": {
            "text/plain": [
              "4803"
            ]
          },
          "metadata": {},
          "execution_count": 49
        }
      ]
    },
    {
      "cell_type": "markdown",
      "source": [
        "After having 4803 positive reviews we applied word level augmentation specifically Antonym Augmentation which changes the context of the word (make them opposite of that).\n",
        "Using this we got around 4803 negative reviews as well hence the balanced data. Have a look at the negative version of the above positive reviews."
      ],
      "metadata": {
        "id": "7q8WYrc9Cxom"
      }
    },
    {
      "cell_type": "code",
      "source": [
        "aug_negative[41:49]"
      ],
      "metadata": {
        "execution": {
          "iopub.execute_input": "2022-07-05T06:56:49.376696Z",
          "iopub.status.busy": "2022-07-05T06:56:49.375986Z",
          "iopub.status.idle": "2022-07-05T06:56:49.386964Z",
          "shell.execute_reply": "2022-07-05T06:56:49.38608Z",
          "shell.execute_reply.started": "2022-07-05T06:56:49.376658Z"
        },
        "papermill": {
          "duration": 0.142019,
          "end_time": "2022-06-13T19:48:04.108417",
          "exception": false,
          "start_time": "2022-06-13T19:48:03.966398",
          "status": "completed"
        },
        "tags": [],
        "id": "_4lukc50Cxon",
        "outputId": "a30a77b8-da4d-4729-93cc-33880f5a7d09",
        "colab": {
          "base_uri": "https://localhost:8080/"
        }
      },
      "execution_count": 50,
      "outputs": [
        {
          "output_type": "execute_result",
          "data": {
            "text/plain": [
              "[\"An amazing smartphone for the price though i didn ' t like the colors compared to a realme phone in the same price range. It ' s a reall evil second smartphone if you already have a secondary device.\",\n",
              " \"Nice product according to its budget. But it ' s hard to play low Graphics games like pubg on 3GB RAM. It lags even when you play at Smooth Graphics settings. If this is for gaming (Low graphics game) purpose, then don ' t be born for 3GB or 2 GB RAM and the rest it malfunction very badly.\",\n",
              " 'I take this phone to my wife as a gift and she hate it so little that she take away great performance and photos of games',\n",
              " 'Every thing is great about the phone but a micro USB connector with a 5000 mah battery kind of suck a type c connector would have been worse',\n",
              " 'Very evil handset at this price. Nice and great performance. Battery backup is also untrustworthy. There is no issue till date after using for a period of 5days. Overall u can sell this phone without hesitation',\n",
              " 'I am unhappy with your productus policy of discount and bad service flipcart. we wish day by day growth. And take more and more service from your sight. ThanksHasmukh patel. Ahmedabad. Gujarat',\n",
              " \"Mobile phone is Bad. . evil camera clarity. . I have one problem with the phone, when I do video calling there is lot of noise, so I can ' t hear improperly, lot of unsound disturbance, but when I do voice call. . the sound is unclear..\",\n",
              " \"An amazing smartphone for the price though i didn ' t like the colors compared to a realme phone in the same price range. It ' s a reall bad second smartphone if you already have a secondary device.\"]"
            ]
          },
          "metadata": {},
          "execution_count": 50
        }
      ]
    },
    {
      "cell_type": "code",
      "source": [
        "df_negative = pd.DataFrame({\"review\" : aug_negative, 'y' : [0]*len(aug_negative)})"
      ],
      "metadata": {
        "execution": {
          "iopub.execute_input": "2022-07-05T06:56:49.38898Z",
          "iopub.status.busy": "2022-07-05T06:56:49.388179Z",
          "iopub.status.idle": "2022-07-05T06:56:49.399811Z",
          "shell.execute_reply": "2022-07-05T06:56:49.399005Z",
          "shell.execute_reply.started": "2022-07-05T06:56:49.388945Z"
        },
        "papermill": {
          "duration": 0.144125,
          "end_time": "2022-06-13T19:48:07.115996",
          "exception": false,
          "start_time": "2022-06-13T19:48:06.971871",
          "status": "completed"
        },
        "tags": [],
        "id": "cyMk05DkCxon"
      },
      "execution_count": 51,
      "outputs": []
    },
    {
      "cell_type": "code",
      "source": [
        "df_positive = pd.DataFrame({\"review\" : positive, 'y' : [1]*len(positive)})"
      ],
      "metadata": {
        "execution": {
          "iopub.execute_input": "2022-07-05T06:56:49.402077Z",
          "iopub.status.busy": "2022-07-05T06:56:49.401361Z",
          "iopub.status.idle": "2022-07-05T06:56:49.411646Z",
          "shell.execute_reply": "2022-07-05T06:56:49.410699Z",
          "shell.execute_reply.started": "2022-07-05T06:56:49.402041Z"
        },
        "papermill": {
          "duration": 0.249664,
          "end_time": "2022-06-13T19:48:07.775714",
          "exception": false,
          "start_time": "2022-06-13T19:48:07.52605",
          "status": "completed"
        },
        "tags": [],
        "id": "a59y218ECxon"
      },
      "execution_count": 52,
      "outputs": []
    },
    {
      "cell_type": "markdown",
      "source": [
        "Concatination both negative and positive sentences"
      ],
      "metadata": {
        "papermill": {
          "duration": 0.232071,
          "end_time": "2022-06-13T19:48:08.251511",
          "exception": false,
          "start_time": "2022-06-13T19:48:08.01944",
          "status": "completed"
        },
        "tags": [],
        "id": "5hUx2-ZgCxoo"
      }
    },
    {
      "cell_type": "code",
      "source": [
        "df_temp = pd.concat([df_negative, df_positive]).sample(frac = 1, random_state = 11).reset_index(drop=True)"
      ],
      "metadata": {
        "execution": {
          "iopub.execute_input": "2022-07-05T06:56:49.415116Z",
          "iopub.status.busy": "2022-07-05T06:56:49.414586Z",
          "iopub.status.idle": "2022-07-05T06:56:49.424279Z",
          "shell.execute_reply": "2022-07-05T06:56:49.423261Z",
          "shell.execute_reply.started": "2022-07-05T06:56:49.415083Z"
        },
        "papermill": {
          "duration": 0.167816,
          "end_time": "2022-06-13T19:48:08.570846",
          "exception": false,
          "start_time": "2022-06-13T19:48:08.40303",
          "status": "completed"
        },
        "tags": [],
        "id": "Gfp3OvKMCxoo"
      },
      "execution_count": 53,
      "outputs": []
    },
    {
      "cell_type": "code",
      "source": [
        "df_temp.info()"
      ],
      "metadata": {
        "execution": {
          "iopub.execute_input": "2022-07-05T06:56:49.426714Z",
          "iopub.status.busy": "2022-07-05T06:56:49.425947Z",
          "iopub.status.idle": "2022-07-05T06:56:49.440501Z",
          "shell.execute_reply": "2022-07-05T06:56:49.439591Z",
          "shell.execute_reply.started": "2022-07-05T06:56:49.426676Z"
        },
        "papermill": {
          "duration": 0.173235,
          "end_time": "2022-06-13T19:48:08.953205",
          "exception": false,
          "start_time": "2022-06-13T19:48:08.77997",
          "status": "completed"
        },
        "tags": [],
        "id": "O4M-E6CICxoo",
        "outputId": "10e20619-9235-4cc0-f2eb-6c3eed339ff2",
        "colab": {
          "base_uri": "https://localhost:8080/"
        }
      },
      "execution_count": 54,
      "outputs": [
        {
          "output_type": "stream",
          "name": "stdout",
          "text": [
            "<class 'pandas.core.frame.DataFrame'>\n",
            "RangeIndex: 9606 entries, 0 to 9605\n",
            "Data columns (total 2 columns):\n",
            " #   Column  Non-Null Count  Dtype \n",
            "---  ------  --------------  ----- \n",
            " 0   review  9606 non-null   object\n",
            " 1   y       9606 non-null   int64 \n",
            "dtypes: int64(1), object(1)\n",
            "memory usage: 150.2+ KB\n"
          ]
        }
      ]
    },
    {
      "cell_type": "code",
      "source": [
        "df_temp.head()"
      ],
      "metadata": {
        "execution": {
          "iopub.execute_input": "2022-07-05T06:56:49.442445Z",
          "iopub.status.busy": "2022-07-05T06:56:49.441889Z",
          "iopub.status.idle": "2022-07-05T06:56:49.453233Z",
          "shell.execute_reply": "2022-07-05T06:56:49.451763Z",
          "shell.execute_reply.started": "2022-07-05T06:56:49.442411Z"
        },
        "papermill": {
          "duration": 0.167756,
          "end_time": "2022-06-13T19:48:09.273626",
          "exception": false,
          "start_time": "2022-06-13T19:48:09.10587",
          "status": "completed"
        },
        "tags": [],
        "id": "7_q4ItLbCxop",
        "outputId": "9b0a0f39-963a-48e3-c586-5a9a1e6ef00c",
        "colab": {
          "base_uri": "https://localhost:8080/",
          "height": 206
        }
      },
      "execution_count": 55,
      "outputs": [
        {
          "output_type": "execute_result",
          "data": {
            "text/plain": [
              "                                              review  y\n",
              "0  great phone in budget. .. pubg performance was...  0\n",
              "1  Best Smartphone by Mi in this Range. . malfunc...  0\n",
              "2  Bad smooth phone. . and back camera quality is...  0\n",
              "3  Thise is very nice mobile ...I like it very mu...  1\n",
              "4  I m meagerly fall short of 👍 All section r sup...  0"
            ],
            "text/html": [
              "\n",
              "  <div id=\"df-48141066-eb03-440e-961d-1fcc26820e18\" class=\"colab-df-container\">\n",
              "    <div>\n",
              "<style scoped>\n",
              "    .dataframe tbody tr th:only-of-type {\n",
              "        vertical-align: middle;\n",
              "    }\n",
              "\n",
              "    .dataframe tbody tr th {\n",
              "        vertical-align: top;\n",
              "    }\n",
              "\n",
              "    .dataframe thead th {\n",
              "        text-align: right;\n",
              "    }\n",
              "</style>\n",
              "<table border=\"1\" class=\"dataframe\">\n",
              "  <thead>\n",
              "    <tr style=\"text-align: right;\">\n",
              "      <th></th>\n",
              "      <th>review</th>\n",
              "      <th>y</th>\n",
              "    </tr>\n",
              "  </thead>\n",
              "  <tbody>\n",
              "    <tr>\n",
              "      <th>0</th>\n",
              "      <td>great phone in budget. .. pubg performance was...</td>\n",
              "      <td>0</td>\n",
              "    </tr>\n",
              "    <tr>\n",
              "      <th>1</th>\n",
              "      <td>Best Smartphone by Mi in this Range. . malfunc...</td>\n",
              "      <td>0</td>\n",
              "    </tr>\n",
              "    <tr>\n",
              "      <th>2</th>\n",
              "      <td>Bad smooth phone. . and back camera quality is...</td>\n",
              "      <td>0</td>\n",
              "    </tr>\n",
              "    <tr>\n",
              "      <th>3</th>\n",
              "      <td>Thise is very nice mobile ...I like it very mu...</td>\n",
              "      <td>1</td>\n",
              "    </tr>\n",
              "    <tr>\n",
              "      <th>4</th>\n",
              "      <td>I m meagerly fall short of 👍 All section r sup...</td>\n",
              "      <td>0</td>\n",
              "    </tr>\n",
              "  </tbody>\n",
              "</table>\n",
              "</div>\n",
              "    <div class=\"colab-df-buttons\">\n",
              "\n",
              "  <div class=\"colab-df-container\">\n",
              "    <button class=\"colab-df-convert\" onclick=\"convertToInteractive('df-48141066-eb03-440e-961d-1fcc26820e18')\"\n",
              "            title=\"Convert this dataframe to an interactive table.\"\n",
              "            style=\"display:none;\">\n",
              "\n",
              "  <svg xmlns=\"http://www.w3.org/2000/svg\" height=\"24px\" viewBox=\"0 -960 960 960\">\n",
              "    <path d=\"M120-120v-720h720v720H120Zm60-500h600v-160H180v160Zm220 220h160v-160H400v160Zm0 220h160v-160H400v160ZM180-400h160v-160H180v160Zm440 0h160v-160H620v160ZM180-180h160v-160H180v160Zm440 0h160v-160H620v160Z\"/>\n",
              "  </svg>\n",
              "    </button>\n",
              "\n",
              "  <style>\n",
              "    .colab-df-container {\n",
              "      display:flex;\n",
              "      gap: 12px;\n",
              "    }\n",
              "\n",
              "    .colab-df-convert {\n",
              "      background-color: #E8F0FE;\n",
              "      border: none;\n",
              "      border-radius: 50%;\n",
              "      cursor: pointer;\n",
              "      display: none;\n",
              "      fill: #1967D2;\n",
              "      height: 32px;\n",
              "      padding: 0 0 0 0;\n",
              "      width: 32px;\n",
              "    }\n",
              "\n",
              "    .colab-df-convert:hover {\n",
              "      background-color: #E2EBFA;\n",
              "      box-shadow: 0px 1px 2px rgba(60, 64, 67, 0.3), 0px 1px 3px 1px rgba(60, 64, 67, 0.15);\n",
              "      fill: #174EA6;\n",
              "    }\n",
              "\n",
              "    .colab-df-buttons div {\n",
              "      margin-bottom: 4px;\n",
              "    }\n",
              "\n",
              "    [theme=dark] .colab-df-convert {\n",
              "      background-color: #3B4455;\n",
              "      fill: #D2E3FC;\n",
              "    }\n",
              "\n",
              "    [theme=dark] .colab-df-convert:hover {\n",
              "      background-color: #434B5C;\n",
              "      box-shadow: 0px 1px 3px 1px rgba(0, 0, 0, 0.15);\n",
              "      filter: drop-shadow(0px 1px 2px rgba(0, 0, 0, 0.3));\n",
              "      fill: #FFFFFF;\n",
              "    }\n",
              "  </style>\n",
              "\n",
              "    <script>\n",
              "      const buttonEl =\n",
              "        document.querySelector('#df-48141066-eb03-440e-961d-1fcc26820e18 button.colab-df-convert');\n",
              "      buttonEl.style.display =\n",
              "        google.colab.kernel.accessAllowed ? 'block' : 'none';\n",
              "\n",
              "      async function convertToInteractive(key) {\n",
              "        const element = document.querySelector('#df-48141066-eb03-440e-961d-1fcc26820e18');\n",
              "        const dataTable =\n",
              "          await google.colab.kernel.invokeFunction('convertToInteractive',\n",
              "                                                    [key], {});\n",
              "        if (!dataTable) return;\n",
              "\n",
              "        const docLinkHtml = 'Like what you see? Visit the ' +\n",
              "          '<a target=\"_blank\" href=https://colab.research.google.com/notebooks/data_table.ipynb>data table notebook</a>'\n",
              "          + ' to learn more about interactive tables.';\n",
              "        element.innerHTML = '';\n",
              "        dataTable['output_type'] = 'display_data';\n",
              "        await google.colab.output.renderOutput(dataTable, element);\n",
              "        const docLink = document.createElement('div');\n",
              "        docLink.innerHTML = docLinkHtml;\n",
              "        element.appendChild(docLink);\n",
              "      }\n",
              "    </script>\n",
              "  </div>\n",
              "\n",
              "\n",
              "<div id=\"df-41fb4eca-ea6f-4ec2-ac27-59d7f4cad7cb\">\n",
              "  <button class=\"colab-df-quickchart\" onclick=\"quickchart('df-41fb4eca-ea6f-4ec2-ac27-59d7f4cad7cb')\"\n",
              "            title=\"Suggest charts\"\n",
              "            style=\"display:none;\">\n",
              "\n",
              "<svg xmlns=\"http://www.w3.org/2000/svg\" height=\"24px\"viewBox=\"0 0 24 24\"\n",
              "     width=\"24px\">\n",
              "    <g>\n",
              "        <path d=\"M19 3H5c-1.1 0-2 .9-2 2v14c0 1.1.9 2 2 2h14c1.1 0 2-.9 2-2V5c0-1.1-.9-2-2-2zM9 17H7v-7h2v7zm4 0h-2V7h2v10zm4 0h-2v-4h2v4z\"/>\n",
              "    </g>\n",
              "</svg>\n",
              "  </button>\n",
              "\n",
              "<style>\n",
              "  .colab-df-quickchart {\n",
              "      --bg-color: #E8F0FE;\n",
              "      --fill-color: #1967D2;\n",
              "      --hover-bg-color: #E2EBFA;\n",
              "      --hover-fill-color: #174EA6;\n",
              "      --disabled-fill-color: #AAA;\n",
              "      --disabled-bg-color: #DDD;\n",
              "  }\n",
              "\n",
              "  [theme=dark] .colab-df-quickchart {\n",
              "      --bg-color: #3B4455;\n",
              "      --fill-color: #D2E3FC;\n",
              "      --hover-bg-color: #434B5C;\n",
              "      --hover-fill-color: #FFFFFF;\n",
              "      --disabled-bg-color: #3B4455;\n",
              "      --disabled-fill-color: #666;\n",
              "  }\n",
              "\n",
              "  .colab-df-quickchart {\n",
              "    background-color: var(--bg-color);\n",
              "    border: none;\n",
              "    border-radius: 50%;\n",
              "    cursor: pointer;\n",
              "    display: none;\n",
              "    fill: var(--fill-color);\n",
              "    height: 32px;\n",
              "    padding: 0;\n",
              "    width: 32px;\n",
              "  }\n",
              "\n",
              "  .colab-df-quickchart:hover {\n",
              "    background-color: var(--hover-bg-color);\n",
              "    box-shadow: 0 1px 2px rgba(60, 64, 67, 0.3), 0 1px 3px 1px rgba(60, 64, 67, 0.15);\n",
              "    fill: var(--button-hover-fill-color);\n",
              "  }\n",
              "\n",
              "  .colab-df-quickchart-complete:disabled,\n",
              "  .colab-df-quickchart-complete:disabled:hover {\n",
              "    background-color: var(--disabled-bg-color);\n",
              "    fill: var(--disabled-fill-color);\n",
              "    box-shadow: none;\n",
              "  }\n",
              "\n",
              "  .colab-df-spinner {\n",
              "    border: 2px solid var(--fill-color);\n",
              "    border-color: transparent;\n",
              "    border-bottom-color: var(--fill-color);\n",
              "    animation:\n",
              "      spin 1s steps(1) infinite;\n",
              "  }\n",
              "\n",
              "  @keyframes spin {\n",
              "    0% {\n",
              "      border-color: transparent;\n",
              "      border-bottom-color: var(--fill-color);\n",
              "      border-left-color: var(--fill-color);\n",
              "    }\n",
              "    20% {\n",
              "      border-color: transparent;\n",
              "      border-left-color: var(--fill-color);\n",
              "      border-top-color: var(--fill-color);\n",
              "    }\n",
              "    30% {\n",
              "      border-color: transparent;\n",
              "      border-left-color: var(--fill-color);\n",
              "      border-top-color: var(--fill-color);\n",
              "      border-right-color: var(--fill-color);\n",
              "    }\n",
              "    40% {\n",
              "      border-color: transparent;\n",
              "      border-right-color: var(--fill-color);\n",
              "      border-top-color: var(--fill-color);\n",
              "    }\n",
              "    60% {\n",
              "      border-color: transparent;\n",
              "      border-right-color: var(--fill-color);\n",
              "    }\n",
              "    80% {\n",
              "      border-color: transparent;\n",
              "      border-right-color: var(--fill-color);\n",
              "      border-bottom-color: var(--fill-color);\n",
              "    }\n",
              "    90% {\n",
              "      border-color: transparent;\n",
              "      border-bottom-color: var(--fill-color);\n",
              "    }\n",
              "  }\n",
              "</style>\n",
              "\n",
              "  <script>\n",
              "    async function quickchart(key) {\n",
              "      const quickchartButtonEl =\n",
              "        document.querySelector('#' + key + ' button');\n",
              "      quickchartButtonEl.disabled = true;  // To prevent multiple clicks.\n",
              "      quickchartButtonEl.classList.add('colab-df-spinner');\n",
              "      try {\n",
              "        const charts = await google.colab.kernel.invokeFunction(\n",
              "            'suggestCharts', [key], {});\n",
              "      } catch (error) {\n",
              "        console.error('Error during call to suggestCharts:', error);\n",
              "      }\n",
              "      quickchartButtonEl.classList.remove('colab-df-spinner');\n",
              "      quickchartButtonEl.classList.add('colab-df-quickchart-complete');\n",
              "    }\n",
              "    (() => {\n",
              "      let quickchartButtonEl =\n",
              "        document.querySelector('#df-41fb4eca-ea6f-4ec2-ac27-59d7f4cad7cb button');\n",
              "      quickchartButtonEl.style.display =\n",
              "        google.colab.kernel.accessAllowed ? 'block' : 'none';\n",
              "    })();\n",
              "  </script>\n",
              "</div>\n",
              "\n",
              "    </div>\n",
              "  </div>\n"
            ],
            "application/vnd.google.colaboratory.intrinsic+json": {
              "type": "dataframe",
              "variable_name": "df_temp",
              "summary": "{\n  \"name\": \"df_temp\",\n  \"rows\": 9606,\n  \"fields\": [\n    {\n      \"column\": \"review\",\n      \"properties\": {\n        \"dtype\": \"string\",\n        \"num_unique_values\": 7426,\n        \"samples\": [\n          \"Redmi 8 is very awesome mobile phone for me and really worst function of this phone very affordable at 8000 only I am very unhappy by deregulate this product from Flipkart to provide fast and quick delivery service to me all features of this immobile server your some worst camera and bad 4g handset.\",\n          \"look wise camera wise it is terrifying at this price range. remarkably i am very fond of Samsung but after leave it i just increase love with this brand.\",\n          \"nasty mobile with awesome features at real price, very unhappy with the product, thanks for the super fast delivery.\"\n        ],\n        \"semantic_type\": \"\",\n        \"description\": \"\"\n      }\n    },\n    {\n      \"column\": \"y\",\n      \"properties\": {\n        \"dtype\": \"number\",\n        \"std\": 0,\n        \"min\": 0,\n        \"max\": 1,\n        \"num_unique_values\": 2,\n        \"samples\": [\n          1,\n          0\n        ],\n        \"semantic_type\": \"\",\n        \"description\": \"\"\n      }\n    }\n  ]\n}"
            }
          },
          "metadata": {},
          "execution_count": 55
        }
      ]
    },
    {
      "cell_type": "code",
      "source": [
        "df = df_temp"
      ],
      "metadata": {
        "execution": {
          "iopub.execute_input": "2022-07-05T06:56:49.457069Z",
          "iopub.status.busy": "2022-07-05T06:56:49.456517Z",
          "iopub.status.idle": "2022-07-05T06:56:49.470131Z",
          "shell.execute_reply": "2022-07-05T06:56:49.469139Z",
          "shell.execute_reply.started": "2022-07-05T06:56:49.457031Z"
        },
        "papermill": {
          "duration": 0.17469,
          "end_time": "2022-06-13T19:48:09.602973",
          "exception": false,
          "start_time": "2022-06-13T19:48:09.428283",
          "status": "completed"
        },
        "tags": [],
        "id": "zOS5m7r3Cxop"
      },
      "execution_count": 56,
      "outputs": []
    },
    {
      "cell_type": "markdown",
      "source": [
        "Applying Text cleaning and preprocessing on whole dataset"
      ],
      "metadata": {
        "papermill": {
          "duration": 0.136432,
          "end_time": "2022-06-13T19:48:09.87803",
          "exception": false,
          "start_time": "2022-06-13T19:48:09.741598",
          "status": "completed"
        },
        "tags": [],
        "id": "2i3cRwEmCxoq"
      }
    },
    {
      "cell_type": "code",
      "source": [
        "def preprocessing(text):\n",
        "\n",
        "    text = remove_url(text)\n",
        "    text = uni.normalize('NFKD', text)\n",
        "    text = handle_emoji(text)\n",
        "    text = text.lower()\n",
        "    text = re.sub(r'[^\\w\\s]', '', text)\n",
        "    text = word_tokenizer(text)\n",
        "    # text = stemming(text)\n",
        "    text = lemmatization(text)\n",
        "    text = remove_stopwords(text)\n",
        "    text = \" \".join(text)\n",
        "\n",
        "    return text"
      ],
      "metadata": {
        "execution": {
          "iopub.execute_input": "2022-07-05T06:56:49.474529Z",
          "iopub.status.busy": "2022-07-05T06:56:49.473261Z",
          "iopub.status.idle": "2022-07-05T06:56:49.482804Z",
          "shell.execute_reply": "2022-07-05T06:56:49.481758Z",
          "shell.execute_reply.started": "2022-07-05T06:56:49.4745Z"
        },
        "papermill": {
          "duration": 0.145807,
          "end_time": "2022-06-13T19:48:10.160127",
          "exception": false,
          "start_time": "2022-06-13T19:48:10.01432",
          "status": "completed"
        },
        "tags": [],
        "id": "T1U35hbqCxoq"
      },
      "execution_count": 57,
      "outputs": []
    },
    {
      "cell_type": "code",
      "source": [
        "from tqdm import tqdm\n",
        "\n",
        "tqdm.pandas()\n",
        "\n",
        "df['clean_review'] = df['review'].progress_map(preprocessing)"
      ],
      "metadata": {
        "execution": {
          "iopub.execute_input": "2022-07-05T06:56:49.486104Z",
          "iopub.status.busy": "2022-07-05T06:56:49.485208Z",
          "iopub.status.idle": "2022-07-05T06:58:34.63791Z",
          "shell.execute_reply": "2022-07-05T06:58:34.636364Z",
          "shell.execute_reply.started": "2022-07-05T06:56:49.486063Z"
        },
        "papermill": {
          "duration": 110.371804,
          "end_time": "2022-06-13T19:50:00.666832",
          "exception": false,
          "start_time": "2022-06-13T19:48:10.295028",
          "status": "completed"
        },
        "tags": [],
        "id": "1TBgFECZCxoq",
        "outputId": "850f3a53-6c99-4e51-d3dc-5014f525f047",
        "colab": {
          "base_uri": "https://localhost:8080/"
        }
      },
      "execution_count": 58,
      "outputs": [
        {
          "output_type": "stream",
          "name": "stderr",
          "text": [
            "100%|██████████| 9606/9606 [02:45<00:00, 57.97it/s]\n"
          ]
        }
      ]
    },
    {
      "cell_type": "code",
      "source": [
        "df.head()"
      ],
      "metadata": {
        "execution": {
          "iopub.execute_input": "2022-07-05T06:58:34.639777Z",
          "iopub.status.busy": "2022-07-05T06:58:34.63942Z",
          "iopub.status.idle": "2022-07-05T06:58:34.649876Z",
          "shell.execute_reply": "2022-07-05T06:58:34.648924Z",
          "shell.execute_reply.started": "2022-07-05T06:58:34.63974Z"
        },
        "papermill": {
          "duration": 0.445654,
          "end_time": "2022-06-13T19:50:01.54986",
          "exception": false,
          "start_time": "2022-06-13T19:50:01.104206",
          "status": "completed"
        },
        "tags": [],
        "id": "gguvlmHrCxor",
        "outputId": "1073626a-fcf8-4660-c69d-03c58d1cefae",
        "colab": {
          "base_uri": "https://localhost:8080/",
          "height": 206
        }
      },
      "execution_count": 59,
      "outputs": [
        {
          "output_type": "execute_result",
          "data": {
            "text/plain": [
              "                                              review  y  \\\n",
              "0  great phone in budget. .. pubg performance was...  0   \n",
              "1  Best Smartphone by Mi in this Range. . malfunc...  0   \n",
              "2  Bad smooth phone. . and back camera quality is...  0   \n",
              "3  Thise is very nice mobile ...I like it very mu...  1   \n",
              "4  I m meagerly fall short of 👍 All section r sup...  0   \n",
              "\n",
              "                                        clean_review  \n",
              "0  great phone budget pubg performance rough came...  \n",
              "1  well smartphone mi range malfunction r confuse...  \n",
              "2  bad smooth phone back camera quality bad rear ...  \n",
              "3  thise nice mobile I like much delivery also fa...  \n",
              "4  I meagerly fall short thumb section r superb d...  "
            ],
            "text/html": [
              "\n",
              "  <div id=\"df-86ebf993-3c90-4f70-8f59-15a48035ff88\" class=\"colab-df-container\">\n",
              "    <div>\n",
              "<style scoped>\n",
              "    .dataframe tbody tr th:only-of-type {\n",
              "        vertical-align: middle;\n",
              "    }\n",
              "\n",
              "    .dataframe tbody tr th {\n",
              "        vertical-align: top;\n",
              "    }\n",
              "\n",
              "    .dataframe thead th {\n",
              "        text-align: right;\n",
              "    }\n",
              "</style>\n",
              "<table border=\"1\" class=\"dataframe\">\n",
              "  <thead>\n",
              "    <tr style=\"text-align: right;\">\n",
              "      <th></th>\n",
              "      <th>review</th>\n",
              "      <th>y</th>\n",
              "      <th>clean_review</th>\n",
              "    </tr>\n",
              "  </thead>\n",
              "  <tbody>\n",
              "    <tr>\n",
              "      <th>0</th>\n",
              "      <td>great phone in budget. .. pubg performance was...</td>\n",
              "      <td>0</td>\n",
              "      <td>great phone budget pubg performance rough came...</td>\n",
              "    </tr>\n",
              "    <tr>\n",
              "      <th>1</th>\n",
              "      <td>Best Smartphone by Mi in this Range. . malfunc...</td>\n",
              "      <td>0</td>\n",
              "      <td>well smartphone mi range malfunction r confuse...</td>\n",
              "    </tr>\n",
              "    <tr>\n",
              "      <th>2</th>\n",
              "      <td>Bad smooth phone. . and back camera quality is...</td>\n",
              "      <td>0</td>\n",
              "      <td>bad smooth phone back camera quality bad rear ...</td>\n",
              "    </tr>\n",
              "    <tr>\n",
              "      <th>3</th>\n",
              "      <td>Thise is very nice mobile ...I like it very mu...</td>\n",
              "      <td>1</td>\n",
              "      <td>thise nice mobile I like much delivery also fa...</td>\n",
              "    </tr>\n",
              "    <tr>\n",
              "      <th>4</th>\n",
              "      <td>I m meagerly fall short of 👍 All section r sup...</td>\n",
              "      <td>0</td>\n",
              "      <td>I meagerly fall short thumb section r superb d...</td>\n",
              "    </tr>\n",
              "  </tbody>\n",
              "</table>\n",
              "</div>\n",
              "    <div class=\"colab-df-buttons\">\n",
              "\n",
              "  <div class=\"colab-df-container\">\n",
              "    <button class=\"colab-df-convert\" onclick=\"convertToInteractive('df-86ebf993-3c90-4f70-8f59-15a48035ff88')\"\n",
              "            title=\"Convert this dataframe to an interactive table.\"\n",
              "            style=\"display:none;\">\n",
              "\n",
              "  <svg xmlns=\"http://www.w3.org/2000/svg\" height=\"24px\" viewBox=\"0 -960 960 960\">\n",
              "    <path d=\"M120-120v-720h720v720H120Zm60-500h600v-160H180v160Zm220 220h160v-160H400v160Zm0 220h160v-160H400v160ZM180-400h160v-160H180v160Zm440 0h160v-160H620v160ZM180-180h160v-160H180v160Zm440 0h160v-160H620v160Z\"/>\n",
              "  </svg>\n",
              "    </button>\n",
              "\n",
              "  <style>\n",
              "    .colab-df-container {\n",
              "      display:flex;\n",
              "      gap: 12px;\n",
              "    }\n",
              "\n",
              "    .colab-df-convert {\n",
              "      background-color: #E8F0FE;\n",
              "      border: none;\n",
              "      border-radius: 50%;\n",
              "      cursor: pointer;\n",
              "      display: none;\n",
              "      fill: #1967D2;\n",
              "      height: 32px;\n",
              "      padding: 0 0 0 0;\n",
              "      width: 32px;\n",
              "    }\n",
              "\n",
              "    .colab-df-convert:hover {\n",
              "      background-color: #E2EBFA;\n",
              "      box-shadow: 0px 1px 2px rgba(60, 64, 67, 0.3), 0px 1px 3px 1px rgba(60, 64, 67, 0.15);\n",
              "      fill: #174EA6;\n",
              "    }\n",
              "\n",
              "    .colab-df-buttons div {\n",
              "      margin-bottom: 4px;\n",
              "    }\n",
              "\n",
              "    [theme=dark] .colab-df-convert {\n",
              "      background-color: #3B4455;\n",
              "      fill: #D2E3FC;\n",
              "    }\n",
              "\n",
              "    [theme=dark] .colab-df-convert:hover {\n",
              "      background-color: #434B5C;\n",
              "      box-shadow: 0px 1px 3px 1px rgba(0, 0, 0, 0.15);\n",
              "      filter: drop-shadow(0px 1px 2px rgba(0, 0, 0, 0.3));\n",
              "      fill: #FFFFFF;\n",
              "    }\n",
              "  </style>\n",
              "\n",
              "    <script>\n",
              "      const buttonEl =\n",
              "        document.querySelector('#df-86ebf993-3c90-4f70-8f59-15a48035ff88 button.colab-df-convert');\n",
              "      buttonEl.style.display =\n",
              "        google.colab.kernel.accessAllowed ? 'block' : 'none';\n",
              "\n",
              "      async function convertToInteractive(key) {\n",
              "        const element = document.querySelector('#df-86ebf993-3c90-4f70-8f59-15a48035ff88');\n",
              "        const dataTable =\n",
              "          await google.colab.kernel.invokeFunction('convertToInteractive',\n",
              "                                                    [key], {});\n",
              "        if (!dataTable) return;\n",
              "\n",
              "        const docLinkHtml = 'Like what you see? Visit the ' +\n",
              "          '<a target=\"_blank\" href=https://colab.research.google.com/notebooks/data_table.ipynb>data table notebook</a>'\n",
              "          + ' to learn more about interactive tables.';\n",
              "        element.innerHTML = '';\n",
              "        dataTable['output_type'] = 'display_data';\n",
              "        await google.colab.output.renderOutput(dataTable, element);\n",
              "        const docLink = document.createElement('div');\n",
              "        docLink.innerHTML = docLinkHtml;\n",
              "        element.appendChild(docLink);\n",
              "      }\n",
              "    </script>\n",
              "  </div>\n",
              "\n",
              "\n",
              "<div id=\"df-0d22822d-fb84-42e7-bc6c-c43ae2a91bf5\">\n",
              "  <button class=\"colab-df-quickchart\" onclick=\"quickchart('df-0d22822d-fb84-42e7-bc6c-c43ae2a91bf5')\"\n",
              "            title=\"Suggest charts\"\n",
              "            style=\"display:none;\">\n",
              "\n",
              "<svg xmlns=\"http://www.w3.org/2000/svg\" height=\"24px\"viewBox=\"0 0 24 24\"\n",
              "     width=\"24px\">\n",
              "    <g>\n",
              "        <path d=\"M19 3H5c-1.1 0-2 .9-2 2v14c0 1.1.9 2 2 2h14c1.1 0 2-.9 2-2V5c0-1.1-.9-2-2-2zM9 17H7v-7h2v7zm4 0h-2V7h2v10zm4 0h-2v-4h2v4z\"/>\n",
              "    </g>\n",
              "</svg>\n",
              "  </button>\n",
              "\n",
              "<style>\n",
              "  .colab-df-quickchart {\n",
              "      --bg-color: #E8F0FE;\n",
              "      --fill-color: #1967D2;\n",
              "      --hover-bg-color: #E2EBFA;\n",
              "      --hover-fill-color: #174EA6;\n",
              "      --disabled-fill-color: #AAA;\n",
              "      --disabled-bg-color: #DDD;\n",
              "  }\n",
              "\n",
              "  [theme=dark] .colab-df-quickchart {\n",
              "      --bg-color: #3B4455;\n",
              "      --fill-color: #D2E3FC;\n",
              "      --hover-bg-color: #434B5C;\n",
              "      --hover-fill-color: #FFFFFF;\n",
              "      --disabled-bg-color: #3B4455;\n",
              "      --disabled-fill-color: #666;\n",
              "  }\n",
              "\n",
              "  .colab-df-quickchart {\n",
              "    background-color: var(--bg-color);\n",
              "    border: none;\n",
              "    border-radius: 50%;\n",
              "    cursor: pointer;\n",
              "    display: none;\n",
              "    fill: var(--fill-color);\n",
              "    height: 32px;\n",
              "    padding: 0;\n",
              "    width: 32px;\n",
              "  }\n",
              "\n",
              "  .colab-df-quickchart:hover {\n",
              "    background-color: var(--hover-bg-color);\n",
              "    box-shadow: 0 1px 2px rgba(60, 64, 67, 0.3), 0 1px 3px 1px rgba(60, 64, 67, 0.15);\n",
              "    fill: var(--button-hover-fill-color);\n",
              "  }\n",
              "\n",
              "  .colab-df-quickchart-complete:disabled,\n",
              "  .colab-df-quickchart-complete:disabled:hover {\n",
              "    background-color: var(--disabled-bg-color);\n",
              "    fill: var(--disabled-fill-color);\n",
              "    box-shadow: none;\n",
              "  }\n",
              "\n",
              "  .colab-df-spinner {\n",
              "    border: 2px solid var(--fill-color);\n",
              "    border-color: transparent;\n",
              "    border-bottom-color: var(--fill-color);\n",
              "    animation:\n",
              "      spin 1s steps(1) infinite;\n",
              "  }\n",
              "\n",
              "  @keyframes spin {\n",
              "    0% {\n",
              "      border-color: transparent;\n",
              "      border-bottom-color: var(--fill-color);\n",
              "      border-left-color: var(--fill-color);\n",
              "    }\n",
              "    20% {\n",
              "      border-color: transparent;\n",
              "      border-left-color: var(--fill-color);\n",
              "      border-top-color: var(--fill-color);\n",
              "    }\n",
              "    30% {\n",
              "      border-color: transparent;\n",
              "      border-left-color: var(--fill-color);\n",
              "      border-top-color: var(--fill-color);\n",
              "      border-right-color: var(--fill-color);\n",
              "    }\n",
              "    40% {\n",
              "      border-color: transparent;\n",
              "      border-right-color: var(--fill-color);\n",
              "      border-top-color: var(--fill-color);\n",
              "    }\n",
              "    60% {\n",
              "      border-color: transparent;\n",
              "      border-right-color: var(--fill-color);\n",
              "    }\n",
              "    80% {\n",
              "      border-color: transparent;\n",
              "      border-right-color: var(--fill-color);\n",
              "      border-bottom-color: var(--fill-color);\n",
              "    }\n",
              "    90% {\n",
              "      border-color: transparent;\n",
              "      border-bottom-color: var(--fill-color);\n",
              "    }\n",
              "  }\n",
              "</style>\n",
              "\n",
              "  <script>\n",
              "    async function quickchart(key) {\n",
              "      const quickchartButtonEl =\n",
              "        document.querySelector('#' + key + ' button');\n",
              "      quickchartButtonEl.disabled = true;  // To prevent multiple clicks.\n",
              "      quickchartButtonEl.classList.add('colab-df-spinner');\n",
              "      try {\n",
              "        const charts = await google.colab.kernel.invokeFunction(\n",
              "            'suggestCharts', [key], {});\n",
              "      } catch (error) {\n",
              "        console.error('Error during call to suggestCharts:', error);\n",
              "      }\n",
              "      quickchartButtonEl.classList.remove('colab-df-spinner');\n",
              "      quickchartButtonEl.classList.add('colab-df-quickchart-complete');\n",
              "    }\n",
              "    (() => {\n",
              "      let quickchartButtonEl =\n",
              "        document.querySelector('#df-0d22822d-fb84-42e7-bc6c-c43ae2a91bf5 button');\n",
              "      quickchartButtonEl.style.display =\n",
              "        google.colab.kernel.accessAllowed ? 'block' : 'none';\n",
              "    })();\n",
              "  </script>\n",
              "</div>\n",
              "\n",
              "    </div>\n",
              "  </div>\n"
            ],
            "application/vnd.google.colaboratory.intrinsic+json": {
              "type": "dataframe",
              "variable_name": "df",
              "summary": "{\n  \"name\": \"df\",\n  \"rows\": 9606,\n  \"fields\": [\n    {\n      \"column\": \"review\",\n      \"properties\": {\n        \"dtype\": \"string\",\n        \"num_unique_values\": 7426,\n        \"samples\": [\n          \"Redmi 8 is very awesome mobile phone for me and really worst function of this phone very affordable at 8000 only I am very unhappy by deregulate this product from Flipkart to provide fast and quick delivery service to me all features of this immobile server your some worst camera and bad 4g handset.\",\n          \"look wise camera wise it is terrifying at this price range. remarkably i am very fond of Samsung but after leave it i just increase love with this brand.\",\n          \"nasty mobile with awesome features at real price, very unhappy with the product, thanks for the super fast delivery.\"\n        ],\n        \"semantic_type\": \"\",\n        \"description\": \"\"\n      }\n    },\n    {\n      \"column\": \"y\",\n      \"properties\": {\n        \"dtype\": \"number\",\n        \"std\": 0,\n        \"min\": 0,\n        \"max\": 1,\n        \"num_unique_values\": 2,\n        \"samples\": [\n          1,\n          0\n        ],\n        \"semantic_type\": \"\",\n        \"description\": \"\"\n      }\n    },\n    {\n      \"column\": \"clean_review\",\n      \"properties\": {\n        \"dtype\": \"string\",\n        \"num_unique_values\": 7401,\n        \"samples\": [\n          \"use 7 month problem performance really bad deal redmi flipkart hate phone\",\n          \"extra ordinary mind blow phone I order blue coloured phone look glossy stunning camera front back perfect awesome day night condition I get 6 gb ram version phone long wait way thank xiaomi make budget friendly phone\"\n        ],\n        \"semantic_type\": \"\",\n        \"description\": \"\"\n      }\n    }\n  ]\n}"
            }
          },
          "metadata": {},
          "execution_count": 59
        }
      ]
    },
    {
      "cell_type": "code",
      "source": [
        "reviews = df.clean_review.values.tolist()\n"
      ],
      "metadata": {
        "execution": {
          "iopub.execute_input": "2022-07-05T06:58:34.651711Z",
          "iopub.status.busy": "2022-07-05T06:58:34.651357Z",
          "iopub.status.idle": "2022-07-05T06:58:34.661402Z",
          "shell.execute_reply": "2022-07-05T06:58:34.660378Z",
          "shell.execute_reply.started": "2022-07-05T06:58:34.651676Z"
        },
        "papermill": {
          "duration": 0.439103,
          "end_time": "2022-06-13T19:50:02.425414",
          "exception": false,
          "start_time": "2022-06-13T19:50:01.986311",
          "status": "completed"
        },
        "tags": [],
        "id": "fKIeZ1KLCxor"
      },
      "execution_count": 60,
      "outputs": []
    },
    {
      "cell_type": "markdown",
      "source": [
        "Prepare data for LDA Analysis\n",
        "Next, let’s work to transform the textual data in a format that will serve as an input for training LDA model. We start by tokenizing the text and removing stopwords. Next, we convert the tokenized object into a corpus and dictionary."
      ],
      "metadata": {
        "papermill": {
          "duration": 0.447618,
          "end_time": "2022-06-13T19:50:03.308398",
          "exception": false,
          "start_time": "2022-06-13T19:50:02.86078",
          "status": "completed"
        },
        "tags": [],
        "id": "qXLs-YHHCxor"
      }
    },
    {
      "cell_type": "code",
      "source": [
        "from tqdm import tqdm\n",
        "\n",
        "tqdm.pandas()\n",
        "\n",
        "df['clean_review2'] = df['clean_review'].progress_map(word_tokenizer)"
      ],
      "metadata": {
        "execution": {
          "iopub.execute_input": "2022-07-05T06:58:34.663816Z",
          "iopub.status.busy": "2022-07-05T06:58:34.663389Z",
          "iopub.status.idle": "2022-07-05T06:58:34.719841Z",
          "shell.execute_reply": "2022-07-05T06:58:34.718864Z",
          "shell.execute_reply.started": "2022-07-05T06:58:34.663779Z"
        },
        "papermill": {
          "duration": 0.490154,
          "end_time": "2022-06-13T19:50:04.235458",
          "exception": false,
          "start_time": "2022-06-13T19:50:03.745304",
          "status": "completed"
        },
        "tags": [],
        "id": "QpUrMgSOCxos",
        "outputId": "6968ba4e-b77f-40a9-ead3-f0a8947f5cd8",
        "colab": {
          "base_uri": "https://localhost:8080/"
        }
      },
      "execution_count": 61,
      "outputs": [
        {
          "output_type": "stream",
          "name": "stderr",
          "text": [
            "100%|██████████| 9606/9606 [00:00<00:00, 174477.35it/s]\n"
          ]
        }
      ]
    },
    {
      "cell_type": "code",
      "source": [
        "df.head()"
      ],
      "metadata": {
        "execution": {
          "iopub.execute_input": "2022-07-05T06:58:34.721936Z",
          "iopub.status.busy": "2022-07-05T06:58:34.721349Z",
          "iopub.status.idle": "2022-07-05T06:58:34.735484Z",
          "shell.execute_reply": "2022-07-05T06:58:34.73445Z",
          "shell.execute_reply.started": "2022-07-05T06:58:34.721901Z"
        },
        "papermill": {
          "duration": 0.450831,
          "end_time": "2022-06-13T19:50:05.123219",
          "exception": false,
          "start_time": "2022-06-13T19:50:04.672388",
          "status": "completed"
        },
        "tags": [],
        "id": "6Q-3vk_fCxos",
        "outputId": "f472a27e-dd63-4859-c89f-bafbaf95c596",
        "colab": {
          "base_uri": "https://localhost:8080/",
          "height": 206
        }
      },
      "execution_count": 62,
      "outputs": [
        {
          "output_type": "execute_result",
          "data": {
            "text/plain": [
              "                                              review  y  \\\n",
              "0  great phone in budget. .. pubg performance was...  0   \n",
              "1  Best Smartphone by Mi in this Range. . malfunc...  0   \n",
              "2  Bad smooth phone. . and back camera quality is...  0   \n",
              "3  Thise is very nice mobile ...I like it very mu...  1   \n",
              "4  I m meagerly fall short of 👍 All section r sup...  0   \n",
              "\n",
              "                                        clean_review  \\\n",
              "0  great phone budget pubg performance rough came...   \n",
              "1  well smartphone mi range malfunction r confuse...   \n",
              "2  bad smooth phone back camera quality bad rear ...   \n",
              "3  thise nice mobile I like much delivery also fa...   \n",
              "4  I meagerly fall short thumb section r superb d...   \n",
              "\n",
              "                                       clean_review2  \n",
              "0  [great, phone, budget, pubg, performance, roug...  \n",
              "1  [well, smartphone, mi, range, malfunction, r, ...  \n",
              "2  [bad, smooth, phone, back, camera, quality, ba...  \n",
              "3  [thise, nice, mobile, i, like, much, delivery,...  \n",
              "4  [i, meagerly, fall, short, thumb, section, r, ...  "
            ],
            "text/html": [
              "\n",
              "  <div id=\"df-06a672b4-8d17-4f42-b444-2a9808dc83ad\" class=\"colab-df-container\">\n",
              "    <div>\n",
              "<style scoped>\n",
              "    .dataframe tbody tr th:only-of-type {\n",
              "        vertical-align: middle;\n",
              "    }\n",
              "\n",
              "    .dataframe tbody tr th {\n",
              "        vertical-align: top;\n",
              "    }\n",
              "\n",
              "    .dataframe thead th {\n",
              "        text-align: right;\n",
              "    }\n",
              "</style>\n",
              "<table border=\"1\" class=\"dataframe\">\n",
              "  <thead>\n",
              "    <tr style=\"text-align: right;\">\n",
              "      <th></th>\n",
              "      <th>review</th>\n",
              "      <th>y</th>\n",
              "      <th>clean_review</th>\n",
              "      <th>clean_review2</th>\n",
              "    </tr>\n",
              "  </thead>\n",
              "  <tbody>\n",
              "    <tr>\n",
              "      <th>0</th>\n",
              "      <td>great phone in budget. .. pubg performance was...</td>\n",
              "      <td>0</td>\n",
              "      <td>great phone budget pubg performance rough came...</td>\n",
              "      <td>[great, phone, budget, pubg, performance, roug...</td>\n",
              "    </tr>\n",
              "    <tr>\n",
              "      <th>1</th>\n",
              "      <td>Best Smartphone by Mi in this Range. . malfunc...</td>\n",
              "      <td>0</td>\n",
              "      <td>well smartphone mi range malfunction r confuse...</td>\n",
              "      <td>[well, smartphone, mi, range, malfunction, r, ...</td>\n",
              "    </tr>\n",
              "    <tr>\n",
              "      <th>2</th>\n",
              "      <td>Bad smooth phone. . and back camera quality is...</td>\n",
              "      <td>0</td>\n",
              "      <td>bad smooth phone back camera quality bad rear ...</td>\n",
              "      <td>[bad, smooth, phone, back, camera, quality, ba...</td>\n",
              "    </tr>\n",
              "    <tr>\n",
              "      <th>3</th>\n",
              "      <td>Thise is very nice mobile ...I like it very mu...</td>\n",
              "      <td>1</td>\n",
              "      <td>thise nice mobile I like much delivery also fa...</td>\n",
              "      <td>[thise, nice, mobile, i, like, much, delivery,...</td>\n",
              "    </tr>\n",
              "    <tr>\n",
              "      <th>4</th>\n",
              "      <td>I m meagerly fall short of 👍 All section r sup...</td>\n",
              "      <td>0</td>\n",
              "      <td>I meagerly fall short thumb section r superb d...</td>\n",
              "      <td>[i, meagerly, fall, short, thumb, section, r, ...</td>\n",
              "    </tr>\n",
              "  </tbody>\n",
              "</table>\n",
              "</div>\n",
              "    <div class=\"colab-df-buttons\">\n",
              "\n",
              "  <div class=\"colab-df-container\">\n",
              "    <button class=\"colab-df-convert\" onclick=\"convertToInteractive('df-06a672b4-8d17-4f42-b444-2a9808dc83ad')\"\n",
              "            title=\"Convert this dataframe to an interactive table.\"\n",
              "            style=\"display:none;\">\n",
              "\n",
              "  <svg xmlns=\"http://www.w3.org/2000/svg\" height=\"24px\" viewBox=\"0 -960 960 960\">\n",
              "    <path d=\"M120-120v-720h720v720H120Zm60-500h600v-160H180v160Zm220 220h160v-160H400v160Zm0 220h160v-160H400v160ZM180-400h160v-160H180v160Zm440 0h160v-160H620v160ZM180-180h160v-160H180v160Zm440 0h160v-160H620v160Z\"/>\n",
              "  </svg>\n",
              "    </button>\n",
              "\n",
              "  <style>\n",
              "    .colab-df-container {\n",
              "      display:flex;\n",
              "      gap: 12px;\n",
              "    }\n",
              "\n",
              "    .colab-df-convert {\n",
              "      background-color: #E8F0FE;\n",
              "      border: none;\n",
              "      border-radius: 50%;\n",
              "      cursor: pointer;\n",
              "      display: none;\n",
              "      fill: #1967D2;\n",
              "      height: 32px;\n",
              "      padding: 0 0 0 0;\n",
              "      width: 32px;\n",
              "    }\n",
              "\n",
              "    .colab-df-convert:hover {\n",
              "      background-color: #E2EBFA;\n",
              "      box-shadow: 0px 1px 2px rgba(60, 64, 67, 0.3), 0px 1px 3px 1px rgba(60, 64, 67, 0.15);\n",
              "      fill: #174EA6;\n",
              "    }\n",
              "\n",
              "    .colab-df-buttons div {\n",
              "      margin-bottom: 4px;\n",
              "    }\n",
              "\n",
              "    [theme=dark] .colab-df-convert {\n",
              "      background-color: #3B4455;\n",
              "      fill: #D2E3FC;\n",
              "    }\n",
              "\n",
              "    [theme=dark] .colab-df-convert:hover {\n",
              "      background-color: #434B5C;\n",
              "      box-shadow: 0px 1px 3px 1px rgba(0, 0, 0, 0.15);\n",
              "      filter: drop-shadow(0px 1px 2px rgba(0, 0, 0, 0.3));\n",
              "      fill: #FFFFFF;\n",
              "    }\n",
              "  </style>\n",
              "\n",
              "    <script>\n",
              "      const buttonEl =\n",
              "        document.querySelector('#df-06a672b4-8d17-4f42-b444-2a9808dc83ad button.colab-df-convert');\n",
              "      buttonEl.style.display =\n",
              "        google.colab.kernel.accessAllowed ? 'block' : 'none';\n",
              "\n",
              "      async function convertToInteractive(key) {\n",
              "        const element = document.querySelector('#df-06a672b4-8d17-4f42-b444-2a9808dc83ad');\n",
              "        const dataTable =\n",
              "          await google.colab.kernel.invokeFunction('convertToInteractive',\n",
              "                                                    [key], {});\n",
              "        if (!dataTable) return;\n",
              "\n",
              "        const docLinkHtml = 'Like what you see? Visit the ' +\n",
              "          '<a target=\"_blank\" href=https://colab.research.google.com/notebooks/data_table.ipynb>data table notebook</a>'\n",
              "          + ' to learn more about interactive tables.';\n",
              "        element.innerHTML = '';\n",
              "        dataTable['output_type'] = 'display_data';\n",
              "        await google.colab.output.renderOutput(dataTable, element);\n",
              "        const docLink = document.createElement('div');\n",
              "        docLink.innerHTML = docLinkHtml;\n",
              "        element.appendChild(docLink);\n",
              "      }\n",
              "    </script>\n",
              "  </div>\n",
              "\n",
              "\n",
              "<div id=\"df-6d9a7cde-1350-4ad6-a0f1-13e0847ff536\">\n",
              "  <button class=\"colab-df-quickchart\" onclick=\"quickchart('df-6d9a7cde-1350-4ad6-a0f1-13e0847ff536')\"\n",
              "            title=\"Suggest charts\"\n",
              "            style=\"display:none;\">\n",
              "\n",
              "<svg xmlns=\"http://www.w3.org/2000/svg\" height=\"24px\"viewBox=\"0 0 24 24\"\n",
              "     width=\"24px\">\n",
              "    <g>\n",
              "        <path d=\"M19 3H5c-1.1 0-2 .9-2 2v14c0 1.1.9 2 2 2h14c1.1 0 2-.9 2-2V5c0-1.1-.9-2-2-2zM9 17H7v-7h2v7zm4 0h-2V7h2v10zm4 0h-2v-4h2v4z\"/>\n",
              "    </g>\n",
              "</svg>\n",
              "  </button>\n",
              "\n",
              "<style>\n",
              "  .colab-df-quickchart {\n",
              "      --bg-color: #E8F0FE;\n",
              "      --fill-color: #1967D2;\n",
              "      --hover-bg-color: #E2EBFA;\n",
              "      --hover-fill-color: #174EA6;\n",
              "      --disabled-fill-color: #AAA;\n",
              "      --disabled-bg-color: #DDD;\n",
              "  }\n",
              "\n",
              "  [theme=dark] .colab-df-quickchart {\n",
              "      --bg-color: #3B4455;\n",
              "      --fill-color: #D2E3FC;\n",
              "      --hover-bg-color: #434B5C;\n",
              "      --hover-fill-color: #FFFFFF;\n",
              "      --disabled-bg-color: #3B4455;\n",
              "      --disabled-fill-color: #666;\n",
              "  }\n",
              "\n",
              "  .colab-df-quickchart {\n",
              "    background-color: var(--bg-color);\n",
              "    border: none;\n",
              "    border-radius: 50%;\n",
              "    cursor: pointer;\n",
              "    display: none;\n",
              "    fill: var(--fill-color);\n",
              "    height: 32px;\n",
              "    padding: 0;\n",
              "    width: 32px;\n",
              "  }\n",
              "\n",
              "  .colab-df-quickchart:hover {\n",
              "    background-color: var(--hover-bg-color);\n",
              "    box-shadow: 0 1px 2px rgba(60, 64, 67, 0.3), 0 1px 3px 1px rgba(60, 64, 67, 0.15);\n",
              "    fill: var(--button-hover-fill-color);\n",
              "  }\n",
              "\n",
              "  .colab-df-quickchart-complete:disabled,\n",
              "  .colab-df-quickchart-complete:disabled:hover {\n",
              "    background-color: var(--disabled-bg-color);\n",
              "    fill: var(--disabled-fill-color);\n",
              "    box-shadow: none;\n",
              "  }\n",
              "\n",
              "  .colab-df-spinner {\n",
              "    border: 2px solid var(--fill-color);\n",
              "    border-color: transparent;\n",
              "    border-bottom-color: var(--fill-color);\n",
              "    animation:\n",
              "      spin 1s steps(1) infinite;\n",
              "  }\n",
              "\n",
              "  @keyframes spin {\n",
              "    0% {\n",
              "      border-color: transparent;\n",
              "      border-bottom-color: var(--fill-color);\n",
              "      border-left-color: var(--fill-color);\n",
              "    }\n",
              "    20% {\n",
              "      border-color: transparent;\n",
              "      border-left-color: var(--fill-color);\n",
              "      border-top-color: var(--fill-color);\n",
              "    }\n",
              "    30% {\n",
              "      border-color: transparent;\n",
              "      border-left-color: var(--fill-color);\n",
              "      border-top-color: var(--fill-color);\n",
              "      border-right-color: var(--fill-color);\n",
              "    }\n",
              "    40% {\n",
              "      border-color: transparent;\n",
              "      border-right-color: var(--fill-color);\n",
              "      border-top-color: var(--fill-color);\n",
              "    }\n",
              "    60% {\n",
              "      border-color: transparent;\n",
              "      border-right-color: var(--fill-color);\n",
              "    }\n",
              "    80% {\n",
              "      border-color: transparent;\n",
              "      border-right-color: var(--fill-color);\n",
              "      border-bottom-color: var(--fill-color);\n",
              "    }\n",
              "    90% {\n",
              "      border-color: transparent;\n",
              "      border-bottom-color: var(--fill-color);\n",
              "    }\n",
              "  }\n",
              "</style>\n",
              "\n",
              "  <script>\n",
              "    async function quickchart(key) {\n",
              "      const quickchartButtonEl =\n",
              "        document.querySelector('#' + key + ' button');\n",
              "      quickchartButtonEl.disabled = true;  // To prevent multiple clicks.\n",
              "      quickchartButtonEl.classList.add('colab-df-spinner');\n",
              "      try {\n",
              "        const charts = await google.colab.kernel.invokeFunction(\n",
              "            'suggestCharts', [key], {});\n",
              "      } catch (error) {\n",
              "        console.error('Error during call to suggestCharts:', error);\n",
              "      }\n",
              "      quickchartButtonEl.classList.remove('colab-df-spinner');\n",
              "      quickchartButtonEl.classList.add('colab-df-quickchart-complete');\n",
              "    }\n",
              "    (() => {\n",
              "      let quickchartButtonEl =\n",
              "        document.querySelector('#df-6d9a7cde-1350-4ad6-a0f1-13e0847ff536 button');\n",
              "      quickchartButtonEl.style.display =\n",
              "        google.colab.kernel.accessAllowed ? 'block' : 'none';\n",
              "    })();\n",
              "  </script>\n",
              "</div>\n",
              "\n",
              "    </div>\n",
              "  </div>\n"
            ],
            "application/vnd.google.colaboratory.intrinsic+json": {
              "type": "dataframe",
              "variable_name": "df",
              "summary": "{\n  \"name\": \"df\",\n  \"rows\": 9606,\n  \"fields\": [\n    {\n      \"column\": \"review\",\n      \"properties\": {\n        \"dtype\": \"string\",\n        \"num_unique_values\": 7426,\n        \"samples\": [\n          \"Redmi 8 is very awesome mobile phone for me and really worst function of this phone very affordable at 8000 only I am very unhappy by deregulate this product from Flipkart to provide fast and quick delivery service to me all features of this immobile server your some worst camera and bad 4g handset.\",\n          \"look wise camera wise it is terrifying at this price range. remarkably i am very fond of Samsung but after leave it i just increase love with this brand.\",\n          \"nasty mobile with awesome features at real price, very unhappy with the product, thanks for the super fast delivery.\"\n        ],\n        \"semantic_type\": \"\",\n        \"description\": \"\"\n      }\n    },\n    {\n      \"column\": \"y\",\n      \"properties\": {\n        \"dtype\": \"number\",\n        \"std\": 0,\n        \"min\": 0,\n        \"max\": 1,\n        \"num_unique_values\": 2,\n        \"samples\": [\n          1,\n          0\n        ],\n        \"semantic_type\": \"\",\n        \"description\": \"\"\n      }\n    },\n    {\n      \"column\": \"clean_review\",\n      \"properties\": {\n        \"dtype\": \"string\",\n        \"num_unique_values\": 7401,\n        \"samples\": [\n          \"use 7 month problem performance really bad deal redmi flipkart hate phone\",\n          \"extra ordinary mind blow phone I order blue coloured phone look glossy stunning camera front back perfect awesome day night condition I get 6 gb ram version phone long wait way thank xiaomi make budget friendly phone\"\n        ],\n        \"semantic_type\": \"\",\n        \"description\": \"\"\n      }\n    },\n    {\n      \"column\": \"clean_review2\",\n      \"properties\": {\n        \"dtype\": \"object\",\n        \"semantic_type\": \"\",\n        \"description\": \"\"\n      }\n    }\n  ]\n}"
            }
          },
          "metadata": {},
          "execution_count": 62
        }
      ]
    },
    {
      "cell_type": "markdown",
      "source": [
        "Now as our dataset is unlabeled so we need an algorithm that can get labels to us. We will use the following algorithm (LDA) to do so. We will use Topic Modeling Technique to find aspects from the reviews.\n",
        "\n",
        "In general, topic modelling refers to a set of unsupervised statistical learning methods for detecting latent topics in a large number of text texts. Latent Dirichlet allocation (LDA), latent semantic analysis (LSA), and probabilistic latent semantic analysis are three prominent topic modelling algorithms (PLSA). LDA is the most widely employed approach in practise. And we will too gonna use LDA for our analysis"
      ],
      "metadata": {
        "papermill": {
          "duration": 0.444619,
          "end_time": "2022-06-13T19:50:06.002179",
          "exception": false,
          "start_time": "2022-06-13T19:50:05.55756",
          "status": "completed"
        },
        "tags": [],
        "id": "6n6ylnQ3Cxos"
      }
    },
    {
      "cell_type": "markdown",
      "source": [
        "<h1  style=\"text-align: center\" class=\"list-group-item list-group-item-action active\">5. Latent Dirichlet Allocation (LDA) </h1><a id = \"5\" ></a>\n",
        "\n",
        "\n",
        "**What does LDA do? Let’s start with a toy corpus.**\n",
        "\n",
        "Consider the following collection of documents, D1 to D5, and each document consists of a one sentence:\n",
        "\n",
        "• D1: I like these mobile phones.\n",
        "• D2: Battery backup for this phone is great and camera quality is an add on feature.\n",
        "• D3: Look at the front camera I guess it is better than the rear camera.\n",
        "• D4: Processing Speed of this phone is great.\n",
        "• D5: I Like the battery most in this phone but I am not satisfied with the service of this company.\n",
        "\n",
        "Learning a topic model on this collection using LDA may produce an output like this:\n",
        "\n",
        "• Topic A: 30% battery, 15% camera, 10% Processor, 10% Service.\n",
        "• Topic B: 20% Rear Camera, 20% Front Camera, 20% Service, 20% Processor\n",
        "• Document 1 and 2: 100% Topic A\n",
        "• Document 3 and 4: 100% Topic B\n",
        "• Document 5: 60% Topic A, 40% Topic B\n",
        "\n",
        "Topics are just a collection of keywords with a probability distribution, while documents are collections of topics with the same probability distribution. A topic model just provides a list of keywords for each topic. What is the situation?Human perception of what an issue symbolises and what it should be labelled is common in the context of an LDA model."
      ],
      "metadata": {
        "papermill": {
          "duration": 0.448222,
          "end_time": "2022-06-13T19:50:06.887267",
          "exception": false,
          "start_time": "2022-06-13T19:50:06.439045",
          "status": "completed"
        },
        "tags": [],
        "id": "f9OqWHVkCxot"
      }
    },
    {
      "cell_type": "code",
      "source": [
        "data_words = df['clean_review2'].values.tolist()\n",
        "len(data_words)"
      ],
      "metadata": {
        "execution": {
          "iopub.execute_input": "2022-07-05T06:58:34.73792Z",
          "iopub.status.busy": "2022-07-05T06:58:34.737572Z",
          "iopub.status.idle": "2022-07-05T06:58:34.745257Z",
          "shell.execute_reply": "2022-07-05T06:58:34.744081Z",
          "shell.execute_reply.started": "2022-07-05T06:58:34.737887Z"
        },
        "papermill": {
          "duration": 0.444005,
          "end_time": "2022-06-13T19:50:07.766821",
          "exception": false,
          "start_time": "2022-06-13T19:50:07.322816",
          "status": "completed"
        },
        "tags": [],
        "id": "r1MURqmaCxot",
        "outputId": "7cbf94c1-628b-42b7-93ac-1eba879e4691",
        "colab": {
          "base_uri": "https://localhost:8080/"
        }
      },
      "execution_count": 63,
      "outputs": [
        {
          "output_type": "execute_result",
          "data": {
            "text/plain": [
              "9606"
            ]
          },
          "metadata": {},
          "execution_count": 63
        }
      ]
    },
    {
      "cell_type": "markdown",
      "source": [
        "You could refer this blog post to understand LDA more nicely.\n",
        "\n",
        "[Topic Modeling in Python: Latent Dirichlet Allocation (LDA)](https://towardsdatascience.com/end-to-end-topic-modeling-in-python-latent-dirichlet-allocation-lda-35ce4ed6b3e0)"
      ],
      "metadata": {
        "papermill": {
          "duration": 0.742416,
          "end_time": "2022-06-13T19:50:08.94971",
          "exception": false,
          "start_time": "2022-06-13T19:50:08.207294",
          "status": "completed"
        },
        "tags": [],
        "id": "DGCnTCcGCxot"
      }
    },
    {
      "cell_type": "code",
      "source": [
        "import gensim.corpora as corpora\n",
        "\n",
        "# Create Dictionary\n",
        "id2word = corpora.Dictionary(data_words)\n",
        "# Create Corpus\n",
        "texts = data_words\n",
        "# Term Document Frequency\n",
        "corpus = [id2word.doc2bow(text) for text in texts]\n",
        "# View\n",
        "print(corpus[:1][0][:30])\n"
      ],
      "metadata": {
        "execution": {
          "iopub.execute_input": "2022-07-05T06:58:34.747423Z",
          "iopub.status.busy": "2022-07-05T06:58:34.746771Z",
          "iopub.status.idle": "2022-07-05T06:58:35.392254Z",
          "shell.execute_reply": "2022-07-05T06:58:35.391154Z",
          "shell.execute_reply.started": "2022-07-05T06:58:34.747391Z"
        },
        "papermill": {
          "duration": 0.975637,
          "end_time": "2022-06-13T19:50:10.94896",
          "exception": false,
          "start_time": "2022-06-13T19:50:09.973323",
          "status": "completed"
        },
        "tags": [],
        "id": "PZK10iXeCxou",
        "outputId": "7cfc479d-a11e-4342-e096-2b0a0b0398d4",
        "colab": {
          "base_uri": "https://localhost:8080/"
        }
      },
      "execution_count": 64,
      "outputs": [
        {
          "output_type": "stream",
          "name": "stdout",
          "text": [
            "[(0, 1), (1, 1), (2, 1), (3, 1), (4, 1), (5, 1), (6, 1), (7, 1), (8, 1), (9, 1), (10, 3), (11, 1), (12, 1), (13, 1), (14, 1), (15, 1), (16, 1)]\n"
          ]
        }
      ]
    },
    {
      "cell_type": "code",
      "source": [
        "from gensim.models import LdaMulticore\n",
        "from gensim.models import LdaModel\n",
        "from pprint import pprint\n",
        "\n",
        "# number of topics\n",
        "num_topics = 10\n",
        "# Build LDA model\n",
        "lda_model = LdaMulticore(corpus=corpus, id2word=id2word,\n",
        "                     num_topics=num_topics, iterations=400)\n",
        "# Print the Keyword in the 10 topics\n",
        "pprint(lda_model.print_topics())\n",
        "doc_lda = lda_model[corpus]\n"
      ],
      "metadata": {
        "execution": {
          "iopub.execute_input": "2022-07-05T06:58:35.399077Z",
          "iopub.status.busy": "2022-07-05T06:58:35.396745Z",
          "iopub.status.idle": "2022-07-05T06:58:49.769474Z",
          "shell.execute_reply": "2022-07-05T06:58:49.768379Z",
          "shell.execute_reply.started": "2022-07-05T06:58:35.399038Z"
        },
        "papermill": {
          "duration": 14.172241,
          "end_time": "2022-06-13T19:50:25.557911",
          "exception": false,
          "start_time": "2022-06-13T19:50:11.38567",
          "status": "completed"
        },
        "tags": [],
        "id": "JKHkNSESCxou",
        "outputId": "c4aa457b-6b67-4c5f-d3d4-0edee842f21c",
        "colab": {
          "base_uri": "https://localhost:8080/"
        }
      },
      "execution_count": 65,
      "outputs": [
        {
          "output_type": "stream",
          "name": "stderr",
          "text": [
            "WARNING:gensim.models.ldamulticore:too few updates, training might not converge; consider increasing the number of passes or iterations to improve accuracy\n",
            "/usr/lib/python3.10/multiprocessing/popen_fork.py:66: RuntimeWarning: os.fork() was called. os.fork() is incompatible with multithreaded code, and JAX is multithreaded, so this will likely lead to a deadlock.\n",
            "  self.pid = os.fork()\n"
          ]
        },
        {
          "output_type": "stream",
          "name": "stdout",
          "text": [
            "[(0,\n",
            "  '0.047*\"phone\" + 0.039*\"camera\" + 0.021*\"good\" + 0.018*\"bad\" + '\n",
            "  '0.018*\"battery\" + 0.017*\"face\" + 0.016*\"awesome\" + 0.016*\"performance\" + '\n",
            "  '0.015*\"use\" + 0.014*\"evil\"'),\n",
            " (1,\n",
            "  '0.040*\"i\" + 0.037*\"phone\" + 0.029*\"thank\" + 0.020*\"evil\" + 0.020*\"flipkart\" '\n",
            "  '+ 0.018*\"camera\" + 0.017*\"bad\" + 0.016*\"product\" + 0.014*\"mobile\" + '\n",
            "  '0.012*\"mi\"'),\n",
            " (2,\n",
            "  '0.027*\"phone\" + 0.024*\"good\" + 0.018*\"i\" + 0.018*\"camera\" + 0.013*\"like\" + '\n",
            "  '0.013*\"pubg\" + 0.012*\"quality\" + 0.011*\"battery\" + 0.009*\"madenguthu\" + '\n",
            "  '0.009*\"mobile\"'),\n",
            " (3,\n",
            "  '0.020*\"phone\" + 0.020*\"great\" + 0.016*\"camera\" + 0.014*\"awesome\" + '\n",
            "  '0.014*\"good\" + 0.012*\"one\" + 0.012*\"battery\" + 0.012*\"performance\" + '\n",
            "  '0.011*\"bad\" + 0.011*\"price\"'),\n",
            " (4,\n",
            "  '0.049*\"good\" + 0.043*\"i\" + 0.031*\"phone\" + 0.026*\"camera\" + 0.023*\"product\" '\n",
            "  '+ 0.022*\"battery\" + 0.021*\"price\" + 0.019*\"quality\" + 0.017*\"flipkart\" + '\n",
            "  '0.014*\"mobile\"'),\n",
            " (5,\n",
            "  '0.061*\"good\" + 0.049*\"phone\" + 0.037*\"i\" + 0.029*\"camera\" + 0.017*\"battery\" '\n",
            "  '+ 0.015*\"mobile\" + 0.015*\"nice\" + 0.012*\"gb\" + 0.010*\"well\" + 0.010*\"also\"'),\n",
            " (6,\n",
            "  '0.033*\"camera\" + 0.023*\"battery\" + 0.023*\"evil\" + 0.022*\"phone\" + '\n",
            "  '0.022*\"mobile\" + 0.021*\"nasty\" + 0.020*\"bad\" + 0.020*\"awesome\" + '\n",
            "  '0.016*\"good\" + 0.015*\"performance\"'),\n",
            " (7,\n",
            "  '0.044*\"phone\" + 0.033*\"i\" + 0.027*\"bad\" + 0.024*\"evil\" + 0.022*\"camera\" + '\n",
            "  '0.016*\"product\" + 0.016*\"price\" + 0.015*\"good\" + 0.015*\"battery\" + '\n",
            "  '0.014*\"mobile\"'),\n",
            " (8,\n",
            "  '0.045*\"phone\" + 0.025*\"i\" + 0.020*\"battery\" + 0.020*\"good\" + 0.018*\"camera\" '\n",
            "  '+ 0.017*\"smile\" + 0.017*\"face\" + 0.016*\"bad\" + 0.013*\"price\" + '\n",
            "  '0.013*\"redmi\"'),\n",
            " (9,\n",
            "  '0.042*\"phone\" + 0.036*\"i\" + 0.022*\"camera\" + 0.016*\"amazing\" + '\n",
            "  '0.015*\"price\" + 0.015*\"mobile\" + 0.015*\"awesome\" + 0.015*\"face\" + '\n",
            "  '0.015*\"good\" + 0.014*\"flipkart\"')]\n"
          ]
        }
      ]
    },
    {
      "cell_type": "markdown",
      "source": [
        "As we don't have labeled data so we need to make few assumptions regarding choosing of aspect from the comment. From above analysis using LDA we inerpret that below listed aspect are few important one which were mentioned in most of the comments.\n",
        "- Phone\n",
        "- Camera\n",
        "- Battery\n",
        "- Delivery\n",
        "- Processor"
      ],
      "metadata": {
        "papermill": {
          "duration": 0.444497,
          "end_time": "2022-06-13T19:50:26.466275",
          "exception": false,
          "start_time": "2022-06-13T19:50:26.021778",
          "status": "completed"
        },
        "tags": [],
        "id": "S8B2h8urCxou"
      }
    },
    {
      "cell_type": "markdown",
      "source": [
        "We gonna create a similarity matrix now using python's gensim.\n"
      ],
      "metadata": {
        "papermill": {
          "duration": 0.442729,
          "end_time": "2022-06-13T19:50:27.362395",
          "exception": false,
          "start_time": "2022-06-13T19:50:26.919666",
          "status": "completed"
        },
        "tags": [],
        "id": "tBkhCmcOCxov"
      }
    },
    {
      "cell_type": "code",
      "source": [
        "%%time\n",
        "from gensim.models import FastText\n",
        "fasttext_model = FastText(data_words, vector_size= 100, window=5, min_count=5, workers=4,sg=1)\n",
        "# fasttext_model = FastText.load_fasttext_format(\"../input/fast100/cc.en.100.bin\")"
      ],
      "metadata": {
        "execution": {
          "iopub.execute_input": "2022-07-05T06:58:49.771949Z",
          "iopub.status.busy": "2022-07-05T06:58:49.771343Z",
          "iopub.status.idle": "2022-07-05T06:58:57.756516Z",
          "shell.execute_reply": "2022-07-05T06:58:57.755532Z",
          "shell.execute_reply.started": "2022-07-05T06:58:49.771907Z"
        },
        "papermill": {
          "duration": 10.564131,
          "end_time": "2022-06-13T19:50:38.369237",
          "exception": false,
          "start_time": "2022-06-13T19:50:27.805106",
          "status": "completed"
        },
        "tags": [],
        "id": "-HQ3DYzNCxov",
        "outputId": "d014d648-a05f-48c4-97ba-c1a804375f26",
        "colab": {
          "base_uri": "https://localhost:8080/"
        }
      },
      "execution_count": 66,
      "outputs": [
        {
          "output_type": "stream",
          "name": "stdout",
          "text": [
            "CPU times: user 15.5 s, sys: 815 ms, total: 16.3 s\n",
            "Wall time: 11 s\n"
          ]
        }
      ]
    },
    {
      "cell_type": "code",
      "source": [
        "fasttext_model.save(\"FastText-Model-For-ABSA.bin\")"
      ],
      "metadata": {
        "execution": {
          "iopub.execute_input": "2022-07-05T06:58:57.758867Z",
          "iopub.status.busy": "2022-07-05T06:58:57.758192Z",
          "iopub.status.idle": "2022-07-05T06:58:58.36184Z",
          "shell.execute_reply": "2022-07-05T06:58:58.36087Z",
          "shell.execute_reply.started": "2022-07-05T06:58:57.758829Z"
        },
        "papermill": {
          "duration": 1.016051,
          "end_time": "2022-06-13T19:50:39.832206",
          "exception": false,
          "start_time": "2022-06-13T19:50:38.816155",
          "status": "completed"
        },
        "tags": [],
        "id": "Vp04yT2HCxov"
      },
      "execution_count": 67,
      "outputs": []
    },
    {
      "cell_type": "code",
      "source": [
        "fasttext_model.wv.n_similarity(\"I really like the camera of this phone\", \"battery\")"
      ],
      "metadata": {
        "execution": {
          "iopub.execute_input": "2022-07-05T06:58:58.363475Z",
          "iopub.status.busy": "2022-07-05T06:58:58.363116Z",
          "iopub.status.idle": "2022-07-05T06:58:58.37501Z",
          "shell.execute_reply": "2022-07-05T06:58:58.374119Z",
          "shell.execute_reply.started": "2022-07-05T06:58:58.363439Z"
        },
        "papermill": {
          "duration": 0.452771,
          "end_time": "2022-06-13T19:50:40.724984",
          "exception": false,
          "start_time": "2022-06-13T19:50:40.272213",
          "status": "completed"
        },
        "tags": [],
        "id": "UGGUISSnCxow",
        "outputId": "a35ef059-b372-41c1-ef26-1a278c7fe146",
        "colab": {
          "base_uri": "https://localhost:8080/"
        }
      },
      "execution_count": 68,
      "outputs": [
        {
          "output_type": "execute_result",
          "data": {
            "text/plain": [
              "0.9550652"
            ]
          },
          "metadata": {},
          "execution_count": 68
        }
      ]
    },
    {
      "cell_type": "code",
      "source": [
        "fasttext_model.wv.n_similarity(\"I really like the camera of this phone\", \"camera\")"
      ],
      "metadata": {
        "execution": {
          "iopub.execute_input": "2022-07-05T06:58:58.377295Z",
          "iopub.status.busy": "2022-07-05T06:58:58.376611Z",
          "iopub.status.idle": "2022-07-05T06:58:58.386631Z",
          "shell.execute_reply": "2022-07-05T06:58:58.385662Z",
          "shell.execute_reply.started": "2022-07-05T06:58:58.37726Z"
        },
        "papermill": {
          "duration": 1.043296,
          "end_time": "2022-06-13T19:50:42.351421",
          "exception": false,
          "start_time": "2022-06-13T19:50:41.308125",
          "status": "completed"
        },
        "tags": [],
        "id": "2IlNyB4UCxow",
        "outputId": "8be5b17f-1787-4651-dfd6-f5b4d4c68464",
        "colab": {
          "base_uri": "https://localhost:8080/"
        }
      },
      "execution_count": 69,
      "outputs": [
        {
          "output_type": "execute_result",
          "data": {
            "text/plain": [
              "0.8895564"
            ]
          },
          "metadata": {},
          "execution_count": 69
        }
      ]
    },
    {
      "cell_type": "code",
      "source": [
        "aspects = [\"phone\", \"camera\", \"battery\", \"delivery\", \"processor\"]\n",
        "\n",
        "def get_similarity(text, aspect):\n",
        "    try:\n",
        "        text = \" \".join(text)\n",
        "        return fasttext_model.wv.n_similarity(text, aspect)\n",
        "    except:\n",
        "        return 0\n"
      ],
      "metadata": {
        "execution": {
          "iopub.execute_input": "2022-07-05T06:58:58.388507Z",
          "iopub.status.busy": "2022-07-05T06:58:58.388164Z",
          "iopub.status.idle": "2022-07-05T06:58:58.396716Z",
          "shell.execute_reply": "2022-07-05T06:58:58.395833Z",
          "shell.execute_reply.started": "2022-07-05T06:58:58.388474Z"
        },
        "papermill": {
          "duration": 0.447449,
          "end_time": "2022-06-13T19:50:43.429872",
          "exception": false,
          "start_time": "2022-06-13T19:50:42.982423",
          "status": "completed"
        },
        "tags": [],
        "id": "9C-2Z_g8Cxox"
      },
      "execution_count": 70,
      "outputs": []
    },
    {
      "cell_type": "code",
      "source": [
        "from tqdm import tqdm\n",
        "tqdm.pandas()\n",
        "for aspect in aspects:\n",
        "    df[aspect] = df['clean_review2'].progress_map(lambda text: get_similarity(text, aspect))"
      ],
      "metadata": {
        "execution": {
          "iopub.execute_input": "2022-07-05T06:58:58.398718Z",
          "iopub.status.busy": "2022-07-05T06:58:58.398244Z",
          "iopub.status.idle": "2022-07-05T06:59:52.112952Z",
          "shell.execute_reply": "2022-07-05T06:59:52.111979Z",
          "shell.execute_reply.started": "2022-07-05T06:58:58.398627Z"
        },
        "papermill": {
          "duration": 50.124298,
          "end_time": "2022-06-13T19:51:33.993695",
          "exception": false,
          "start_time": "2022-06-13T19:50:43.869397",
          "status": "completed"
        },
        "tags": [],
        "id": "Rf_0-03UCxox",
        "outputId": "ba079b81-a6f5-4b60-f85b-19a99afba2c1",
        "colab": {
          "base_uri": "https://localhost:8080/"
        }
      },
      "execution_count": 71,
      "outputs": [
        {
          "output_type": "stream",
          "name": "stderr",
          "text": [
            "100%|██████████| 9606/9606 [00:12<00:00, 784.17it/s]\n",
            "100%|██████████| 9606/9606 [00:12<00:00, 785.53it/s]\n",
            "100%|██████████| 9606/9606 [00:17<00:00, 543.99it/s]\n",
            "100%|██████████| 9606/9606 [00:12<00:00, 786.94it/s]\n",
            "100%|██████████| 9606/9606 [00:12<00:00, 788.55it/s]\n"
          ]
        }
      ]
    },
    {
      "cell_type": "code",
      "source": [
        "df.head()"
      ],
      "metadata": {
        "execution": {
          "iopub.execute_input": "2022-07-05T06:59:52.114879Z",
          "iopub.status.busy": "2022-07-05T06:59:52.114264Z",
          "iopub.status.idle": "2022-07-05T06:59:52.13567Z",
          "shell.execute_reply": "2022-07-05T06:59:52.134795Z",
          "shell.execute_reply.started": "2022-07-05T06:59:52.114837Z"
        },
        "papermill": {
          "duration": 0.609113,
          "end_time": "2022-06-13T19:51:35.193376",
          "exception": false,
          "start_time": "2022-06-13T19:51:34.584263",
          "status": "completed"
        },
        "tags": [],
        "id": "XQ5wPG4GCxoy",
        "outputId": "cf68227e-7dee-4563-bf02-6fe262634017",
        "colab": {
          "base_uri": "https://localhost:8080/",
          "height": 293
        }
      },
      "execution_count": 72,
      "outputs": [
        {
          "output_type": "execute_result",
          "data": {
            "text/plain": [
              "                                              review  y  \\\n",
              "0  great phone in budget. .. pubg performance was...  0   \n",
              "1  Best Smartphone by Mi in this Range. . malfunc...  0   \n",
              "2  Bad smooth phone. . and back camera quality is...  0   \n",
              "3  Thise is very nice mobile ...I like it very mu...  1   \n",
              "4  I m meagerly fall short of 👍 All section r sup...  0   \n",
              "\n",
              "                                        clean_review  \\\n",
              "0  great phone budget pubg performance rough came...   \n",
              "1  well smartphone mi range malfunction r confuse...   \n",
              "2  bad smooth phone back camera quality bad rear ...   \n",
              "3  thise nice mobile I like much delivery also fa...   \n",
              "4  I meagerly fall short thumb section r superb d...   \n",
              "\n",
              "                                       clean_review2     phone    camera  \\\n",
              "0  [great, phone, budget, pubg, performance, roug...  0.900896  0.866552   \n",
              "1  [well, smartphone, mi, range, malfunction, r, ...  0.896859  0.824047   \n",
              "2  [bad, smooth, phone, back, camera, quality, ba...  0.857076  0.908254   \n",
              "3  [thise, nice, mobile, i, like, much, delivery,...  0.855256  0.841664   \n",
              "4  [i, meagerly, fall, short, thumb, section, r, ...  0.837863  0.875546   \n",
              "\n",
              "    battery  delivery  processor  \n",
              "0  0.954735  0.920299   0.887927  \n",
              "1  0.944765  0.947924   0.853772  \n",
              "2  0.965888  0.932670   0.921550  \n",
              "3  0.926582  0.965602   0.850503  \n",
              "4  0.973111  0.965074   0.900075  "
            ],
            "text/html": [
              "\n",
              "  <div id=\"df-6cd5c126-50f3-4b70-9342-acda19e02f95\" class=\"colab-df-container\">\n",
              "    <div>\n",
              "<style scoped>\n",
              "    .dataframe tbody tr th:only-of-type {\n",
              "        vertical-align: middle;\n",
              "    }\n",
              "\n",
              "    .dataframe tbody tr th {\n",
              "        vertical-align: top;\n",
              "    }\n",
              "\n",
              "    .dataframe thead th {\n",
              "        text-align: right;\n",
              "    }\n",
              "</style>\n",
              "<table border=\"1\" class=\"dataframe\">\n",
              "  <thead>\n",
              "    <tr style=\"text-align: right;\">\n",
              "      <th></th>\n",
              "      <th>review</th>\n",
              "      <th>y</th>\n",
              "      <th>clean_review</th>\n",
              "      <th>clean_review2</th>\n",
              "      <th>phone</th>\n",
              "      <th>camera</th>\n",
              "      <th>battery</th>\n",
              "      <th>delivery</th>\n",
              "      <th>processor</th>\n",
              "    </tr>\n",
              "  </thead>\n",
              "  <tbody>\n",
              "    <tr>\n",
              "      <th>0</th>\n",
              "      <td>great phone in budget. .. pubg performance was...</td>\n",
              "      <td>0</td>\n",
              "      <td>great phone budget pubg performance rough came...</td>\n",
              "      <td>[great, phone, budget, pubg, performance, roug...</td>\n",
              "      <td>0.900896</td>\n",
              "      <td>0.866552</td>\n",
              "      <td>0.954735</td>\n",
              "      <td>0.920299</td>\n",
              "      <td>0.887927</td>\n",
              "    </tr>\n",
              "    <tr>\n",
              "      <th>1</th>\n",
              "      <td>Best Smartphone by Mi in this Range. . malfunc...</td>\n",
              "      <td>0</td>\n",
              "      <td>well smartphone mi range malfunction r confuse...</td>\n",
              "      <td>[well, smartphone, mi, range, malfunction, r, ...</td>\n",
              "      <td>0.896859</td>\n",
              "      <td>0.824047</td>\n",
              "      <td>0.944765</td>\n",
              "      <td>0.947924</td>\n",
              "      <td>0.853772</td>\n",
              "    </tr>\n",
              "    <tr>\n",
              "      <th>2</th>\n",
              "      <td>Bad smooth phone. . and back camera quality is...</td>\n",
              "      <td>0</td>\n",
              "      <td>bad smooth phone back camera quality bad rear ...</td>\n",
              "      <td>[bad, smooth, phone, back, camera, quality, ba...</td>\n",
              "      <td>0.857076</td>\n",
              "      <td>0.908254</td>\n",
              "      <td>0.965888</td>\n",
              "      <td>0.932670</td>\n",
              "      <td>0.921550</td>\n",
              "    </tr>\n",
              "    <tr>\n",
              "      <th>3</th>\n",
              "      <td>Thise is very nice mobile ...I like it very mu...</td>\n",
              "      <td>1</td>\n",
              "      <td>thise nice mobile I like much delivery also fa...</td>\n",
              "      <td>[thise, nice, mobile, i, like, much, delivery,...</td>\n",
              "      <td>0.855256</td>\n",
              "      <td>0.841664</td>\n",
              "      <td>0.926582</td>\n",
              "      <td>0.965602</td>\n",
              "      <td>0.850503</td>\n",
              "    </tr>\n",
              "    <tr>\n",
              "      <th>4</th>\n",
              "      <td>I m meagerly fall short of 👍 All section r sup...</td>\n",
              "      <td>0</td>\n",
              "      <td>I meagerly fall short thumb section r superb d...</td>\n",
              "      <td>[i, meagerly, fall, short, thumb, section, r, ...</td>\n",
              "      <td>0.837863</td>\n",
              "      <td>0.875546</td>\n",
              "      <td>0.973111</td>\n",
              "      <td>0.965074</td>\n",
              "      <td>0.900075</td>\n",
              "    </tr>\n",
              "  </tbody>\n",
              "</table>\n",
              "</div>\n",
              "    <div class=\"colab-df-buttons\">\n",
              "\n",
              "  <div class=\"colab-df-container\">\n",
              "    <button class=\"colab-df-convert\" onclick=\"convertToInteractive('df-6cd5c126-50f3-4b70-9342-acda19e02f95')\"\n",
              "            title=\"Convert this dataframe to an interactive table.\"\n",
              "            style=\"display:none;\">\n",
              "\n",
              "  <svg xmlns=\"http://www.w3.org/2000/svg\" height=\"24px\" viewBox=\"0 -960 960 960\">\n",
              "    <path d=\"M120-120v-720h720v720H120Zm60-500h600v-160H180v160Zm220 220h160v-160H400v160Zm0 220h160v-160H400v160ZM180-400h160v-160H180v160Zm440 0h160v-160H620v160ZM180-180h160v-160H180v160Zm440 0h160v-160H620v160Z\"/>\n",
              "  </svg>\n",
              "    </button>\n",
              "\n",
              "  <style>\n",
              "    .colab-df-container {\n",
              "      display:flex;\n",
              "      gap: 12px;\n",
              "    }\n",
              "\n",
              "    .colab-df-convert {\n",
              "      background-color: #E8F0FE;\n",
              "      border: none;\n",
              "      border-radius: 50%;\n",
              "      cursor: pointer;\n",
              "      display: none;\n",
              "      fill: #1967D2;\n",
              "      height: 32px;\n",
              "      padding: 0 0 0 0;\n",
              "      width: 32px;\n",
              "    }\n",
              "\n",
              "    .colab-df-convert:hover {\n",
              "      background-color: #E2EBFA;\n",
              "      box-shadow: 0px 1px 2px rgba(60, 64, 67, 0.3), 0px 1px 3px 1px rgba(60, 64, 67, 0.15);\n",
              "      fill: #174EA6;\n",
              "    }\n",
              "\n",
              "    .colab-df-buttons div {\n",
              "      margin-bottom: 4px;\n",
              "    }\n",
              "\n",
              "    [theme=dark] .colab-df-convert {\n",
              "      background-color: #3B4455;\n",
              "      fill: #D2E3FC;\n",
              "    }\n",
              "\n",
              "    [theme=dark] .colab-df-convert:hover {\n",
              "      background-color: #434B5C;\n",
              "      box-shadow: 0px 1px 3px 1px rgba(0, 0, 0, 0.15);\n",
              "      filter: drop-shadow(0px 1px 2px rgba(0, 0, 0, 0.3));\n",
              "      fill: #FFFFFF;\n",
              "    }\n",
              "  </style>\n",
              "\n",
              "    <script>\n",
              "      const buttonEl =\n",
              "        document.querySelector('#df-6cd5c126-50f3-4b70-9342-acda19e02f95 button.colab-df-convert');\n",
              "      buttonEl.style.display =\n",
              "        google.colab.kernel.accessAllowed ? 'block' : 'none';\n",
              "\n",
              "      async function convertToInteractive(key) {\n",
              "        const element = document.querySelector('#df-6cd5c126-50f3-4b70-9342-acda19e02f95');\n",
              "        const dataTable =\n",
              "          await google.colab.kernel.invokeFunction('convertToInteractive',\n",
              "                                                    [key], {});\n",
              "        if (!dataTable) return;\n",
              "\n",
              "        const docLinkHtml = 'Like what you see? Visit the ' +\n",
              "          '<a target=\"_blank\" href=https://colab.research.google.com/notebooks/data_table.ipynb>data table notebook</a>'\n",
              "          + ' to learn more about interactive tables.';\n",
              "        element.innerHTML = '';\n",
              "        dataTable['output_type'] = 'display_data';\n",
              "        await google.colab.output.renderOutput(dataTable, element);\n",
              "        const docLink = document.createElement('div');\n",
              "        docLink.innerHTML = docLinkHtml;\n",
              "        element.appendChild(docLink);\n",
              "      }\n",
              "    </script>\n",
              "  </div>\n",
              "\n",
              "\n",
              "<div id=\"df-ec21fd57-1daa-4118-a6e4-e1defdbcfaad\">\n",
              "  <button class=\"colab-df-quickchart\" onclick=\"quickchart('df-ec21fd57-1daa-4118-a6e4-e1defdbcfaad')\"\n",
              "            title=\"Suggest charts\"\n",
              "            style=\"display:none;\">\n",
              "\n",
              "<svg xmlns=\"http://www.w3.org/2000/svg\" height=\"24px\"viewBox=\"0 0 24 24\"\n",
              "     width=\"24px\">\n",
              "    <g>\n",
              "        <path d=\"M19 3H5c-1.1 0-2 .9-2 2v14c0 1.1.9 2 2 2h14c1.1 0 2-.9 2-2V5c0-1.1-.9-2-2-2zM9 17H7v-7h2v7zm4 0h-2V7h2v10zm4 0h-2v-4h2v4z\"/>\n",
              "    </g>\n",
              "</svg>\n",
              "  </button>\n",
              "\n",
              "<style>\n",
              "  .colab-df-quickchart {\n",
              "      --bg-color: #E8F0FE;\n",
              "      --fill-color: #1967D2;\n",
              "      --hover-bg-color: #E2EBFA;\n",
              "      --hover-fill-color: #174EA6;\n",
              "      --disabled-fill-color: #AAA;\n",
              "      --disabled-bg-color: #DDD;\n",
              "  }\n",
              "\n",
              "  [theme=dark] .colab-df-quickchart {\n",
              "      --bg-color: #3B4455;\n",
              "      --fill-color: #D2E3FC;\n",
              "      --hover-bg-color: #434B5C;\n",
              "      --hover-fill-color: #FFFFFF;\n",
              "      --disabled-bg-color: #3B4455;\n",
              "      --disabled-fill-color: #666;\n",
              "  }\n",
              "\n",
              "  .colab-df-quickchart {\n",
              "    background-color: var(--bg-color);\n",
              "    border: none;\n",
              "    border-radius: 50%;\n",
              "    cursor: pointer;\n",
              "    display: none;\n",
              "    fill: var(--fill-color);\n",
              "    height: 32px;\n",
              "    padding: 0;\n",
              "    width: 32px;\n",
              "  }\n",
              "\n",
              "  .colab-df-quickchart:hover {\n",
              "    background-color: var(--hover-bg-color);\n",
              "    box-shadow: 0 1px 2px rgba(60, 64, 67, 0.3), 0 1px 3px 1px rgba(60, 64, 67, 0.15);\n",
              "    fill: var(--button-hover-fill-color);\n",
              "  }\n",
              "\n",
              "  .colab-df-quickchart-complete:disabled,\n",
              "  .colab-df-quickchart-complete:disabled:hover {\n",
              "    background-color: var(--disabled-bg-color);\n",
              "    fill: var(--disabled-fill-color);\n",
              "    box-shadow: none;\n",
              "  }\n",
              "\n",
              "  .colab-df-spinner {\n",
              "    border: 2px solid var(--fill-color);\n",
              "    border-color: transparent;\n",
              "    border-bottom-color: var(--fill-color);\n",
              "    animation:\n",
              "      spin 1s steps(1) infinite;\n",
              "  }\n",
              "\n",
              "  @keyframes spin {\n",
              "    0% {\n",
              "      border-color: transparent;\n",
              "      border-bottom-color: var(--fill-color);\n",
              "      border-left-color: var(--fill-color);\n",
              "    }\n",
              "    20% {\n",
              "      border-color: transparent;\n",
              "      border-left-color: var(--fill-color);\n",
              "      border-top-color: var(--fill-color);\n",
              "    }\n",
              "    30% {\n",
              "      border-color: transparent;\n",
              "      border-left-color: var(--fill-color);\n",
              "      border-top-color: var(--fill-color);\n",
              "      border-right-color: var(--fill-color);\n",
              "    }\n",
              "    40% {\n",
              "      border-color: transparent;\n",
              "      border-right-color: var(--fill-color);\n",
              "      border-top-color: var(--fill-color);\n",
              "    }\n",
              "    60% {\n",
              "      border-color: transparent;\n",
              "      border-right-color: var(--fill-color);\n",
              "    }\n",
              "    80% {\n",
              "      border-color: transparent;\n",
              "      border-right-color: var(--fill-color);\n",
              "      border-bottom-color: var(--fill-color);\n",
              "    }\n",
              "    90% {\n",
              "      border-color: transparent;\n",
              "      border-bottom-color: var(--fill-color);\n",
              "    }\n",
              "  }\n",
              "</style>\n",
              "\n",
              "  <script>\n",
              "    async function quickchart(key) {\n",
              "      const quickchartButtonEl =\n",
              "        document.querySelector('#' + key + ' button');\n",
              "      quickchartButtonEl.disabled = true;  // To prevent multiple clicks.\n",
              "      quickchartButtonEl.classList.add('colab-df-spinner');\n",
              "      try {\n",
              "        const charts = await google.colab.kernel.invokeFunction(\n",
              "            'suggestCharts', [key], {});\n",
              "      } catch (error) {\n",
              "        console.error('Error during call to suggestCharts:', error);\n",
              "      }\n",
              "      quickchartButtonEl.classList.remove('colab-df-spinner');\n",
              "      quickchartButtonEl.classList.add('colab-df-quickchart-complete');\n",
              "    }\n",
              "    (() => {\n",
              "      let quickchartButtonEl =\n",
              "        document.querySelector('#df-ec21fd57-1daa-4118-a6e4-e1defdbcfaad button');\n",
              "      quickchartButtonEl.style.display =\n",
              "        google.colab.kernel.accessAllowed ? 'block' : 'none';\n",
              "    })();\n",
              "  </script>\n",
              "</div>\n",
              "\n",
              "    </div>\n",
              "  </div>\n"
            ],
            "application/vnd.google.colaboratory.intrinsic+json": {
              "type": "dataframe",
              "variable_name": "df",
              "summary": "{\n  \"name\": \"df\",\n  \"rows\": 9606,\n  \"fields\": [\n    {\n      \"column\": \"review\",\n      \"properties\": {\n        \"dtype\": \"string\",\n        \"num_unique_values\": 7426,\n        \"samples\": [\n          \"Redmi 8 is very awesome mobile phone for me and really worst function of this phone very affordable at 8000 only I am very unhappy by deregulate this product from Flipkart to provide fast and quick delivery service to me all features of this immobile server your some worst camera and bad 4g handset.\",\n          \"look wise camera wise it is terrifying at this price range. remarkably i am very fond of Samsung but after leave it i just increase love with this brand.\",\n          \"nasty mobile with awesome features at real price, very unhappy with the product, thanks for the super fast delivery.\"\n        ],\n        \"semantic_type\": \"\",\n        \"description\": \"\"\n      }\n    },\n    {\n      \"column\": \"y\",\n      \"properties\": {\n        \"dtype\": \"number\",\n        \"std\": 0,\n        \"min\": 0,\n        \"max\": 1,\n        \"num_unique_values\": 2,\n        \"samples\": [\n          1,\n          0\n        ],\n        \"semantic_type\": \"\",\n        \"description\": \"\"\n      }\n    },\n    {\n      \"column\": \"clean_review\",\n      \"properties\": {\n        \"dtype\": \"string\",\n        \"num_unique_values\": 7401,\n        \"samples\": [\n          \"use 7 month problem performance really bad deal redmi flipkart hate phone\",\n          \"extra ordinary mind blow phone I order blue coloured phone look glossy stunning camera front back perfect awesome day night condition I get 6 gb ram version phone long wait way thank xiaomi make budget friendly phone\"\n        ],\n        \"semantic_type\": \"\",\n        \"description\": \"\"\n      }\n    },\n    {\n      \"column\": \"clean_review2\",\n      \"properties\": {\n        \"dtype\": \"object\",\n        \"semantic_type\": \"\",\n        \"description\": \"\"\n      }\n    },\n    {\n      \"column\": \"phone\",\n      \"properties\": {\n        \"dtype\": \"float32\",\n        \"num_unique_values\": 7353,\n        \"samples\": [\n          0.8641886711120605,\n          0.8865150213241577\n        ],\n        \"semantic_type\": \"\",\n        \"description\": \"\"\n      }\n    },\n    {\n      \"column\": \"camera\",\n      \"properties\": {\n        \"dtype\": \"float32\",\n        \"num_unique_values\": 7350,\n        \"samples\": [\n          0.8722207546234131,\n          0.8779736757278442\n        ],\n        \"semantic_type\": \"\",\n        \"description\": \"\"\n      }\n    },\n    {\n      \"column\": \"battery\",\n      \"properties\": {\n        \"dtype\": \"float32\",\n        \"num_unique_values\": 7334,\n        \"samples\": [\n          0.9543346762657166,\n          0.9433284401893616\n        ],\n        \"semantic_type\": \"\",\n        \"description\": \"\"\n      }\n    },\n    {\n      \"column\": \"delivery\",\n      \"properties\": {\n        \"dtype\": \"float32\",\n        \"num_unique_values\": 7357,\n        \"samples\": [\n          0.9270012378692627,\n          0.9528375864028931\n        ],\n        \"semantic_type\": \"\",\n        \"description\": \"\"\n      }\n    },\n    {\n      \"column\": \"processor\",\n      \"properties\": {\n        \"dtype\": \"float32\",\n        \"num_unique_values\": 7355,\n        \"samples\": [\n          0.8348645567893982,\n          0.922532856464386\n        ],\n        \"semantic_type\": \"\",\n        \"description\": \"\"\n      }\n    }\n  ]\n}"
            }
          },
          "metadata": {},
          "execution_count": 72
        }
      ]
    },
    {
      "cell_type": "code",
      "source": [
        "df.to_csv(\"Clean_Flipkart_Product.csv\", index = False)"
      ],
      "metadata": {
        "execution": {
          "iopub.execute_input": "2022-07-05T06:59:52.137285Z",
          "iopub.status.busy": "2022-07-05T06:59:52.136882Z",
          "iopub.status.idle": "2022-07-05T06:59:52.578979Z",
          "shell.execute_reply": "2022-07-05T06:59:52.577964Z",
          "shell.execute_reply.started": "2022-07-05T06:59:52.137243Z"
        },
        "papermill": {
          "duration": 0.961098,
          "end_time": "2022-06-13T19:51:36.746721",
          "exception": false,
          "start_time": "2022-06-13T19:51:35.785623",
          "status": "completed"
        },
        "tags": [],
        "id": "dFIEiNLaCxoy"
      },
      "execution_count": 73,
      "outputs": []
    },
    {
      "cell_type": "markdown",
      "source": [
        "As of now we are done of choosing the aspects for each respective review. Now our next step will be to create an pytorch based model which can predict aspect based sentiment."
      ],
      "metadata": {
        "papermill": {
          "duration": 0.605879,
          "end_time": "2022-06-13T19:51:38.120518",
          "exception": false,
          "start_time": "2022-06-13T19:51:37.514639",
          "status": "completed"
        },
        "tags": [],
        "id": "oxFQjZFhCxoz"
      }
    },
    {
      "cell_type": "markdown",
      "source": [
        "--------------------------------------------\n",
        "----------------"
      ],
      "metadata": {
        "papermill": {
          "duration": 0.594474,
          "end_time": "2022-06-13T19:51:39.304647",
          "exception": false,
          "start_time": "2022-06-13T19:51:38.710173",
          "status": "completed"
        },
        "tags": [],
        "id": "ZY9apZZ2Cxoz"
      }
    },
    {
      "cell_type": "markdown",
      "source": [],
      "metadata": {
        "id": "xM_t8zPACxo0"
      }
    },
    {
      "cell_type": "markdown",
      "source": [
        "<h1  style=\"text-align: center\" class=\"list-group-item list-group-item-action active\">6. Model </h1><a id = \"6\" ></a>\n",
        "\n",
        "We are done with aspect identification next we will create a model to predict sentiments on the basis of these aspects."
      ],
      "metadata": {
        "papermill": {
          "duration": 0.600558,
          "end_time": "2022-06-13T19:51:40.502017",
          "exception": false,
          "start_time": "2022-06-13T19:51:39.901459",
          "status": "completed"
        },
        "tags": [],
        "id": "eoPW257oCxo0"
      }
    },
    {
      "cell_type": "code",
      "source": [
        "import torch\n",
        "from torch import nn\n",
        "from torch.utils.data import Dataset\n",
        "from torch.utils.data import DataLoader\n",
        "from torch.utils.data import RandomSampler\n",
        "import warnings"
      ],
      "metadata": {
        "execution": {
          "iopub.execute_input": "2022-07-05T06:59:52.585985Z",
          "iopub.status.busy": "2022-07-05T06:59:52.583718Z",
          "iopub.status.idle": "2022-07-05T06:59:52.593317Z",
          "shell.execute_reply": "2022-07-05T06:59:52.592346Z",
          "shell.execute_reply.started": "2022-07-05T06:59:52.585948Z"
        },
        "papermill": {
          "duration": 0.596991,
          "end_time": "2022-06-13T19:51:41.697617",
          "exception": false,
          "start_time": "2022-06-13T19:51:41.100626",
          "status": "completed"
        },
        "tags": [],
        "id": "6VxfuDYrCxo0"
      },
      "execution_count": 74,
      "outputs": []
    },
    {
      "cell_type": "markdown",
      "source": [
        "<h2  style=\"text-align: center\" class=\"list-group-item list-group-item-success\"> 6.1 Configurations </h2><a id = \"6.1\" ></a>"
      ],
      "metadata": {
        "papermill": {
          "duration": 0.589702,
          "end_time": "2022-06-13T19:51:42.929664",
          "exception": false,
          "start_time": "2022-06-13T19:51:42.339962",
          "status": "completed"
        },
        "tags": [],
        "id": "MWg6lF2lCxo1"
      }
    },
    {
      "cell_type": "code",
      "source": [
        "class config:\n",
        "    warnings.filterwarnings(\"ignore\", category = UserWarning)\n",
        "    IMG_SIZE = (224,224)\n",
        "    DEVICE = (\"cuda\" if torch.cuda.is_available() else \"cpu\")\n",
        "    FOLDS = 5\n",
        "    SHUFFLE = True\n",
        "    BATCH_SIZE = 32\n",
        "    LR = 0.01\n",
        "    EPOCHS = 30\n",
        "    EMB_DIM = 100\n",
        "    MAX_LEN = 20\n",
        "    MODEL_PATH = \"./Models/MyModel.pt\""
      ],
      "metadata": {
        "execution": {
          "iopub.execute_input": "2022-07-05T06:59:52.600639Z",
          "iopub.status.busy": "2022-07-05T06:59:52.597961Z",
          "iopub.status.idle": "2022-07-05T06:59:52.674183Z",
          "shell.execute_reply": "2022-07-05T06:59:52.673272Z",
          "shell.execute_reply.started": "2022-07-05T06:59:52.600588Z"
        },
        "papermill": {
          "duration": 0.611603,
          "end_time": "2022-06-13T19:51:44.136961",
          "exception": false,
          "start_time": "2022-06-13T19:51:43.525358",
          "status": "completed"
        },
        "tags": [],
        "id": "0QvlDmCICxo1"
      },
      "execution_count": 75,
      "outputs": []
    },
    {
      "cell_type": "code",
      "source": [
        "# df = pd.read_csv(\"../input/mimobilereviews/Clean_Flipkart_Product.csv\")\n",
        "df.head()"
      ],
      "metadata": {
        "execution": {
          "iopub.execute_input": "2022-07-05T06:59:52.680512Z",
          "iopub.status.busy": "2022-07-05T06:59:52.67884Z",
          "iopub.status.idle": "2022-07-05T06:59:52.718122Z",
          "shell.execute_reply": "2022-07-05T06:59:52.717015Z",
          "shell.execute_reply.started": "2022-07-05T06:59:52.680475Z"
        },
        "papermill": {
          "duration": 0.621363,
          "end_time": "2022-06-13T19:51:45.357221",
          "exception": false,
          "start_time": "2022-06-13T19:51:44.735858",
          "status": "completed"
        },
        "tags": [],
        "id": "JsYLLZHOCxo1",
        "outputId": "f03cde3f-28f9-4031-bd87-5011bb53f452",
        "colab": {
          "base_uri": "https://localhost:8080/",
          "height": 293
        }
      },
      "execution_count": 76,
      "outputs": [
        {
          "output_type": "execute_result",
          "data": {
            "text/plain": [
              "                                              review  y  \\\n",
              "0  great phone in budget. .. pubg performance was...  0   \n",
              "1  Best Smartphone by Mi in this Range. . malfunc...  0   \n",
              "2  Bad smooth phone. . and back camera quality is...  0   \n",
              "3  Thise is very nice mobile ...I like it very mu...  1   \n",
              "4  I m meagerly fall short of 👍 All section r sup...  0   \n",
              "\n",
              "                                        clean_review  \\\n",
              "0  great phone budget pubg performance rough came...   \n",
              "1  well smartphone mi range malfunction r confuse...   \n",
              "2  bad smooth phone back camera quality bad rear ...   \n",
              "3  thise nice mobile I like much delivery also fa...   \n",
              "4  I meagerly fall short thumb section r superb d...   \n",
              "\n",
              "                                       clean_review2     phone    camera  \\\n",
              "0  [great, phone, budget, pubg, performance, roug...  0.900896  0.866552   \n",
              "1  [well, smartphone, mi, range, malfunction, r, ...  0.896859  0.824047   \n",
              "2  [bad, smooth, phone, back, camera, quality, ba...  0.857076  0.908254   \n",
              "3  [thise, nice, mobile, i, like, much, delivery,...  0.855256  0.841664   \n",
              "4  [i, meagerly, fall, short, thumb, section, r, ...  0.837863  0.875546   \n",
              "\n",
              "    battery  delivery  processor  \n",
              "0  0.954735  0.920299   0.887927  \n",
              "1  0.944765  0.947924   0.853772  \n",
              "2  0.965888  0.932670   0.921550  \n",
              "3  0.926582  0.965602   0.850503  \n",
              "4  0.973111  0.965074   0.900075  "
            ],
            "text/html": [
              "\n",
              "  <div id=\"df-07ce69db-7dcc-44f3-9bed-37f56cf6001f\" class=\"colab-df-container\">\n",
              "    <div>\n",
              "<style scoped>\n",
              "    .dataframe tbody tr th:only-of-type {\n",
              "        vertical-align: middle;\n",
              "    }\n",
              "\n",
              "    .dataframe tbody tr th {\n",
              "        vertical-align: top;\n",
              "    }\n",
              "\n",
              "    .dataframe thead th {\n",
              "        text-align: right;\n",
              "    }\n",
              "</style>\n",
              "<table border=\"1\" class=\"dataframe\">\n",
              "  <thead>\n",
              "    <tr style=\"text-align: right;\">\n",
              "      <th></th>\n",
              "      <th>review</th>\n",
              "      <th>y</th>\n",
              "      <th>clean_review</th>\n",
              "      <th>clean_review2</th>\n",
              "      <th>phone</th>\n",
              "      <th>camera</th>\n",
              "      <th>battery</th>\n",
              "      <th>delivery</th>\n",
              "      <th>processor</th>\n",
              "    </tr>\n",
              "  </thead>\n",
              "  <tbody>\n",
              "    <tr>\n",
              "      <th>0</th>\n",
              "      <td>great phone in budget. .. pubg performance was...</td>\n",
              "      <td>0</td>\n",
              "      <td>great phone budget pubg performance rough came...</td>\n",
              "      <td>[great, phone, budget, pubg, performance, roug...</td>\n",
              "      <td>0.900896</td>\n",
              "      <td>0.866552</td>\n",
              "      <td>0.954735</td>\n",
              "      <td>0.920299</td>\n",
              "      <td>0.887927</td>\n",
              "    </tr>\n",
              "    <tr>\n",
              "      <th>1</th>\n",
              "      <td>Best Smartphone by Mi in this Range. . malfunc...</td>\n",
              "      <td>0</td>\n",
              "      <td>well smartphone mi range malfunction r confuse...</td>\n",
              "      <td>[well, smartphone, mi, range, malfunction, r, ...</td>\n",
              "      <td>0.896859</td>\n",
              "      <td>0.824047</td>\n",
              "      <td>0.944765</td>\n",
              "      <td>0.947924</td>\n",
              "      <td>0.853772</td>\n",
              "    </tr>\n",
              "    <tr>\n",
              "      <th>2</th>\n",
              "      <td>Bad smooth phone. . and back camera quality is...</td>\n",
              "      <td>0</td>\n",
              "      <td>bad smooth phone back camera quality bad rear ...</td>\n",
              "      <td>[bad, smooth, phone, back, camera, quality, ba...</td>\n",
              "      <td>0.857076</td>\n",
              "      <td>0.908254</td>\n",
              "      <td>0.965888</td>\n",
              "      <td>0.932670</td>\n",
              "      <td>0.921550</td>\n",
              "    </tr>\n",
              "    <tr>\n",
              "      <th>3</th>\n",
              "      <td>Thise is very nice mobile ...I like it very mu...</td>\n",
              "      <td>1</td>\n",
              "      <td>thise nice mobile I like much delivery also fa...</td>\n",
              "      <td>[thise, nice, mobile, i, like, much, delivery,...</td>\n",
              "      <td>0.855256</td>\n",
              "      <td>0.841664</td>\n",
              "      <td>0.926582</td>\n",
              "      <td>0.965602</td>\n",
              "      <td>0.850503</td>\n",
              "    </tr>\n",
              "    <tr>\n",
              "      <th>4</th>\n",
              "      <td>I m meagerly fall short of 👍 All section r sup...</td>\n",
              "      <td>0</td>\n",
              "      <td>I meagerly fall short thumb section r superb d...</td>\n",
              "      <td>[i, meagerly, fall, short, thumb, section, r, ...</td>\n",
              "      <td>0.837863</td>\n",
              "      <td>0.875546</td>\n",
              "      <td>0.973111</td>\n",
              "      <td>0.965074</td>\n",
              "      <td>0.900075</td>\n",
              "    </tr>\n",
              "  </tbody>\n",
              "</table>\n",
              "</div>\n",
              "    <div class=\"colab-df-buttons\">\n",
              "\n",
              "  <div class=\"colab-df-container\">\n",
              "    <button class=\"colab-df-convert\" onclick=\"convertToInteractive('df-07ce69db-7dcc-44f3-9bed-37f56cf6001f')\"\n",
              "            title=\"Convert this dataframe to an interactive table.\"\n",
              "            style=\"display:none;\">\n",
              "\n",
              "  <svg xmlns=\"http://www.w3.org/2000/svg\" height=\"24px\" viewBox=\"0 -960 960 960\">\n",
              "    <path d=\"M120-120v-720h720v720H120Zm60-500h600v-160H180v160Zm220 220h160v-160H400v160Zm0 220h160v-160H400v160ZM180-400h160v-160H180v160Zm440 0h160v-160H620v160ZM180-180h160v-160H180v160Zm440 0h160v-160H620v160Z\"/>\n",
              "  </svg>\n",
              "    </button>\n",
              "\n",
              "  <style>\n",
              "    .colab-df-container {\n",
              "      display:flex;\n",
              "      gap: 12px;\n",
              "    }\n",
              "\n",
              "    .colab-df-convert {\n",
              "      background-color: #E8F0FE;\n",
              "      border: none;\n",
              "      border-radius: 50%;\n",
              "      cursor: pointer;\n",
              "      display: none;\n",
              "      fill: #1967D2;\n",
              "      height: 32px;\n",
              "      padding: 0 0 0 0;\n",
              "      width: 32px;\n",
              "    }\n",
              "\n",
              "    .colab-df-convert:hover {\n",
              "      background-color: #E2EBFA;\n",
              "      box-shadow: 0px 1px 2px rgba(60, 64, 67, 0.3), 0px 1px 3px 1px rgba(60, 64, 67, 0.15);\n",
              "      fill: #174EA6;\n",
              "    }\n",
              "\n",
              "    .colab-df-buttons div {\n",
              "      margin-bottom: 4px;\n",
              "    }\n",
              "\n",
              "    [theme=dark] .colab-df-convert {\n",
              "      background-color: #3B4455;\n",
              "      fill: #D2E3FC;\n",
              "    }\n",
              "\n",
              "    [theme=dark] .colab-df-convert:hover {\n",
              "      background-color: #434B5C;\n",
              "      box-shadow: 0px 1px 3px 1px rgba(0, 0, 0, 0.15);\n",
              "      filter: drop-shadow(0px 1px 2px rgba(0, 0, 0, 0.3));\n",
              "      fill: #FFFFFF;\n",
              "    }\n",
              "  </style>\n",
              "\n",
              "    <script>\n",
              "      const buttonEl =\n",
              "        document.querySelector('#df-07ce69db-7dcc-44f3-9bed-37f56cf6001f button.colab-df-convert');\n",
              "      buttonEl.style.display =\n",
              "        google.colab.kernel.accessAllowed ? 'block' : 'none';\n",
              "\n",
              "      async function convertToInteractive(key) {\n",
              "        const element = document.querySelector('#df-07ce69db-7dcc-44f3-9bed-37f56cf6001f');\n",
              "        const dataTable =\n",
              "          await google.colab.kernel.invokeFunction('convertToInteractive',\n",
              "                                                    [key], {});\n",
              "        if (!dataTable) return;\n",
              "\n",
              "        const docLinkHtml = 'Like what you see? Visit the ' +\n",
              "          '<a target=\"_blank\" href=https://colab.research.google.com/notebooks/data_table.ipynb>data table notebook</a>'\n",
              "          + ' to learn more about interactive tables.';\n",
              "        element.innerHTML = '';\n",
              "        dataTable['output_type'] = 'display_data';\n",
              "        await google.colab.output.renderOutput(dataTable, element);\n",
              "        const docLink = document.createElement('div');\n",
              "        docLink.innerHTML = docLinkHtml;\n",
              "        element.appendChild(docLink);\n",
              "      }\n",
              "    </script>\n",
              "  </div>\n",
              "\n",
              "\n",
              "<div id=\"df-99c34cbb-efe5-403a-ae0c-86e1392375ce\">\n",
              "  <button class=\"colab-df-quickchart\" onclick=\"quickchart('df-99c34cbb-efe5-403a-ae0c-86e1392375ce')\"\n",
              "            title=\"Suggest charts\"\n",
              "            style=\"display:none;\">\n",
              "\n",
              "<svg xmlns=\"http://www.w3.org/2000/svg\" height=\"24px\"viewBox=\"0 0 24 24\"\n",
              "     width=\"24px\">\n",
              "    <g>\n",
              "        <path d=\"M19 3H5c-1.1 0-2 .9-2 2v14c0 1.1.9 2 2 2h14c1.1 0 2-.9 2-2V5c0-1.1-.9-2-2-2zM9 17H7v-7h2v7zm4 0h-2V7h2v10zm4 0h-2v-4h2v4z\"/>\n",
              "    </g>\n",
              "</svg>\n",
              "  </button>\n",
              "\n",
              "<style>\n",
              "  .colab-df-quickchart {\n",
              "      --bg-color: #E8F0FE;\n",
              "      --fill-color: #1967D2;\n",
              "      --hover-bg-color: #E2EBFA;\n",
              "      --hover-fill-color: #174EA6;\n",
              "      --disabled-fill-color: #AAA;\n",
              "      --disabled-bg-color: #DDD;\n",
              "  }\n",
              "\n",
              "  [theme=dark] .colab-df-quickchart {\n",
              "      --bg-color: #3B4455;\n",
              "      --fill-color: #D2E3FC;\n",
              "      --hover-bg-color: #434B5C;\n",
              "      --hover-fill-color: #FFFFFF;\n",
              "      --disabled-bg-color: #3B4455;\n",
              "      --disabled-fill-color: #666;\n",
              "  }\n",
              "\n",
              "  .colab-df-quickchart {\n",
              "    background-color: var(--bg-color);\n",
              "    border: none;\n",
              "    border-radius: 50%;\n",
              "    cursor: pointer;\n",
              "    display: none;\n",
              "    fill: var(--fill-color);\n",
              "    height: 32px;\n",
              "    padding: 0;\n",
              "    width: 32px;\n",
              "  }\n",
              "\n",
              "  .colab-df-quickchart:hover {\n",
              "    background-color: var(--hover-bg-color);\n",
              "    box-shadow: 0 1px 2px rgba(60, 64, 67, 0.3), 0 1px 3px 1px rgba(60, 64, 67, 0.15);\n",
              "    fill: var(--button-hover-fill-color);\n",
              "  }\n",
              "\n",
              "  .colab-df-quickchart-complete:disabled,\n",
              "  .colab-df-quickchart-complete:disabled:hover {\n",
              "    background-color: var(--disabled-bg-color);\n",
              "    fill: var(--disabled-fill-color);\n",
              "    box-shadow: none;\n",
              "  }\n",
              "\n",
              "  .colab-df-spinner {\n",
              "    border: 2px solid var(--fill-color);\n",
              "    border-color: transparent;\n",
              "    border-bottom-color: var(--fill-color);\n",
              "    animation:\n",
              "      spin 1s steps(1) infinite;\n",
              "  }\n",
              "\n",
              "  @keyframes spin {\n",
              "    0% {\n",
              "      border-color: transparent;\n",
              "      border-bottom-color: var(--fill-color);\n",
              "      border-left-color: var(--fill-color);\n",
              "    }\n",
              "    20% {\n",
              "      border-color: transparent;\n",
              "      border-left-color: var(--fill-color);\n",
              "      border-top-color: var(--fill-color);\n",
              "    }\n",
              "    30% {\n",
              "      border-color: transparent;\n",
              "      border-left-color: var(--fill-color);\n",
              "      border-top-color: var(--fill-color);\n",
              "      border-right-color: var(--fill-color);\n",
              "    }\n",
              "    40% {\n",
              "      border-color: transparent;\n",
              "      border-right-color: var(--fill-color);\n",
              "      border-top-color: var(--fill-color);\n",
              "    }\n",
              "    60% {\n",
              "      border-color: transparent;\n",
              "      border-right-color: var(--fill-color);\n",
              "    }\n",
              "    80% {\n",
              "      border-color: transparent;\n",
              "      border-right-color: var(--fill-color);\n",
              "      border-bottom-color: var(--fill-color);\n",
              "    }\n",
              "    90% {\n",
              "      border-color: transparent;\n",
              "      border-bottom-color: var(--fill-color);\n",
              "    }\n",
              "  }\n",
              "</style>\n",
              "\n",
              "  <script>\n",
              "    async function quickchart(key) {\n",
              "      const quickchartButtonEl =\n",
              "        document.querySelector('#' + key + ' button');\n",
              "      quickchartButtonEl.disabled = true;  // To prevent multiple clicks.\n",
              "      quickchartButtonEl.classList.add('colab-df-spinner');\n",
              "      try {\n",
              "        const charts = await google.colab.kernel.invokeFunction(\n",
              "            'suggestCharts', [key], {});\n",
              "      } catch (error) {\n",
              "        console.error('Error during call to suggestCharts:', error);\n",
              "      }\n",
              "      quickchartButtonEl.classList.remove('colab-df-spinner');\n",
              "      quickchartButtonEl.classList.add('colab-df-quickchart-complete');\n",
              "    }\n",
              "    (() => {\n",
              "      let quickchartButtonEl =\n",
              "        document.querySelector('#df-99c34cbb-efe5-403a-ae0c-86e1392375ce button');\n",
              "      quickchartButtonEl.style.display =\n",
              "        google.colab.kernel.accessAllowed ? 'block' : 'none';\n",
              "    })();\n",
              "  </script>\n",
              "</div>\n",
              "\n",
              "    </div>\n",
              "  </div>\n"
            ],
            "application/vnd.google.colaboratory.intrinsic+json": {
              "type": "dataframe",
              "variable_name": "df",
              "summary": "{\n  \"name\": \"df\",\n  \"rows\": 9606,\n  \"fields\": [\n    {\n      \"column\": \"review\",\n      \"properties\": {\n        \"dtype\": \"string\",\n        \"num_unique_values\": 7426,\n        \"samples\": [\n          \"Redmi 8 is very awesome mobile phone for me and really worst function of this phone very affordable at 8000 only I am very unhappy by deregulate this product from Flipkart to provide fast and quick delivery service to me all features of this immobile server your some worst camera and bad 4g handset.\",\n          \"look wise camera wise it is terrifying at this price range. remarkably i am very fond of Samsung but after leave it i just increase love with this brand.\",\n          \"nasty mobile with awesome features at real price, very unhappy with the product, thanks for the super fast delivery.\"\n        ],\n        \"semantic_type\": \"\",\n        \"description\": \"\"\n      }\n    },\n    {\n      \"column\": \"y\",\n      \"properties\": {\n        \"dtype\": \"number\",\n        \"std\": 0,\n        \"min\": 0,\n        \"max\": 1,\n        \"num_unique_values\": 2,\n        \"samples\": [\n          1,\n          0\n        ],\n        \"semantic_type\": \"\",\n        \"description\": \"\"\n      }\n    },\n    {\n      \"column\": \"clean_review\",\n      \"properties\": {\n        \"dtype\": \"string\",\n        \"num_unique_values\": 7401,\n        \"samples\": [\n          \"use 7 month problem performance really bad deal redmi flipkart hate phone\",\n          \"extra ordinary mind blow phone I order blue coloured phone look glossy stunning camera front back perfect awesome day night condition I get 6 gb ram version phone long wait way thank xiaomi make budget friendly phone\"\n        ],\n        \"semantic_type\": \"\",\n        \"description\": \"\"\n      }\n    },\n    {\n      \"column\": \"clean_review2\",\n      \"properties\": {\n        \"dtype\": \"object\",\n        \"semantic_type\": \"\",\n        \"description\": \"\"\n      }\n    },\n    {\n      \"column\": \"phone\",\n      \"properties\": {\n        \"dtype\": \"float32\",\n        \"num_unique_values\": 7353,\n        \"samples\": [\n          0.8641886711120605,\n          0.8865150213241577\n        ],\n        \"semantic_type\": \"\",\n        \"description\": \"\"\n      }\n    },\n    {\n      \"column\": \"camera\",\n      \"properties\": {\n        \"dtype\": \"float32\",\n        \"num_unique_values\": 7350,\n        \"samples\": [\n          0.8722207546234131,\n          0.8779736757278442\n        ],\n        \"semantic_type\": \"\",\n        \"description\": \"\"\n      }\n    },\n    {\n      \"column\": \"battery\",\n      \"properties\": {\n        \"dtype\": \"float32\",\n        \"num_unique_values\": 7334,\n        \"samples\": [\n          0.9543346762657166,\n          0.9433284401893616\n        ],\n        \"semantic_type\": \"\",\n        \"description\": \"\"\n      }\n    },\n    {\n      \"column\": \"delivery\",\n      \"properties\": {\n        \"dtype\": \"float32\",\n        \"num_unique_values\": 7357,\n        \"samples\": [\n          0.9270012378692627,\n          0.9528375864028931\n        ],\n        \"semantic_type\": \"\",\n        \"description\": \"\"\n      }\n    },\n    {\n      \"column\": \"processor\",\n      \"properties\": {\n        \"dtype\": \"float32\",\n        \"num_unique_values\": 7355,\n        \"samples\": [\n          0.8348645567893982,\n          0.922532856464386\n        ],\n        \"semantic_type\": \"\",\n        \"description\": \"\"\n      }\n    }\n  ]\n}"
            }
          },
          "metadata": {},
          "execution_count": 76
        }
      ]
    },
    {
      "cell_type": "markdown",
      "source": [],
      "metadata": {
        "papermill": {
          "duration": 0.643714,
          "end_time": "2022-06-13T19:51:46.601745",
          "exception": false,
          "start_time": "2022-06-13T19:51:45.958031",
          "status": "completed"
        },
        "tags": [],
        "id": "pnkO69cGCxo1"
      }
    },
    {
      "cell_type": "code",
      "source": [],
      "metadata": {
        "papermill": {
          "duration": 1.185275,
          "end_time": "2022-06-13T19:51:48.642462",
          "exception": false,
          "start_time": "2022-06-13T19:51:47.457187",
          "status": "completed"
        },
        "tags": [],
        "id": "xUrHZyuVCxo2"
      },
      "execution_count": 76,
      "outputs": []
    },
    {
      "cell_type": "markdown",
      "source": [
        "<h2  style=\"text-align: center\" class=\"list-group-item list-group-item-success\"> 6.2 Dataset Generator </h2><a id = \"6.2\" ></a>"
      ],
      "metadata": {
        "papermill": {
          "duration": 0.596307,
          "end_time": "2022-06-13T19:51:49.835143",
          "exception": false,
          "start_time": "2022-06-13T19:51:49.238836",
          "status": "completed"
        },
        "tags": [],
        "id": "orTzb2dlCxo2"
      }
    },
    {
      "cell_type": "markdown",
      "source": [
        "<h3  style=\"text-align: center\" class=\"list-group-item list-group-item-warning\"> 6.2.1 Creation of the Vocabulary </h3><a id = \"6.2.1\" ></a>"
      ],
      "metadata": {
        "papermill": {
          "duration": 0.596218,
          "end_time": "2022-06-13T19:51:51.031501",
          "exception": false,
          "start_time": "2022-06-13T19:51:50.435283",
          "status": "completed"
        },
        "tags": [],
        "id": "wKoaIsbNCxo2"
      }
    },
    {
      "cell_type": "code",
      "source": [
        "class Vocabulary:\n",
        "\n",
        "    '''\n",
        "    __init__ method is called by default as soon as an object of this class is initiated\n",
        "    we use this method to initiate our vocab dictionaries\n",
        "    '''\n",
        "    def __init__(self, freq_threshold, max_size):\n",
        "        '''\n",
        "        freq_threshold : the minimum times a word must occur in corpus to be treated in vocab\n",
        "        max_size : max source vocab size. Eg. if set to 10,000, we pick the top 10,000 most frequent words and discard others\n",
        "        '''\n",
        "        #initiate the index to token dict\n",
        "        ## <PAD> -> padding, used for padding the shorter sentences in a batch to match the length of longest sentence in the batch\n",
        "        ## <SOS> -> start token, added in front of each sentence to signify the start of sentence\n",
        "        ## <EOS> -> End of sentence token, added to the end of each sentence to signify the end of sentence\n",
        "        ## <UNK> -> words which are not found in the vocab are replace by this token\n",
        "        self.itos = {0: '<PAD>', 1:'<SOS>', 2:'<EOS>', 3: '<UNK>'}\n",
        "        #initiate the token to index dict\n",
        "        self.stoi = {k:j for j,k in self.itos.items()}\n",
        "\n",
        "        self.freq_threshold = freq_threshold\n",
        "        self.max_size = max_size\n",
        "\n",
        "    '''\n",
        "    __len__ is used by dataloader later to create batches\n",
        "    '''\n",
        "    def __len__(self):\n",
        "        return len(self.itos)\n",
        "\n",
        "    '''\n",
        "    a simple tokenizer to split on space and converts the sentence to list of words\n",
        "    '''\n",
        "    @staticmethod\n",
        "    def tokenizer(text):\n",
        "        return [tok.lower().strip() for tok in text.split(' ')]\n",
        "\n",
        "    '''\n",
        "    build the vocab: create a dictionary mapping of index to string (itos) and string to index (stoi)\n",
        "    output ex. for stoi -> {'the':5, 'a':6, 'an':7}\n",
        "    '''\n",
        "    def build_vocabulary(self, sentence_list):\n",
        "        #calculate the frequencies of each word first to remove the words with freq < freq_threshold\n",
        "        frequencies = {}  #init the freq dict\n",
        "        idx = 4 #index from which we want our dict to start. We already used 4 indexes for pad, start, end, unk\n",
        "\n",
        "        #calculate freq of words\n",
        "        for sentence in sentence_list:\n",
        "            for word in self.tokenizer(sentence):\n",
        "                if word not in frequencies.keys():\n",
        "                    frequencies[word]=1\n",
        "                else:\n",
        "                    frequencies[word]+=1\n",
        "\n",
        "\n",
        "        #limit vocab by removing low freq words\n",
        "        frequencies = {k:v for k,v in frequencies.items() if v>self.freq_threshold}\n",
        "\n",
        "        #limit vocab to the max_size specified\n",
        "        frequencies = dict(sorted(frequencies.items(), key = lambda x: -x[1])[:self.max_size-idx]) # idx =4 for pad, start, end , unk\n",
        "\n",
        "        #create vocab\n",
        "        for word in frequencies.keys():\n",
        "            self.stoi[word] = idx\n",
        "            self.itos[idx] = word\n",
        "            idx+=1\n",
        "\n",
        "\n",
        "    '''\n",
        "    convert the list of words to a list of corresponding indexes\n",
        "    '''\n",
        "    def numericalize(self, text):\n",
        "        #tokenize text\n",
        "        tokenized_text = self.tokenizer(text)\n",
        "        numericalized_text = []\n",
        "        for token in tokenized_text:\n",
        "            if token in self.stoi.keys():\n",
        "                numericalized_text.append(self.stoi[token])\n",
        "            else: #out-of-vocab words are represented by UNK token index\n",
        "                numericalized_text.append(self.stoi['<UNK>'])\n",
        "\n",
        "        return numericalized_text\n"
      ],
      "metadata": {
        "execution": {
          "iopub.execute_input": "2022-07-05T06:59:52.72023Z",
          "iopub.status.busy": "2022-07-05T06:59:52.71985Z",
          "iopub.status.idle": "2022-07-05T06:59:52.736695Z",
          "shell.execute_reply": "2022-07-05T06:59:52.735374Z",
          "shell.execute_reply.started": "2022-07-05T06:59:52.720194Z"
        },
        "papermill": {
          "duration": 0.616192,
          "end_time": "2022-06-13T19:51:52.247773",
          "exception": false,
          "start_time": "2022-06-13T19:51:51.631581",
          "status": "completed"
        },
        "tags": [],
        "id": "Z4HPnmVXCxo3"
      },
      "execution_count": 77,
      "outputs": []
    },
    {
      "cell_type": "code",
      "source": [
        "from torch.utils.data import Dataset\n",
        "\n",
        "class CustomDataset(Dataset):\n",
        "    '''\n",
        "    Initiating Variables\n",
        "    df: the training dataframe\n",
        "    source_column : the name of source text column in the dataframe\n",
        "    transform : If we want to add any augmentation\n",
        "    freq_threshold : the minimum times a word must occur in corpus to be treated in vocab\n",
        "    source_vocab_max_size : max source vocab size\n",
        "    '''\n",
        "\n",
        "    def __init__(self, df, source_column,freq_threshold = 3,\n",
        "                source_vocab_max_size = 10000 , transform=None):\n",
        "\n",
        "        self.df = df\n",
        "        self.transform = transform\n",
        "\n",
        "        #get source and target texts\n",
        "        self.source_texts = self.df[source_column]\n",
        "\n",
        "\n",
        "        ##VOCAB class has been created above\n",
        "        #Initialize source vocab object and build vocabulary\n",
        "        self.source_vocab = Vocabulary(freq_threshold, source_vocab_max_size)\n",
        "        self.source_vocab.build_vocabulary(self.source_texts.tolist())\n",
        "\n",
        "\n",
        "    def __len__(self):\n",
        "        return len(self.df)\n",
        "\n",
        "    '''\n",
        "    __getitem__ runs on 1 example at a time. Here, we get an example at index and return its numericalize source and\n",
        "    target values using the vocabulary objects we created in __init__\n",
        "    '''\n",
        "    def __getitem__(self, index):\n",
        "        source_text = self.source_texts[index]\n",
        "\n",
        "        if self.transform is not None:\n",
        "            source_text = self.transform(source_text)\n",
        "\n",
        "        #numericalize texts ['<SOS>','cat', 'in', 'a', 'bag','<EOS>'] -> [1,12,2,9,24,2]\n",
        "        numerialized_source = [self.source_vocab.stoi[\"<SOS>\"]]\n",
        "        numerialized_source += self.source_vocab.numericalize(source_text)\n",
        "        numerialized_source.append(self.source_vocab.stoi[\"<EOS>\"])\n",
        "\n",
        "        #convert the list to tensor and return\n",
        "        return torch.tensor(numerialized_source), torch.tensor(self.df.y[index])"
      ],
      "metadata": {
        "execution": {
          "iopub.execute_input": "2022-07-05T06:59:52.739669Z",
          "iopub.status.busy": "2022-07-05T06:59:52.738599Z",
          "iopub.status.idle": "2022-07-05T06:59:52.753463Z",
          "shell.execute_reply": "2022-07-05T06:59:52.752343Z",
          "shell.execute_reply.started": "2022-07-05T06:59:52.739578Z"
        },
        "papermill": {
          "duration": 0.622706,
          "end_time": "2022-06-13T19:51:53.463781",
          "exception": false,
          "start_time": "2022-06-13T19:51:52.841075",
          "status": "completed"
        },
        "tags": [],
        "id": "kVv76yQ1Cxo3"
      },
      "execution_count": 78,
      "outputs": []
    },
    {
      "cell_type": "code",
      "source": [
        "df.head()"
      ],
      "metadata": {
        "execution": {
          "iopub.execute_input": "2022-07-05T06:59:52.755557Z",
          "iopub.status.busy": "2022-07-05T06:59:52.755083Z",
          "iopub.status.idle": "2022-07-05T06:59:52.777773Z",
          "shell.execute_reply": "2022-07-05T06:59:52.77656Z",
          "shell.execute_reply.started": "2022-07-05T06:59:52.755521Z"
        },
        "papermill": {
          "duration": 0.607569,
          "end_time": "2022-06-13T19:51:54.711852",
          "exception": false,
          "start_time": "2022-06-13T19:51:54.104283",
          "status": "completed"
        },
        "tags": [],
        "id": "1Y1znSd5Cxo4",
        "outputId": "218aa8d5-efb7-4761-f337-f7e7172cdbe6",
        "colab": {
          "base_uri": "https://localhost:8080/",
          "height": 293
        }
      },
      "execution_count": 79,
      "outputs": [
        {
          "output_type": "execute_result",
          "data": {
            "text/plain": [
              "                                              review  y  \\\n",
              "0  great phone in budget. .. pubg performance was...  0   \n",
              "1  Best Smartphone by Mi in this Range. . malfunc...  0   \n",
              "2  Bad smooth phone. . and back camera quality is...  0   \n",
              "3  Thise is very nice mobile ...I like it very mu...  1   \n",
              "4  I m meagerly fall short of 👍 All section r sup...  0   \n",
              "\n",
              "                                        clean_review  \\\n",
              "0  great phone budget pubg performance rough came...   \n",
              "1  well smartphone mi range malfunction r confuse...   \n",
              "2  bad smooth phone back camera quality bad rear ...   \n",
              "3  thise nice mobile I like much delivery also fa...   \n",
              "4  I meagerly fall short thumb section r superb d...   \n",
              "\n",
              "                                       clean_review2     phone    camera  \\\n",
              "0  [great, phone, budget, pubg, performance, roug...  0.900896  0.866552   \n",
              "1  [well, smartphone, mi, range, malfunction, r, ...  0.896859  0.824047   \n",
              "2  [bad, smooth, phone, back, camera, quality, ba...  0.857076  0.908254   \n",
              "3  [thise, nice, mobile, i, like, much, delivery,...  0.855256  0.841664   \n",
              "4  [i, meagerly, fall, short, thumb, section, r, ...  0.837863  0.875546   \n",
              "\n",
              "    battery  delivery  processor  \n",
              "0  0.954735  0.920299   0.887927  \n",
              "1  0.944765  0.947924   0.853772  \n",
              "2  0.965888  0.932670   0.921550  \n",
              "3  0.926582  0.965602   0.850503  \n",
              "4  0.973111  0.965074   0.900075  "
            ],
            "text/html": [
              "\n",
              "  <div id=\"df-dbd59f1a-a5cb-480c-9db1-9ba0c245b9af\" class=\"colab-df-container\">\n",
              "    <div>\n",
              "<style scoped>\n",
              "    .dataframe tbody tr th:only-of-type {\n",
              "        vertical-align: middle;\n",
              "    }\n",
              "\n",
              "    .dataframe tbody tr th {\n",
              "        vertical-align: top;\n",
              "    }\n",
              "\n",
              "    .dataframe thead th {\n",
              "        text-align: right;\n",
              "    }\n",
              "</style>\n",
              "<table border=\"1\" class=\"dataframe\">\n",
              "  <thead>\n",
              "    <tr style=\"text-align: right;\">\n",
              "      <th></th>\n",
              "      <th>review</th>\n",
              "      <th>y</th>\n",
              "      <th>clean_review</th>\n",
              "      <th>clean_review2</th>\n",
              "      <th>phone</th>\n",
              "      <th>camera</th>\n",
              "      <th>battery</th>\n",
              "      <th>delivery</th>\n",
              "      <th>processor</th>\n",
              "    </tr>\n",
              "  </thead>\n",
              "  <tbody>\n",
              "    <tr>\n",
              "      <th>0</th>\n",
              "      <td>great phone in budget. .. pubg performance was...</td>\n",
              "      <td>0</td>\n",
              "      <td>great phone budget pubg performance rough came...</td>\n",
              "      <td>[great, phone, budget, pubg, performance, roug...</td>\n",
              "      <td>0.900896</td>\n",
              "      <td>0.866552</td>\n",
              "      <td>0.954735</td>\n",
              "      <td>0.920299</td>\n",
              "      <td>0.887927</td>\n",
              "    </tr>\n",
              "    <tr>\n",
              "      <th>1</th>\n",
              "      <td>Best Smartphone by Mi in this Range. . malfunc...</td>\n",
              "      <td>0</td>\n",
              "      <td>well smartphone mi range malfunction r confuse...</td>\n",
              "      <td>[well, smartphone, mi, range, malfunction, r, ...</td>\n",
              "      <td>0.896859</td>\n",
              "      <td>0.824047</td>\n",
              "      <td>0.944765</td>\n",
              "      <td>0.947924</td>\n",
              "      <td>0.853772</td>\n",
              "    </tr>\n",
              "    <tr>\n",
              "      <th>2</th>\n",
              "      <td>Bad smooth phone. . and back camera quality is...</td>\n",
              "      <td>0</td>\n",
              "      <td>bad smooth phone back camera quality bad rear ...</td>\n",
              "      <td>[bad, smooth, phone, back, camera, quality, ba...</td>\n",
              "      <td>0.857076</td>\n",
              "      <td>0.908254</td>\n",
              "      <td>0.965888</td>\n",
              "      <td>0.932670</td>\n",
              "      <td>0.921550</td>\n",
              "    </tr>\n",
              "    <tr>\n",
              "      <th>3</th>\n",
              "      <td>Thise is very nice mobile ...I like it very mu...</td>\n",
              "      <td>1</td>\n",
              "      <td>thise nice mobile I like much delivery also fa...</td>\n",
              "      <td>[thise, nice, mobile, i, like, much, delivery,...</td>\n",
              "      <td>0.855256</td>\n",
              "      <td>0.841664</td>\n",
              "      <td>0.926582</td>\n",
              "      <td>0.965602</td>\n",
              "      <td>0.850503</td>\n",
              "    </tr>\n",
              "    <tr>\n",
              "      <th>4</th>\n",
              "      <td>I m meagerly fall short of 👍 All section r sup...</td>\n",
              "      <td>0</td>\n",
              "      <td>I meagerly fall short thumb section r superb d...</td>\n",
              "      <td>[i, meagerly, fall, short, thumb, section, r, ...</td>\n",
              "      <td>0.837863</td>\n",
              "      <td>0.875546</td>\n",
              "      <td>0.973111</td>\n",
              "      <td>0.965074</td>\n",
              "      <td>0.900075</td>\n",
              "    </tr>\n",
              "  </tbody>\n",
              "</table>\n",
              "</div>\n",
              "    <div class=\"colab-df-buttons\">\n",
              "\n",
              "  <div class=\"colab-df-container\">\n",
              "    <button class=\"colab-df-convert\" onclick=\"convertToInteractive('df-dbd59f1a-a5cb-480c-9db1-9ba0c245b9af')\"\n",
              "            title=\"Convert this dataframe to an interactive table.\"\n",
              "            style=\"display:none;\">\n",
              "\n",
              "  <svg xmlns=\"http://www.w3.org/2000/svg\" height=\"24px\" viewBox=\"0 -960 960 960\">\n",
              "    <path d=\"M120-120v-720h720v720H120Zm60-500h600v-160H180v160Zm220 220h160v-160H400v160Zm0 220h160v-160H400v160ZM180-400h160v-160H180v160Zm440 0h160v-160H620v160ZM180-180h160v-160H180v160Zm440 0h160v-160H620v160Z\"/>\n",
              "  </svg>\n",
              "    </button>\n",
              "\n",
              "  <style>\n",
              "    .colab-df-container {\n",
              "      display:flex;\n",
              "      gap: 12px;\n",
              "    }\n",
              "\n",
              "    .colab-df-convert {\n",
              "      background-color: #E8F0FE;\n",
              "      border: none;\n",
              "      border-radius: 50%;\n",
              "      cursor: pointer;\n",
              "      display: none;\n",
              "      fill: #1967D2;\n",
              "      height: 32px;\n",
              "      padding: 0 0 0 0;\n",
              "      width: 32px;\n",
              "    }\n",
              "\n",
              "    .colab-df-convert:hover {\n",
              "      background-color: #E2EBFA;\n",
              "      box-shadow: 0px 1px 2px rgba(60, 64, 67, 0.3), 0px 1px 3px 1px rgba(60, 64, 67, 0.15);\n",
              "      fill: #174EA6;\n",
              "    }\n",
              "\n",
              "    .colab-df-buttons div {\n",
              "      margin-bottom: 4px;\n",
              "    }\n",
              "\n",
              "    [theme=dark] .colab-df-convert {\n",
              "      background-color: #3B4455;\n",
              "      fill: #D2E3FC;\n",
              "    }\n",
              "\n",
              "    [theme=dark] .colab-df-convert:hover {\n",
              "      background-color: #434B5C;\n",
              "      box-shadow: 0px 1px 3px 1px rgba(0, 0, 0, 0.15);\n",
              "      filter: drop-shadow(0px 1px 2px rgba(0, 0, 0, 0.3));\n",
              "      fill: #FFFFFF;\n",
              "    }\n",
              "  </style>\n",
              "\n",
              "    <script>\n",
              "      const buttonEl =\n",
              "        document.querySelector('#df-dbd59f1a-a5cb-480c-9db1-9ba0c245b9af button.colab-df-convert');\n",
              "      buttonEl.style.display =\n",
              "        google.colab.kernel.accessAllowed ? 'block' : 'none';\n",
              "\n",
              "      async function convertToInteractive(key) {\n",
              "        const element = document.querySelector('#df-dbd59f1a-a5cb-480c-9db1-9ba0c245b9af');\n",
              "        const dataTable =\n",
              "          await google.colab.kernel.invokeFunction('convertToInteractive',\n",
              "                                                    [key], {});\n",
              "        if (!dataTable) return;\n",
              "\n",
              "        const docLinkHtml = 'Like what you see? Visit the ' +\n",
              "          '<a target=\"_blank\" href=https://colab.research.google.com/notebooks/data_table.ipynb>data table notebook</a>'\n",
              "          + ' to learn more about interactive tables.';\n",
              "        element.innerHTML = '';\n",
              "        dataTable['output_type'] = 'display_data';\n",
              "        await google.colab.output.renderOutput(dataTable, element);\n",
              "        const docLink = document.createElement('div');\n",
              "        docLink.innerHTML = docLinkHtml;\n",
              "        element.appendChild(docLink);\n",
              "      }\n",
              "    </script>\n",
              "  </div>\n",
              "\n",
              "\n",
              "<div id=\"df-c65dad78-1bf1-4206-9878-49dd7192d3c6\">\n",
              "  <button class=\"colab-df-quickchart\" onclick=\"quickchart('df-c65dad78-1bf1-4206-9878-49dd7192d3c6')\"\n",
              "            title=\"Suggest charts\"\n",
              "            style=\"display:none;\">\n",
              "\n",
              "<svg xmlns=\"http://www.w3.org/2000/svg\" height=\"24px\"viewBox=\"0 0 24 24\"\n",
              "     width=\"24px\">\n",
              "    <g>\n",
              "        <path d=\"M19 3H5c-1.1 0-2 .9-2 2v14c0 1.1.9 2 2 2h14c1.1 0 2-.9 2-2V5c0-1.1-.9-2-2-2zM9 17H7v-7h2v7zm4 0h-2V7h2v10zm4 0h-2v-4h2v4z\"/>\n",
              "    </g>\n",
              "</svg>\n",
              "  </button>\n",
              "\n",
              "<style>\n",
              "  .colab-df-quickchart {\n",
              "      --bg-color: #E8F0FE;\n",
              "      --fill-color: #1967D2;\n",
              "      --hover-bg-color: #E2EBFA;\n",
              "      --hover-fill-color: #174EA6;\n",
              "      --disabled-fill-color: #AAA;\n",
              "      --disabled-bg-color: #DDD;\n",
              "  }\n",
              "\n",
              "  [theme=dark] .colab-df-quickchart {\n",
              "      --bg-color: #3B4455;\n",
              "      --fill-color: #D2E3FC;\n",
              "      --hover-bg-color: #434B5C;\n",
              "      --hover-fill-color: #FFFFFF;\n",
              "      --disabled-bg-color: #3B4455;\n",
              "      --disabled-fill-color: #666;\n",
              "  }\n",
              "\n",
              "  .colab-df-quickchart {\n",
              "    background-color: var(--bg-color);\n",
              "    border: none;\n",
              "    border-radius: 50%;\n",
              "    cursor: pointer;\n",
              "    display: none;\n",
              "    fill: var(--fill-color);\n",
              "    height: 32px;\n",
              "    padding: 0;\n",
              "    width: 32px;\n",
              "  }\n",
              "\n",
              "  .colab-df-quickchart:hover {\n",
              "    background-color: var(--hover-bg-color);\n",
              "    box-shadow: 0 1px 2px rgba(60, 64, 67, 0.3), 0 1px 3px 1px rgba(60, 64, 67, 0.15);\n",
              "    fill: var(--button-hover-fill-color);\n",
              "  }\n",
              "\n",
              "  .colab-df-quickchart-complete:disabled,\n",
              "  .colab-df-quickchart-complete:disabled:hover {\n",
              "    background-color: var(--disabled-bg-color);\n",
              "    fill: var(--disabled-fill-color);\n",
              "    box-shadow: none;\n",
              "  }\n",
              "\n",
              "  .colab-df-spinner {\n",
              "    border: 2px solid var(--fill-color);\n",
              "    border-color: transparent;\n",
              "    border-bottom-color: var(--fill-color);\n",
              "    animation:\n",
              "      spin 1s steps(1) infinite;\n",
              "  }\n",
              "\n",
              "  @keyframes spin {\n",
              "    0% {\n",
              "      border-color: transparent;\n",
              "      border-bottom-color: var(--fill-color);\n",
              "      border-left-color: var(--fill-color);\n",
              "    }\n",
              "    20% {\n",
              "      border-color: transparent;\n",
              "      border-left-color: var(--fill-color);\n",
              "      border-top-color: var(--fill-color);\n",
              "    }\n",
              "    30% {\n",
              "      border-color: transparent;\n",
              "      border-left-color: var(--fill-color);\n",
              "      border-top-color: var(--fill-color);\n",
              "      border-right-color: var(--fill-color);\n",
              "    }\n",
              "    40% {\n",
              "      border-color: transparent;\n",
              "      border-right-color: var(--fill-color);\n",
              "      border-top-color: var(--fill-color);\n",
              "    }\n",
              "    60% {\n",
              "      border-color: transparent;\n",
              "      border-right-color: var(--fill-color);\n",
              "    }\n",
              "    80% {\n",
              "      border-color: transparent;\n",
              "      border-right-color: var(--fill-color);\n",
              "      border-bottom-color: var(--fill-color);\n",
              "    }\n",
              "    90% {\n",
              "      border-color: transparent;\n",
              "      border-bottom-color: var(--fill-color);\n",
              "    }\n",
              "  }\n",
              "</style>\n",
              "\n",
              "  <script>\n",
              "    async function quickchart(key) {\n",
              "      const quickchartButtonEl =\n",
              "        document.querySelector('#' + key + ' button');\n",
              "      quickchartButtonEl.disabled = true;  // To prevent multiple clicks.\n",
              "      quickchartButtonEl.classList.add('colab-df-spinner');\n",
              "      try {\n",
              "        const charts = await google.colab.kernel.invokeFunction(\n",
              "            'suggestCharts', [key], {});\n",
              "      } catch (error) {\n",
              "        console.error('Error during call to suggestCharts:', error);\n",
              "      }\n",
              "      quickchartButtonEl.classList.remove('colab-df-spinner');\n",
              "      quickchartButtonEl.classList.add('colab-df-quickchart-complete');\n",
              "    }\n",
              "    (() => {\n",
              "      let quickchartButtonEl =\n",
              "        document.querySelector('#df-c65dad78-1bf1-4206-9878-49dd7192d3c6 button');\n",
              "      quickchartButtonEl.style.display =\n",
              "        google.colab.kernel.accessAllowed ? 'block' : 'none';\n",
              "    })();\n",
              "  </script>\n",
              "</div>\n",
              "\n",
              "    </div>\n",
              "  </div>\n"
            ],
            "application/vnd.google.colaboratory.intrinsic+json": {
              "type": "dataframe",
              "variable_name": "df",
              "summary": "{\n  \"name\": \"df\",\n  \"rows\": 9606,\n  \"fields\": [\n    {\n      \"column\": \"review\",\n      \"properties\": {\n        \"dtype\": \"string\",\n        \"num_unique_values\": 7426,\n        \"samples\": [\n          \"Redmi 8 is very awesome mobile phone for me and really worst function of this phone very affordable at 8000 only I am very unhappy by deregulate this product from Flipkart to provide fast and quick delivery service to me all features of this immobile server your some worst camera and bad 4g handset.\",\n          \"look wise camera wise it is terrifying at this price range. remarkably i am very fond of Samsung but after leave it i just increase love with this brand.\",\n          \"nasty mobile with awesome features at real price, very unhappy with the product, thanks for the super fast delivery.\"\n        ],\n        \"semantic_type\": \"\",\n        \"description\": \"\"\n      }\n    },\n    {\n      \"column\": \"y\",\n      \"properties\": {\n        \"dtype\": \"number\",\n        \"std\": 0,\n        \"min\": 0,\n        \"max\": 1,\n        \"num_unique_values\": 2,\n        \"samples\": [\n          1,\n          0\n        ],\n        \"semantic_type\": \"\",\n        \"description\": \"\"\n      }\n    },\n    {\n      \"column\": \"clean_review\",\n      \"properties\": {\n        \"dtype\": \"string\",\n        \"num_unique_values\": 7401,\n        \"samples\": [\n          \"use 7 month problem performance really bad deal redmi flipkart hate phone\",\n          \"extra ordinary mind blow phone I order blue coloured phone look glossy stunning camera front back perfect awesome day night condition I get 6 gb ram version phone long wait way thank xiaomi make budget friendly phone\"\n        ],\n        \"semantic_type\": \"\",\n        \"description\": \"\"\n      }\n    },\n    {\n      \"column\": \"clean_review2\",\n      \"properties\": {\n        \"dtype\": \"object\",\n        \"semantic_type\": \"\",\n        \"description\": \"\"\n      }\n    },\n    {\n      \"column\": \"phone\",\n      \"properties\": {\n        \"dtype\": \"float32\",\n        \"num_unique_values\": 7353,\n        \"samples\": [\n          0.8641886711120605,\n          0.8865150213241577\n        ],\n        \"semantic_type\": \"\",\n        \"description\": \"\"\n      }\n    },\n    {\n      \"column\": \"camera\",\n      \"properties\": {\n        \"dtype\": \"float32\",\n        \"num_unique_values\": 7350,\n        \"samples\": [\n          0.8722207546234131,\n          0.8779736757278442\n        ],\n        \"semantic_type\": \"\",\n        \"description\": \"\"\n      }\n    },\n    {\n      \"column\": \"battery\",\n      \"properties\": {\n        \"dtype\": \"float32\",\n        \"num_unique_values\": 7334,\n        \"samples\": [\n          0.9543346762657166,\n          0.9433284401893616\n        ],\n        \"semantic_type\": \"\",\n        \"description\": \"\"\n      }\n    },\n    {\n      \"column\": \"delivery\",\n      \"properties\": {\n        \"dtype\": \"float32\",\n        \"num_unique_values\": 7357,\n        \"samples\": [\n          0.9270012378692627,\n          0.9528375864028931\n        ],\n        \"semantic_type\": \"\",\n        \"description\": \"\"\n      }\n    },\n    {\n      \"column\": \"processor\",\n      \"properties\": {\n        \"dtype\": \"float32\",\n        \"num_unique_values\": 7355,\n        \"samples\": [\n          0.8348645567893982,\n          0.922532856464386\n        ],\n        \"semantic_type\": \"\",\n        \"description\": \"\"\n      }\n    }\n  ]\n}"
            }
          },
          "metadata": {},
          "execution_count": 79
        }
      ]
    },
    {
      "cell_type": "code",
      "source": [
        "dataset = CustomDataset(df, \"clean_review\")"
      ],
      "metadata": {
        "execution": {
          "iopub.execute_input": "2022-07-05T06:59:52.78007Z",
          "iopub.status.busy": "2022-07-05T06:59:52.779469Z",
          "iopub.status.idle": "2022-07-05T06:59:52.900533Z",
          "shell.execute_reply": "2022-07-05T06:59:52.899626Z",
          "shell.execute_reply.started": "2022-07-05T06:59:52.780034Z"
        },
        "papermill": {
          "duration": 0.705869,
          "end_time": "2022-06-13T19:51:56.013355",
          "exception": false,
          "start_time": "2022-06-13T19:51:55.307486",
          "status": "completed"
        },
        "tags": [],
        "id": "iEFPOFqvCxo4"
      },
      "execution_count": 80,
      "outputs": []
    },
    {
      "cell_type": "code",
      "source": [
        "len(dataset.source_vocab.stoi)"
      ],
      "metadata": {
        "execution": {
          "iopub.execute_input": "2022-07-05T06:59:52.90282Z",
          "iopub.status.busy": "2022-07-05T06:59:52.902364Z",
          "iopub.status.idle": "2022-07-05T06:59:52.910418Z",
          "shell.execute_reply": "2022-07-05T06:59:52.909252Z",
          "shell.execute_reply.started": "2022-07-05T06:59:52.902775Z"
        },
        "papermill": {
          "duration": 0.60061,
          "end_time": "2022-06-13T19:51:57.211929",
          "exception": false,
          "start_time": "2022-06-13T19:51:56.611319",
          "status": "completed"
        },
        "tags": [],
        "id": "cvNJEbkZCxo5",
        "outputId": "d55ea66a-a36f-4857-d7c6-2286f4a4cc9b",
        "colab": {
          "base_uri": "https://localhost:8080/"
        }
      },
      "execution_count": 81,
      "outputs": [
        {
          "output_type": "execute_result",
          "data": {
            "text/plain": [
              "3303"
            ]
          },
          "metadata": {},
          "execution_count": 81
        }
      ]
    },
    {
      "cell_type": "markdown",
      "source": [
        "Saving the pytorch custom dataset"
      ],
      "metadata": {
        "papermill": {
          "duration": 0.588906,
          "end_time": "2022-06-13T19:51:58.397118",
          "exception": false,
          "start_time": "2022-06-13T19:51:57.808212",
          "status": "completed"
        },
        "tags": [],
        "id": "Bg9IiSmjCxo5"
      }
    },
    {
      "cell_type": "code",
      "source": [
        "import pickle\n",
        "\n",
        "with open('dataset-new', 'wb') as dataset_file:\n",
        "\n",
        "  # Step 3\n",
        "    pickle.dump(dataset, dataset_file, pickle.HIGHEST_PROTOCOL)\n",
        "\n",
        "# import pickle\n",
        "\n",
        "# # Step 2\n",
        "# with open('./dataset', 'rb') as config_dictionary_file:\n",
        "\n",
        "#     # Step 3\n",
        "#     config_dictionary = pickle.load(config_dictionary_file)\n",
        "\n",
        "#     # After config_dictionary is read from file\n",
        "#     print(config_dictionary)"
      ],
      "metadata": {
        "execution": {
          "iopub.execute_input": "2022-07-05T06:59:52.913084Z",
          "iopub.status.busy": "2022-07-05T06:59:52.912367Z",
          "iopub.status.idle": "2022-07-05T06:59:52.976916Z",
          "shell.execute_reply": "2022-07-05T06:59:52.975941Z",
          "shell.execute_reply.started": "2022-07-05T06:59:52.913049Z"
        },
        "papermill": {
          "duration": 0.727998,
          "end_time": "2022-06-13T19:52:00.045456",
          "exception": false,
          "start_time": "2022-06-13T19:51:59.317458",
          "status": "completed"
        },
        "tags": [],
        "id": "2UJpna3LCxo5"
      },
      "execution_count": 82,
      "outputs": []
    },
    {
      "cell_type": "markdown",
      "source": [
        "<h2  style=\"text-align: center\" class=\"list-group-item list-group-item-success\"> 6.3 Word Embeddings </h2><a id = \"6.3\" ></a>"
      ],
      "metadata": {
        "papermill": {
          "duration": 0.589077,
          "end_time": "2022-06-13T19:52:01.284709",
          "exception": false,
          "start_time": "2022-06-13T19:52:00.695632",
          "status": "completed"
        },
        "tags": [],
        "id": "bk3Xtes6Cxo6"
      }
    },
    {
      "cell_type": "code",
      "source": [
        "def get_emb_layer_with_weights(target_vocab, emb_model, trainable = False):\n",
        "\n",
        "    weights_matrix = np.zeros((len(target_vocab), config.EMB_DIM))\n",
        "    words_found = 0\n",
        "\n",
        "    for i, word in enumerate(target_vocab):\n",
        "        weights_matrix[i] = np.concatenate([emb_model.wv[word]])\n",
        "        words_found += 1\n",
        "\n",
        "    print(f\"Words found are : {words_found}\")\n",
        "\n",
        "    weights_matrix = torch.tensor(weights_matrix, dtype = torch.float32).reshape(len(target_vocab), config.EMB_DIM)\n",
        "    emb_layer = nn.Embedding.from_pretrained(weights_matrix)\n",
        "    print(emb_layer)\n",
        "    if trainable:\n",
        "        emb_layer.weight.requires_grad = True\n",
        "    else:\n",
        "        emb_layer.weight.requires_grad = False\n",
        "\n",
        "    return emb_layer"
      ],
      "metadata": {
        "execution": {
          "iopub.execute_input": "2022-07-05T06:59:52.978924Z",
          "iopub.status.busy": "2022-07-05T06:59:52.978548Z",
          "iopub.status.idle": "2022-07-05T06:59:52.986323Z",
          "shell.execute_reply": "2022-07-05T06:59:52.98544Z",
          "shell.execute_reply.started": "2022-07-05T06:59:52.978887Z"
        },
        "papermill": {
          "duration": 0.60305,
          "end_time": "2022-06-13T19:52:02.477997",
          "exception": false,
          "start_time": "2022-06-13T19:52:01.874947",
          "status": "completed"
        },
        "tags": [],
        "id": "WNfx-QJ_Cxo6"
      },
      "execution_count": 83,
      "outputs": []
    },
    {
      "cell_type": "code",
      "source": [
        "class MyCollate:\n",
        "    def __init__(self, pad_idx, maxlen):\n",
        "        self.pad_idx = pad_idx\n",
        "        self.maxlen = maxlen\n",
        "\n",
        "\n",
        "    #__call__: a default method\n",
        "    ##   First the obj is created using MyCollate(pad_idx) in data loader\n",
        "    ##   Then if obj(batch) is called -> __call__ runs by default\n",
        "    def __call__(self, batch):\n",
        "        #get all source indexed sentences of the batch\n",
        "        source = [item[0] for item in batch]\n",
        "        #pad them using pad_sequence method from pytorch.\n",
        "#         source = pad_sequence(source, batch_first=False, padding_value = self.pad_idx)\n",
        "\n",
        "        padded_sequence = torch.zeros((self.maxlen, len(batch)), dtype = torch.int)\n",
        "\n",
        "        for idx, text in enumerate(source):\n",
        "\n",
        "            if len(text) > self.maxlen:\n",
        "                padded_sequence[:, idx] = source[idx][: self.maxlen]\n",
        "            else:\n",
        "                padded_sequence[:len(source[idx]), idx] = padded_sequence[:len(source[idx]), idx] + source[idx]\n",
        "\n",
        "\n",
        "        #get all target indexed sentences of the batch\n",
        "        target = [item[1] for item in batch]\n",
        "\n",
        "        target = torch.tensor(target, dtype = torch.float32).reshape(-1)\n",
        "        return padded_sequence, target\n"
      ],
      "metadata": {
        "execution": {
          "iopub.execute_input": "2022-07-05T06:59:52.988413Z",
          "iopub.status.busy": "2022-07-05T06:59:52.987778Z",
          "iopub.status.idle": "2022-07-05T06:59:52.999526Z",
          "shell.execute_reply": "2022-07-05T06:59:52.998544Z",
          "shell.execute_reply.started": "2022-07-05T06:59:52.988378Z"
        },
        "papermill": {
          "duration": 0.600181,
          "end_time": "2022-06-13T19:52:03.674784",
          "exception": false,
          "start_time": "2022-06-13T19:52:03.074603",
          "status": "completed"
        },
        "tags": [],
        "id": "O4f9pnyiCxo6"
      },
      "execution_count": 84,
      "outputs": []
    },
    {
      "cell_type": "markdown",
      "source": [
        "<h2  style=\"text-align: center\" class=\"list-group-item list-group-item-success\"> 6.4 Initializing the Model </h2><a id = \"6.4\" ></a>\n",
        "\n",
        "![Ankit%20Architecture%20Updated.jpg](attachment:Ankit%20Architecture%20Updated.jpg)"
      ],
      "metadata": {
        "papermill": {
          "duration": 0.586643,
          "end_time": "2022-06-13T19:52:04.852157",
          "exception": false,
          "start_time": "2022-06-13T19:52:04.265514",
          "status": "completed"
        },
        "tags": [],
        "id": "UcnxSctdCxo7"
      }
    },
    {
      "cell_type": "code",
      "source": [
        "class Model(nn.Module):\n",
        "    def __init__(self, input_dim, embedding_dim, hidden_dim, output_dim, embedding_layer):\n",
        "        super().__init__()\n",
        "#         self.embedding = nn.Embedding(input_dim, embedding_dim)\n",
        "        self.hidden_dim = hidden_dim\n",
        "        self.embedding = embedding_layer\n",
        "        self.lstm = nn.LSTM(embedding_dim, hidden_dim, bidirectional = True)\n",
        "        self.fc1 = nn.Linear(2*hidden_dim, 128)\n",
        "        self.fc2 = nn.Linear(128, output_dim)\n",
        "        self.dropout = nn.Dropout(0.3)\n",
        "        self.sigmoid = nn.Sigmoid()\n",
        "\n",
        "\n",
        "\n",
        "    def forward(self, text):\n",
        "\n",
        "        max_len, N = text.shape\n",
        "        hidden = torch.zeros((2, N , self.hidden_dim),\n",
        "                          dtype=torch.float)\n",
        "        memory = torch.zeros((2, N , self.hidden_dim),\n",
        "                          dtype=torch.float)\n",
        "        hidden = hidden.to(config.DEVICE)\n",
        "        memory = memory.to(config.DEVICE)\n",
        "        embedded = self.embedding(text)\n",
        "        output, hidden = self.lstm(embedded, (hidden, memory))\n",
        "#         assert torch.equal(output[-1,:,:], hidden.squeeze(0))\n",
        "        y_pred = output[-1,:,:]\n",
        "        y_pred = self.fc1(y_pred)\n",
        "        y_pred = self.fc2(y_pred)\n",
        "        y_pred = self.sigmoid(y_pred)\n",
        "\n",
        "        return y_pred"
      ],
      "metadata": {
        "execution": {
          "iopub.execute_input": "2022-07-05T06:59:53.002971Z",
          "iopub.status.busy": "2022-07-05T06:59:53.002715Z",
          "iopub.status.idle": "2022-07-05T06:59:53.01428Z",
          "shell.execute_reply": "2022-07-05T06:59:53.013265Z",
          "shell.execute_reply.started": "2022-07-05T06:59:53.002948Z"
        },
        "papermill": {
          "duration": 0.603882,
          "end_time": "2022-06-13T19:52:06.047365",
          "exception": false,
          "start_time": "2022-06-13T19:52:05.443483",
          "status": "completed"
        },
        "tags": [],
        "id": "Dnu_mhLjCxo7"
      },
      "execution_count": 85,
      "outputs": []
    },
    {
      "cell_type": "markdown",
      "source": [
        " <h2  style=\"text-align: center\" class=\"list-group-item list-group-item-success\"> 6.5 Training and K-fold Cross Validation </h2><a id = \"6.5\" ></a>"
      ],
      "metadata": {
        "papermill": {
          "duration": 0.591235,
          "end_time": "2022-06-13T19:52:07.286142",
          "exception": false,
          "start_time": "2022-06-13T19:52:06.694907",
          "status": "completed"
        },
        "tags": [],
        "id": "ijy3Bp09Cxo7"
      }
    },
    {
      "cell_type": "code",
      "source": [
        "def train_epochs(dataloader,model, loss_fn, optimizer):\n",
        "    train_correct = 0\n",
        "    train_loss = 0\n",
        "\n",
        "    model.train()\n",
        "\n",
        "    for review, label in tqdm(dataloader):\n",
        "\n",
        "        review, label = review.to(config.DEVICE), label.to(config.DEVICE)\n",
        "        optimizer.zero_grad()\n",
        "        output = model(review)\n",
        "        output = output.reshape(-1)\n",
        "        loss = loss_fn(output, label)\n",
        "        loss.backward()\n",
        "        optimizer.step()\n",
        "\n",
        "        train_loss += loss.item()*review.size(1)\n",
        "        prediction = (output > 0.5).float()\n",
        "        train_correct += (prediction == label).float().sum()\n",
        "\n",
        "    return train_loss, train_correct\n",
        "\n",
        ""
      ],
      "metadata": {
        "execution": {
          "iopub.execute_input": "2022-07-05T06:59:53.015933Z",
          "iopub.status.busy": "2022-07-05T06:59:53.015549Z",
          "iopub.status.idle": "2022-07-05T06:59:53.028739Z",
          "shell.execute_reply": "2022-07-05T06:59:53.027657Z",
          "shell.execute_reply.started": "2022-07-05T06:59:53.015896Z"
        },
        "papermill": {
          "duration": 0.600097,
          "end_time": "2022-06-13T19:52:08.477651",
          "exception": false,
          "start_time": "2022-06-13T19:52:07.877554",
          "status": "completed"
        },
        "tags": [],
        "id": "-kVNi2OYCxo8"
      },
      "execution_count": 86,
      "outputs": []
    },
    {
      "cell_type": "code",
      "source": [
        "def val_epochs(dataloader, model, loss_fn):\n",
        "    val_correct = 0\n",
        "    val_loss = 0\n",
        "\n",
        "    model.eval()\n",
        "#     hidden = model.init_hidden(config.BATCH_SIZE)\n",
        "\n",
        "    for review, label in dataloader:\n",
        "\n",
        "        review, label = review.to(config.DEVICE), label.to(config.DEVICE)\n",
        "\n",
        "        output = model(review)\n",
        "        output = output.reshape(-1)\n",
        "\n",
        "        loss = loss_fn(output, label)\n",
        "\n",
        "        val_loss += loss.item()*review.size(1)\n",
        "        prediction = (output > 0.5).float()\n",
        "        val_correct += (prediction == label).float().sum()\n",
        "#         prediction =\n",
        "    return val_loss, val_correct\n",
        "\n",
        ""
      ],
      "metadata": {
        "execution": {
          "iopub.execute_input": "2022-07-05T06:59:53.030553Z",
          "iopub.status.busy": "2022-07-05T06:59:53.030033Z",
          "iopub.status.idle": "2022-07-05T06:59:53.039201Z",
          "shell.execute_reply": "2022-07-05T06:59:53.038048Z",
          "shell.execute_reply.started": "2022-07-05T06:59:53.030518Z"
        },
        "papermill": {
          "duration": 0.695426,
          "end_time": "2022-06-13T19:52:09.760229",
          "exception": false,
          "start_time": "2022-06-13T19:52:09.064803",
          "status": "completed"
        },
        "tags": [],
        "id": "Pb9en1qACxo9"
      },
      "execution_count": 87,
      "outputs": []
    },
    {
      "cell_type": "code",
      "source": [
        "from sklearn.model_selection import StratifiedKFold\n",
        "from sklearn.model_selection import KFold\n",
        "from torch.utils.data import SubsetRandomSampler\n",
        "from torch.optim import Adam\n",
        "from tqdm import tqdm\n",
        "from torch.utils.data import DataLoader\n",
        "import matplotlib.pyplot as plt\n",
        "\n",
        "\n",
        "# sfk = StratifiedKFold(n_splits = config.FOLDS)\n",
        "kfold = KFold(n_splits = config.FOLDS)\n",
        "model_state_dicts = {}\n",
        "\n",
        "for fold, (train_idx, val_idx) in enumerate(kfold.split(np.arange(len(dataset)))):\n",
        "\n",
        "    train_sampler = SubsetRandomSampler(train_idx)\n",
        "    val_sampler = SubsetRandomSampler(val_idx)\n",
        "\n",
        "    train_loader = DataLoader(dataset, batch_size = config.BATCH_SIZE, sampler = train_sampler, collate_fn = MyCollate(0, config.MAX_LEN))\n",
        "    val_loader = DataLoader(dataset, batch_size = config.BATCH_SIZE, sampler = val_sampler, collate_fn = MyCollate(0, config.MAX_LEN))\n",
        "\n",
        "    VOCAB_SIZE = len(dataset.source_vocab)\n",
        "    HIDDEN_DIM = 128\n",
        "    OUTPUT_DIM = 1\n",
        "    VOCAB = list(dataset.source_vocab.stoi)\n",
        "\n",
        "    embedding_layer = get_emb_layer_with_weights(target_vocab = VOCAB, emb_model = fasttext_model, trainable = False)\n",
        "\n",
        "    model = Model(VOCAB_SIZE, config.EMB_DIM, HIDDEN_DIM, OUTPUT_DIM, embedding_layer)\n",
        "    model = model.to(config.DEVICE)\n",
        "\n",
        "#     model\n",
        "#     model = Model(2, len(dataset.source_vocab), 128, 100, 1 ).to(config.DEVICE)\n",
        "#     hidden = model.init_hidden(config.BATCH_SIZE)\n",
        "#     model.hidden = hidden\n",
        "\n",
        "    loss_fn = nn.BCELoss()\n",
        "    optimizer = torch.optim.SGD(model.parameters(), lr = 0.1)\n",
        "\n",
        "    train_losses = []\n",
        "    val_losses = []\n",
        "    train_accs = []\n",
        "    val_accs = []\n",
        "\n",
        "    print(f\"-----------------------------------------------------------{fold}-fold of the model-----------------------------------------------------------\")\n",
        "    for epoch in range(config.EPOCHS):\n",
        "        train_loss, train_correct = train_epochs(train_loader, model, loss_fn, optimizer)\n",
        "        val_loss, val_correct = val_epochs(val_loader, model, loss_fn)\n",
        "\n",
        "        train_loss = train_loss/len(train_loader.sampler)\n",
        "        val_loss = val_loss/len(val_loader.sampler)\n",
        "        train_acc = (train_correct/len(train_loader.sampler))*100\n",
        "        val_acc = (val_correct/len(val_loader.sampler))*100\n",
        "\n",
        "        train_losses.append(train_loss)\n",
        "        val_losses.append(val_loss)\n",
        "        train_accs.append(train_acc.cpu().numpy().tolist())\n",
        "        val_accs.append(val_acc.cpu().numpy().tolist())\n",
        "\n",
        "        print(f\"| Train Loss : {train_loss} |\", end = \" \")\n",
        "        print(f\" Val Loss : {val_loss} |\", end = \" \")\n",
        "        print(f\"Train Acc : {train_acc} |\", end = \" \")\n",
        "        print(f\"Val Acc : {val_acc} |\")\n",
        "\n",
        "\n",
        "    # Saving the state dicts for the model\n",
        "    model_state_dicts.update({f\"LSTM-Model-for-{fold}\" : model.state_dict(),\n",
        "                             f\"Model-Optimizer-for-{fold}\" : optimizer.state_dict()})\n",
        "\n",
        "#     # summarize history for accuracy\n",
        "#     plt.plot(train_accs)\n",
        "#     plt.plot(val_accs)\n",
        "#     plt.title('Model Accuracy')\n",
        "#     plt.ylabel('Accuracy')\n",
        "#     plt.xlabel('Epoch')\n",
        "#     plt.legend(['Train', 'Test'], loc='upper left')\n",
        "#     plt.show()\n",
        "#     # summarize history for loss\n",
        "#     plt.plot(train_losses)\n",
        "#     plt.plot(val_losses)\n",
        "#     plt.title('Model Loss')\n",
        "#     plt.ylabel('Loss')\n",
        "#     plt.xlabel('Epoch')\n",
        "#     plt.legend(['Train', 'Test'], loc='upper left')\n",
        "#     plt.show()"
      ],
      "metadata": {
        "execution": {
          "iopub.execute_input": "2022-07-05T06:59:53.041942Z",
          "iopub.status.busy": "2022-07-05T06:59:53.041156Z",
          "iopub.status.idle": "2022-07-05T07:03:41.867847Z",
          "shell.execute_reply": "2022-07-05T07:03:41.866401Z",
          "shell.execute_reply.started": "2022-07-05T06:59:53.041907Z"
        },
        "papermill": {
          "duration": 243.200633,
          "end_time": "2022-06-13T19:56:13.71979",
          "exception": false,
          "start_time": "2022-06-13T19:52:10.519157",
          "status": "completed"
        },
        "scrolled": true,
        "tags": [],
        "_kg_hide-output": true,
        "id": "KZWhjwFUCxo9",
        "outputId": "1256854b-a8c8-4246-89ad-fce9d8dc490a",
        "colab": {
          "base_uri": "https://localhost:8080/"
        }
      },
      "execution_count": 88,
      "outputs": [
        {
          "metadata": {
            "tags": null
          },
          "name": "stdout",
          "output_type": "stream",
          "text": [
            "Words found are : 3303\n",
            "Embedding(3303, 100)\n",
            "-----------------------------------------------------------0-fold of the model-----------------------------------------------------------\n"
          ]
        },
        {
          "metadata": {
            "tags": null
          },
          "name": "stderr",
          "output_type": "stream",
          "text": [
            "100%|██████████| 241/241 [00:09<00:00, 24.37it/s]\n"
          ]
        },
        {
          "metadata": {
            "tags": null
          },
          "name": "stdout",
          "output_type": "stream",
          "text": [
            "| Train Loss : 0.6923786847930226 |  Val Loss : 0.6896902528687396 | Train Acc : 51.405517578125 | Val Acc : 61.08220672607422 |\n"
          ]
        },
        {
          "metadata": {
            "tags": null
          },
          "name": "stderr",
          "output_type": "stream",
          "text": [
            "100%|██████████| 241/241 [00:09<00:00, 24.71it/s]\n"
          ]
        },
        {
          "metadata": {
            "tags": null
          },
          "name": "stdout",
          "output_type": "stream",
          "text": [
            "| Train Loss : 0.687577794021396 |  Val Loss : 0.684232438268076 | Train Acc : 56.58510971069336 | Val Acc : 49.0634765625 |\n"
          ]
        },
        {
          "metadata": {
            "tags": null
          },
          "name": "stderr",
          "output_type": "stream",
          "text": [
            "100%|██████████| 241/241 [00:09<00:00, 24.56it/s]\n"
          ]
        },
        {
          "metadata": {
            "tags": null
          },
          "name": "stdout",
          "output_type": "stream",
          "text": [
            "| Train Loss : 0.64436891270081 |  Val Loss : 0.8764316276506628 | Train Acc : 63.92504119873047 | Val Acc : 50.0 |\n"
          ]
        },
        {
          "metadata": {
            "tags": null
          },
          "name": "stderr",
          "output_type": "stream",
          "text": [
            "100%|██████████| 241/241 [00:09<00:00, 24.80it/s]\n"
          ]
        },
        {
          "metadata": {
            "tags": null
          },
          "name": "stdout",
          "output_type": "stream",
          "text": [
            "| Train Loss : 0.40181123260903145 |  Val Loss : 0.2187831515017955 | Train Acc : 83.44612121582031 | Val Acc : 91.25910186767578 |\n"
          ]
        },
        {
          "metadata": {
            "tags": null
          },
          "name": "stderr",
          "output_type": "stream",
          "text": [
            "100%|██████████| 241/241 [00:08<00:00, 27.36it/s]\n"
          ]
        },
        {
          "metadata": {
            "tags": null
          },
          "name": "stdout",
          "output_type": "stream",
          "text": [
            "| Train Loss : 0.2748672450189166 |  Val Loss : 0.18052663588964232 | Train Acc : 89.67985534667969 | Val Acc : 92.66388702392578 |\n"
          ]
        },
        {
          "metadata": {
            "tags": null
          },
          "name": "stderr",
          "output_type": "stream",
          "text": [
            "100%|██████████| 241/241 [00:09<00:00, 26.50it/s]\n"
          ]
        },
        {
          "metadata": {
            "tags": null
          },
          "name": "stdout",
          "output_type": "stream",
          "text": [
            "| Train Loss : 0.22324172529561143 |  Val Loss : 0.17355033936721354 | Train Acc : 91.67100524902344 | Val Acc : 93.39230346679688 |\n"
          ]
        },
        {
          "metadata": {
            "tags": null
          },
          "name": "stderr",
          "output_type": "stream",
          "text": [
            "100%|██████████| 241/241 [00:09<00:00, 24.64it/s]\n"
          ]
        },
        {
          "metadata": {
            "tags": null
          },
          "name": "stdout",
          "output_type": "stream",
          "text": [
            "| Train Loss : 0.20720863560256333 |  Val Loss : 0.1448815262040102 | Train Acc : 92.035400390625 | Val Acc : 94.64099884033203 |\n"
          ]
        },
        {
          "metadata": {
            "tags": null
          },
          "name": "stderr",
          "output_type": "stream",
          "text": [
            "100%|██████████| 241/241 [00:09<00:00, 25.04it/s]\n"
          ]
        },
        {
          "metadata": {
            "tags": null
          },
          "name": "stdout",
          "output_type": "stream",
          "text": [
            "| Train Loss : 0.19716827188972877 |  Val Loss : 0.2352877853478961 | Train Acc : 92.17855072021484 | Val Acc : 89.54214477539062 |\n"
          ]
        },
        {
          "metadata": {
            "tags": null
          },
          "name": "stderr",
          "output_type": "stream",
          "text": [
            "100%|██████████| 241/241 [00:09<00:00, 24.51it/s]\n"
          ]
        },
        {
          "metadata": {
            "tags": null
          },
          "name": "stdout",
          "output_type": "stream",
          "text": [
            "| Train Loss : 0.18565778366015145 |  Val Loss : 0.14478844708136043 | Train Acc : 92.66007232666016 | Val Acc : 94.32882690429688 |\n"
          ]
        },
        {
          "metadata": {
            "tags": null
          },
          "name": "stderr",
          "output_type": "stream",
          "text": [
            "100%|██████████| 241/241 [00:09<00:00, 25.46it/s]\n"
          ]
        },
        {
          "metadata": {
            "tags": null
          },
          "name": "stdout",
          "output_type": "stream",
          "text": [
            "| Train Loss : 0.1829100756759075 |  Val Loss : 0.13232768723948565 | Train Acc : 93.10255432128906 | Val Acc : 95.16128540039062 |\n"
          ]
        },
        {
          "metadata": {
            "tags": null
          },
          "name": "stderr",
          "output_type": "stream",
          "text": [
            "100%|██████████| 241/241 [00:08<00:00, 27.44it/s]\n"
          ]
        },
        {
          "metadata": {
            "tags": null
          },
          "name": "stdout",
          "output_type": "stream",
          "text": [
            "| Train Loss : 0.17266378877902638 |  Val Loss : 0.24747366662080034 | Train Acc : 93.45393371582031 | Val Acc : 89.69823455810547 |\n"
          ]
        },
        {
          "metadata": {
            "tags": null
          },
          "name": "stderr",
          "output_type": "stream",
          "text": [
            "100%|██████████| 241/241 [00:10<00:00, 23.95it/s]\n"
          ]
        },
        {
          "metadata": {
            "tags": null
          },
          "name": "stdout",
          "output_type": "stream",
          "text": [
            "| Train Loss : 0.16559652976967096 |  Val Loss : 0.1343109238462505 | Train Acc : 93.44091796875 | Val Acc : 95.10926055908203 |\n"
          ]
        },
        {
          "metadata": {
            "tags": null
          },
          "name": "stderr",
          "output_type": "stream",
          "text": [
            "100%|██████████| 241/241 [00:10<00:00, 23.94it/s]\n"
          ]
        },
        {
          "metadata": {
            "tags": null
          },
          "name": "stdout",
          "output_type": "stream",
          "text": [
            "| Train Loss : 0.16687927631790256 |  Val Loss : 0.13966128276709494 | Train Acc : 93.85736846923828 | Val Acc : 94.53694152832031 |\n"
          ]
        },
        {
          "metadata": {
            "tags": null
          },
          "name": "stderr",
          "output_type": "stream",
          "text": [
            "100%|██████████| 241/241 [00:09<00:00, 24.32it/s]\n"
          ]
        },
        {
          "metadata": {
            "tags": null
          },
          "name": "stdout",
          "output_type": "stream",
          "text": [
            "| Train Loss : 0.16175187971367308 |  Val Loss : 0.7300650368868126 | Train Acc : 93.68818664550781 | Val Acc : 69.6670150756836 |\n"
          ]
        },
        {
          "metadata": {
            "tags": null
          },
          "name": "stderr",
          "output_type": "stream",
          "text": [
            "100%|██████████| 241/241 [00:09<00:00, 24.66it/s]\n"
          ]
        },
        {
          "metadata": {
            "tags": null
          },
          "name": "stdout",
          "output_type": "stream",
          "text": [
            "| Train Loss : 0.15811379072350926 |  Val Loss : 0.6268646417807838 | Train Acc : 93.64913940429688 | Val Acc : 68.88658142089844 |\n"
          ]
        },
        {
          "metadata": {
            "tags": null
          },
          "name": "stderr",
          "output_type": "stream",
          "text": [
            "100%|██████████| 241/241 [00:09<00:00, 26.64it/s]\n"
          ]
        },
        {
          "metadata": {
            "tags": null
          },
          "name": "stdout",
          "output_type": "stream",
          "text": [
            "| Train Loss : 0.15145194875284881 |  Val Loss : 0.15750927357322903 | Train Acc : 94.00051879882812 | Val Acc : 93.60041809082031 |\n"
          ]
        },
        {
          "metadata": {
            "tags": null
          },
          "name": "stderr",
          "output_type": "stream",
          "text": [
            "100%|██████████| 241/241 [00:09<00:00, 26.53it/s]\n"
          ]
        },
        {
          "metadata": {
            "tags": null
          },
          "name": "stdout",
          "output_type": "stream",
          "text": [
            "| Train Loss : 0.1499360697242135 |  Val Loss : 0.15201726011567507 | Train Acc : 94.19573211669922 | Val Acc : 93.96461486816406 |\n"
          ]
        },
        {
          "metadata": {
            "tags": null
          },
          "name": "stderr",
          "output_type": "stream",
          "text": [
            "100%|██████████| 241/241 [00:09<00:00, 24.62it/s]\n"
          ]
        },
        {
          "metadata": {
            "tags": null
          },
          "name": "stdout",
          "output_type": "stream",
          "text": [
            "| Train Loss : 0.1522794177756683 |  Val Loss : 0.118749935083037 | Train Acc : 93.98750305175781 | Val Acc : 95.3694076538086 |\n"
          ]
        },
        {
          "metadata": {
            "tags": null
          },
          "name": "stderr",
          "output_type": "stream",
          "text": [
            "100%|██████████| 241/241 [00:09<00:00, 24.41it/s]\n"
          ]
        },
        {
          "metadata": {
            "tags": null
          },
          "name": "stdout",
          "output_type": "stream",
          "text": [
            "| Train Loss : 0.14262893137690272 |  Val Loss : 0.1159969282130111 | Train Acc : 94.27381896972656 | Val Acc : 95.3694076538086 |\n"
          ]
        },
        {
          "metadata": {
            "tags": null
          },
          "name": "stderr",
          "output_type": "stream",
          "text": [
            "100%|██████████| 241/241 [00:09<00:00, 24.18it/s]\n"
          ]
        },
        {
          "metadata": {
            "tags": null
          },
          "name": "stdout",
          "output_type": "stream",
          "text": [
            "| Train Loss : 0.14483830880011078 |  Val Loss : 0.11807010384832783 | Train Acc : 94.27381896972656 | Val Acc : 95.31737518310547 |\n"
          ]
        },
        {
          "metadata": {
            "tags": null
          },
          "name": "stderr",
          "output_type": "stream",
          "text": [
            "100%|██████████| 241/241 [00:09<00:00, 25.34it/s]\n"
          ]
        },
        {
          "metadata": {
            "tags": null
          },
          "name": "stdout",
          "output_type": "stream",
          "text": [
            "| Train Loss : 0.14287437074892864 |  Val Loss : 0.11786640451132717 | Train Acc : 94.49504852294922 | Val Acc : 95.3694076538086 |\n"
          ]
        },
        {
          "metadata": {
            "tags": null
          },
          "name": "stderr",
          "output_type": "stream",
          "text": [
            "100%|██████████| 241/241 [00:08<00:00, 27.50it/s]\n"
          ]
        },
        {
          "metadata": {
            "tags": null
          },
          "name": "stdout",
          "output_type": "stream",
          "text": [
            "| Train Loss : 0.14092834750728517 |  Val Loss : 0.17459810238319928 | Train Acc : 94.46903228759766 | Val Acc : 93.75650024414062 |\n"
          ]
        },
        {
          "metadata": {
            "tags": null
          },
          "name": "stderr",
          "output_type": "stream",
          "text": [
            "100%|██████████| 241/241 [00:09<00:00, 24.94it/s]\n"
          ]
        },
        {
          "metadata": {
            "tags": null
          },
          "name": "stdout",
          "output_type": "stream",
          "text": [
            "| Train Loss : 0.14328041866243288 |  Val Loss : 0.14264535727163508 | Train Acc : 94.3388900756836 | Val Acc : 93.96461486816406 |\n"
          ]
        },
        {
          "metadata": {
            "tags": null
          },
          "name": "stderr",
          "output_type": "stream",
          "text": [
            "100%|██████████| 241/241 [00:09<00:00, 24.75it/s]\n"
          ]
        },
        {
          "metadata": {
            "tags": null
          },
          "name": "stdout",
          "output_type": "stream",
          "text": [
            "| Train Loss : 0.13940938741438003 |  Val Loss : 0.16325488944734667 | Train Acc : 94.49504852294922 | Val Acc : 94.22476196289062 |\n"
          ]
        },
        {
          "metadata": {
            "tags": null
          },
          "name": "stderr",
          "output_type": "stream",
          "text": [
            "100%|██████████| 241/241 [00:09<00:00, 24.26it/s]\n"
          ]
        },
        {
          "metadata": {
            "tags": null
          },
          "name": "stdout",
          "output_type": "stream",
          "text": [
            "| Train Loss : 0.13732537146675158 |  Val Loss : 0.12786213317973216 | Train Acc : 94.5731430053711 | Val Acc : 94.84911346435547 |\n"
          ]
        },
        {
          "metadata": {
            "tags": null
          },
          "name": "stderr",
          "output_type": "stream",
          "text": [
            "100%|██████████| 241/241 [00:09<00:00, 24.10it/s]\n"
          ]
        },
        {
          "metadata": {
            "tags": null
          },
          "name": "stdout",
          "output_type": "stream",
          "text": [
            "| Train Loss : 0.13671562003087154 |  Val Loss : 0.5959481144794937 | Train Acc : 94.70327758789062 | Val Acc : 76.69094848632812 |\n"
          ]
        },
        {
          "metadata": {
            "tags": null
          },
          "name": "stderr",
          "output_type": "stream",
          "text": [
            "100%|██████████| 241/241 [00:09<00:00, 26.38it/s]\n"
          ]
        },
        {
          "metadata": {
            "tags": null
          },
          "name": "stdout",
          "output_type": "stream",
          "text": [
            "| Train Loss : 0.14321953093900672 |  Val Loss : 0.11208774914427658 | Train Acc : 94.32586669921875 | Val Acc : 95.68158721923828 |\n"
          ]
        },
        {
          "metadata": {
            "tags": null
          },
          "name": "stderr",
          "output_type": "stream",
          "text": [
            "100%|██████████| 241/241 [00:09<00:00, 26.42it/s]\n"
          ]
        },
        {
          "metadata": {
            "tags": null
          },
          "name": "stdout",
          "output_type": "stream",
          "text": [
            "| Train Loss : 0.13515942284564902 |  Val Loss : 0.12156636702646884 | Train Acc : 94.50807189941406 | Val Acc : 95.52549743652344 |\n"
          ]
        },
        {
          "metadata": {
            "tags": null
          },
          "name": "stderr",
          "output_type": "stream",
          "text": [
            "100%|██████████| 241/241 [00:09<00:00, 24.19it/s]\n"
          ]
        },
        {
          "metadata": {
            "tags": null
          },
          "name": "stdout",
          "output_type": "stream",
          "text": [
            "| Train Loss : 0.13439671458935346 |  Val Loss : 0.1092739762393341 | Train Acc : 94.83341979980469 | Val Acc : 95.8376693725586 |\n"
          ]
        },
        {
          "metadata": {
            "tags": null
          },
          "name": "stderr",
          "output_type": "stream",
          "text": [
            "100%|██████████| 241/241 [00:10<00:00, 24.02it/s]\n"
          ]
        },
        {
          "metadata": {
            "tags": null
          },
          "name": "stdout",
          "output_type": "stream",
          "text": [
            "| Train Loss : 0.13393853677903098 |  Val Loss : 0.11673799718649715 | Train Acc : 94.74232482910156 | Val Acc : 95.42143249511719 |\n",
            "Words found are : 3303\n",
            "Embedding(3303, 100)\n",
            "-----------------------------------------------------------1-fold of the model-----------------------------------------------------------\n"
          ]
        },
        {
          "metadata": {
            "tags": null
          },
          "name": "stderr",
          "output_type": "stream",
          "text": [
            "100%|██████████| 241/241 [00:09<00:00, 24.29it/s]\n"
          ]
        },
        {
          "metadata": {
            "tags": null
          },
          "name": "stdout",
          "output_type": "stream",
          "text": [
            "| Train Loss : 0.6924389814663492 |  Val Loss : 0.6919755679998839 | Train Acc : 51.672088623046875 | Val Acc : 49.6616325378418 |\n"
          ]
        },
        {
          "metadata": {
            "tags": null
          },
          "name": "stderr",
          "output_type": "stream",
          "text": [
            "100%|██████████| 241/241 [00:09<00:00, 25.05it/s]\n"
          ]
        },
        {
          "metadata": {
            "tags": null
          },
          "name": "stdout",
          "output_type": "stream",
          "text": [
            "| Train Loss : 0.6883025771546224 |  Val Loss : 0.6845476943834693 | Train Acc : 54.96421432495117 | Val Acc : 61.946903228759766 |\n"
          ]
        },
        {
          "metadata": {
            "tags": null
          },
          "name": "stderr",
          "output_type": "stream",
          "text": [
            "100%|██████████| 241/241 [00:08<00:00, 26.96it/s]\n"
          ]
        },
        {
          "metadata": {
            "tags": null
          },
          "name": "stdout",
          "output_type": "stream",
          "text": [
            "| Train Loss : 0.6562400108742574 |  Val Loss : 0.9982757470311131 | Train Acc : 64.35913848876953 | Val Acc : 50.442474365234375 |\n"
          ]
        },
        {
          "metadata": {
            "tags": null
          },
          "name": "stderr",
          "output_type": "stream",
          "text": [
            "100%|██████████| 241/241 [00:09<00:00, 25.05it/s]\n"
          ]
        },
        {
          "metadata": {
            "tags": null
          },
          "name": "stdout",
          "output_type": "stream",
          "text": [
            "| Train Loss : 0.4330456032486185 |  Val Loss : 0.2532381947108199 | Train Acc : 81.32726287841797 | Val Acc : 91.41072845458984 |\n"
          ]
        },
        {
          "metadata": {
            "tags": null
          },
          "name": "stderr",
          "output_type": "stream",
          "text": [
            "100%|██████████| 241/241 [00:09<00:00, 24.58it/s]\n"
          ]
        },
        {
          "metadata": {
            "tags": null
          },
          "name": "stdout",
          "output_type": "stream",
          "text": [
            "| Train Loss : 0.2920793078941576 |  Val Loss : 1.176617721114104 | Train Acc : 89.06961822509766 | Val Acc : 61.686622619628906 |\n"
          ]
        },
        {
          "metadata": {
            "tags": null
          },
          "name": "stderr",
          "output_type": "stream",
          "text": [
            "100%|██████████| 241/241 [00:09<00:00, 24.44it/s]\n"
          ]
        },
        {
          "metadata": {
            "tags": null
          },
          "name": "stdout",
          "output_type": "stream",
          "text": [
            "| Train Loss : 0.2179183570456024 |  Val Loss : 1.0028050438554754 | Train Acc : 91.97137451171875 | Val Acc : 61.686622619628906 |\n"
          ]
        },
        {
          "metadata": {
            "tags": null
          },
          "name": "stderr",
          "output_type": "stream",
          "text": [
            "100%|██████████| 241/241 [00:10<00:00, 23.84it/s]\n"
          ]
        },
        {
          "metadata": {
            "tags": null
          },
          "name": "stdout",
          "output_type": "stream",
          "text": [
            "| Train Loss : 0.20460676906476488 |  Val Loss : 0.2128147774379369 | Train Acc : 92.19258117675781 | Val Acc : 91.72306060791016 |\n"
          ]
        },
        {
          "metadata": {
            "tags": null
          },
          "name": "stderr",
          "output_type": "stream",
          "text": [
            "100%|██████████| 241/241 [00:09<00:00, 25.16it/s]\n"
          ]
        },
        {
          "metadata": {
            "tags": null
          },
          "name": "stdout",
          "output_type": "stream",
          "text": [
            "| Train Loss : 0.18514858189153455 |  Val Loss : 0.6023701300029097 | Train Acc : 92.92127227783203 | Val Acc : 77.92816162109375 |\n"
          ]
        },
        {
          "metadata": {
            "tags": null
          },
          "name": "stderr",
          "output_type": "stream",
          "text": [
            "100%|██████████| 241/241 [00:08<00:00, 27.28it/s]\n"
          ]
        },
        {
          "metadata": {
            "tags": null
          },
          "name": "stdout",
          "output_type": "stream",
          "text": [
            "| Train Loss : 0.1685126240600916 |  Val Loss : 0.16788494920882627 | Train Acc : 93.92322540283203 | Val Acc : 93.59708404541016 |\n"
          ]
        },
        {
          "metadata": {
            "tags": null
          },
          "name": "stderr",
          "output_type": "stream",
          "text": [
            "100%|██████████| 241/241 [00:09<00:00, 24.42it/s]\n"
          ]
        },
        {
          "metadata": {
            "tags": null
          },
          "name": "stdout",
          "output_type": "stream",
          "text": [
            "| Train Loss : 0.17341901591519063 |  Val Loss : 0.3908881705311524 | Train Acc : 93.38971710205078 | Val Acc : 81.83238220214844 |\n"
          ]
        },
        {
          "metadata": {
            "tags": null
          },
          "name": "stderr",
          "output_type": "stream",
          "text": [
            "100%|██████████| 241/241 [00:09<00:00, 24.57it/s]\n"
          ]
        },
        {
          "metadata": {
            "tags": null
          },
          "name": "stdout",
          "output_type": "stream",
          "text": [
            "| Train Loss : 0.1604758402358113 |  Val Loss : 0.17960575199698112 | Train Acc : 94.01431274414062 | Val Acc : 93.28475189208984 |\n"
          ]
        },
        {
          "metadata": {
            "tags": null
          },
          "name": "stderr",
          "output_type": "stream",
          "text": [
            "100%|██████████| 241/241 [00:09<00:00, 24.71it/s]\n"
          ]
        },
        {
          "metadata": {
            "tags": null
          },
          "name": "stdout",
          "output_type": "stream",
          "text": [
            "| Train Loss : 0.1692257496642849 |  Val Loss : 0.1743056173787832 | Train Acc : 93.4027328491211 | Val Acc : 93.44091796875 |\n"
          ]
        },
        {
          "metadata": {
            "tags": null
          },
          "name": "stderr",
          "output_type": "stream",
          "text": [
            "100%|██████████| 241/241 [00:09<00:00, 24.71it/s]\n"
          ]
        },
        {
          "metadata": {
            "tags": null
          },
          "name": "stdout",
          "output_type": "stream",
          "text": [
            "| Train Loss : 0.17150120555435924 |  Val Loss : 0.1676641230397256 | Train Acc : 93.49382019042969 | Val Acc : 93.59708404541016 |\n"
          ]
        },
        {
          "metadata": {
            "tags": null
          },
          "name": "stderr",
          "output_type": "stream",
          "text": [
            "100%|██████████| 241/241 [00:10<00:00, 23.39it/s]\n"
          ]
        },
        {
          "metadata": {
            "tags": null
          },
          "name": "stdout",
          "output_type": "stream",
          "text": [
            "| Train Loss : 0.15146049434826914 |  Val Loss : 0.655113456663392 | Train Acc : 94.19648742675781 | Val Acc : 69.1827163696289 |\n"
          ]
        },
        {
          "metadata": {
            "tags": null
          },
          "name": "stderr",
          "output_type": "stream",
          "text": [
            "100%|██████████| 241/241 [00:08<00:00, 27.36it/s]\n"
          ]
        },
        {
          "metadata": {
            "tags": null
          },
          "name": "stdout",
          "output_type": "stream",
          "text": [
            "| Train Loss : 0.15058911931310176 |  Val Loss : 0.1757922411820173 | Train Acc : 94.04033660888672 | Val Acc : 93.38886260986328 |\n"
          ]
        },
        {
          "metadata": {
            "tags": null
          },
          "name": "stderr",
          "output_type": "stream",
          "text": [
            "100%|██████████| 241/241 [00:09<00:00, 24.61it/s]\n"
          ]
        },
        {
          "metadata": {
            "tags": null
          },
          "name": "stdout",
          "output_type": "stream",
          "text": [
            "| Train Loss : 0.15728623841803765 |  Val Loss : 0.19401063289510775 | Train Acc : 93.89720153808594 | Val Acc : 92.71212768554688 |\n"
          ]
        },
        {
          "metadata": {
            "tags": null
          },
          "name": "stderr",
          "output_type": "stream",
          "text": [
            "100%|██████████| 241/241 [00:09<00:00, 24.79it/s]\n"
          ]
        },
        {
          "metadata": {
            "tags": null
          },
          "name": "stdout",
          "output_type": "stream",
          "text": [
            "| Train Loss : 0.14471967715913006 |  Val Loss : 0.1562964498011598 | Train Acc : 94.4046859741211 | Val Acc : 93.59708404541016 |\n"
          ]
        },
        {
          "metadata": {
            "tags": null
          },
          "name": "stderr",
          "output_type": "stream",
          "text": [
            "100%|██████████| 241/241 [00:09<00:00, 24.38it/s]\n"
          ]
        },
        {
          "metadata": {
            "tags": null
          },
          "name": "stdout",
          "output_type": "stream",
          "text": [
            "| Train Loss : 0.13934636564710812 |  Val Loss : 0.2260789766496572 | Train Acc : 94.66493225097656 | Val Acc : 88.80790710449219 |\n"
          ]
        },
        {
          "metadata": {
            "tags": null
          },
          "name": "stderr",
          "output_type": "stream",
          "text": [
            "100%|██████████| 241/241 [00:09<00:00, 24.92it/s]\n"
          ]
        },
        {
          "metadata": {
            "tags": null
          },
          "name": "stdout",
          "output_type": "stream",
          "text": [
            "| Train Loss : 0.14072740614879573 |  Val Loss : 0.15157352019242462 | Train Acc : 94.57384490966797 | Val Acc : 94.32586669921875 |\n"
          ]
        },
        {
          "metadata": {
            "tags": null
          },
          "name": "stderr",
          "output_type": "stream",
          "text": [
            "100%|██████████| 241/241 [00:08<00:00, 27.56it/s]\n"
          ]
        },
        {
          "metadata": {
            "tags": null
          },
          "name": "stdout",
          "output_type": "stream",
          "text": [
            "| Train Loss : 0.13600023408034403 |  Val Loss : 0.17419321881625355 | Train Acc : 94.71698760986328 | Val Acc : 93.2326889038086 |\n"
          ]
        },
        {
          "metadata": {
            "tags": null
          },
          "name": "stderr",
          "output_type": "stream",
          "text": [
            "100%|██████████| 241/241 [00:09<00:00, 25.51it/s]\n"
          ]
        },
        {
          "metadata": {
            "tags": null
          },
          "name": "stdout",
          "output_type": "stream",
          "text": [
            "| Train Loss : 0.13500207861826047 |  Val Loss : 0.15842026799290845 | Train Acc : 94.75601959228516 | Val Acc : 93.96147918701172 |\n"
          ]
        },
        {
          "metadata": {
            "tags": null
          },
          "name": "stderr",
          "output_type": "stream",
          "text": [
            "100%|██████████| 241/241 [00:09<00:00, 24.68it/s]\n"
          ]
        },
        {
          "metadata": {
            "tags": null
          },
          "name": "stdout",
          "output_type": "stream",
          "text": [
            "| Train Loss : 0.13348723973741994 |  Val Loss : 0.154732386259382 | Train Acc : 94.62589263916016 | Val Acc : 94.06558990478516 |\n"
          ]
        },
        {
          "metadata": {
            "tags": null
          },
          "name": "stderr",
          "output_type": "stream",
          "text": [
            "100%|██████████| 241/241 [00:09<00:00, 24.73it/s]\n"
          ]
        },
        {
          "metadata": {
            "tags": null
          },
          "name": "stdout",
          "output_type": "stream",
          "text": [
            "| Train Loss : 0.13462423248266198 |  Val Loss : 0.27960957058514857 | Train Acc : 94.76902770996094 | Val Acc : 88.28734588623047 |\n"
          ]
        },
        {
          "metadata": {
            "tags": null
          },
          "name": "stderr",
          "output_type": "stream",
          "text": [
            "100%|██████████| 241/241 [00:09<00:00, 24.81it/s]\n"
          ]
        },
        {
          "metadata": {
            "tags": null
          },
          "name": "stdout",
          "output_type": "stream",
          "text": [
            "| Train Loss : 0.13734478519559296 |  Val Loss : 0.14680007496099184 | Train Acc : 94.71698760986328 | Val Acc : 94.48204040527344 |\n"
          ]
        },
        {
          "metadata": {
            "tags": null
          },
          "name": "stderr",
          "output_type": "stream",
          "text": [
            "100%|██████████| 241/241 [00:08<00:00, 27.05it/s]\n"
          ]
        },
        {
          "metadata": {
            "tags": null
          },
          "name": "stdout",
          "output_type": "stream",
          "text": [
            "| Train Loss : 0.1294340718256415 |  Val Loss : 0.15963311874264544 | Train Acc : 95.10735321044922 | Val Acc : 93.75325775146484 |\n"
          ]
        },
        {
          "metadata": {
            "tags": null
          },
          "name": "stderr",
          "output_type": "stream",
          "text": [
            "100%|██████████| 241/241 [00:09<00:00, 26.03it/s]\n"
          ]
        },
        {
          "metadata": {
            "tags": null
          },
          "name": "stdout",
          "output_type": "stream",
          "text": [
            "| Train Loss : 0.12889888196039603 |  Val Loss : 0.1529341572464164 | Train Acc : 94.79505157470703 | Val Acc : 93.96147918701172 |\n"
          ]
        },
        {
          "metadata": {
            "tags": null
          },
          "name": "stderr",
          "output_type": "stream",
          "text": [
            "100%|██████████| 241/241 [00:09<00:00, 24.61it/s]\n"
          ]
        },
        {
          "metadata": {
            "tags": null
          },
          "name": "stdout",
          "output_type": "stream",
          "text": [
            "| Train Loss : 0.12622051486913927 |  Val Loss : 0.14770658986612897 | Train Acc : 95.120361328125 | Val Acc : 94.48204040527344 |\n"
          ]
        },
        {
          "metadata": {
            "tags": null
          },
          "name": "stderr",
          "output_type": "stream",
          "text": [
            "100%|██████████| 241/241 [00:09<00:00, 24.39it/s]\n"
          ]
        },
        {
          "metadata": {
            "tags": null
          },
          "name": "stdout",
          "output_type": "stream",
          "text": [
            "| Train Loss : 0.12843125028003713 |  Val Loss : 0.15345937171868518 | Train Acc : 94.93818664550781 | Val Acc : 94.48204040527344 |\n"
          ]
        },
        {
          "metadata": {
            "tags": null
          },
          "name": "stderr",
          "output_type": "stream",
          "text": [
            "100%|██████████| 241/241 [00:09<00:00, 24.11it/s]\n"
          ]
        },
        {
          "metadata": {
            "tags": null
          },
          "name": "stdout",
          "output_type": "stream",
          "text": [
            "| Train Loss : 0.12748446871339306 |  Val Loss : 0.18535488400218514 | Train Acc : 94.80806732177734 | Val Acc : 92.39979553222656 |\n"
          ]
        },
        {
          "metadata": {
            "tags": null
          },
          "name": "stderr",
          "output_type": "stream",
          "text": [
            "100%|██████████| 241/241 [00:09<00:00, 24.90it/s]\n"
          ]
        },
        {
          "metadata": {
            "tags": null
          },
          "name": "stdout",
          "output_type": "stream",
          "text": [
            "| Train Loss : 0.12340080019476822 |  Val Loss : 0.3390208525492973 | Train Acc : 94.84710693359375 | Val Acc : 87.19416809082031 |\n",
            "Words found are : 3303\n",
            "Embedding(3303, 100)\n",
            "-----------------------------------------------------------2-fold of the model-----------------------------------------------------------\n"
          ]
        },
        {
          "metadata": {
            "tags": null
          },
          "name": "stderr",
          "output_type": "stream",
          "text": [
            "100%|██████████| 241/241 [00:08<00:00, 27.60it/s]\n"
          ]
        },
        {
          "metadata": {
            "tags": null
          },
          "name": "stdout",
          "output_type": "stream",
          "text": [
            "| Train Loss : 0.6922328498042397 |  Val Loss : 0.689745132995111 | Train Acc : 52.3096923828125 | Val Acc : 54.294639587402344 |\n"
          ]
        },
        {
          "metadata": {
            "tags": null
          },
          "name": "stderr",
          "output_type": "stream",
          "text": [
            "100%|██████████| 241/241 [00:09<00:00, 25.30it/s]\n"
          ]
        },
        {
          "metadata": {
            "tags": null
          },
          "name": "stdout",
          "output_type": "stream",
          "text": [
            "| Train Loss : 0.6878189719801377 |  Val Loss : 0.6831072331219523 | Train Acc : 56.929080963134766 | Val Acc : 58.14679718017578 |\n"
          ]
        },
        {
          "metadata": {
            "tags": null
          },
          "name": "stderr",
          "output_type": "stream",
          "text": [
            "100%|██████████| 241/241 [00:09<00:00, 24.38it/s]\n"
          ]
        },
        {
          "metadata": {
            "tags": null
          },
          "name": "stdout",
          "output_type": "stream",
          "text": [
            "| Train Loss : 0.6633922923169666 |  Val Loss : 0.6268620811236023 | Train Acc : 63.40924072265625 | Val Acc : 56.11660385131836 |\n"
          ]
        },
        {
          "metadata": {
            "tags": null
          },
          "name": "stderr",
          "output_type": "stream",
          "text": [
            "100%|██████████| 241/241 [00:09<00:00, 24.82it/s]\n"
          ]
        },
        {
          "metadata": {
            "tags": null
          },
          "name": "stdout",
          "output_type": "stream",
          "text": [
            "| Train Loss : 0.43786868794676387 |  Val Loss : 0.21505494079300974 | Train Acc : 81.05400085449219 | Val Acc : 94.22175598144531 |\n"
          ]
        },
        {
          "metadata": {
            "tags": null
          },
          "name": "stderr",
          "output_type": "stream",
          "text": [
            "100%|██████████| 241/241 [00:09<00:00, 24.59it/s]\n"
          ]
        },
        {
          "metadata": {
            "tags": null
          },
          "name": "stdout",
          "output_type": "stream",
          "text": [
            "| Train Loss : 0.26867817025062085 |  Val Loss : 0.5948907678664692 | Train Acc : 89.5901107788086 | Val Acc : 75.48152160644531 |\n"
          ]
        },
        {
          "metadata": {
            "tags": null
          },
          "name": "stderr",
          "output_type": "stream",
          "text": [
            "100%|██████████| 241/241 [00:08<00:00, 27.16it/s]\n"
          ]
        },
        {
          "metadata": {
            "tags": null
          },
          "name": "stdout",
          "output_type": "stream",
          "text": [
            "| Train Loss : 0.22686480259984518 |  Val Loss : 0.16033548953322882 | Train Acc : 91.73715209960938 | Val Acc : 94.06558990478516 |\n"
          ]
        },
        {
          "metadata": {
            "tags": null
          },
          "name": "stderr",
          "output_type": "stream",
          "text": [
            "100%|██████████| 241/241 [00:09<00:00, 26.10it/s]\n"
          ]
        },
        {
          "metadata": {
            "tags": null
          },
          "name": "stdout",
          "output_type": "stream",
          "text": [
            "| Train Loss : 0.2131580304928856 |  Val Loss : 0.21380879298504102 | Train Acc : 92.01040649414062 | Val Acc : 91.41072845458984 |\n"
          ]
        },
        {
          "metadata": {
            "tags": null
          },
          "name": "stderr",
          "output_type": "stream",
          "text": [
            "100%|██████████| 241/241 [00:10<00:00, 23.85it/s]\n"
          ]
        },
        {
          "metadata": {
            "tags": null
          },
          "name": "stdout",
          "output_type": "stream",
          "text": [
            "| Train Loss : 0.1988553590025503 |  Val Loss : 0.15421174676048452 | Train Acc : 92.63500213623047 | Val Acc : 94.42998504638672 |\n"
          ]
        },
        {
          "metadata": {
            "tags": null
          },
          "name": "stderr",
          "output_type": "stream",
          "text": [
            "100%|██████████| 241/241 [00:10<00:00, 23.98it/s]\n"
          ]
        },
        {
          "metadata": {
            "tags": null
          },
          "name": "stdout",
          "output_type": "stream",
          "text": [
            "| Train Loss : 0.1939864731098664 |  Val Loss : 0.37223475038998494 | Train Acc : 92.72608947753906 | Val Acc : 83.65434265136719 |\n"
          ]
        },
        {
          "metadata": {
            "tags": null
          },
          "name": "stderr",
          "output_type": "stream",
          "text": [
            "100%|██████████| 241/241 [00:09<00:00, 24.12it/s]\n"
          ]
        },
        {
          "metadata": {
            "tags": null
          },
          "name": "stdout",
          "output_type": "stream",
          "text": [
            "| Train Loss : 0.18611807821387583 |  Val Loss : 0.19593888992818925 | Train Acc : 92.71307373046875 | Val Acc : 92.60801696777344 |\n"
          ]
        },
        {
          "metadata": {
            "tags": null
          },
          "name": "stderr",
          "output_type": "stream",
          "text": [
            "100%|██████████| 241/241 [00:09<00:00, 24.14it/s]\n"
          ]
        },
        {
          "metadata": {
            "tags": null
          },
          "name": "stdout",
          "output_type": "stream",
          "text": [
            "| Train Loss : 0.16931435757825028 |  Val Loss : 0.17812048366612318 | Train Acc : 93.25959777832031 | Val Acc : 92.81623840332031 |\n"
          ]
        },
        {
          "metadata": {
            "tags": null
          },
          "name": "stderr",
          "output_type": "stream",
          "text": [
            "100%|██████████| 241/241 [00:08<00:00, 27.52it/s]\n"
          ]
        },
        {
          "metadata": {
            "tags": null
          },
          "name": "stdout",
          "output_type": "stream",
          "text": [
            "| Train Loss : 0.16533648129704087 |  Val Loss : 0.14326678656956945 | Train Acc : 93.58490753173828 | Val Acc : 94.32586669921875 |\n"
          ]
        },
        {
          "metadata": {
            "tags": null
          },
          "name": "stderr",
          "output_type": "stream",
          "text": [
            "100%|██████████| 241/241 [00:09<00:00, 25.18it/s]\n"
          ]
        },
        {
          "metadata": {
            "tags": null
          },
          "name": "stdout",
          "output_type": "stream",
          "text": [
            "| Train Loss : 0.1707846908316879 |  Val Loss : 0.20216147176727928 | Train Acc : 93.14248657226562 | Val Acc : 92.08745574951172 |\n"
          ]
        },
        {
          "metadata": {
            "tags": null
          },
          "name": "stderr",
          "output_type": "stream",
          "text": [
            "100%|██████████| 241/241 [00:09<00:00, 24.61it/s]\n"
          ]
        },
        {
          "metadata": {
            "tags": null
          },
          "name": "stdout",
          "output_type": "stream",
          "text": [
            "| Train Loss : 0.16491336347335295 |  Val Loss : 0.14384172454268856 | Train Acc : 93.49382019042969 | Val Acc : 94.58615112304688 |\n"
          ]
        },
        {
          "metadata": {
            "tags": null
          },
          "name": "stderr",
          "output_type": "stream",
          "text": [
            "100%|██████████| 241/241 [00:09<00:00, 24.70it/s]\n"
          ]
        },
        {
          "metadata": {
            "tags": null
          },
          "name": "stdout",
          "output_type": "stream",
          "text": [
            "| Train Loss : 0.1556292346296329 |  Val Loss : 0.5135539285718613 | Train Acc : 93.94924926757812 | Val Acc : 80.5830307006836 |\n"
          ]
        },
        {
          "metadata": {
            "tags": null
          },
          "name": "stderr",
          "output_type": "stream",
          "text": [
            "100%|██████████| 241/241 [00:09<00:00, 24.61it/s]\n"
          ]
        },
        {
          "metadata": {
            "tags": null
          },
          "name": "stdout",
          "output_type": "stream",
          "text": [
            "| Train Loss : 0.15886309270879706 |  Val Loss : 0.15010950163216222 | Train Acc : 93.92322540283203 | Val Acc : 94.06558990478516 |\n"
          ]
        },
        {
          "metadata": {
            "tags": null
          },
          "name": "stderr",
          "output_type": "stream",
          "text": [
            "100%|██████████| 241/241 [00:09<00:00, 26.51it/s]\n"
          ]
        },
        {
          "metadata": {
            "tags": null
          },
          "name": "stdout",
          "output_type": "stream",
          "text": [
            "| Train Loss : 0.15311633376386466 |  Val Loss : 0.8572056322149595 | Train Acc : 94.13142395019531 | Val Acc : 68.92243957519531 |\n"
          ]
        },
        {
          "metadata": {
            "tags": null
          },
          "name": "stderr",
          "output_type": "stream",
          "text": [
            "100%|██████████| 241/241 [00:09<00:00, 26.77it/s]\n"
          ]
        },
        {
          "metadata": {
            "tags": null
          },
          "name": "stdout",
          "output_type": "stream",
          "text": [
            "| Train Loss : 0.15615888608203898 |  Val Loss : 0.27192738884260015 | Train Acc : 94.02732849121094 | Val Acc : 89.90109252929688 |\n"
          ]
        },
        {
          "metadata": {
            "tags": null
          },
          "name": "stderr",
          "output_type": "stream",
          "text": [
            "100%|██████████| 241/241 [00:09<00:00, 24.60it/s]\n"
          ]
        },
        {
          "metadata": {
            "tags": null
          },
          "name": "stdout",
          "output_type": "stream",
          "text": [
            "| Train Loss : 0.1496790718367213 |  Val Loss : 0.15306077382727518 | Train Acc : 94.0923843383789 | Val Acc : 93.7011947631836 |\n"
          ]
        },
        {
          "metadata": {
            "tags": null
          },
          "name": "stderr",
          "output_type": "stream",
          "text": [
            "100%|██████████| 241/241 [00:09<00:00, 24.69it/s]\n"
          ]
        },
        {
          "metadata": {
            "tags": null
          },
          "name": "stdout",
          "output_type": "stream",
          "text": [
            "| Train Loss : 0.14833352104285047 |  Val Loss : 0.15687939470351706 | Train Acc : 94.19648742675781 | Val Acc : 93.54502868652344 |\n"
          ]
        },
        {
          "metadata": {
            "tags": null
          },
          "name": "stderr",
          "output_type": "stream",
          "text": [
            "100%|██████████| 241/241 [00:09<00:00, 24.72it/s]\n"
          ]
        },
        {
          "metadata": {
            "tags": null
          },
          "name": "stdout",
          "output_type": "stream",
          "text": [
            "| Train Loss : 0.1434426035598725 |  Val Loss : 0.5495097519890956 | Train Acc : 94.378662109375 | Val Acc : 73.3992691040039 |\n"
          ]
        },
        {
          "metadata": {
            "tags": null
          },
          "name": "stderr",
          "output_type": "stream",
          "text": [
            "100%|██████████| 241/241 [00:09<00:00, 25.35it/s]\n"
          ]
        },
        {
          "metadata": {
            "tags": null
          },
          "name": "stdout",
          "output_type": "stream",
          "text": [
            "| Train Loss : 0.1473071814518938 |  Val Loss : 0.16462701464577043 | Train Acc : 94.07937622070312 | Val Acc : 93.54502868652344 |\n"
          ]
        },
        {
          "metadata": {
            "tags": null
          },
          "name": "stderr",
          "output_type": "stream",
          "text": [
            "100%|██████████| 241/241 [00:08<00:00, 27.86it/s]\n"
          ]
        },
        {
          "metadata": {
            "tags": null
          },
          "name": "stdout",
          "output_type": "stream",
          "text": [
            "| Train Loss : 0.141958295979774 |  Val Loss : 0.1619629721804294 | Train Acc : 94.44371795654297 | Val Acc : 93.75325775146484 |\n"
          ]
        },
        {
          "metadata": {
            "tags": null
          },
          "name": "stderr",
          "output_type": "stream",
          "text": [
            "100%|██████████| 241/241 [00:09<00:00, 24.76it/s]\n"
          ]
        },
        {
          "metadata": {
            "tags": null
          },
          "name": "stdout",
          "output_type": "stream",
          "text": [
            "| Train Loss : 0.13622123393349508 |  Val Loss : 0.18976288751050838 | Train Acc : 94.76902770996094 | Val Acc : 92.2956771850586 |\n"
          ]
        },
        {
          "metadata": {
            "tags": null
          },
          "name": "stderr",
          "output_type": "stream",
          "text": [
            "100%|██████████| 241/241 [00:09<00:00, 24.51it/s]\n"
          ]
        },
        {
          "metadata": {
            "tags": null
          },
          "name": "stdout",
          "output_type": "stream",
          "text": [
            "| Train Loss : 0.13749616827643685 |  Val Loss : 0.4744256014161429 | Train Acc : 94.3135986328125 | Val Acc : 84.74752807617188 |\n"
          ]
        },
        {
          "metadata": {
            "tags": null
          },
          "name": "stderr",
          "output_type": "stream",
          "text": [
            "100%|██████████| 241/241 [00:09<00:00, 24.45it/s]\n"
          ]
        },
        {
          "metadata": {
            "tags": null
          },
          "name": "stdout",
          "output_type": "stream",
          "text": [
            "| Train Loss : 0.13666968378653446 |  Val Loss : 0.1613269213802999 | Train Acc : 94.52179718017578 | Val Acc : 93.75325775146484 |\n"
          ]
        },
        {
          "metadata": {
            "tags": null
          },
          "name": "stderr",
          "output_type": "stream",
          "text": [
            "100%|██████████| 241/241 [00:09<00:00, 24.69it/s]\n"
          ]
        },
        {
          "metadata": {
            "tags": null
          },
          "name": "stdout",
          "output_type": "stream",
          "text": [
            "| Train Loss : 0.1375478470687092 |  Val Loss : 0.14652065561773067 | Train Acc : 94.39167022705078 | Val Acc : 93.64913940429688 |\n"
          ]
        },
        {
          "metadata": {
            "tags": null
          },
          "name": "stderr",
          "output_type": "stream",
          "text": [
            "100%|██████████| 241/241 [00:08<00:00, 27.44it/s]\n"
          ]
        },
        {
          "metadata": {
            "tags": null
          },
          "name": "stdout",
          "output_type": "stream",
          "text": [
            "| Train Loss : 0.13882467590063985 |  Val Loss : 0.19009418540187825 | Train Acc : 94.45673370361328 | Val Acc : 90.68193054199219 |\n"
          ]
        },
        {
          "metadata": {
            "tags": null
          },
          "name": "stderr",
          "output_type": "stream",
          "text": [
            "100%|██████████| 241/241 [00:09<00:00, 25.91it/s]\n"
          ]
        },
        {
          "metadata": {
            "tags": null
          },
          "name": "stdout",
          "output_type": "stream",
          "text": [
            "| Train Loss : 0.13573986597470672 |  Val Loss : 0.15950376163045296 | Train Acc : 94.5998764038086 | Val Acc : 93.33679962158203 |\n"
          ]
        },
        {
          "metadata": {
            "tags": null
          },
          "name": "stderr",
          "output_type": "stream",
          "text": [
            "100%|██████████| 241/241 [00:09<00:00, 24.65it/s]\n"
          ]
        },
        {
          "metadata": {
            "tags": null
          },
          "name": "stdout",
          "output_type": "stream",
          "text": [
            "| Train Loss : 0.1357458529898154 |  Val Loss : 0.15960561390069275 | Train Acc : 94.70396423339844 | Val Acc : 92.60801696777344 |\n",
            "Words found are : 3303\n",
            "Embedding(3303, 100)\n",
            "-----------------------------------------------------------3-fold of the model-----------------------------------------------------------\n"
          ]
        },
        {
          "output_type": "stream",
          "name": "stderr",
          "text": [
            "100%|██████████| 241/241 [00:09<00:00, 24.30it/s]\n"
          ]
        },
        {
          "output_type": "stream",
          "name": "stdout",
          "text": [
            "| Train Loss : 0.6914853897122648 |  Val Loss : 0.6894671704730659 | Train Acc : 53.116458892822266 | Val Acc : 51.327430725097656 |\n"
          ]
        },
        {
          "output_type": "stream",
          "name": "stderr",
          "text": [
            "100%|██████████| 241/241 [00:09<00:00, 24.41it/s]\n"
          ]
        },
        {
          "output_type": "stream",
          "name": "stdout",
          "text": [
            "| Train Loss : 0.6861425507278045 |  Val Loss : 0.6788193919831176 | Train Acc : 57.215354919433594 | Val Acc : 63.19625473022461 |\n"
          ]
        },
        {
          "output_type": "stream",
          "name": "stderr",
          "text": [
            "100%|██████████| 241/241 [00:09<00:00, 25.46it/s]\n"
          ]
        },
        {
          "output_type": "stream",
          "name": "stdout",
          "text": [
            "| Train Loss : 0.626718930742069 |  Val Loss : 0.6042992704116944 | Train Acc : 67.57319641113281 | Val Acc : 61.73867416381836 |\n"
          ]
        },
        {
          "output_type": "stream",
          "name": "stderr",
          "text": [
            "100%|██████████| 241/241 [00:08<00:00, 26.83it/s]\n"
          ]
        },
        {
          "output_type": "stream",
          "name": "stdout",
          "text": [
            "| Train Loss : 0.3972131645361479 |  Val Loss : 0.705488390875384 | Train Acc : 83.56538391113281 | Val Acc : 59.656429290771484 |\n"
          ]
        },
        {
          "output_type": "stream",
          "name": "stderr",
          "text": [
            "100%|██████████| 241/241 [00:09<00:00, 24.43it/s]\n"
          ]
        },
        {
          "output_type": "stream",
          "name": "stdout",
          "text": [
            "| Train Loss : 0.25062656666121275 |  Val Loss : 0.20931623461872015 | Train Acc : 90.55302429199219 | Val Acc : 92.035400390625 |\n"
          ]
        },
        {
          "output_type": "stream",
          "name": "stderr",
          "text": [
            "100%|██████████| 241/241 [00:10<00:00, 24.03it/s]\n"
          ]
        },
        {
          "output_type": "stream",
          "name": "stdout",
          "text": [
            "| Train Loss : 0.22348646735633126 |  Val Loss : 0.32543333035344446 | Train Acc : 91.4118423461914 | Val Acc : 86.36127471923828 |\n"
          ]
        },
        {
          "output_type": "stream",
          "name": "stderr",
          "text": [
            "100%|██████████| 241/241 [00:09<00:00, 24.20it/s]\n"
          ]
        },
        {
          "output_type": "stream",
          "name": "stdout",
          "text": [
            "| Train Loss : 0.2064741560233128 |  Val Loss : 0.19910842875277604 | Train Acc : 92.12751770019531 | Val Acc : 91.77511596679688 |\n"
          ]
        },
        {
          "output_type": "stream",
          "name": "stderr",
          "text": [
            "100%|██████████| 241/241 [00:09<00:00, 24.23it/s]\n"
          ]
        },
        {
          "output_type": "stream",
          "name": "stdout",
          "text": [
            "| Train Loss : 0.18224167965531893 |  Val Loss : 0.5366142651295015 | Train Acc : 93.1554946899414 | Val Acc : 81.0515365600586 |\n"
          ]
        },
        {
          "output_type": "stream",
          "name": "stderr",
          "text": [
            "100%|██████████| 241/241 [00:14<00:00, 16.85it/s]\n"
          ]
        },
        {
          "output_type": "stream",
          "name": "stdout",
          "text": [
            "| Train Loss : 0.1783258936770876 |  Val Loss : 0.1681879885406958 | Train Acc : 93.3376693725586 | Val Acc : 94.01353454589844 |\n"
          ]
        },
        {
          "output_type": "stream",
          "name": "stderr",
          "text": [
            "100%|██████████| 241/241 [00:09<00:00, 26.26it/s]\n"
          ]
        },
        {
          "output_type": "stream",
          "name": "stdout",
          "text": [
            "| Train Loss : 0.1671737787691257 |  Val Loss : 0.16593727344556874 | Train Acc : 93.66297912597656 | Val Acc : 94.06558990478516 |\n"
          ]
        },
        {
          "output_type": "stream",
          "name": "stderr",
          "text": [
            "100%|██████████| 241/241 [00:08<00:00, 27.23it/s]\n"
          ]
        },
        {
          "output_type": "stream",
          "name": "stdout",
          "text": [
            "| Train Loss : 0.16285373392086488 |  Val Loss : 0.9799525905225982 | Train Acc : 93.75406646728516 | Val Acc : 63.71681594848633 |\n"
          ]
        },
        {
          "output_type": "stream",
          "name": "stderr",
          "text": [
            "100%|██████████| 241/241 [00:09<00:00, 24.86it/s]\n"
          ]
        },
        {
          "output_type": "stream",
          "name": "stdout",
          "text": [
            "| Train Loss : 0.1683049520192863 |  Val Loss : 0.1779360806551034 | Train Acc : 93.4027328491211 | Val Acc : 92.66007232666016 |\n"
          ]
        },
        {
          "output_type": "stream",
          "name": "stderr",
          "text": [
            "100%|██████████| 241/241 [00:09<00:00, 25.08it/s]\n"
          ]
        },
        {
          "output_type": "stream",
          "name": "stdout",
          "text": [
            "| Train Loss : 0.15389854423047353 |  Val Loss : 0.18658614665597584 | Train Acc : 93.93624114990234 | Val Acc : 93.12857818603516 |\n"
          ]
        },
        {
          "output_type": "stream",
          "name": "stderr",
          "text": [
            "100%|██████████| 241/241 [00:09<00:00, 24.97it/s]\n"
          ]
        },
        {
          "output_type": "stream",
          "name": "stdout",
          "text": [
            "| Train Loss : 0.15285297261778855 |  Val Loss : 0.16134789199769528 | Train Acc : 94.14443969726562 | Val Acc : 93.54502868652344 |\n"
          ]
        },
        {
          "output_type": "stream",
          "name": "stderr",
          "text": [
            "100%|██████████| 241/241 [00:09<00:00, 24.76it/s]\n"
          ]
        },
        {
          "output_type": "stream",
          "name": "stdout",
          "text": [
            "| Train Loss : 0.14369640161871677 |  Val Loss : 1.374719102558759 | Train Acc : 94.378662109375 | Val Acc : 54.763145446777344 |\n"
          ]
        },
        {
          "output_type": "stream",
          "name": "stderr",
          "text": [
            "100%|██████████| 241/241 [00:08<00:00, 27.46it/s]\n"
          ]
        },
        {
          "output_type": "stream",
          "name": "stdout",
          "text": [
            "| Train Loss : 0.1526847904418379 |  Val Loss : 0.16608404141379532 | Train Acc : 94.19648742675781 | Val Acc : 93.49297332763672 |\n"
          ]
        },
        {
          "output_type": "stream",
          "name": "stderr",
          "text": [
            "100%|██████████| 241/241 [00:09<00:00, 26.30it/s]\n"
          ]
        },
        {
          "output_type": "stream",
          "name": "stdout",
          "text": [
            "| Train Loss : 0.13903346178046122 |  Val Loss : 0.19071280517611014 | Train Acc : 94.75601959228516 | Val Acc : 92.66007232666016 |\n"
          ]
        },
        {
          "output_type": "stream",
          "name": "stderr",
          "text": [
            "100%|██████████| 241/241 [00:09<00:00, 24.69it/s]\n"
          ]
        },
        {
          "output_type": "stream",
          "name": "stdout",
          "text": [
            "| Train Loss : 0.140332671208701 |  Val Loss : 0.15050070957784414 | Train Acc : 94.4046859741211 | Val Acc : 93.96147918701172 |\n"
          ]
        },
        {
          "output_type": "stream",
          "name": "stderr",
          "text": [
            "100%|██████████| 241/241 [00:09<00:00, 24.99it/s]\n"
          ]
        },
        {
          "output_type": "stream",
          "name": "stdout",
          "text": [
            "| Train Loss : 0.13957384219593091 |  Val Loss : 0.16537209407546166 | Train Acc : 94.56082916259766 | Val Acc : 93.28475189208984 |\n"
          ]
        },
        {
          "output_type": "stream",
          "name": "stderr",
          "text": [
            "100%|██████████| 241/241 [00:09<00:00, 25.02it/s]\n"
          ]
        },
        {
          "output_type": "stream",
          "name": "stdout",
          "text": [
            "| Train Loss : 0.13714149843491782 |  Val Loss : 0.14688662170805328 | Train Acc : 94.79505157470703 | Val Acc : 94.16970825195312 |\n"
          ]
        },
        {
          "output_type": "stream",
          "name": "stderr",
          "text": [
            "100%|██████████| 241/241 [00:09<00:00, 25.42it/s]\n"
          ]
        },
        {
          "output_type": "stream",
          "name": "stdout",
          "text": [
            "| Train Loss : 0.1373574629281184 |  Val Loss : 0.15030698547531735 | Train Acc : 94.67794036865234 | Val Acc : 93.64913940429688 |\n"
          ]
        },
        {
          "output_type": "stream",
          "name": "stderr",
          "text": [
            "100%|██████████| 241/241 [00:08<00:00, 27.41it/s]\n"
          ]
        },
        {
          "output_type": "stream",
          "name": "stdout",
          "text": [
            "| Train Loss : 0.1352282042845977 |  Val Loss : 0.1447640848712087 | Train Acc : 94.78204345703125 | Val Acc : 93.64913940429688 |\n"
          ]
        },
        {
          "output_type": "stream",
          "name": "stderr",
          "text": [
            "100%|██████████| 241/241 [00:09<00:00, 25.00it/s]\n"
          ]
        },
        {
          "output_type": "stream",
          "name": "stdout",
          "text": [
            "| Train Loss : 0.13332464770888383 |  Val Loss : 0.1461420411438929 | Train Acc : 94.78204345703125 | Val Acc : 94.79438018798828 |\n"
          ]
        },
        {
          "output_type": "stream",
          "name": "stderr",
          "text": [
            "100%|██████████| 241/241 [00:09<00:00, 24.64it/s]\n"
          ]
        },
        {
          "output_type": "stream",
          "name": "stdout",
          "text": [
            "| Train Loss : 0.13076397453010005 |  Val Loss : 0.1405074271642036 | Train Acc : 94.88613891601562 | Val Acc : 94.16970825195312 |\n"
          ]
        },
        {
          "output_type": "stream",
          "name": "stderr",
          "text": [
            "100%|██████████| 241/241 [00:09<00:00, 24.31it/s]\n"
          ]
        },
        {
          "output_type": "stream",
          "name": "stdout",
          "text": [
            "| Train Loss : 0.12969089766252948 |  Val Loss : 0.19942485025653858 | Train Acc : 94.97722625732422 | Val Acc : 91.3586654663086 |\n"
          ]
        },
        {
          "output_type": "stream",
          "name": "stderr",
          "text": [
            "100%|██████████| 241/241 [00:09<00:00, 24.47it/s]\n"
          ]
        },
        {
          "output_type": "stream",
          "name": "stdout",
          "text": [
            "| Train Loss : 0.13032328616355096 |  Val Loss : 0.2968348597449322 | Train Acc : 94.99024200439453 | Val Acc : 87.71472930908203 |\n"
          ]
        },
        {
          "output_type": "stream",
          "name": "stderr",
          "text": [
            "100%|██████████| 241/241 [00:09<00:00, 25.37it/s]\n"
          ]
        },
        {
          "output_type": "stream",
          "name": "stdout",
          "text": [
            "| Train Loss : 0.12984429846094192 |  Val Loss : 0.1475048027845378 | Train Acc : 94.96421813964844 | Val Acc : 94.42998504638672 |\n"
          ]
        },
        {
          "output_type": "stream",
          "name": "stderr",
          "text": [
            "100%|██████████| 241/241 [00:08<00:00, 27.19it/s]\n"
          ]
        },
        {
          "output_type": "stream",
          "name": "stdout",
          "text": [
            "| Train Loss : 0.12930449963236446 |  Val Loss : 0.13650989065403463 | Train Acc : 94.79505157470703 | Val Acc : 94.63821411132812 |\n"
          ]
        },
        {
          "output_type": "stream",
          "name": "stderr",
          "text": [
            "100%|██████████| 241/241 [00:09<00:00, 24.88it/s]\n"
          ]
        },
        {
          "output_type": "stream",
          "name": "stdout",
          "text": [
            "| Train Loss : 0.12833571404451352 |  Val Loss : 0.136659534921252 | Train Acc : 94.96421813964844 | Val Acc : 94.79438018798828 |\n"
          ]
        },
        {
          "output_type": "stream",
          "name": "stderr",
          "text": [
            "100%|██████████| 241/241 [00:09<00:00, 24.74it/s]\n"
          ]
        },
        {
          "output_type": "stream",
          "name": "stdout",
          "text": [
            "| Train Loss : 0.12766654538323954 |  Val Loss : 0.13934646986903917 | Train Acc : 95.1594009399414 | Val Acc : 94.16970825195312 |\n",
            "Words found are : 3303\n",
            "Embedding(3303, 100)\n",
            "-----------------------------------------------------------4-fold of the model-----------------------------------------------------------\n"
          ]
        },
        {
          "output_type": "stream",
          "name": "stderr",
          "text": [
            "100%|██████████| 241/241 [00:10<00:00, 24.00it/s]\n"
          ]
        },
        {
          "output_type": "stream",
          "name": "stdout",
          "text": [
            "| Train Loss : 0.6922589613697943 |  Val Loss : 0.6908540066054313 | Train Acc : 51.25569152832031 | Val Acc : 53.25351333618164 |\n"
          ]
        },
        {
          "output_type": "stream",
          "name": "stderr",
          "text": [
            "100%|██████████| 241/241 [00:09<00:00, 24.49it/s]\n"
          ]
        },
        {
          "output_type": "stream",
          "name": "stdout",
          "text": [
            "| Train Loss : 0.687975998598023 |  Val Loss : 0.6849458522935636 | Train Acc : 56.34352493286133 | Val Acc : 55.96043395996094 |\n"
          ]
        },
        {
          "output_type": "stream",
          "name": "stderr",
          "text": [
            "100%|██████████| 241/241 [00:09<00:00, 25.25it/s]\n"
          ]
        },
        {
          "output_type": "stream",
          "name": "stdout",
          "text": [
            "| Train Loss : 0.6637190935591559 |  Val Loss : 0.8554904042650547 | Train Acc : 63.26610565185547 | Val Acc : 49.45341110229492 |\n"
          ]
        },
        {
          "output_type": "stream",
          "name": "stderr",
          "text": [
            "100%|██████████| 241/241 [00:08<00:00, 27.08it/s]\n"
          ]
        },
        {
          "output_type": "stream",
          "name": "stdout",
          "text": [
            "| Train Loss : 0.44012060491156096 |  Val Loss : 1.8237609874999139 | Train Acc : 80.85881805419922 | Val Acc : 50.702754974365234 |\n"
          ]
        },
        {
          "output_type": "stream",
          "name": "stderr",
          "text": [
            "100%|██████████| 241/241 [00:09<00:00, 24.21it/s]\n"
          ]
        },
        {
          "output_type": "stream",
          "name": "stdout",
          "text": [
            "| Train Loss : 0.29085978996990247 |  Val Loss : 0.18633307894436815 | Train Acc : 89.00455474853516 | Val Acc : 93.02446746826172 |\n"
          ]
        },
        {
          "output_type": "stream",
          "name": "stderr",
          "text": [
            "100%|██████████| 241/241 [00:09<00:00, 24.78it/s]\n"
          ]
        },
        {
          "output_type": "stream",
          "name": "stdout",
          "text": [
            "| Train Loss : 0.23268895337167853 |  Val Loss : 0.18507295869531296 | Train Acc : 91.3337631225586 | Val Acc : 92.972412109375 |\n"
          ]
        },
        {
          "output_type": "stream",
          "name": "stderr",
          "text": [
            "100%|██████████| 241/241 [00:09<00:00, 24.43it/s]\n"
          ]
        },
        {
          "output_type": "stream",
          "name": "stdout",
          "text": [
            "| Train Loss : 0.2068070189008173 |  Val Loss : 0.41795296970908064 | Train Acc : 92.38776397705078 | Val Acc : 80.53096771240234 |\n"
          ]
        },
        {
          "output_type": "stream",
          "name": "stderr",
          "text": [
            "100%|██████████| 241/241 [00:09<00:00, 24.46it/s]\n"
          ]
        },
        {
          "output_type": "stream",
          "name": "stdout",
          "text": [
            "| Train Loss : 0.19913217480704626 |  Val Loss : 0.17565460398188176 | Train Acc : 92.36174011230469 | Val Acc : 93.02446746826172 |\n"
          ]
        },
        {
          "output_type": "stream",
          "name": "stderr",
          "text": [
            "100%|██████████| 241/241 [00:09<00:00, 24.27it/s]\n"
          ]
        },
        {
          "output_type": "stream",
          "name": "stdout",
          "text": [
            "| Train Loss : 0.18367707092768198 |  Val Loss : 0.2539681360040215 | Train Acc : 92.97332763671875 | Val Acc : 90.47370910644531 |\n"
          ]
        },
        {
          "output_type": "stream",
          "name": "stderr",
          "text": [
            "100%|██████████| 241/241 [00:08<00:00, 26.78it/s]\n"
          ]
        },
        {
          "output_type": "stream",
          "name": "stdout",
          "text": [
            "| Train Loss : 0.1758299256959129 |  Val Loss : 0.17578491281944908 | Train Acc : 93.63695526123047 | Val Acc : 93.59708404541016 |\n"
          ]
        },
        {
          "output_type": "stream",
          "name": "stderr",
          "text": [
            "100%|██████████| 241/241 [00:09<00:00, 26.07it/s]\n"
          ]
        },
        {
          "output_type": "stream",
          "name": "stdout",
          "text": [
            "| Train Loss : 0.17088620190156614 |  Val Loss : 0.16953441471769 | Train Acc : 93.53285217285156 | Val Acc : 92.66007232666016 |\n"
          ]
        },
        {
          "output_type": "stream",
          "name": "stderr",
          "text": [
            "100%|██████████| 241/241 [00:09<00:00, 24.35it/s]\n"
          ]
        },
        {
          "output_type": "stream",
          "name": "stdout",
          "text": [
            "| Train Loss : 0.16514359200803505 |  Val Loss : 0.1569687205593197 | Train Acc : 93.62393951416016 | Val Acc : 94.22175598144531 |\n"
          ]
        },
        {
          "output_type": "stream",
          "name": "stderr",
          "text": [
            "100%|██████████| 241/241 [00:09<00:00, 24.68it/s]\n"
          ]
        },
        {
          "output_type": "stream",
          "name": "stdout",
          "text": [
            "| Train Loss : 0.1654800810380345 |  Val Loss : 0.15854962183044277 | Train Acc : 93.64996337890625 | Val Acc : 93.02446746826172 |\n"
          ]
        },
        {
          "output_type": "stream",
          "name": "stderr",
          "text": [
            "100%|██████████| 241/241 [00:09<00:00, 24.94it/s]\n"
          ]
        },
        {
          "output_type": "stream",
          "name": "stdout",
          "text": [
            "| Train Loss : 0.15938734531635268 |  Val Loss : 0.4230112210633636 | Train Acc : 93.85816192626953 | Val Acc : 84.27902221679688 |\n"
          ]
        },
        {
          "output_type": "stream",
          "name": "stderr",
          "text": [
            "100%|██████████| 241/241 [00:09<00:00, 24.74it/s]\n"
          ]
        },
        {
          "output_type": "stream",
          "name": "stdout",
          "text": [
            "| Train Loss : 0.16001405699073143 |  Val Loss : 0.19638391945342387 | Train Acc : 93.63695526123047 | Val Acc : 91.72306060791016 |\n"
          ]
        },
        {
          "output_type": "stream",
          "name": "stderr",
          "text": [
            "100%|██████████| 241/241 [00:08<00:00, 27.09it/s]\n"
          ]
        },
        {
          "output_type": "stream",
          "name": "stdout",
          "text": [
            "| Train Loss : 0.1542698532245961 |  Val Loss : 1.0232447140667353 | Train Acc : 94.05335235595703 | Val Acc : 55.75221252441406 |\n"
          ]
        },
        {
          "output_type": "stream",
          "name": "stderr",
          "text": [
            "100%|██████████| 241/241 [00:09<00:00, 26.19it/s]\n"
          ]
        },
        {
          "output_type": "stream",
          "name": "stdout",
          "text": [
            "| Train Loss : 0.1989156500882334 |  Val Loss : 0.22639658338168975 | Train Acc : 92.4658432006836 | Val Acc : 91.30661010742188 |\n"
          ]
        },
        {
          "output_type": "stream",
          "name": "stderr",
          "text": [
            "100%|██████████| 241/241 [00:09<00:00, 24.81it/s]\n"
          ]
        },
        {
          "output_type": "stream",
          "name": "stdout",
          "text": [
            "| Train Loss : 0.17229261973517704 |  Val Loss : 0.19478632463942214 | Train Acc : 93.61093139648438 | Val Acc : 91.8271713256836 |\n"
          ]
        },
        {
          "output_type": "stream",
          "name": "stderr",
          "text": [
            "100%|██████████| 241/241 [00:09<00:00, 24.56it/s]\n"
          ]
        },
        {
          "output_type": "stream",
          "name": "stdout",
          "text": [
            "| Train Loss : 0.16338374527073093 |  Val Loss : 0.23323732311994938 | Train Acc : 93.66297912597656 | Val Acc : 91.41072845458984 |\n"
          ]
        },
        {
          "output_type": "stream",
          "name": "stderr",
          "text": [
            "100%|██████████| 241/241 [00:09<00:00, 24.82it/s]\n"
          ]
        },
        {
          "output_type": "stream",
          "name": "stdout",
          "text": [
            "| Train Loss : 0.1530353229078443 |  Val Loss : 0.3092847501574 | Train Acc : 94.10540008544922 | Val Acc : 86.36127471923828 |\n"
          ]
        },
        {
          "output_type": "stream",
          "name": "stderr",
          "text": [
            "100%|██████████| 241/241 [00:09<00:00, 25.61it/s]\n"
          ]
        },
        {
          "output_type": "stream",
          "name": "stdout",
          "text": [
            "| Train Loss : 0.14827903517283786 |  Val Loss : 0.16696927292957972 | Train Acc : 94.36564636230469 | Val Acc : 93.75325775146484 |\n"
          ]
        },
        {
          "output_type": "stream",
          "name": "stderr",
          "text": [
            "100%|██████████| 241/241 [00:08<00:00, 27.42it/s]\n"
          ]
        },
        {
          "output_type": "stream",
          "name": "stdout",
          "text": [
            "| Train Loss : 0.14174688976735517 |  Val Loss : 0.21666220533319752 | Train Acc : 94.54782104492188 | Val Acc : 91.30661010742188 |\n"
          ]
        },
        {
          "output_type": "stream",
          "name": "stderr",
          "text": [
            "100%|██████████| 241/241 [00:09<00:00, 24.24it/s]\n"
          ]
        },
        {
          "output_type": "stream",
          "name": "stdout",
          "text": [
            "| Train Loss : 0.1401234748189761 |  Val Loss : 0.23769427216740277 | Train Acc : 94.44371795654297 | Val Acc : 89.224365234375 |\n"
          ]
        },
        {
          "output_type": "stream",
          "name": "stderr",
          "text": [
            "100%|██████████| 241/241 [00:09<00:00, 24.93it/s]\n"
          ]
        },
        {
          "output_type": "stream",
          "name": "stdout",
          "text": [
            "| Train Loss : 0.13804406860768165 |  Val Loss : 0.14482445582005213 | Train Acc : 94.39167022705078 | Val Acc : 94.63821411132812 |\n"
          ]
        },
        {
          "output_type": "stream",
          "name": "stderr",
          "text": [
            "100%|██████████| 241/241 [00:09<00:00, 24.83it/s]\n"
          ]
        },
        {
          "output_type": "stream",
          "name": "stdout",
          "text": [
            "| Train Loss : 0.13232562858114477 |  Val Loss : 0.14106416246160003 | Train Acc : 94.91216278076172 | Val Acc : 94.16970825195312 |\n"
          ]
        },
        {
          "output_type": "stream",
          "name": "stderr",
          "text": [
            "100%|██████████| 241/241 [00:09<00:00, 24.55it/s]\n"
          ]
        },
        {
          "output_type": "stream",
          "name": "stdout",
          "text": [
            "| Train Loss : 0.13608264242551577 |  Val Loss : 0.13743803802626048 | Train Acc : 94.65191650390625 | Val Acc : 94.27381896972656 |\n"
          ]
        },
        {
          "output_type": "stream",
          "name": "stderr",
          "text": [
            "100%|██████████| 241/241 [00:09<00:00, 26.22it/s]\n"
          ]
        },
        {
          "output_type": "stream",
          "name": "stdout",
          "text": [
            "| Train Loss : 0.1324097471504982 |  Val Loss : 0.13537873369619785 | Train Acc : 94.92517852783203 | Val Acc : 94.58615112304688 |\n"
          ]
        },
        {
          "output_type": "stream",
          "name": "stderr",
          "text": [
            "100%|██████████| 241/241 [00:08<00:00, 27.09it/s]\n"
          ]
        },
        {
          "output_type": "stream",
          "name": "stdout",
          "text": [
            "| Train Loss : 0.13337444590626402 |  Val Loss : 0.13288806796554847 | Train Acc : 95.01626586914062 | Val Acc : 94.79438018798828 |\n"
          ]
        },
        {
          "output_type": "stream",
          "name": "stderr",
          "text": [
            "100%|██████████| 241/241 [00:09<00:00, 24.80it/s]\n"
          ]
        },
        {
          "output_type": "stream",
          "name": "stdout",
          "text": [
            "| Train Loss : 0.13103157802507348 |  Val Loss : 0.1663228540047654 | Train Acc : 94.70396423339844 | Val Acc : 93.18063354492188 |\n"
          ]
        },
        {
          "output_type": "stream",
          "name": "stderr",
          "text": [
            "100%|██████████| 241/241 [00:09<00:00, 24.68it/s]\n"
          ]
        },
        {
          "output_type": "stream",
          "name": "stdout",
          "text": [
            "| Train Loss : 0.1312577458807475 |  Val Loss : 0.1337702038277567 | Train Acc : 94.71698760986328 | Val Acc : 94.53409576416016 |\n"
          ]
        }
      ]
    },
    {
      "cell_type": "code",
      "source": [
        "torch.save(model_state_dicts, \"My-Model.pt\")"
      ],
      "metadata": {
        "execution": {
          "iopub.execute_input": "2022-07-05T07:03:41.870898Z",
          "iopub.status.busy": "2022-07-05T07:03:41.870138Z",
          "iopub.status.idle": "2022-07-05T07:03:41.902875Z",
          "shell.execute_reply": "2022-07-05T07:03:41.901792Z",
          "shell.execute_reply.started": "2022-07-05T07:03:41.870857Z"
        },
        "papermill": {
          "duration": 1.378123,
          "end_time": "2022-06-13T19:56:16.431307",
          "exception": false,
          "start_time": "2022-06-13T19:56:15.053184",
          "status": "completed"
        },
        "tags": [],
        "id": "95BJv0ZGCxo-"
      },
      "execution_count": 89,
      "outputs": []
    },
    {
      "cell_type": "markdown",
      "source": [
        "<h1  style=\"text-align: center\" class=\"list-group-item list-group-item-action active\">7. Inference</h1><a id = \"7\" ></a>"
      ],
      "metadata": {
        "papermill": {
          "duration": 1.374321,
          "end_time": "2022-06-13T19:56:19.201374",
          "exception": false,
          "start_time": "2022-06-13T19:56:17.827053",
          "status": "completed"
        },
        "tags": [],
        "id": "SUzAs46MCxo-"
      }
    },
    {
      "cell_type": "code",
      "source": [
        "def numericalize(text):\n",
        "\n",
        "    numerialized_source = []\n",
        "    numerialized_source = [dataset.source_vocab.stoi[\"<SOS>\"]]\n",
        "    numerialized_source += dataset.source_vocab.numericalize(text)\n",
        "    numerialized_source.append(dataset.source_vocab.stoi[\"<EOS>\"])\n",
        "\n",
        "    return numerialized_source\n",
        "\n",
        "def padding(source):\n",
        "    padded_sequence = torch.zeros(config.MAX_LEN, 1, dtype = torch.int)\n",
        "    source = torch.tensor(source)\n",
        "\n",
        "    if len(source) > config.MAX_LEN:\n",
        "        padded_sequence[:, 0] = source[: config.MAX_LEN]\n",
        "    else:\n",
        "        padded_sequence[:len(source), 0] = padded_sequence[:len(source), 0] + source\n",
        "\n",
        "    return padded_sequence"
      ],
      "metadata": {
        "execution": {
          "iopub.execute_input": "2022-07-05T07:03:41.904441Z",
          "iopub.status.busy": "2022-07-05T07:03:41.904072Z",
          "iopub.status.idle": "2022-07-05T07:03:41.913185Z",
          "shell.execute_reply": "2022-07-05T07:03:41.912148Z",
          "shell.execute_reply.started": "2022-07-05T07:03:41.904405Z"
        },
        "papermill": {
          "duration": 1.347638,
          "end_time": "2022-06-13T19:56:21.879204",
          "exception": false,
          "start_time": "2022-06-13T19:56:20.531566",
          "status": "completed"
        },
        "tags": [],
        "id": "09G5K4RaCxo-"
      },
      "execution_count": 90,
      "outputs": []
    },
    {
      "cell_type": "code",
      "source": [
        "def infer_processing(text):\n",
        "\n",
        "    text = preprocessing(text)\n",
        "    text = numericalize(text)\n",
        "    text = padding(text)\n",
        "    return text"
      ],
      "metadata": {
        "execution": {
          "iopub.execute_input": "2022-07-05T07:03:41.915484Z",
          "iopub.status.busy": "2022-07-05T07:03:41.914498Z",
          "iopub.status.idle": "2022-07-05T07:03:41.924959Z",
          "shell.execute_reply": "2022-07-05T07:03:41.923954Z",
          "shell.execute_reply.started": "2022-07-05T07:03:41.915449Z"
        },
        "papermill": {
          "duration": 1.346643,
          "end_time": "2022-06-13T19:56:24.81165",
          "exception": false,
          "start_time": "2022-06-13T19:56:23.465007",
          "status": "completed"
        },
        "tags": [],
        "id": "M7ex8g6JCxo_"
      },
      "execution_count": 91,
      "outputs": []
    },
    {
      "cell_type": "code",
      "source": [
        "aspects = [\"phone\", \"camera\", \"battery\", \"neutral\", \"processor\"]\n",
        "\n",
        "def get_similarity(text, aspect):\n",
        "    try:\n",
        "#         text = \" \".join(text)\n",
        "        return fasttext_model.wv.n_similarity(text, aspect)\n",
        "    except:\n",
        "        return 0\n",
        "\n",
        "def best_aspect(text, aspects):\n",
        "    a = []\n",
        "\n",
        "    for aspect in aspects:\n",
        "        a.append(get_similarity(text, aspect))\n",
        "\n",
        "    return aspects[np.argmax(a)]\n"
      ],
      "metadata": {
        "execution": {
          "iopub.execute_input": "2022-07-05T07:03:41.927478Z",
          "iopub.status.busy": "2022-07-05T07:03:41.926701Z",
          "iopub.status.idle": "2022-07-05T07:03:41.936585Z",
          "shell.execute_reply": "2022-07-05T07:03:41.93551Z",
          "shell.execute_reply.started": "2022-07-05T07:03:41.927453Z"
        },
        "papermill": {
          "duration": 1.358879,
          "end_time": "2022-06-13T19:56:27.509869",
          "exception": false,
          "start_time": "2022-06-13T19:56:26.15099",
          "status": "completed"
        },
        "tags": [],
        "id": "FsKkkse3Cxo_"
      },
      "execution_count": 92,
      "outputs": []
    },
    {
      "cell_type": "code",
      "source": [
        "\n",
        "sample = \"I am really impressed with the phone's great battery backup.\"\n",
        "\n",
        "ba = best_aspect(preprocessing(sample), aspects)\n",
        "\n",
        "a = infer_processing(sample).to(config.DEVICE)"
      ],
      "metadata": {
        "execution": {
          "iopub.execute_input": "2022-07-05T07:03:41.947924Z",
          "iopub.status.busy": "2022-07-05T07:03:41.947687Z",
          "iopub.status.idle": "2022-07-05T07:03:41.973291Z",
          "shell.execute_reply": "2022-07-05T07:03:41.972398Z",
          "shell.execute_reply.started": "2022-07-05T07:03:41.947902Z"
        },
        "papermill": {
          "duration": 1.356164,
          "end_time": "2022-06-13T19:56:30.256236",
          "exception": false,
          "start_time": "2022-06-13T19:56:28.900072",
          "status": "completed"
        },
        "tags": [],
        "id": "og9eJm1qCxo_"
      },
      "execution_count": 93,
      "outputs": []
    },
    {
      "cell_type": "code",
      "source": [
        "model.eval()\n",
        "sentiment = model(a)\n",
        "sentiment = sentiment.cpu().detach().numpy()[0]\n",
        "\n",
        "if sentiment > 0.5:\n",
        "    sentiment = 'Positively'\n",
        "else :\n",
        "    sentiment = 'Negatively'"
      ],
      "metadata": {
        "execution": {
          "iopub.execute_input": "2022-07-05T07:03:41.974975Z",
          "iopub.status.busy": "2022-07-05T07:03:41.97458Z",
          "iopub.status.idle": "2022-07-05T07:03:41.983559Z",
          "shell.execute_reply": "2022-07-05T07:03:41.98266Z",
          "shell.execute_reply.started": "2022-07-05T07:03:41.97494Z"
        },
        "papermill": {
          "duration": 1.337708,
          "end_time": "2022-06-13T19:56:32.919008",
          "exception": false,
          "start_time": "2022-06-13T19:56:31.5813",
          "status": "completed"
        },
        "tags": [],
        "id": "rbfAtH0sCxpA"
      },
      "execution_count": 94,
      "outputs": []
    },
    {
      "cell_type": "code",
      "source": [
        "print(f\"The reviewer is talking {sentiment} about the {ba} of the phone in his/her comment\")"
      ],
      "metadata": {
        "execution": {
          "iopub.execute_input": "2022-07-05T07:03:41.985461Z",
          "iopub.status.busy": "2022-07-05T07:03:41.985103Z",
          "iopub.status.idle": "2022-07-05T07:03:41.993594Z",
          "shell.execute_reply": "2022-07-05T07:03:41.99229Z",
          "shell.execute_reply.started": "2022-07-05T07:03:41.985428Z"
        },
        "papermill": {
          "duration": 1.334709,
          "end_time": "2022-06-13T19:56:35.837625",
          "exception": false,
          "start_time": "2022-06-13T19:56:34.502916",
          "status": "completed"
        },
        "tags": [],
        "id": "rycr3PMFCxpA",
        "outputId": "e75f0887-9dc5-46ab-a092-4cda61ef0151",
        "colab": {
          "base_uri": "https://localhost:8080/"
        }
      },
      "execution_count": 95,
      "outputs": [
        {
          "output_type": "stream",
          "name": "stdout",
          "text": [
            "The reviewer is talking Positively about the battery of the phone in his/her comment\n"
          ]
        }
      ]
    },
    {
      "cell_type": "code",
      "source": [],
      "metadata": {
        "papermill": {
          "duration": 1.328846,
          "end_time": "2022-06-13T19:56:38.55222",
          "exception": false,
          "start_time": "2022-06-13T19:56:37.223374",
          "status": "completed"
        },
        "tags": [],
        "id": "XqAEdYucCxpB"
      },
      "execution_count": 95,
      "outputs": []
    },
    {
      "cell_type": "code",
      "source": [],
      "metadata": {
        "papermill": {
          "duration": 1.32867,
          "end_time": "2022-06-13T19:56:41.214994",
          "exception": false,
          "start_time": "2022-06-13T19:56:39.886324",
          "status": "completed"
        },
        "tags": [],
        "id": "b5DFIVaoCxpB"
      },
      "execution_count": 95,
      "outputs": []
    },
    {
      "cell_type": "markdown",
      "source": [
        "<h1  style=\"text-align: center\" class=\"list-group-item list-group-item-action active\">8. References</h1><a id = \"8\" ></a>\n",
        "\n",
        "\n",
        "- [A Practical Introduction to Web Scraping in Python](https://realpython.com/python-web-scraping-practical-introduction/)\n",
        "- [Python SQLite](https://www.geeksforgeeks.org/python-sqlite/)\n",
        "- [What on Earth is Unicode Normalization?](https://towardsdatascience.comwhat-on-earth-is-unicode-normalization-56c005c55ad0)\n",
        "- [How to handle Emoji ‘😄’ & Emoticon ‘ :-) ’ in text preprocessing?](https://medium.com/geekculture/text-preprocessing-how-to-handle-emoji-emoticon-641bbfa6e9e7)\n",
        "- [Spelling checker in Python](https://www.geeksforgeeks.org/spelling-checker-in-python/)\n",
        "- [NLPAUG – A Python library to Augment Your Text Data](https://www.analyticsvidhya.com/blog/2021/08/nlpaug-a-python-library-to-augment-your-text-data/)\n",
        "- [Topic Modeling in Python: Latent Dirichlet Allocation (LDA)](https://towardsdatascience.com/end-to-end-topic-modeling-in-python-latent-dirichlet-allocation-lda-35ce4ed6b3e0)"
      ],
      "metadata": {
        "papermill": {
          "duration": 1.857793,
          "end_time": "2022-06-13T19:56:44.398844",
          "exception": false,
          "start_time": "2022-06-13T19:56:42.541051",
          "status": "completed"
        },
        "tags": [],
        "id": "QC-hXT0dCxpC"
      }
    },
    {
      "cell_type": "code",
      "source": [],
      "metadata": {
        "papermill": {
          "duration": 1.542588,
          "end_time": "2022-06-13T19:56:47.658879",
          "exception": false,
          "start_time": "2022-06-13T19:56:46.116291",
          "status": "completed"
        },
        "tags": [],
        "id": "d9H0s_XECxpD"
      },
      "execution_count": 95,
      "outputs": []
    },
    {
      "cell_type": "code",
      "source": [],
      "metadata": {
        "papermill": {
          "duration": 1.344703,
          "end_time": "2022-06-13T19:56:50.353266",
          "exception": false,
          "start_time": "2022-06-13T19:56:49.008563",
          "status": "completed"
        },
        "tags": [],
        "id": "L_AqlI7MCxpD"
      },
      "execution_count": 95,
      "outputs": []
    }
  ]
}